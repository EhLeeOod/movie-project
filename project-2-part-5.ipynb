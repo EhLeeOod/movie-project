{
 "cells": [
  {
   "cell_type": "markdown",
   "id": "3160a411-7cc5-478e-ae63-f2f702f653cc",
   "metadata": {},
   "source": [
    "# Project 2 Part 5\n",
    "\n",
    "Support and References:\n",
    "\n",
    "Students are encouraged to consult the official documentation of NLTK, SpaCy, wordcloud, and Scikit-Learn, as well as the Learn Platform."
   ]
  },
  {
   "cell_type": "markdown",
   "id": "40c0310d-3f49-43d5-bee7-e7aa8f29de51",
   "metadata": {},
   "source": [
    "## 1) Data Preprocessing"
   ]
  },
  {
   "cell_type": "markdown",
   "id": "d39bac37-f77b-4247-a012-d9fd799e9dcd",
   "metadata": {},
   "source": [
    "### Load and inspect the dataset.\n",
    "\n",
    "How many reviews?\n",
    "What does the distribution of ratings look like?\n",
    "Any null values?\n",
    "Use the rating column to create a new target column with two groups: high-rating and low-rating groups.\n",
    "\n",
    "We recommend defining \"High-rating\" reviews as any review with a rating >=9; and \"Low-rating\" reviews as any review with a rating <=4. The middle ratings between 4 and 9 will be excluded from the analysis.\n",
    "You may use an alternative definition for High and Low reviews, but justify your choice in your notebook/README.\n",
    "Utilize NLTK and SpaCy for basic text processing, including:\n",
    "\n",
    "removing stopwords\n",
    "\n",
    "tokenization\n",
    "\n",
    "lemmatization\n",
    "\n",
    "Tips:\n",
    "\n",
    "Be sure to create a custom nlp object and disable the named entity recognizer. Otherwise, processing will take a very long time!\n",
    "You will want to create several versions of the data, lemmatized, tokenized, lemmatized joined back to one string per review, and tokenized joined back to one string per review. This will be useful for different analysis and modeling techniques.\n",
    "\n",
    "​Note: you may find some artifacts during your EDA e.g. HTML code like \"href\". You are allowed to drop rows from your dataset after identifying problematic trends in some of the texts.  (Hint: remember df[col].str.contains)\n",
    "Save your processed data frame in a joblib file saved in the \"Data-NLP/\" folder for future modeling."
   ]
  },
  {
   "cell_type": "markdown",
   "id": "058a1a30-0acd-4a51-93f5-547766822dc1",
   "metadata": {},
   "source": [
    "## 2) EDA and Visualization"
   ]
  },
  {
   "cell_type": "markdown",
   "id": "4cb880dd-e42d-41b6-984c-203ffe19ad49",
   "metadata": {},
   "source": [
    "### Create word clouds to visualize the most frequent and significant words in each group.\n",
    "\n",
    "Remember, you can use this analysis to identify additional custom EDA stop words to use for visualization. (e.g., if the words are common in both groups)\n",
    "\n",
    "Save your wordclouds as .png files in the \"Images/\" folder in your repo."
   ]
  },
  {
   "cell_type": "markdown",
   "id": "f266cec0-3316-48f8-87ba-e710f2123b52",
   "metadata": {},
   "source": [
    "### Apply nltk's FreqDist class to compare the frequency distribution of words in the review groups.\n",
    "\n",
    "Remember, you can use this analysis to identify additional custom EDA stop words to use for visualization. (e.g., if the words are common in both groups)\n",
    "\n",
    "Save your freq dist plots as .png files in the \"Images/\" folder in your repo.\n",
    "\n"
   ]
  },
  {
   "cell_type": "markdown",
   "id": "92f02619-9a54-4712-bbd6-ef9b0a845a78",
   "metadata": {},
   "source": [
    "### Perform n-grams analysis (bigrams and trigrams)\n",
    "\n",
    "Remember, you can use this analysis to identify additional custom stop words to use for EDA. (e.g., if the words are common in both groups)\n",
    "\n",
    "Focus on bigrams or trigrams, using NLTK's BigramCollocationFinder and BigramAssocMeasures classes (or the Trigram equivalent Finder and Measures) to explore commonly used groups of words for each rating-group.\n",
    "\n",
    "Describe any differences. What do these differences tell you?\n",
    "\n",
    "Save your data frame comparison of the top ngrams for each group as a Markdown table.\n",
    "    \n",
    "    You can use the df.to_markdown() method to create a string version of your data frame that can be copied and pasted into a Markdown cell and your README."
   ]
  },
  {
   "cell_type": "markdown",
   "id": "27eb5fc1-c5ed-410c-ada8-d08a628953e0",
   "metadata": {},
   "source": [
    "### Perform sentiment analysis to create polarity scores according to VADERS's sentiment lexicon.\n",
    "\n",
    "Compare the sentiments of high-rating and low-rating texts.\n",
    "\n",
    "Compare the compound sentiment scores for high and low-rating reviews.\n",
    "\n",
    "Which review polarity scores don't match the ratings? Why do you think this is?"
   ]
  },
  {
   "cell_type": "markdown",
   "id": "b80cf66f-9faf-44de-9586-1798c9ba029e",
   "metadata": {},
   "source": [
    "## 3) Evaluation and Reporting:"
   ]
  },
  {
   "cell_type": "markdown",
   "id": "5b38c830-63c4-425e-8654-2f7c3c41e0ac",
   "metadata": {},
   "source": [
    "### Based on your analyses, what should someone do (or not do) if they want to make a highly-rated movie?\n",
    "\n",
    "List 3 things associated with high-rating reviews.\n",
    "\n",
    "List 3 things associated with low-rating reviews."
   ]
  },
  {
   "cell_type": "markdown",
   "id": "959acf06-0bf5-4579-b9c2-a7d699fc19d4",
   "metadata": {},
   "source": [
    "### Update your project README with a new section for \"NLP Analysis of Movie Reviews.\"\n",
    "\n",
    "Include what reviews were used (source and what the original rating numbers were before they were converted to a categorical target).\n",
    "\n",
    "Include your EDA visualizations in your README:\n",
    "\n",
    "    One wordcloud comparing both groups\n",
    "    Two FreqDists plots (1 per group)\n",
    "    A Markdown table of the Top Ngrams for each group.\n",
    "\n",
    "Include your recommendations/conclusions for what to do/not to do make a highly-rated movie."
   ]
  },
  {
   "cell_type": "markdown",
   "id": "14d101cd-cc80-4afd-887e-bcec42edbd1f",
   "metadata": {},
   "source": [
    "### Deliverables:\n",
    "\n",
    "Notebook files for preprocessing and EDA\n",
    "\n",
    "EDA Images saved in an \"Images\" folder.\n",
    "\n",
    "Updated README"
   ]
  }
 ],
 "metadata": {
  "kernelspec": {
   "display_name": "Python (dojo-env)",
   "language": "python",
   "name": "dojo-env"
  },
  "language_info": {
   "codemirror_mode": {
    "name": "ipython",
    "version": 3
   },
   "file_extension": ".py",
   "mimetype": "text/x-python",
   "name": "python",
   "nbconvert_exporter": "python",
   "pygments_lexer": "ipython3",
   "version": "3.10.10"
  },
  "widgets": {
   "application/vnd.jupyter.widget-state+json": {
    "state": {},
    "version_major": 2,
    "version_minor": 0
   }
  }
 },
 "nbformat": 4,
 "nbformat_minor": 5
}
