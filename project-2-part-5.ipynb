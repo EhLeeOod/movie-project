{
 "cells": [
  {
   "cell_type": "markdown",
   "id": "3160a411-7cc5-478e-ae63-f2f702f653cc",
   "metadata": {},
   "source": [
    "# Project 2 Part 5\n",
    "\n",
    "Support and References:\n",
    "\n",
    "Students are encouraged to consult the official documentation of NLTK, SpaCy, wordcloud, and Scikit-Learn, as well as the Learn Platform."
   ]
  },
  {
   "cell_type": "code",
   "execution_count": 2,
   "id": "7bf1b998-cbd0-4cb6-a0ac-b7b2d10aea5d",
   "metadata": {},
   "outputs": [],
   "source": [
    "## Imports\n",
    "import pandas as pd"
   ]
  },
  {
   "cell_type": "markdown",
   "id": "40c0310d-3f49-43d5-bee7-e7aa8f29de51",
   "metadata": {},
   "source": [
    "## 1) Data Preprocessing"
   ]
  },
  {
   "cell_type": "markdown",
   "id": "d39bac37-f77b-4247-a012-d9fd799e9dcd",
   "metadata": {},
   "source": [
    "### Load and inspect the dataset.\n",
    "\n",
    "How many reviews?\n",
    "What does the distribution of ratings look like?\n",
    "Any null values?\n",
    "\n",
    "Use the rating column to create a new target column with two groups: high-rating and low-rating groups.\n",
    "\n",
    "We recommend defining \"High-rating\" reviews as any review with a rating >=9; and \"Low-rating\" reviews as any review with a rating <=4. The middle ratings between 4 and 9 will be excluded from the analysis.\n",
    "You may use an alternative definition for High and Low reviews, but justify your choice in your notebook/README.\n",
    "Utilize NLTK and SpaCy for basic text processing, including:\n",
    "\n",
    "removing stopwords\n",
    "\n",
    "tokenization\n",
    "\n",
    "lemmatization\n",
    "\n",
    "Tips:\n",
    "\n",
    "Be sure to create a custom nlp object and disable the named entity recognizer. Otherwise, processing will take a very long time!\n",
    "You will want to create several versions of the data, lemmatized, tokenized, lemmatized joined back to one string per review, and tokenized joined back to one string per review. This will be useful for different analysis and modeling techniques.\n",
    "\n",
    "​Note: you may find some artifacts during your EDA e.g. HTML code like \"href\". You are allowed to drop rows from your dataset after identifying problematic trends in some of the texts.  (Hint: remember df[col].str.contains)\n",
    "Save your processed data frame in a joblib file saved in the \"Data-NLP/\" folder for future modeling."
   ]
  },
  {
   "cell_type": "code",
   "execution_count": 3,
   "id": "fd910bec-ac5e-41be-9b9d-da86312939ff",
   "metadata": {},
   "outputs": [
    {
     "data": {
      "text/html": [
       "<div>\n",
       "<style scoped>\n",
       "    .dataframe tbody tr th:only-of-type {\n",
       "        vertical-align: middle;\n",
       "    }\n",
       "\n",
       "    .dataframe tbody tr th {\n",
       "        vertical-align: top;\n",
       "    }\n",
       "\n",
       "    .dataframe thead th {\n",
       "        text-align: right;\n",
       "    }\n",
       "</style>\n",
       "<table border=\"1\" class=\"dataframe\">\n",
       "  <thead>\n",
       "    <tr style=\"text-align: right;\">\n",
       "      <th></th>\n",
       "      <th>review_id</th>\n",
       "      <th>movie_id</th>\n",
       "      <th>imdb_id</th>\n",
       "      <th>original_title</th>\n",
       "      <th>review</th>\n",
       "      <th>rating</th>\n",
       "    </tr>\n",
       "  </thead>\n",
       "  <tbody>\n",
       "    <tr>\n",
       "      <th>0</th>\n",
       "      <td>64ecc16e83901800af821d50</td>\n",
       "      <td>843</td>\n",
       "      <td>tt0118694</td>\n",
       "      <td>花樣年華</td>\n",
       "      <td>This is a fine piece of cinema from Wong Kar-W...</td>\n",
       "      <td>7.0</td>\n",
       "    </tr>\n",
       "    <tr>\n",
       "      <th>1</th>\n",
       "      <td>57086ff5c3a3681d29001512</td>\n",
       "      <td>7443</td>\n",
       "      <td>tt0120630</td>\n",
       "      <td>Chicken Run</td>\n",
       "      <td>A guilty pleasure for me personally, as I love...</td>\n",
       "      <td>9.0</td>\n",
       "    </tr>\n",
       "    <tr>\n",
       "      <th>2</th>\n",
       "      <td>5bb5ac829251410dcb00810c</td>\n",
       "      <td>7443</td>\n",
       "      <td>tt0120630</td>\n",
       "      <td>Chicken Run</td>\n",
       "      <td>Made my roommate who hates stop-motion animati...</td>\n",
       "      <td>6.0</td>\n",
       "    </tr>\n",
       "    <tr>\n",
       "      <th>3</th>\n",
       "      <td>5f0c53a013a32000357ec505</td>\n",
       "      <td>7443</td>\n",
       "      <td>tt0120630</td>\n",
       "      <td>Chicken Run</td>\n",
       "      <td>A very good stop-motion animation!\\r\\n\\r\\n&lt;em&gt;...</td>\n",
       "      <td>8.0</td>\n",
       "    </tr>\n",
       "    <tr>\n",
       "      <th>4</th>\n",
       "      <td>64ecc027594c9400ffe77c91</td>\n",
       "      <td>7443</td>\n",
       "      <td>tt0120630</td>\n",
       "      <td>Chicken Run</td>\n",
       "      <td>Ok, there is an huge temptation to riddle this...</td>\n",
       "      <td>7.0</td>\n",
       "    </tr>\n",
       "  </tbody>\n",
       "</table>\n",
       "</div>"
      ],
      "text/plain": [
       "                  review_id  movie_id    imdb_id original_title  \\\n",
       "0  64ecc16e83901800af821d50       843  tt0118694           花樣年華   \n",
       "1  57086ff5c3a3681d29001512      7443  tt0120630    Chicken Run   \n",
       "2  5bb5ac829251410dcb00810c      7443  tt0120630    Chicken Run   \n",
       "3  5f0c53a013a32000357ec505      7443  tt0120630    Chicken Run   \n",
       "4  64ecc027594c9400ffe77c91      7443  tt0120630    Chicken Run   \n",
       "\n",
       "                                              review  rating  \n",
       "0  This is a fine piece of cinema from Wong Kar-W...     7.0  \n",
       "1  A guilty pleasure for me personally, as I love...     9.0  \n",
       "2  Made my roommate who hates stop-motion animati...     6.0  \n",
       "3  A very good stop-motion animation!\\r\\n\\r\\n<em>...     8.0  \n",
       "4  Ok, there is an huge temptation to riddle this...     7.0  "
      ]
     },
     "execution_count": 3,
     "metadata": {},
     "output_type": "execute_result"
    }
   ],
   "source": [
    "# load dataset\n",
    "df = pd.read_csv('Data-NLP/movie_reviews_v2.csv')\n",
    "\n",
    "# preview dataset\n",
    "df.head()"
   ]
  },
  {
   "cell_type": "code",
   "execution_count": 9,
   "id": "53f3cfe5-1df2-49ed-9b44-0dbfdb0adf4a",
   "metadata": {},
   "outputs": [
    {
     "name": "stdout",
     "output_type": "stream",
     "text": [
      "<class 'pandas.core.frame.DataFrame'>\n",
      "RangeIndex: 8650 entries, 0 to 8649\n",
      "Data columns (total 6 columns):\n",
      " #   Column          Non-Null Count  Dtype  \n",
      "---  ------          --------------  -----  \n",
      " 0   review_id       8650 non-null   object \n",
      " 1   movie_id        8650 non-null   int64  \n",
      " 2   imdb_id         8650 non-null   object \n",
      " 3   original_title  8650 non-null   object \n",
      " 4   review          8650 non-null   object \n",
      " 5   rating          7454 non-null   float64\n",
      "dtypes: float64(1), int64(1), object(4)\n",
      "memory usage: 405.6+ KB\n"
     ]
    }
   ],
   "source": [
    "# how many reviews?\n",
    "df.info()"
   ]
  },
  {
   "cell_type": "code",
   "execution_count": 18,
   "id": "8a40fb3a-b097-41ba-b46b-f06e13162cf4",
   "metadata": {},
   "outputs": [
    {
     "data": {
      "image/png": "[encoded data removed]",
      "text/plain": [
       "<Figure size 640x480 with 1 Axes>"
      ]
     },
     "metadata": {},
     "output_type": "display_data"
    }
   ],
   "source": [
    "# what does the distribution of ratings look like?\n",
    "df['rating'].plot(kind='hist', edgecolor='black');"
   ]
  },
  {
   "cell_type": "code",
   "execution_count": 15,
   "id": "bdf89b5d-8eb9-401c-b8a5-d3dbf743d2dc",
   "metadata": {},
   "outputs": [
    {
     "data": {
      "text/plain": [
       "review_id            0\n",
       "movie_id             0\n",
       "imdb_id              0\n",
       "original_title       0\n",
       "review               0\n",
       "rating            1196\n",
       "dtype: int64"
      ]
     },
     "execution_count": 15,
     "metadata": {},
     "output_type": "execute_result"
    }
   ],
   "source": [
    "# any null values?\n",
    "df.isna().sum()"
   ]
  },
  {
   "cell_type": "code",
   "execution_count": 17,
   "id": "ddee6954-3d51-4b1f-a54d-8d4da01e570a",
   "metadata": {},
   "outputs": [
    {
     "data": {
      "text/html": [
       "<div>\n",
       "<style scoped>\n",
       "    .dataframe tbody tr th:only-of-type {\n",
       "        vertical-align: middle;\n",
       "    }\n",
       "\n",
       "    .dataframe tbody tr th {\n",
       "        vertical-align: top;\n",
       "    }\n",
       "\n",
       "    .dataframe thead th {\n",
       "        text-align: right;\n",
       "    }\n",
       "</style>\n",
       "<table border=\"1\" class=\"dataframe\">\n",
       "  <thead>\n",
       "    <tr style=\"text-align: right;\">\n",
       "      <th></th>\n",
       "      <th>review_id</th>\n",
       "      <th>movie_id</th>\n",
       "      <th>imdb_id</th>\n",
       "      <th>original_title</th>\n",
       "      <th>review</th>\n",
       "      <th>rating</th>\n",
       "    </tr>\n",
       "  </thead>\n",
       "  <tbody>\n",
       "    <tr>\n",
       "      <th>0</th>\n",
       "      <td>64ecc16e83901800af821d50</td>\n",
       "      <td>843</td>\n",
       "      <td>tt0118694</td>\n",
       "      <td>花樣年華</td>\n",
       "      <td>This is a fine piece of cinema from Wong Kar-W...</td>\n",
       "      <td>7.0</td>\n",
       "    </tr>\n",
       "    <tr>\n",
       "      <th>1</th>\n",
       "      <td>57086ff5c3a3681d29001512</td>\n",
       "      <td>7443</td>\n",
       "      <td>tt0120630</td>\n",
       "      <td>Chicken Run</td>\n",
       "      <td>A guilty pleasure for me personally, as I love...</td>\n",
       "      <td>9.0</td>\n",
       "    </tr>\n",
       "    <tr>\n",
       "      <th>2</th>\n",
       "      <td>5bb5ac829251410dcb00810c</td>\n",
       "      <td>7443</td>\n",
       "      <td>tt0120630</td>\n",
       "      <td>Chicken Run</td>\n",
       "      <td>Made my roommate who hates stop-motion animati...</td>\n",
       "      <td>6.0</td>\n",
       "    </tr>\n",
       "    <tr>\n",
       "      <th>3</th>\n",
       "      <td>5f0c53a013a32000357ec505</td>\n",
       "      <td>7443</td>\n",
       "      <td>tt0120630</td>\n",
       "      <td>Chicken Run</td>\n",
       "      <td>A very good stop-motion animation!\\r\\n\\r\\n&lt;em&gt;...</td>\n",
       "      <td>8.0</td>\n",
       "    </tr>\n",
       "    <tr>\n",
       "      <th>4</th>\n",
       "      <td>64ecc027594c9400ffe77c91</td>\n",
       "      <td>7443</td>\n",
       "      <td>tt0120630</td>\n",
       "      <td>Chicken Run</td>\n",
       "      <td>Ok, there is an huge temptation to riddle this...</td>\n",
       "      <td>7.0</td>\n",
       "    </tr>\n",
       "  </tbody>\n",
       "</table>\n",
       "</div>"
      ],
      "text/plain": [
       "                  review_id  movie_id    imdb_id original_title  \\\n",
       "0  64ecc16e83901800af821d50       843  tt0118694           花樣年華   \n",
       "1  57086ff5c3a3681d29001512      7443  tt0120630    Chicken Run   \n",
       "2  5bb5ac829251410dcb00810c      7443  tt0120630    Chicken Run   \n",
       "3  5f0c53a013a32000357ec505      7443  tt0120630    Chicken Run   \n",
       "4  64ecc027594c9400ffe77c91      7443  tt0120630    Chicken Run   \n",
       "\n",
       "                                              review  rating  \n",
       "0  This is a fine piece of cinema from Wong Kar-W...     7.0  \n",
       "1  A guilty pleasure for me personally, as I love...     9.0  \n",
       "2  Made my roommate who hates stop-motion animati...     6.0  \n",
       "3  A very good stop-motion animation!\\r\\n\\r\\n<em>...     8.0  \n",
       "4  Ok, there is an huge temptation to riddle this...     7.0  "
      ]
     },
     "execution_count": 17,
     "metadata": {},
     "output_type": "execute_result"
    }
   ],
   "source": [
    "# Use the rating column to create a new target column with two groups: high-rating (>=9) and low-rating groups (<=4)\n",
    "df.head()"
   ]
  },
  {
   "cell_type": "code",
   "execution_count": 23,
   "id": "3e443a0f-b5ca-41a7-8ef9-c3012bdeefbc",
   "metadata": {},
   "outputs": [
    {
     "data": {
      "text/plain": [
       "dtype('float64')"
      ]
     },
     "execution_count": 23,
     "metadata": {},
     "output_type": "execute_result"
    }
   ],
   "source": [
    "df['rating'].dtype"
   ]
  },
  {
   "cell_type": "code",
   "execution_count": 31,
   "id": "56cd09e9-d1f8-4ef8-a5ec-d1cde4cb9d11",
   "metadata": {},
   "outputs": [],
   "source": [
    "hl_rating = []\n",
    "\n",
    "for rating in df['rating']:\n",
    "    if rating >= 9.0:\n",
    "        hl_rating.append('high')\n",
    "    elif rating <= 4.0:\n",
    "        hl_rating.append('low')\n",
    "    else:\n",
    "        hl_rating.append('med')\n",
    "        \n",
    "df['high_low'] = hl_rating"
   ]
  },
  {
   "cell_type": "code",
   "execution_count": 33,
   "id": "706c97d4-d86c-4d32-b9c2-59c919e1fe62",
   "metadata": {},
   "outputs": [
    {
     "data": {
      "text/html": [
       "<div>\n",
       "<style scoped>\n",
       "    .dataframe tbody tr th:only-of-type {\n",
       "        vertical-align: middle;\n",
       "    }\n",
       "\n",
       "    .dataframe tbody tr th {\n",
       "        vertical-align: top;\n",
       "    }\n",
       "\n",
       "    .dataframe thead th {\n",
       "        text-align: right;\n",
       "    }\n",
       "</style>\n",
       "<table border=\"1\" class=\"dataframe\">\n",
       "  <thead>\n",
       "    <tr style=\"text-align: right;\">\n",
       "      <th></th>\n",
       "      <th>review_id</th>\n",
       "      <th>movie_id</th>\n",
       "      <th>imdb_id</th>\n",
       "      <th>original_title</th>\n",
       "      <th>review</th>\n",
       "      <th>rating</th>\n",
       "      <th>high_low</th>\n",
       "    </tr>\n",
       "  </thead>\n",
       "  <tbody>\n",
       "    <tr>\n",
       "      <th>0</th>\n",
       "      <td>64ecc16e83901800af821d50</td>\n",
       "      <td>843</td>\n",
       "      <td>tt0118694</td>\n",
       "      <td>花樣年華</td>\n",
       "      <td>This is a fine piece of cinema from Wong Kar-W...</td>\n",
       "      <td>7.0</td>\n",
       "      <td>med</td>\n",
       "    </tr>\n",
       "    <tr>\n",
       "      <th>1</th>\n",
       "      <td>57086ff5c3a3681d29001512</td>\n",
       "      <td>7443</td>\n",
       "      <td>tt0120630</td>\n",
       "      <td>Chicken Run</td>\n",
       "      <td>A guilty pleasure for me personally, as I love...</td>\n",
       "      <td>9.0</td>\n",
       "      <td>high</td>\n",
       "    </tr>\n",
       "    <tr>\n",
       "      <th>2</th>\n",
       "      <td>5bb5ac829251410dcb00810c</td>\n",
       "      <td>7443</td>\n",
       "      <td>tt0120630</td>\n",
       "      <td>Chicken Run</td>\n",
       "      <td>Made my roommate who hates stop-motion animati...</td>\n",
       "      <td>6.0</td>\n",
       "      <td>med</td>\n",
       "    </tr>\n",
       "    <tr>\n",
       "      <th>3</th>\n",
       "      <td>5f0c53a013a32000357ec505</td>\n",
       "      <td>7443</td>\n",
       "      <td>tt0120630</td>\n",
       "      <td>Chicken Run</td>\n",
       "      <td>A very good stop-motion animation!\\r\\n\\r\\n&lt;em&gt;...</td>\n",
       "      <td>8.0</td>\n",
       "      <td>med</td>\n",
       "    </tr>\n",
       "    <tr>\n",
       "      <th>4</th>\n",
       "      <td>64ecc027594c9400ffe77c91</td>\n",
       "      <td>7443</td>\n",
       "      <td>tt0120630</td>\n",
       "      <td>Chicken Run</td>\n",
       "      <td>Ok, there is an huge temptation to riddle this...</td>\n",
       "      <td>7.0</td>\n",
       "      <td>med</td>\n",
       "    </tr>\n",
       "  </tbody>\n",
       "</table>\n",
       "</div>"
      ],
      "text/plain": [
       "                  review_id  movie_id    imdb_id original_title  \\\n",
       "0  64ecc16e83901800af821d50       843  tt0118694           花樣年華   \n",
       "1  57086ff5c3a3681d29001512      7443  tt0120630    Chicken Run   \n",
       "2  5bb5ac829251410dcb00810c      7443  tt0120630    Chicken Run   \n",
       "3  5f0c53a013a32000357ec505      7443  tt0120630    Chicken Run   \n",
       "4  64ecc027594c9400ffe77c91      7443  tt0120630    Chicken Run   \n",
       "\n",
       "                                              review  rating high_low  \n",
       "0  This is a fine piece of cinema from Wong Kar-W...     7.0      med  \n",
       "1  A guilty pleasure for me personally, as I love...     9.0     high  \n",
       "2  Made my roommate who hates stop-motion animati...     6.0      med  \n",
       "3  A very good stop-motion animation!\\r\\n\\r\\n<em>...     8.0      med  \n",
       "4  Ok, there is an huge temptation to riddle this...     7.0      med  "
      ]
     },
     "execution_count": 33,
     "metadata": {},
     "output_type": "execute_result"
    }
   ],
   "source": [
    "# verify changes\n",
    "df.head()"
   ]
  },
  {
   "cell_type": "markdown",
   "id": "058a1a30-0acd-4a51-93f5-547766822dc1",
   "metadata": {},
   "source": [
    "## 2) EDA and Visualization"
   ]
  },
  {
   "cell_type": "markdown",
   "id": "4cb880dd-e42d-41b6-984c-203ffe19ad49",
   "metadata": {},
   "source": [
    "### Create word clouds to visualize the most frequent and significant words in each group.\n",
    "\n",
    "Remember, you can use this analysis to identify additional custom EDA stop words to use for visualization. (e.g., if the words are common in both groups)\n",
    "\n",
    "Save your wordclouds as .png files in the \"Images/\" folder in your repo."
   ]
  },
  {
   "cell_type": "markdown",
   "id": "f266cec0-3316-48f8-87ba-e710f2123b52",
   "metadata": {},
   "source": [
    "### Apply nltk's FreqDist class to compare the frequency distribution of words in the review groups.\n",
    "\n",
    "Remember, you can use this analysis to identify additional custom EDA stop words to use for visualization. (e.g., if the words are common in both groups)\n",
    "\n",
    "Save your freq dist plots as .png files in the \"Images/\" folder in your repo.\n",
    "\n"
   ]
  },
  {
   "cell_type": "markdown",
   "id": "92f02619-9a54-4712-bbd6-ef9b0a845a78",
   "metadata": {},
   "source": [
    "### Perform n-grams analysis (bigrams and trigrams)\n",
    "\n",
    "Remember, you can use this analysis to identify additional custom stop words to use for EDA. (e.g., if the words are common in both groups)\n",
    "\n",
    "Focus on bigrams or trigrams, using NLTK's BigramCollocationFinder and BigramAssocMeasures classes (or the Trigram equivalent Finder and Measures) to explore commonly used groups of words for each rating-group.\n",
    "\n",
    "Describe any differences. What do these differences tell you?\n",
    "\n",
    "Save your data frame comparison of the top ngrams for each group as a Markdown table.\n",
    "    \n",
    "    You can use the df.to_markdown() method to create a string version of your data frame that can be copied and pasted into a Markdown cell and your README."
   ]
  },
  {
   "cell_type": "markdown",
   "id": "27eb5fc1-c5ed-410c-ada8-d08a628953e0",
   "metadata": {},
   "source": [
    "### Perform sentiment analysis to create polarity scores according to VADERS's sentiment lexicon.\n",
    "\n",
    "Compare the sentiments of high-rating and low-rating texts.\n",
    "\n",
    "Compare the compound sentiment scores for high and low-rating reviews.\n",
    "\n",
    "Which review polarity scores don't match the ratings? Why do you think this is?"
   ]
  },
  {
   "cell_type": "markdown",
   "id": "b80cf66f-9faf-44de-9586-1798c9ba029e",
   "metadata": {},
   "source": [
    "## 3) Evaluation and Reporting:"
   ]
  },
  {
   "cell_type": "markdown",
   "id": "5b38c830-63c4-425e-8654-2f7c3c41e0ac",
   "metadata": {},
   "source": [
    "### Based on your analyses, what should someone do (or not do) if they want to make a highly-rated movie?\n",
    "\n",
    "List 3 things associated with high-rating reviews.\n",
    "\n",
    "List 3 things associated with low-rating reviews."
   ]
  },
  {
   "cell_type": "markdown",
   "id": "959acf06-0bf5-4579-b9c2-a7d699fc19d4",
   "metadata": {},
   "source": [
    "### Update your project README with a new section for \"NLP Analysis of Movie Reviews.\"\n",
    "\n",
    "Include what reviews were used (source and what the original rating numbers were before they were converted to a categorical target).\n",
    "\n",
    "Include your EDA visualizations in your README:\n",
    "\n",
    "    One wordcloud comparing both groups\n",
    "    Two FreqDists plots (1 per group)\n",
    "    A Markdown table of the Top Ngrams for each group.\n",
    "\n",
    "Include your recommendations/conclusions for what to do/not to do make a highly-rated movie."
   ]
  },
  {
   "cell_type": "markdown",
   "id": "14d101cd-cc80-4afd-887e-bcec42edbd1f",
   "metadata": {},
   "source": [
    "### Deliverables:\n",
    "\n",
    "Notebook files for preprocessing and EDA\n",
    "\n",
    "EDA Images saved in an \"Images\" folder.\n",
    "\n",
    "Updated README"
   ]
  }
 ],
 "metadata": {
  "kernelspec": {
   "display_name": "Python (dojo-env)",
   "language": "python",
   "name": "dojo-env"
  },
  "language_info": {
   "codemirror_mode": {
    "name": "ipython",
    "version": 3
   },
   "file_extension": ".py",
   "mimetype": "text/x-python",
   "name": "python",
   "nbconvert_exporter": "python",
   "pygments_lexer": "ipython3",
   "version": "3.10.10"
  },
  "widgets": {
   "application/vnd.jupyter.widget-state+json": {
    "state": {},
    "version_major": 2,
    "version_minor": 0
   }
  }
 },
 "nbformat": 4,
 "nbformat_minor": 5
}
