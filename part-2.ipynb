{
 "cells": [
  {
   "cell_type": "markdown",
   "id": "b7269bb1-0e85-47de-800c-d7021c9d0a8a",
   "metadata": {},
   "source": [
    "![png](Data/movies-erd.png)"
   ]
  },
  {
   "cell_type": "code",
   "execution_count": null,
   "id": "017e5676-3727-47b2-a9ca-98fac3a4d1dc",
   "metadata": {},
   "outputs": [],
   "source": []
  }
 ],
 "metadata": {
  "kernelspec": {
   "display_name": "Python 3 (ipykernel)",
   "language": "python",
   "name": "python3"
  },
  "language_info": {
   "codemirror_mode": {
    "name": "ipython",
    "version": 3
   },
   "file_extension": ".py",
   "mimetype": "text/x-python",
   "name": "python",
   "nbconvert_exporter": "python",
   "pygments_lexer": "ipython3",
   "version": "3.10.10"
  },
  "widgets": {
   "application/vnd.jupyter.widget-state+json": {
    "state": {},
    "version_major": 2,
    "version_minor": 0
   }
  }
 },
 "nbformat": 4,
 "nbformat_minor": 5
}
