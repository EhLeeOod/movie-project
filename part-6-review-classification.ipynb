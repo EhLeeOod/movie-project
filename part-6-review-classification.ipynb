{
 "cells": [
  {
   "cell_type": "markdown",
   "id": "be4bb060-d0f5-43e3-96d3-9467441f4353",
   "metadata": {},
   "source": [
    "# Project 2 Part 6: Review Classification"
   ]
  },
  {
   "cell_type": "markdown",
   "id": "62e1eb4a-f29a-435f-aa96-480cc196b802",
   "metadata": {},
   "source": [
    "### Load the Data\n",
    "\n",
    "Load the joblib containing the data frame from Part 5 of the project.\n",
    "\n",
    "Drop any reviews that do not have a rating.\n",
    "\n",
    "Use the original review column as your X and the classification target (High/Low Rating Reviews) as your y.\n",
    "\n",
    "### Build a Machine Learning Model\r\n",
    "\r\n",
    "Build a sklearn modeling pipeline with a text vectorizer and a classification model.\r\n",
    "\r\n",
    "Suggested Models: MultinomialNB, LogisticRegression (you may need to increase max_iter), RandomForestClassifier\r\n",
    "Fit and evaluate the model using the machine learning classification models from sklearn.\r\n",
    "\r\n",
    "In a Markdown cell, document your observations from your results. (e.g., how good is the model overall? Is it particularly good/bad at predicting one class?)"
   ]
  },
  {
   "cell_type": "markdown",
   "id": "02cfe2ec-a2f3-49f9-9258-020e245081cd",
   "metadata": {},
   "source": [
    "## Imports"
   ]
  },
  {
   "cell_type": "code",
   "execution_count": 42,
   "id": "94a970e2-5d97-43dc-980c-98e30d647be4",
   "metadata": {},
   "outputs": [],
   "source": [
    "# packages\n",
    "import pandas as pd\n",
    "import joblib\n",
    "from sklearn.pipeline import make_pipeline\n",
    "from sklearn.pipeline import Pipeline\n",
    "from sklearn.feature_extraction.text import CountVectorizer\n",
    "from sklearn.ensemble import RandomForestClassifier\n",
    "from sklearn.model_selection import train_test_split\n",
    "from sklearn.metrics import classification_report, ConfusionMatrixDisplay\n",
    "import matplotlib.pyplot as plt\n",
    "import numpy as np"
   ]
  },
  {
   "cell_type": "code",
   "execution_count": 43,
   "id": "8bcfb48f-3615-476d-9b4d-7ba46ae99f2f",
   "metadata": {},
   "outputs": [],
   "source": [
    "# functions\n",
    "\n",
    "\n",
    "def classification_metrics(y_true, y_pred, label='',\n",
    "                           output_dict=False, figsize=(8,4),\n",
    "                           normalize='true', cmap='Blues',\n",
    "                           colorbar=False,values_format=\".2f\"):\n",
    "    \"\"\"Modified version of classification metrics function from Intro to Machine Learning.\n",
    "    Updates:\n",
    "    - Reversed raw counts confusion matrix cmap  (so darker==more).\n",
    "    - Added arg for normalized confusion matrix values_format\n",
    "    \"\"\"\n",
    "    # Get the classification report\n",
    "    report = classification_report(y_true, y_pred)\n",
    "    \n",
    "    ## Print header and report\n",
    "    header = \"-\"*70\n",
    "    print(header, f\" Classification Metrics: {label}\", header, sep='\\n')\n",
    "    print(report)\n",
    "    \n",
    "    ## CONFUSION MATRICES SUBPLOTS\n",
    "    fig, axes = plt.subplots(ncols=2, figsize=figsize)\n",
    "    \n",
    "    # Create a confusion matrix  of raw counts (left subplot)\n",
    "    ConfusionMatrixDisplay.from_predictions(y_true, y_pred,\n",
    "                                            normalize=None, \n",
    "                                            cmap='gist_gray_r',# Updated cmap\n",
    "                                            values_format=\"d\", \n",
    "                                            colorbar=colorbar,\n",
    "                                            ax = axes[0]);\n",
    "    axes[0].set_title(\"Raw Counts\")\n",
    "    \n",
    "    # Create a confusion matrix with the data with normalize argument \n",
    "    ConfusionMatrixDisplay.from_predictions(y_true, y_pred,\n",
    "                                            normalize=normalize,\n",
    "                                            cmap=cmap, \n",
    "                                            values_format=values_format, #New arg\n",
    "                                            colorbar=colorbar,\n",
    "                                            ax = axes[1]);\n",
    "    axes[1].set_title(\"Normalized Confusion Matrix\")\n",
    "    \n",
    "    # Adjust layout and show figure\n",
    "    fig.tight_layout()\n",
    "    plt.show()\n",
    "    \n",
    "    # Return dictionary of classification_report\n",
    "    if output_dict==True:\n",
    "        report_dict = classification_report(y_true, y_pred, output_dict=True)\n",
    "        return report_dict\n",
    "def evaluate_classification(model, X_train, y_train, X_test, y_test,\n",
    "                         figsize=(6,4), normalize='true', output_dict = False,\n",
    "                            cmap_train='Blues', cmap_test=\"Reds\",colorbar=False):\n",
    "  # Get predictions for training data\n",
    "  y_train_pred = model.predict(X_train)\n",
    "  # Call the helper function to obtain regression metrics for training data\n",
    "  results_train = classification_metrics(y_train, y_train_pred, #verbose = verbose,\n",
    "                                     output_dict=True, figsize=figsize,\n",
    "                                         colorbar=colorbar, cmap=cmap_train,\n",
    "                                     label='Training Data')\n",
    "  print()\n",
    "  # Get predictions for test data\n",
    "  y_test_pred = model.predict(X_test)\n",
    "  # Call the helper function to obtain regression metrics for test data\n",
    "  results_test = classification_metrics(y_test, y_test_pred, #verbose = verbose,\n",
    "                                  output_dict=True,figsize=figsize,\n",
    "                                         colorbar=colorbar, cmap=cmap_test,\n",
    "                                    label='Test Data' )\n",
    "  if output_dict == True:\n",
    "    # Store results in a dataframe if ouput_frame is True\n",
    "    results_dict = {'train':results_train,\n",
    "                    'test': results_test}\n",
    "    return results_dict"
   ]
  },
  {
   "cell_type": "markdown",
   "id": "6b46274a-99d9-4cda-b0b7-8e80997e3613",
   "metadata": {},
   "source": [
    "#### Load Part 5 joblib"
   ]
  },
  {
   "cell_type": "code",
   "execution_count": 4,
   "id": "9f5fc250-1599-4257-a628-6c1bef692ca7",
   "metadata": {},
   "outputs": [],
   "source": [
    "# load joblib\n",
    "df = joblib.load('Data-NLP/df-proj-2-part-5.joblib')"
   ]
  },
  {
   "cell_type": "code",
   "execution_count": 5,
   "id": "33aef109-d748-4e21-a95f-27f68d29ac1b",
   "metadata": {},
   "outputs": [
    {
     "data": {
      "text/html": [
       "<div>\n",
       "<style scoped>\n",
       "    .dataframe tbody tr th:only-of-type {\n",
       "        vertical-align: middle;\n",
       "    }\n",
       "\n",
       "    .dataframe tbody tr th {\n",
       "        vertical-align: top;\n",
       "    }\n",
       "\n",
       "    .dataframe thead th {\n",
       "        text-align: right;\n",
       "    }\n",
       "</style>\n",
       "<table border=\"1\" class=\"dataframe\">\n",
       "  <thead>\n",
       "    <tr style=\"text-align: right;\">\n",
       "      <th></th>\n",
       "      <th>review_id</th>\n",
       "      <th>movie_id</th>\n",
       "      <th>imdb_id</th>\n",
       "      <th>original_title</th>\n",
       "      <th>review</th>\n",
       "      <th>rating</th>\n",
       "      <th>high_low</th>\n",
       "      <th>review_lowercase</th>\n",
       "      <th>tokens</th>\n",
       "      <th>spacy_lemmas</th>\n",
       "      <th>lemmas_joined</th>\n",
       "      <th>neg</th>\n",
       "      <th>neu</th>\n",
       "      <th>pos</th>\n",
       "      <th>compound</th>\n",
       "    </tr>\n",
       "  </thead>\n",
       "  <tbody>\n",
       "    <tr>\n",
       "      <th>0</th>\n",
       "      <td>64ecc16e83901800af821d50</td>\n",
       "      <td>843</td>\n",
       "      <td>tt0118694</td>\n",
       "      <td>花樣年華</td>\n",
       "      <td>This is a fine piece of cinema from Wong Kar-W...</td>\n",
       "      <td>7.0</td>\n",
       "      <td>med</td>\n",
       "      <td>this is a fine piece of cinema from wong kar-w...</td>\n",
       "      <td>[this, is, a, fine, piece, of, cinema, from, w...</td>\n",
       "      <td>[fine, piece, cinema, wong, kar, wai, tell, st...</td>\n",
       "      <td>fine piece cinema wong kar wai tell story peop...</td>\n",
       "      <td>0.068</td>\n",
       "      <td>0.744</td>\n",
       "      <td>0.188</td>\n",
       "      <td>0.9908</td>\n",
       "    </tr>\n",
       "    <tr>\n",
       "      <th>1</th>\n",
       "      <td>57086ff5c3a3681d29001512</td>\n",
       "      <td>7443</td>\n",
       "      <td>tt0120630</td>\n",
       "      <td>Chicken Run</td>\n",
       "      <td>A guilty pleasure for me personally, as I love...</td>\n",
       "      <td>9.0</td>\n",
       "      <td>high</td>\n",
       "      <td>a guilty pleasure for me personally, as i love...</td>\n",
       "      <td>[a, guilty, pleasure, for, me, personally,, as...</td>\n",
       "      <td>[guilty, pleasure, personally, love, great, es...</td>\n",
       "      <td>guilty pleasure personally love great escape w...</td>\n",
       "      <td>0.053</td>\n",
       "      <td>0.587</td>\n",
       "      <td>0.360</td>\n",
       "      <td>0.9450</td>\n",
       "    </tr>\n",
       "    <tr>\n",
       "      <th>2</th>\n",
       "      <td>5bb5ac829251410dcb00810c</td>\n",
       "      <td>7443</td>\n",
       "      <td>tt0120630</td>\n",
       "      <td>Chicken Run</td>\n",
       "      <td>Made my roommate who hates stop-motion animati...</td>\n",
       "      <td>6.0</td>\n",
       "      <td>med</td>\n",
       "      <td>made my roommate who hates stop-motion animati...</td>\n",
       "      <td>[made, my, roommate, who, hates, stop-motion, ...</td>\n",
       "      <td>[roommate, hate, stop, motion, animation, watc...</td>\n",
       "      <td>roommate hate stop motion animation watch 2018...</td>\n",
       "      <td>0.071</td>\n",
       "      <td>0.776</td>\n",
       "      <td>0.153</td>\n",
       "      <td>0.7006</td>\n",
       "    </tr>\n",
       "    <tr>\n",
       "      <th>3</th>\n",
       "      <td>5f0c53a013a32000357ec505</td>\n",
       "      <td>7443</td>\n",
       "      <td>tt0120630</td>\n",
       "      <td>Chicken Run</td>\n",
       "      <td>A very good stop-motion animation!\\r\\n\\r\\n&lt;em&gt;...</td>\n",
       "      <td>8.0</td>\n",
       "      <td>med</td>\n",
       "      <td>a very good stop-motion animation!\\r\\n\\r\\n&lt;em&gt;...</td>\n",
       "      <td>[a, very, good, stop-motion, animation!, &lt;em&gt;'...</td>\n",
       "      <td>[good, stop, motion, animation, &lt;, em&gt;'chicken...</td>\n",
       "      <td>good stop motion animation &lt; em&gt;'chicken run'&lt;...</td>\n",
       "      <td>0.039</td>\n",
       "      <td>0.637</td>\n",
       "      <td>0.325</td>\n",
       "      <td>0.9944</td>\n",
       "    </tr>\n",
       "    <tr>\n",
       "      <th>4</th>\n",
       "      <td>64ecc027594c9400ffe77c91</td>\n",
       "      <td>7443</td>\n",
       "      <td>tt0120630</td>\n",
       "      <td>Chicken Run</td>\n",
       "      <td>Ok, there is an huge temptation to riddle this...</td>\n",
       "      <td>7.0</td>\n",
       "      <td>med</td>\n",
       "      <td>ok, there is an huge temptation to riddle this...</td>\n",
       "      <td>[ok,, there, is, an, huge, temptation, to, rid...</td>\n",
       "      <td>[ok, huge, temptation, riddle, review, pun, go...</td>\n",
       "      <td>ok huge temptation riddle review pun go crack ...</td>\n",
       "      <td>0.056</td>\n",
       "      <td>0.699</td>\n",
       "      <td>0.245</td>\n",
       "      <td>0.9943</td>\n",
       "    </tr>\n",
       "  </tbody>\n",
       "</table>\n",
       "</div>"
      ],
      "text/plain": [
       "                  review_id  movie_id    imdb_id original_title  \\\n",
       "0  64ecc16e83901800af821d50       843  tt0118694           花樣年華   \n",
       "1  57086ff5c3a3681d29001512      7443  tt0120630    Chicken Run   \n",
       "2  5bb5ac829251410dcb00810c      7443  tt0120630    Chicken Run   \n",
       "3  5f0c53a013a32000357ec505      7443  tt0120630    Chicken Run   \n",
       "4  64ecc027594c9400ffe77c91      7443  tt0120630    Chicken Run   \n",
       "\n",
       "                                              review  rating high_low  \\\n",
       "0  This is a fine piece of cinema from Wong Kar-W...     7.0      med   \n",
       "1  A guilty pleasure for me personally, as I love...     9.0     high   \n",
       "2  Made my roommate who hates stop-motion animati...     6.0      med   \n",
       "3  A very good stop-motion animation!\\r\\n\\r\\n<em>...     8.0      med   \n",
       "4  Ok, there is an huge temptation to riddle this...     7.0      med   \n",
       "\n",
       "                                    review_lowercase  \\\n",
       "0  this is a fine piece of cinema from wong kar-w...   \n",
       "1  a guilty pleasure for me personally, as i love...   \n",
       "2  made my roommate who hates stop-motion animati...   \n",
       "3  a very good stop-motion animation!\\r\\n\\r\\n<em>...   \n",
       "4  ok, there is an huge temptation to riddle this...   \n",
       "\n",
       "                                              tokens  \\\n",
       "0  [this, is, a, fine, piece, of, cinema, from, w...   \n",
       "1  [a, guilty, pleasure, for, me, personally,, as...   \n",
       "2  [made, my, roommate, who, hates, stop-motion, ...   \n",
       "3  [a, very, good, stop-motion, animation!, <em>'...   \n",
       "4  [ok,, there, is, an, huge, temptation, to, rid...   \n",
       "\n",
       "                                        spacy_lemmas  \\\n",
       "0  [fine, piece, cinema, wong, kar, wai, tell, st...   \n",
       "1  [guilty, pleasure, personally, love, great, es...   \n",
       "2  [roommate, hate, stop, motion, animation, watc...   \n",
       "3  [good, stop, motion, animation, <, em>'chicken...   \n",
       "4  [ok, huge, temptation, riddle, review, pun, go...   \n",
       "\n",
       "                                       lemmas_joined    neg    neu    pos  \\\n",
       "0  fine piece cinema wong kar wai tell story peop...  0.068  0.744  0.188   \n",
       "1  guilty pleasure personally love great escape w...  0.053  0.587  0.360   \n",
       "2  roommate hate stop motion animation watch 2018...  0.071  0.776  0.153   \n",
       "3  good stop motion animation < em>'chicken run'<...  0.039  0.637  0.325   \n",
       "4  ok huge temptation riddle review pun go crack ...  0.056  0.699  0.245   \n",
       "\n",
       "   compound  \n",
       "0    0.9908  \n",
       "1    0.9450  \n",
       "2    0.7006  \n",
       "3    0.9944  \n",
       "4    0.9943  "
      ]
     },
     "execution_count": 5,
     "metadata": {},
     "output_type": "execute_result"
    }
   ],
   "source": [
    "# preview df\n",
    "df.head()"
   ]
  },
  {
   "cell_type": "markdown",
   "id": "24dee2b5-8fc4-4814-90c0-d48384e8b006",
   "metadata": {},
   "source": [
    "#### Drop any reviews that do not have a rating."
   ]
  },
  {
   "cell_type": "code",
   "execution_count": 17,
   "id": "868d19eb-a38a-43b1-a88e-3a41987044df",
   "metadata": {},
   "outputs": [],
   "source": [
    "# drop any rows with na in rating column\n",
    "df = df.dropna(subset=['rating'])"
   ]
  },
  {
   "cell_type": "code",
   "execution_count": 26,
   "id": "2883b70d-8a42-4dfd-8991-fad11c63208b",
   "metadata": {},
   "outputs": [],
   "source": [
    "# drop rows with 'med' rating\n",
    "df = df[df.high_low != 'med']"
   ]
  },
  {
   "cell_type": "code",
   "execution_count": 27,
   "id": "c5ae66ec-a65a-4d9e-ac7a-f60497fc336b",
   "metadata": {},
   "outputs": [
    {
     "name": "stdout",
     "output_type": "stream",
     "text": [
      "<class 'pandas.core.frame.DataFrame'>\n",
      "Int64Index: 2419 entries, 1 to 8647\n",
      "Data columns (total 15 columns):\n",
      " #   Column            Non-Null Count  Dtype  \n",
      "---  ------            --------------  -----  \n",
      " 0   review_id         2419 non-null   object \n",
      " 1   movie_id          2419 non-null   int64  \n",
      " 2   imdb_id           2419 non-null   object \n",
      " 3   original_title    2419 non-null   object \n",
      " 4   review            2419 non-null   object \n",
      " 5   rating            2419 non-null   float64\n",
      " 6   high_low          2419 non-null   object \n",
      " 7   review_lowercase  2419 non-null   object \n",
      " 8   tokens            2419 non-null   object \n",
      " 9   spacy_lemmas      2419 non-null   object \n",
      " 10  lemmas_joined     2419 non-null   object \n",
      " 11  neg               2419 non-null   float64\n",
      " 12  neu               2419 non-null   float64\n",
      " 13  pos               2419 non-null   float64\n",
      " 14  compound          2419 non-null   float64\n",
      "dtypes: float64(5), int64(1), object(9)\n",
      "memory usage: 302.4+ KB\n"
     ]
    }
   ],
   "source": [
    "# verify changes\n",
    "df.info()"
   ]
  },
  {
   "cell_type": "markdown",
   "id": "ef63f29f-b8f7-4a1a-804f-8d5bd0459fc9",
   "metadata": {},
   "source": [
    "#### Use the original review column as your X and the classification target (High/Low Rating Reviews) as your y."
   ]
  },
  {
   "cell_type": "code",
   "execution_count": 28,
   "id": "fdd208f3-2032-46db-a9aa-6629e7a62b00",
   "metadata": {},
   "outputs": [],
   "source": [
    "# assign X and y\n",
    "X = df['review']\n",
    "y = df['high_low']"
   ]
  },
  {
   "cell_type": "code",
   "execution_count": 37,
   "id": "ab62c789-abac-4252-ad0e-dce17035225c",
   "metadata": {},
   "outputs": [],
   "source": [
    "# train test split\n",
    "X_train, X_test, y_train, y_test = train_test_split(X,y,test_size=0.25,\n",
    "                                                    random_state=42)"
   ]
  },
  {
   "cell_type": "markdown",
   "id": "7a3dedcb-2c71-4c67-8ce6-9b75e03be8f7",
   "metadata": {},
   "source": [
    "## Build a Machine Learning Model"
   ]
  },
  {
   "cell_type": "markdown",
   "id": "1c0343cf-785f-437e-9088-963bf1094c53",
   "metadata": {},
   "source": [
    "### Build a sklearn modeling pipeline with a text vectorizer and a classification model.\n",
    "\n",
    "Suggested Models: MultinomialNB, LogisticRegression (you may need to increase max_iter), RandomForestClassifier"
   ]
  },
  {
   "cell_type": "code",
   "execution_count": 30,
   "id": "43eea999-5921-4d7c-bb3e-fb06d4a05dbc",
   "metadata": {},
   "outputs": [
    {
     "data": {
      "text/plain": [
       "low     0.505994\n",
       "high    0.494006\n",
       "Name: high_low, dtype: float64"
      ]
     },
     "execution_count": 30,
     "metadata": {},
     "output_type": "execute_result"
    }
   ],
   "source": [
    "# check class balance\n",
    "y.value_counts(normalize=True)"
   ]
  },
  {
   "cell_type": "code",
   "execution_count": 35,
   "id": "389eca68-30e6-4049-bd41-d6df1cae0811",
   "metadata": {},
   "outputs": [
    {
     "data": {
      "text/html": [
       "<style>#sk-container-id-1 {color: black;background-color: white;}#sk-container-id-1 pre{padding: 0;}#sk-container-id-1 div.sk-toggleable {background-color: white;}#sk-container-id-1 label.sk-toggleable__label {cursor: pointer;display: block;width: 100%;margin-bottom: 0;padding: 0.3em;box-sizing: border-box;text-align: center;}#sk-container-id-1 label.sk-toggleable__label-arrow:before {content: \"▸\";float: left;margin-right: 0.25em;color: #696969;}#sk-container-id-1 label.sk-toggleable__label-arrow:hover:before {color: black;}#sk-container-id-1 div.sk-estimator:hover label.sk-toggleable__label-arrow:before {color: black;}#sk-container-id-1 div.sk-toggleable__content {max-height: 0;max-width: 0;overflow: hidden;text-align: left;background-color: #f0f8ff;}#sk-container-id-1 div.sk-toggleable__content pre {margin: 0.2em;color: black;border-radius: 0.25em;background-color: #f0f8ff;}#sk-container-id-1 input.sk-toggleable__control:checked~div.sk-toggleable__content {max-height: 200px;max-width: 100%;overflow: auto;}#sk-container-id-1 input.sk-toggleable__control:checked~label.sk-toggleable__label-arrow:before {content: \"▾\";}#sk-container-id-1 div.sk-estimator input.sk-toggleable__control:checked~label.sk-toggleable__label {background-color: #d4ebff;}#sk-container-id-1 div.sk-label input.sk-toggleable__control:checked~label.sk-toggleable__label {background-color: #d4ebff;}#sk-container-id-1 input.sk-hidden--visually {border: 0;clip: rect(1px 1px 1px 1px);clip: rect(1px, 1px, 1px, 1px);height: 1px;margin: -1px;overflow: hidden;padding: 0;position: absolute;width: 1px;}#sk-container-id-1 div.sk-estimator {font-family: monospace;background-color: #f0f8ff;border: 1px dotted black;border-radius: 0.25em;box-sizing: border-box;margin-bottom: 0.5em;}#sk-container-id-1 div.sk-estimator:hover {background-color: #d4ebff;}#sk-container-id-1 div.sk-parallel-item::after {content: \"\";width: 100%;border-bottom: 1px solid gray;flex-grow: 1;}#sk-container-id-1 div.sk-label:hover label.sk-toggleable__label {background-color: #d4ebff;}#sk-container-id-1 div.sk-serial::before {content: \"\";position: absolute;border-left: 1px solid gray;box-sizing: border-box;top: 0;bottom: 0;left: 50%;z-index: 0;}#sk-container-id-1 div.sk-serial {display: flex;flex-direction: column;align-items: center;background-color: white;padding-right: 0.2em;padding-left: 0.2em;position: relative;}#sk-container-id-1 div.sk-item {position: relative;z-index: 1;}#sk-container-id-1 div.sk-parallel {display: flex;align-items: stretch;justify-content: center;background-color: white;position: relative;}#sk-container-id-1 div.sk-item::before, #sk-container-id-1 div.sk-parallel-item::before {content: \"\";position: absolute;border-left: 1px solid gray;box-sizing: border-box;top: 0;bottom: 0;left: 50%;z-index: -1;}#sk-container-id-1 div.sk-parallel-item {display: flex;flex-direction: column;z-index: 1;position: relative;background-color: white;}#sk-container-id-1 div.sk-parallel-item:first-child::after {align-self: flex-end;width: 50%;}#sk-container-id-1 div.sk-parallel-item:last-child::after {align-self: flex-start;width: 50%;}#sk-container-id-1 div.sk-parallel-item:only-child::after {width: 0;}#sk-container-id-1 div.sk-dashed-wrapped {border: 1px dashed gray;margin: 0 0.4em 0.5em 0.4em;box-sizing: border-box;padding-bottom: 0.4em;background-color: white;}#sk-container-id-1 div.sk-label label {font-family: monospace;font-weight: bold;display: inline-block;line-height: 1.2em;}#sk-container-id-1 div.sk-label-container {text-align: center;}#sk-container-id-1 div.sk-container {/* jupyter's `normalize.less` sets `[hidden] { display: none; }` but bootstrap.min.css set `[hidden] { display: none !important; }` so we also need the `!important` here to be able to override the default hidden behavior on the sphinx rendered scikit-learn.org. See: https://github.com/scikit-learn/scikit-learn/issues/21755 */display: inline-block !important;position: relative;}#sk-container-id-1 div.sk-text-repr-fallback {display: none;}</style><div id=\"sk-container-id-1\" class=\"sk-top-container\"><div class=\"sk-text-repr-fallback\"><pre>Pipeline(steps=[(&#x27;vectorizer&#x27;, CountVectorizer(stop_words=&#x27;english&#x27;)),\n",
       "                (&#x27;clf&#x27;, RandomForestClassifier(random_state=42))])</pre><b>In a Jupyter environment, please rerun this cell to show the HTML representation or trust the notebook. <br />On GitHub, the HTML representation is unable to render, please try loading this page with nbviewer.org.</b></div><div class=\"sk-container\" hidden><div class=\"sk-item sk-dashed-wrapped\"><div class=\"sk-label-container\"><div class=\"sk-label sk-toggleable\"><input class=\"sk-toggleable__control sk-hidden--visually\" id=\"sk-estimator-id-1\" type=\"checkbox\" ><label for=\"sk-estimator-id-1\" class=\"sk-toggleable__label sk-toggleable__label-arrow\">Pipeline</label><div class=\"sk-toggleable__content\"><pre>Pipeline(steps=[(&#x27;vectorizer&#x27;, CountVectorizer(stop_words=&#x27;english&#x27;)),\n",
       "                (&#x27;clf&#x27;, RandomForestClassifier(random_state=42))])</pre></div></div></div><div class=\"sk-serial\"><div class=\"sk-item\"><div class=\"sk-estimator sk-toggleable\"><input class=\"sk-toggleable__control sk-hidden--visually\" id=\"sk-estimator-id-2\" type=\"checkbox\" ><label for=\"sk-estimator-id-2\" class=\"sk-toggleable__label sk-toggleable__label-arrow\">CountVectorizer</label><div class=\"sk-toggleable__content\"><pre>CountVectorizer(stop_words=&#x27;english&#x27;)</pre></div></div></div><div class=\"sk-item\"><div class=\"sk-estimator sk-toggleable\"><input class=\"sk-toggleable__control sk-hidden--visually\" id=\"sk-estimator-id-3\" type=\"checkbox\" ><label for=\"sk-estimator-id-3\" class=\"sk-toggleable__label sk-toggleable__label-arrow\">RandomForestClassifier</label><div class=\"sk-toggleable__content\"><pre>RandomForestClassifier(random_state=42)</pre></div></div></div></div></div></div></div>"
      ],
      "text/plain": [
       "Pipeline(steps=[('vectorizer', CountVectorizer(stop_words='english')),\n",
       "                ('clf', RandomForestClassifier(random_state=42))])"
      ]
     },
     "execution_count": 35,
     "metadata": {},
     "output_type": "execute_result"
    }
   ],
   "source": [
    "## Create a pipeline with a vectorizer and classification model.\n",
    "clf_pipe = Pipeline([('vectorizer', CountVectorizer(stop_words='english')),\n",
    "                     ('clf',RandomForestClassifier(random_state=42))])\n",
    "clf_pipe"
   ]
  },
  {
   "cell_type": "markdown",
   "id": "a2b7d14b-135b-433e-befc-1030033ce5c4",
   "metadata": {},
   "source": [
    "### Fit and evaluate the model using the machine learning classification models from sklearn."
   ]
  },
  {
   "cell_type": "code",
   "execution_count": 38,
   "id": "4dddbc71-7135-4fb3-950e-645102addb1a",
   "metadata": {},
   "outputs": [
    {
     "data": {
      "text/html": [
       "<style>#sk-container-id-2 {color: black;background-color: white;}#sk-container-id-2 pre{padding: 0;}#sk-container-id-2 div.sk-toggleable {background-color: white;}#sk-container-id-2 label.sk-toggleable__label {cursor: pointer;display: block;width: 100%;margin-bottom: 0;padding: 0.3em;box-sizing: border-box;text-align: center;}#sk-container-id-2 label.sk-toggleable__label-arrow:before {content: \"▸\";float: left;margin-right: 0.25em;color: #696969;}#sk-container-id-2 label.sk-toggleable__label-arrow:hover:before {color: black;}#sk-container-id-2 div.sk-estimator:hover label.sk-toggleable__label-arrow:before {color: black;}#sk-container-id-2 div.sk-toggleable__content {max-height: 0;max-width: 0;overflow: hidden;text-align: left;background-color: #f0f8ff;}#sk-container-id-2 div.sk-toggleable__content pre {margin: 0.2em;color: black;border-radius: 0.25em;background-color: #f0f8ff;}#sk-container-id-2 input.sk-toggleable__control:checked~div.sk-toggleable__content {max-height: 200px;max-width: 100%;overflow: auto;}#sk-container-id-2 input.sk-toggleable__control:checked~label.sk-toggleable__label-arrow:before {content: \"▾\";}#sk-container-id-2 div.sk-estimator input.sk-toggleable__control:checked~label.sk-toggleable__label {background-color: #d4ebff;}#sk-container-id-2 div.sk-label input.sk-toggleable__control:checked~label.sk-toggleable__label {background-color: #d4ebff;}#sk-container-id-2 input.sk-hidden--visually {border: 0;clip: rect(1px 1px 1px 1px);clip: rect(1px, 1px, 1px, 1px);height: 1px;margin: -1px;overflow: hidden;padding: 0;position: absolute;width: 1px;}#sk-container-id-2 div.sk-estimator {font-family: monospace;background-color: #f0f8ff;border: 1px dotted black;border-radius: 0.25em;box-sizing: border-box;margin-bottom: 0.5em;}#sk-container-id-2 div.sk-estimator:hover {background-color: #d4ebff;}#sk-container-id-2 div.sk-parallel-item::after {content: \"\";width: 100%;border-bottom: 1px solid gray;flex-grow: 1;}#sk-container-id-2 div.sk-label:hover label.sk-toggleable__label {background-color: #d4ebff;}#sk-container-id-2 div.sk-serial::before {content: \"\";position: absolute;border-left: 1px solid gray;box-sizing: border-box;top: 0;bottom: 0;left: 50%;z-index: 0;}#sk-container-id-2 div.sk-serial {display: flex;flex-direction: column;align-items: center;background-color: white;padding-right: 0.2em;padding-left: 0.2em;position: relative;}#sk-container-id-2 div.sk-item {position: relative;z-index: 1;}#sk-container-id-2 div.sk-parallel {display: flex;align-items: stretch;justify-content: center;background-color: white;position: relative;}#sk-container-id-2 div.sk-item::before, #sk-container-id-2 div.sk-parallel-item::before {content: \"\";position: absolute;border-left: 1px solid gray;box-sizing: border-box;top: 0;bottom: 0;left: 50%;z-index: -1;}#sk-container-id-2 div.sk-parallel-item {display: flex;flex-direction: column;z-index: 1;position: relative;background-color: white;}#sk-container-id-2 div.sk-parallel-item:first-child::after {align-self: flex-end;width: 50%;}#sk-container-id-2 div.sk-parallel-item:last-child::after {align-self: flex-start;width: 50%;}#sk-container-id-2 div.sk-parallel-item:only-child::after {width: 0;}#sk-container-id-2 div.sk-dashed-wrapped {border: 1px dashed gray;margin: 0 0.4em 0.5em 0.4em;box-sizing: border-box;padding-bottom: 0.4em;background-color: white;}#sk-container-id-2 div.sk-label label {font-family: monospace;font-weight: bold;display: inline-block;line-height: 1.2em;}#sk-container-id-2 div.sk-label-container {text-align: center;}#sk-container-id-2 div.sk-container {/* jupyter's `normalize.less` sets `[hidden] { display: none; }` but bootstrap.min.css set `[hidden] { display: none !important; }` so we also need the `!important` here to be able to override the default hidden behavior on the sphinx rendered scikit-learn.org. See: https://github.com/scikit-learn/scikit-learn/issues/21755 */display: inline-block !important;position: relative;}#sk-container-id-2 div.sk-text-repr-fallback {display: none;}</style><div id=\"sk-container-id-2\" class=\"sk-top-container\"><div class=\"sk-text-repr-fallback\"><pre>Pipeline(steps=[(&#x27;vectorizer&#x27;, CountVectorizer(stop_words=&#x27;english&#x27;)),\n",
       "                (&#x27;clf&#x27;, RandomForestClassifier(random_state=42))])</pre><b>In a Jupyter environment, please rerun this cell to show the HTML representation or trust the notebook. <br />On GitHub, the HTML representation is unable to render, please try loading this page with nbviewer.org.</b></div><div class=\"sk-container\" hidden><div class=\"sk-item sk-dashed-wrapped\"><div class=\"sk-label-container\"><div class=\"sk-label sk-toggleable\"><input class=\"sk-toggleable__control sk-hidden--visually\" id=\"sk-estimator-id-4\" type=\"checkbox\" ><label for=\"sk-estimator-id-4\" class=\"sk-toggleable__label sk-toggleable__label-arrow\">Pipeline</label><div class=\"sk-toggleable__content\"><pre>Pipeline(steps=[(&#x27;vectorizer&#x27;, CountVectorizer(stop_words=&#x27;english&#x27;)),\n",
       "                (&#x27;clf&#x27;, RandomForestClassifier(random_state=42))])</pre></div></div></div><div class=\"sk-serial\"><div class=\"sk-item\"><div class=\"sk-estimator sk-toggleable\"><input class=\"sk-toggleable__control sk-hidden--visually\" id=\"sk-estimator-id-5\" type=\"checkbox\" ><label for=\"sk-estimator-id-5\" class=\"sk-toggleable__label sk-toggleable__label-arrow\">CountVectorizer</label><div class=\"sk-toggleable__content\"><pre>CountVectorizer(stop_words=&#x27;english&#x27;)</pre></div></div></div><div class=\"sk-item\"><div class=\"sk-estimator sk-toggleable\"><input class=\"sk-toggleable__control sk-hidden--visually\" id=\"sk-estimator-id-6\" type=\"checkbox\" ><label for=\"sk-estimator-id-6\" class=\"sk-toggleable__label sk-toggleable__label-arrow\">RandomForestClassifier</label><div class=\"sk-toggleable__content\"><pre>RandomForestClassifier(random_state=42)</pre></div></div></div></div></div></div></div>"
      ],
      "text/plain": [
       "Pipeline(steps=[('vectorizer', CountVectorizer(stop_words='english')),\n",
       "                ('clf', RandomForestClassifier(random_state=42))])"
      ]
     },
     "execution_count": 38,
     "metadata": {},
     "output_type": "execute_result"
    }
   ],
   "source": [
    "# fit model pipeline\n",
    "clf_pipe.fit(X_train, y_train)"
   ]
  },
  {
   "cell_type": "code",
   "execution_count": 44,
   "id": "f2313d2b-d6d5-438e-8b65-41807db3c8ec",
   "metadata": {},
   "outputs": [
    {
     "name": "stdout",
     "output_type": "stream",
     "text": [
      "----------------------------------------------------------------------\n",
      " Classification Metrics: Training Data\n",
      "----------------------------------------------------------------------\n",
      "              precision    recall  f1-score   support\n",
      "\n",
      "        high       1.00      1.00      1.00       888\n",
      "         low       1.00      1.00      1.00       926\n",
      "\n",
      "    accuracy                           1.00      1814\n",
      "   macro avg       1.00      1.00      1.00      1814\n",
      "weighted avg       1.00      1.00      1.00      1814\n",
      "\n"
     ]
    },
    {
     "data": {
      "image/png": "[encoded data removed]",
      "text/plain": [
       "<Figure size 600x400 with 2 Axes>"
      ]
     },
     "metadata": {},
     "output_type": "display_data"
    },
    {
     "name": "stdout",
     "output_type": "stream",
     "text": [
      "\n",
      "----------------------------------------------------------------------\n",
      " Classification Metrics: Test Data\n",
      "----------------------------------------------------------------------\n",
      "              precision    recall  f1-score   support\n",
      "\n",
      "        high       0.83      0.85      0.84       307\n",
      "         low       0.84      0.82      0.83       298\n",
      "\n",
      "    accuracy                           0.84       605\n",
      "   macro avg       0.84      0.84      0.84       605\n",
      "weighted avg       0.84      0.84      0.84       605\n",
      "\n"
     ]
    },
    {
     "data": {
      "image/png": "[encoded data removed]",
      "text/plain": [
       "<Figure size 600x400 with 2 Axes>"
      ]
     },
     "metadata": {},
     "output_type": "display_data"
    }
   ],
   "source": [
    "# evaluate model\n",
    "evaluate_classification(clf_pipe, X_train,y_train, X_test, y_test)"
   ]
  },
  {
   "cell_type": "markdown",
   "id": "5702b835-eb21-4770-b052-3ffda3c03733",
   "metadata": {},
   "source": [
    "#### In a Markdown cell, document your observations from your results. (e.g., how good is the model overall? Is it particularly good/bad at predicting one class?)"
   ]
  },
  {
   "cell_type": "markdown",
   "id": "eded51fd-e75b-4f69-9727-c0f737258ff1",
   "metadata": {},
   "source": [
    "The model is about the same when it comes to predicting either class in the test data, hovering around .83/.84 f1-score with an accuracy of .84. It is possible it is overfitting as per the 1.0 scores on all metrics in the training data."
   ]
  },
  {
   "cell_type": "markdown",
   "id": "0356064b-dddf-4126-a7f1-c90112651843",
   "metadata": {},
   "source": [
    "### GridSearch Text Vectorization\n",
    "\n",
    "Attempt to improve your model by tuning the text preprocessing steps."
   ]
  },
  {
   "cell_type": "markdown",
   "id": "ac76ed3f-fe42-437e-8dff-a3434c2e274b",
   "metadata": {},
   "source": [
    "#### Construct a grid of parameters for the text vectorization step. Consider trying:\n",
    "\n",
    "CountVectorizer/TfidfVectorizer\n",
    "\n",
    "stopwords\n",
    "\n",
    "ngram_range\n",
    "\n",
    "min_df/max_df"
   ]
  },
  {
   "cell_type": "code",
   "execution_count": 45,
   "id": "0f6cb704-48c2-4733-8659-84c275156210",
   "metadata": {},
   "outputs": [],
   "source": [
    "# Define params to try\n",
    "param_grid_shared = {\n",
    "    \"vectorizer__max_df\": [0.7, 0.8],\n",
    "    \"vectorizer__max_features\": [None, 1000, 2000],\n",
    "    \"vectorizer__stop_words\": [None,'english'],\n",
    "    \"vectorizer__ngram_range\": [(1, 1), (1, 2)]\n",
    "    \n",
    "}"
   ]
  },
  {
   "cell_type": "markdown",
   "id": "65bfc29b-289e-4e43-839e-88121c8a46ba",
   "metadata": {},
   "source": [
    "#### Fit and evaluate the grid search results:\n",
    "\n",
    "What were the best parameters?\n",
    "How does the best estimator perform when evaluated on the training and test data?"
   ]
  },
  {
   "cell_type": "code",
   "execution_count": null,
   "id": "e16990a6-e5de-4865-9291-1c5eae969c72",
   "metadata": {},
   "outputs": [],
   "source": []
  }
 ],
 "metadata": {
  "kernelspec": {
   "display_name": "Python (dojo-env)",
   "language": "python",
   "name": "dojo-env"
  },
  "language_info": {
   "codemirror_mode": {
    "name": "ipython",
    "version": 3
   },
   "file_extension": ".py",
   "mimetype": "text/x-python",
   "name": "python",
   "nbconvert_exporter": "python",
   "pygments_lexer": "ipython3",
   "version": "3.10.10"
  },
  "widgets": {
   "application/vnd.jupyter.widget-state+json": {
    "state": {},
    "version_major": 2,
    "version_minor": 0
   }
  }
 },
 "nbformat": 4,
 "nbformat_minor": 5
}
