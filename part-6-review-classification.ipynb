{
 "cells": [
  {
   "cell_type": "markdown",
   "id": "be4bb060-d0f5-43e3-96d3-9467441f4353",
   "metadata": {},
   "source": [
    "# Project 2 Part 6: Review Classification"
   ]
  },
  {
   "cell_type": "markdown",
   "id": "62e1eb4a-f29a-435f-aa96-480cc196b802",
   "metadata": {},
   "source": [
    "### Load the Data\n",
    "\n",
    "Load the joblib containing the data frame from Part 5 of the project.\n",
    "\n",
    "Drop any reviews that do not have a rating.\n",
    "\n",
    "Use the original review column as your X and the classification target (High/Low Rating Reviews) as your y.\n",
    "\n",
    "### Build a Machine Learning Model\r\n",
    "\r\n",
    "Build a sklearn modeling pipeline with a text vectorizer and a classification model.\r\n",
    "\r\n",
    "Suggested Models: MultinomialNB, LogisticRegression (you may need to increase max_iter), RandomForestClassifier\r\n",
    "Fit and evaluate the model using the machine learning classification models from sklearn.\r\n",
    "\r\n",
    "In a Markdown cell, document your observations from your results. (e.g., how good is the model overall? Is it particularly good/bad at predicting one class?)"
   ]
  },
  {
   "cell_type": "markdown",
   "id": "02cfe2ec-a2f3-49f9-9258-020e245081cd",
   "metadata": {},
   "source": [
    "## Imports"
   ]
  },
  {
   "cell_type": "code",
   "execution_count": 82,
   "id": "94a970e2-5d97-43dc-980c-98e30d647be4",
   "metadata": {},
   "outputs": [],
   "source": [
    "# packages\n",
    "import pandas as pd\n",
    "import joblib\n",
    "from sklearn.pipeline import make_pipeline\n",
    "from sklearn.pipeline import Pipeline\n",
    "from sklearn.feature_extraction.text import CountVectorizer\n",
    "from sklearn.ensemble import RandomForestClassifier\n",
    "from sklearn.model_selection import train_test_split, GridSearchCV\n",
    "\n",
    "from sklearn.metrics import classification_report, ConfusionMatrixDisplay\n",
    "import matplotlib.pyplot as plt\n",
    "import numpy as np\n",
    "import tensorflow as tf\n",
    "from sklearn.preprocessing import LabelEncoder"
   ]
  },
  {
   "cell_type": "code",
   "execution_count": 43,
   "id": "8bcfb48f-3615-476d-9b4d-7ba46ae99f2f",
   "metadata": {},
   "outputs": [],
   "source": [
    "# functions\n",
    "\n",
    "\n",
    "def classification_metrics(y_true, y_pred, label='',\n",
    "                           output_dict=False, figsize=(8,4),\n",
    "                           normalize='true', cmap='Blues',\n",
    "                           colorbar=False,values_format=\".2f\"):\n",
    "    \"\"\"Modified version of classification metrics function from Intro to Machine Learning.\n",
    "    Updates:\n",
    "    - Reversed raw counts confusion matrix cmap  (so darker==more).\n",
    "    - Added arg for normalized confusion matrix values_format\n",
    "    \"\"\"\n",
    "    # Get the classification report\n",
    "    report = classification_report(y_true, y_pred)\n",
    "    \n",
    "    ## Print header and report\n",
    "    header = \"-\"*70\n",
    "    print(header, f\" Classification Metrics: {label}\", header, sep='\\n')\n",
    "    print(report)\n",
    "    \n",
    "    ## CONFUSION MATRICES SUBPLOTS\n",
    "    fig, axes = plt.subplots(ncols=2, figsize=figsize)\n",
    "    \n",
    "    # Create a confusion matrix  of raw counts (left subplot)\n",
    "    ConfusionMatrixDisplay.from_predictions(y_true, y_pred,\n",
    "                                            normalize=None, \n",
    "                                            cmap='gist_gray_r',# Updated cmap\n",
    "                                            values_format=\"d\", \n",
    "                                            colorbar=colorbar,\n",
    "                                            ax = axes[0]);\n",
    "    axes[0].set_title(\"Raw Counts\")\n",
    "    \n",
    "    # Create a confusion matrix with the data with normalize argument \n",
    "    ConfusionMatrixDisplay.from_predictions(y_true, y_pred,\n",
    "                                            normalize=normalize,\n",
    "                                            cmap=cmap, \n",
    "                                            values_format=values_format, #New arg\n",
    "                                            colorbar=colorbar,\n",
    "                                            ax = axes[1]);\n",
    "    axes[1].set_title(\"Normalized Confusion Matrix\")\n",
    "    \n",
    "    # Adjust layout and show figure\n",
    "    fig.tight_layout()\n",
    "    plt.show()\n",
    "    \n",
    "    # Return dictionary of classification_report\n",
    "    if output_dict==True:\n",
    "        report_dict = classification_report(y_true, y_pred, output_dict=True)\n",
    "        return report_dict\n",
    "def evaluate_classification(model, X_train, y_train, X_test, y_test,\n",
    "                         figsize=(6,4), normalize='true', output_dict = False,\n",
    "                            cmap_train='Blues', cmap_test=\"Reds\",colorbar=False):\n",
    "  # Get predictions for training data\n",
    "  y_train_pred = model.predict(X_train)\n",
    "  # Call the helper function to obtain regression metrics for training data\n",
    "  results_train = classification_metrics(y_train, y_train_pred, #verbose = verbose,\n",
    "                                     output_dict=True, figsize=figsize,\n",
    "                                         colorbar=colorbar, cmap=cmap_train,\n",
    "                                     label='Training Data')\n",
    "  print()\n",
    "  # Get predictions for test data\n",
    "  y_test_pred = model.predict(X_test)\n",
    "  # Call the helper function to obtain regression metrics for test data\n",
    "  results_test = classification_metrics(y_test, y_test_pred, #verbose = verbose,\n",
    "                                  output_dict=True,figsize=figsize,\n",
    "                                         colorbar=colorbar, cmap=cmap_test,\n",
    "                                    label='Test Data' )\n",
    "  if output_dict == True:\n",
    "    # Store results in a dataframe if ouput_frame is True\n",
    "    results_dict = {'train':results_train,\n",
    "                    'test': results_test}\n",
    "    return results_dict"
   ]
  },
  {
   "cell_type": "markdown",
   "id": "6b46274a-99d9-4cda-b0b7-8e80997e3613",
   "metadata": {},
   "source": [
    "#### Load Part 5 joblib"
   ]
  },
  {
   "cell_type": "code",
   "execution_count": 4,
   "id": "9f5fc250-1599-4257-a628-6c1bef692ca7",
   "metadata": {},
   "outputs": [],
   "source": [
    "# load joblib\n",
    "df = joblib.load('Data-NLP/df-proj-2-part-5.joblib')"
   ]
  },
  {
   "cell_type": "code",
   "execution_count": 5,
   "id": "33aef109-d748-4e21-a95f-27f68d29ac1b",
   "metadata": {},
   "outputs": [
    {
     "data": {
      "text/html": [
       "<div>\n",
       "<style scoped>\n",
       "    .dataframe tbody tr th:only-of-type {\n",
       "        vertical-align: middle;\n",
       "    }\n",
       "\n",
       "    .dataframe tbody tr th {\n",
       "        vertical-align: top;\n",
       "    }\n",
       "\n",
       "    .dataframe thead th {\n",
       "        text-align: right;\n",
       "    }\n",
       "</style>\n",
       "<table border=\"1\" class=\"dataframe\">\n",
       "  <thead>\n",
       "    <tr style=\"text-align: right;\">\n",
       "      <th></th>\n",
       "      <th>review_id</th>\n",
       "      <th>movie_id</th>\n",
       "      <th>imdb_id</th>\n",
       "      <th>original_title</th>\n",
       "      <th>review</th>\n",
       "      <th>rating</th>\n",
       "      <th>high_low</th>\n",
       "      <th>review_lowercase</th>\n",
       "      <th>tokens</th>\n",
       "      <th>spacy_lemmas</th>\n",
       "      <th>lemmas_joined</th>\n",
       "      <th>neg</th>\n",
       "      <th>neu</th>\n",
       "      <th>pos</th>\n",
       "      <th>compound</th>\n",
       "    </tr>\n",
       "  </thead>\n",
       "  <tbody>\n",
       "    <tr>\n",
       "      <th>0</th>\n",
       "      <td>64ecc16e83901800af821d50</td>\n",
       "      <td>843</td>\n",
       "      <td>tt0118694</td>\n",
       "      <td>花樣年華</td>\n",
       "      <td>This is a fine piece of cinema from Wong Kar-W...</td>\n",
       "      <td>7.0</td>\n",
       "      <td>med</td>\n",
       "      <td>this is a fine piece of cinema from wong kar-w...</td>\n",
       "      <td>[this, is, a, fine, piece, of, cinema, from, w...</td>\n",
       "      <td>[fine, piece, cinema, wong, kar, wai, tell, st...</td>\n",
       "      <td>fine piece cinema wong kar wai tell story peop...</td>\n",
       "      <td>0.068</td>\n",
       "      <td>0.744</td>\n",
       "      <td>0.188</td>\n",
       "      <td>0.9908</td>\n",
       "    </tr>\n",
       "    <tr>\n",
       "      <th>1</th>\n",
       "      <td>57086ff5c3a3681d29001512</td>\n",
       "      <td>7443</td>\n",
       "      <td>tt0120630</td>\n",
       "      <td>Chicken Run</td>\n",
       "      <td>A guilty pleasure for me personally, as I love...</td>\n",
       "      <td>9.0</td>\n",
       "      <td>high</td>\n",
       "      <td>a guilty pleasure for me personally, as i love...</td>\n",
       "      <td>[a, guilty, pleasure, for, me, personally,, as...</td>\n",
       "      <td>[guilty, pleasure, personally, love, great, es...</td>\n",
       "      <td>guilty pleasure personally love great escape w...</td>\n",
       "      <td>0.053</td>\n",
       "      <td>0.587</td>\n",
       "      <td>0.360</td>\n",
       "      <td>0.9450</td>\n",
       "    </tr>\n",
       "    <tr>\n",
       "      <th>2</th>\n",
       "      <td>5bb5ac829251410dcb00810c</td>\n",
       "      <td>7443</td>\n",
       "      <td>tt0120630</td>\n",
       "      <td>Chicken Run</td>\n",
       "      <td>Made my roommate who hates stop-motion animati...</td>\n",
       "      <td>6.0</td>\n",
       "      <td>med</td>\n",
       "      <td>made my roommate who hates stop-motion animati...</td>\n",
       "      <td>[made, my, roommate, who, hates, stop-motion, ...</td>\n",
       "      <td>[roommate, hate, stop, motion, animation, watc...</td>\n",
       "      <td>roommate hate stop motion animation watch 2018...</td>\n",
       "      <td>0.071</td>\n",
       "      <td>0.776</td>\n",
       "      <td>0.153</td>\n",
       "      <td>0.7006</td>\n",
       "    </tr>\n",
       "    <tr>\n",
       "      <th>3</th>\n",
       "      <td>5f0c53a013a32000357ec505</td>\n",
       "      <td>7443</td>\n",
       "      <td>tt0120630</td>\n",
       "      <td>Chicken Run</td>\n",
       "      <td>A very good stop-motion animation!\\r\\n\\r\\n&lt;em&gt;...</td>\n",
       "      <td>8.0</td>\n",
       "      <td>med</td>\n",
       "      <td>a very good stop-motion animation!\\r\\n\\r\\n&lt;em&gt;...</td>\n",
       "      <td>[a, very, good, stop-motion, animation!, &lt;em&gt;'...</td>\n",
       "      <td>[good, stop, motion, animation, &lt;, em&gt;'chicken...</td>\n",
       "      <td>good stop motion animation &lt; em&gt;'chicken run'&lt;...</td>\n",
       "      <td>0.039</td>\n",
       "      <td>0.637</td>\n",
       "      <td>0.325</td>\n",
       "      <td>0.9944</td>\n",
       "    </tr>\n",
       "    <tr>\n",
       "      <th>4</th>\n",
       "      <td>64ecc027594c9400ffe77c91</td>\n",
       "      <td>7443</td>\n",
       "      <td>tt0120630</td>\n",
       "      <td>Chicken Run</td>\n",
       "      <td>Ok, there is an huge temptation to riddle this...</td>\n",
       "      <td>7.0</td>\n",
       "      <td>med</td>\n",
       "      <td>ok, there is an huge temptation to riddle this...</td>\n",
       "      <td>[ok,, there, is, an, huge, temptation, to, rid...</td>\n",
       "      <td>[ok, huge, temptation, riddle, review, pun, go...</td>\n",
       "      <td>ok huge temptation riddle review pun go crack ...</td>\n",
       "      <td>0.056</td>\n",
       "      <td>0.699</td>\n",
       "      <td>0.245</td>\n",
       "      <td>0.9943</td>\n",
       "    </tr>\n",
       "  </tbody>\n",
       "</table>\n",
       "</div>"
      ],
      "text/plain": [
       "                  review_id  movie_id    imdb_id original_title  \\\n",
       "0  64ecc16e83901800af821d50       843  tt0118694           花樣年華   \n",
       "1  57086ff5c3a3681d29001512      7443  tt0120630    Chicken Run   \n",
       "2  5bb5ac829251410dcb00810c      7443  tt0120630    Chicken Run   \n",
       "3  5f0c53a013a32000357ec505      7443  tt0120630    Chicken Run   \n",
       "4  64ecc027594c9400ffe77c91      7443  tt0120630    Chicken Run   \n",
       "\n",
       "                                              review  rating high_low  \\\n",
       "0  This is a fine piece of cinema from Wong Kar-W...     7.0      med   \n",
       "1  A guilty pleasure for me personally, as I love...     9.0     high   \n",
       "2  Made my roommate who hates stop-motion animati...     6.0      med   \n",
       "3  A very good stop-motion animation!\\r\\n\\r\\n<em>...     8.0      med   \n",
       "4  Ok, there is an huge temptation to riddle this...     7.0      med   \n",
       "\n",
       "                                    review_lowercase  \\\n",
       "0  this is a fine piece of cinema from wong kar-w...   \n",
       "1  a guilty pleasure for me personally, as i love...   \n",
       "2  made my roommate who hates stop-motion animati...   \n",
       "3  a very good stop-motion animation!\\r\\n\\r\\n<em>...   \n",
       "4  ok, there is an huge temptation to riddle this...   \n",
       "\n",
       "                                              tokens  \\\n",
       "0  [this, is, a, fine, piece, of, cinema, from, w...   \n",
       "1  [a, guilty, pleasure, for, me, personally,, as...   \n",
       "2  [made, my, roommate, who, hates, stop-motion, ...   \n",
       "3  [a, very, good, stop-motion, animation!, <em>'...   \n",
       "4  [ok,, there, is, an, huge, temptation, to, rid...   \n",
       "\n",
       "                                        spacy_lemmas  \\\n",
       "0  [fine, piece, cinema, wong, kar, wai, tell, st...   \n",
       "1  [guilty, pleasure, personally, love, great, es...   \n",
       "2  [roommate, hate, stop, motion, animation, watc...   \n",
       "3  [good, stop, motion, animation, <, em>'chicken...   \n",
       "4  [ok, huge, temptation, riddle, review, pun, go...   \n",
       "\n",
       "                                       lemmas_joined    neg    neu    pos  \\\n",
       "0  fine piece cinema wong kar wai tell story peop...  0.068  0.744  0.188   \n",
       "1  guilty pleasure personally love great escape w...  0.053  0.587  0.360   \n",
       "2  roommate hate stop motion animation watch 2018...  0.071  0.776  0.153   \n",
       "3  good stop motion animation < em>'chicken run'<...  0.039  0.637  0.325   \n",
       "4  ok huge temptation riddle review pun go crack ...  0.056  0.699  0.245   \n",
       "\n",
       "   compound  \n",
       "0    0.9908  \n",
       "1    0.9450  \n",
       "2    0.7006  \n",
       "3    0.9944  \n",
       "4    0.9943  "
      ]
     },
     "execution_count": 5,
     "metadata": {},
     "output_type": "execute_result"
    }
   ],
   "source": [
    "# preview df\n",
    "df.head()"
   ]
  },
  {
   "cell_type": "markdown",
   "id": "24dee2b5-8fc4-4814-90c0-d48384e8b006",
   "metadata": {},
   "source": [
    "#### Drop any reviews that do not have a rating."
   ]
  },
  {
   "cell_type": "code",
   "execution_count": 17,
   "id": "868d19eb-a38a-43b1-a88e-3a41987044df",
   "metadata": {},
   "outputs": [],
   "source": [
    "# drop any rows with na in rating column\n",
    "df = df.dropna(subset=['rating'])"
   ]
  },
  {
   "cell_type": "code",
   "execution_count": 26,
   "id": "2883b70d-8a42-4dfd-8991-fad11c63208b",
   "metadata": {},
   "outputs": [],
   "source": [
    "# drop rows with 'med' rating\n",
    "df = df[df.high_low != 'med']"
   ]
  },
  {
   "cell_type": "code",
   "execution_count": 27,
   "id": "c5ae66ec-a65a-4d9e-ac7a-f60497fc336b",
   "metadata": {},
   "outputs": [
    {
     "name": "stdout",
     "output_type": "stream",
     "text": [
      "<class 'pandas.core.frame.DataFrame'>\n",
      "Int64Index: 2419 entries, 1 to 8647\n",
      "Data columns (total 15 columns):\n",
      " #   Column            Non-Null Count  Dtype  \n",
      "---  ------            --------------  -----  \n",
      " 0   review_id         2419 non-null   object \n",
      " 1   movie_id          2419 non-null   int64  \n",
      " 2   imdb_id           2419 non-null   object \n",
      " 3   original_title    2419 non-null   object \n",
      " 4   review            2419 non-null   object \n",
      " 5   rating            2419 non-null   float64\n",
      " 6   high_low          2419 non-null   object \n",
      " 7   review_lowercase  2419 non-null   object \n",
      " 8   tokens            2419 non-null   object \n",
      " 9   spacy_lemmas      2419 non-null   object \n",
      " 10  lemmas_joined     2419 non-null   object \n",
      " 11  neg               2419 non-null   float64\n",
      " 12  neu               2419 non-null   float64\n",
      " 13  pos               2419 non-null   float64\n",
      " 14  compound          2419 non-null   float64\n",
      "dtypes: float64(5), int64(1), object(9)\n",
      "memory usage: 302.4+ KB\n"
     ]
    }
   ],
   "source": [
    "# verify changes\n",
    "df.info()"
   ]
  },
  {
   "cell_type": "markdown",
   "id": "ef63f29f-b8f7-4a1a-804f-8d5bd0459fc9",
   "metadata": {},
   "source": [
    "#### Use the original review column as your X and the classification target (High/Low Rating Reviews) as your y."
   ]
  },
  {
   "cell_type": "code",
   "execution_count": 28,
   "id": "fdd208f3-2032-46db-a9aa-6629e7a62b00",
   "metadata": {},
   "outputs": [],
   "source": [
    "# assign X and y\n",
    "X = df['review']\n",
    "y = df['high_low']"
   ]
  },
  {
   "cell_type": "code",
   "execution_count": 37,
   "id": "ab62c789-abac-4252-ad0e-dce17035225c",
   "metadata": {},
   "outputs": [],
   "source": [
    "# train test split\n",
    "X_train, X_test, y_train, y_test = train_test_split(X,y,test_size=0.25,\n",
    "                                                    random_state=42)"
   ]
  },
  {
   "cell_type": "markdown",
   "id": "7a3dedcb-2c71-4c67-8ce6-9b75e03be8f7",
   "metadata": {},
   "source": [
    "## Build a Machine Learning Model"
   ]
  },
  {
   "cell_type": "markdown",
   "id": "1c0343cf-785f-437e-9088-963bf1094c53",
   "metadata": {},
   "source": [
    "### Build a sklearn modeling pipeline with a text vectorizer and a classification model.\n",
    "\n",
    "Suggested Models: MultinomialNB, LogisticRegression (you may need to increase max_iter), RandomForestClassifier"
   ]
  },
  {
   "cell_type": "code",
   "execution_count": 30,
   "id": "43eea999-5921-4d7c-bb3e-fb06d4a05dbc",
   "metadata": {},
   "outputs": [
    {
     "data": {
      "text/plain": [
       "low     0.505994\n",
       "high    0.494006\n",
       "Name: high_low, dtype: float64"
      ]
     },
     "execution_count": 30,
     "metadata": {},
     "output_type": "execute_result"
    }
   ],
   "source": [
    "# check class balance\n",
    "y.value_counts(normalize=True)"
   ]
  },
  {
   "cell_type": "code",
   "execution_count": 35,
   "id": "389eca68-30e6-4049-bd41-d6df1cae0811",
   "metadata": {},
   "outputs": [
    {
     "data": {
      "text/html": [
       "<style>#sk-container-id-1 {color: black;background-color: white;}#sk-container-id-1 pre{padding: 0;}#sk-container-id-1 div.sk-toggleable {background-color: white;}#sk-container-id-1 label.sk-toggleable__label {cursor: pointer;display: block;width: 100%;margin-bottom: 0;padding: 0.3em;box-sizing: border-box;text-align: center;}#sk-container-id-1 label.sk-toggleable__label-arrow:before {content: \"▸\";float: left;margin-right: 0.25em;color: #696969;}#sk-container-id-1 label.sk-toggleable__label-arrow:hover:before {color: black;}#sk-container-id-1 div.sk-estimator:hover label.sk-toggleable__label-arrow:before {color: black;}#sk-container-id-1 div.sk-toggleable__content {max-height: 0;max-width: 0;overflow: hidden;text-align: left;background-color: #f0f8ff;}#sk-container-id-1 div.sk-toggleable__content pre {margin: 0.2em;color: black;border-radius: 0.25em;background-color: #f0f8ff;}#sk-container-id-1 input.sk-toggleable__control:checked~div.sk-toggleable__content {max-height: 200px;max-width: 100%;overflow: auto;}#sk-container-id-1 input.sk-toggleable__control:checked~label.sk-toggleable__label-arrow:before {content: \"▾\";}#sk-container-id-1 div.sk-estimator input.sk-toggleable__control:checked~label.sk-toggleable__label {background-color: #d4ebff;}#sk-container-id-1 div.sk-label input.sk-toggleable__control:checked~label.sk-toggleable__label {background-color: #d4ebff;}#sk-container-id-1 input.sk-hidden--visually {border: 0;clip: rect(1px 1px 1px 1px);clip: rect(1px, 1px, 1px, 1px);height: 1px;margin: -1px;overflow: hidden;padding: 0;position: absolute;width: 1px;}#sk-container-id-1 div.sk-estimator {font-family: monospace;background-color: #f0f8ff;border: 1px dotted black;border-radius: 0.25em;box-sizing: border-box;margin-bottom: 0.5em;}#sk-container-id-1 div.sk-estimator:hover {background-color: #d4ebff;}#sk-container-id-1 div.sk-parallel-item::after {content: \"\";width: 100%;border-bottom: 1px solid gray;flex-grow: 1;}#sk-container-id-1 div.sk-label:hover label.sk-toggleable__label {background-color: #d4ebff;}#sk-container-id-1 div.sk-serial::before {content: \"\";position: absolute;border-left: 1px solid gray;box-sizing: border-box;top: 0;bottom: 0;left: 50%;z-index: 0;}#sk-container-id-1 div.sk-serial {display: flex;flex-direction: column;align-items: center;background-color: white;padding-right: 0.2em;padding-left: 0.2em;position: relative;}#sk-container-id-1 div.sk-item {position: relative;z-index: 1;}#sk-container-id-1 div.sk-parallel {display: flex;align-items: stretch;justify-content: center;background-color: white;position: relative;}#sk-container-id-1 div.sk-item::before, #sk-container-id-1 div.sk-parallel-item::before {content: \"\";position: absolute;border-left: 1px solid gray;box-sizing: border-box;top: 0;bottom: 0;left: 50%;z-index: -1;}#sk-container-id-1 div.sk-parallel-item {display: flex;flex-direction: column;z-index: 1;position: relative;background-color: white;}#sk-container-id-1 div.sk-parallel-item:first-child::after {align-self: flex-end;width: 50%;}#sk-container-id-1 div.sk-parallel-item:last-child::after {align-self: flex-start;width: 50%;}#sk-container-id-1 div.sk-parallel-item:only-child::after {width: 0;}#sk-container-id-1 div.sk-dashed-wrapped {border: 1px dashed gray;margin: 0 0.4em 0.5em 0.4em;box-sizing: border-box;padding-bottom: 0.4em;background-color: white;}#sk-container-id-1 div.sk-label label {font-family: monospace;font-weight: bold;display: inline-block;line-height: 1.2em;}#sk-container-id-1 div.sk-label-container {text-align: center;}#sk-container-id-1 div.sk-container {/* jupyter's `normalize.less` sets `[hidden] { display: none; }` but bootstrap.min.css set `[hidden] { display: none !important; }` so we also need the `!important` here to be able to override the default hidden behavior on the sphinx rendered scikit-learn.org. See: https://github.com/scikit-learn/scikit-learn/issues/21755 */display: inline-block !important;position: relative;}#sk-container-id-1 div.sk-text-repr-fallback {display: none;}</style><div id=\"sk-container-id-1\" class=\"sk-top-container\"><div class=\"sk-text-repr-fallback\"><pre>Pipeline(steps=[(&#x27;vectorizer&#x27;, CountVectorizer(stop_words=&#x27;english&#x27;)),\n",
       "                (&#x27;clf&#x27;, RandomForestClassifier(random_state=42))])</pre><b>In a Jupyter environment, please rerun this cell to show the HTML representation or trust the notebook. <br />On GitHub, the HTML representation is unable to render, please try loading this page with nbviewer.org.</b></div><div class=\"sk-container\" hidden><div class=\"sk-item sk-dashed-wrapped\"><div class=\"sk-label-container\"><div class=\"sk-label sk-toggleable\"><input class=\"sk-toggleable__control sk-hidden--visually\" id=\"sk-estimator-id-1\" type=\"checkbox\" ><label for=\"sk-estimator-id-1\" class=\"sk-toggleable__label sk-toggleable__label-arrow\">Pipeline</label><div class=\"sk-toggleable__content\"><pre>Pipeline(steps=[(&#x27;vectorizer&#x27;, CountVectorizer(stop_words=&#x27;english&#x27;)),\n",
       "                (&#x27;clf&#x27;, RandomForestClassifier(random_state=42))])</pre></div></div></div><div class=\"sk-serial\"><div class=\"sk-item\"><div class=\"sk-estimator sk-toggleable\"><input class=\"sk-toggleable__control sk-hidden--visually\" id=\"sk-estimator-id-2\" type=\"checkbox\" ><label for=\"sk-estimator-id-2\" class=\"sk-toggleable__label sk-toggleable__label-arrow\">CountVectorizer</label><div class=\"sk-toggleable__content\"><pre>CountVectorizer(stop_words=&#x27;english&#x27;)</pre></div></div></div><div class=\"sk-item\"><div class=\"sk-estimator sk-toggleable\"><input class=\"sk-toggleable__control sk-hidden--visually\" id=\"sk-estimator-id-3\" type=\"checkbox\" ><label for=\"sk-estimator-id-3\" class=\"sk-toggleable__label sk-toggleable__label-arrow\">RandomForestClassifier</label><div class=\"sk-toggleable__content\"><pre>RandomForestClassifier(random_state=42)</pre></div></div></div></div></div></div></div>"
      ],
      "text/plain": [
       "Pipeline(steps=[('vectorizer', CountVectorizer(stop_words='english')),\n",
       "                ('clf', RandomForestClassifier(random_state=42))])"
      ]
     },
     "execution_count": 35,
     "metadata": {},
     "output_type": "execute_result"
    }
   ],
   "source": [
    "## Create a pipeline with a vectorizer and classification model.\n",
    "clf_pipe = Pipeline([('vectorizer', CountVectorizer(stop_words='english')),\n",
    "                     ('clf',RandomForestClassifier(random_state=42))])\n",
    "clf_pipe"
   ]
  },
  {
   "cell_type": "markdown",
   "id": "a2b7d14b-135b-433e-befc-1030033ce5c4",
   "metadata": {},
   "source": [
    "### Fit and evaluate the model using the machine learning classification models from sklearn."
   ]
  },
  {
   "cell_type": "code",
   "execution_count": 38,
   "id": "4dddbc71-7135-4fb3-950e-645102addb1a",
   "metadata": {},
   "outputs": [
    {
     "data": {
      "text/html": [
       "<style>#sk-container-id-2 {color: black;background-color: white;}#sk-container-id-2 pre{padding: 0;}#sk-container-id-2 div.sk-toggleable {background-color: white;}#sk-container-id-2 label.sk-toggleable__label {cursor: pointer;display: block;width: 100%;margin-bottom: 0;padding: 0.3em;box-sizing: border-box;text-align: center;}#sk-container-id-2 label.sk-toggleable__label-arrow:before {content: \"▸\";float: left;margin-right: 0.25em;color: #696969;}#sk-container-id-2 label.sk-toggleable__label-arrow:hover:before {color: black;}#sk-container-id-2 div.sk-estimator:hover label.sk-toggleable__label-arrow:before {color: black;}#sk-container-id-2 div.sk-toggleable__content {max-height: 0;max-width: 0;overflow: hidden;text-align: left;background-color: #f0f8ff;}#sk-container-id-2 div.sk-toggleable__content pre {margin: 0.2em;color: black;border-radius: 0.25em;background-color: #f0f8ff;}#sk-container-id-2 input.sk-toggleable__control:checked~div.sk-toggleable__content {max-height: 200px;max-width: 100%;overflow: auto;}#sk-container-id-2 input.sk-toggleable__control:checked~label.sk-toggleable__label-arrow:before {content: \"▾\";}#sk-container-id-2 div.sk-estimator input.sk-toggleable__control:checked~label.sk-toggleable__label {background-color: #d4ebff;}#sk-container-id-2 div.sk-label input.sk-toggleable__control:checked~label.sk-toggleable__label {background-color: #d4ebff;}#sk-container-id-2 input.sk-hidden--visually {border: 0;clip: rect(1px 1px 1px 1px);clip: rect(1px, 1px, 1px, 1px);height: 1px;margin: -1px;overflow: hidden;padding: 0;position: absolute;width: 1px;}#sk-container-id-2 div.sk-estimator {font-family: monospace;background-color: #f0f8ff;border: 1px dotted black;border-radius: 0.25em;box-sizing: border-box;margin-bottom: 0.5em;}#sk-container-id-2 div.sk-estimator:hover {background-color: #d4ebff;}#sk-container-id-2 div.sk-parallel-item::after {content: \"\";width: 100%;border-bottom: 1px solid gray;flex-grow: 1;}#sk-container-id-2 div.sk-label:hover label.sk-toggleable__label {background-color: #d4ebff;}#sk-container-id-2 div.sk-serial::before {content: \"\";position: absolute;border-left: 1px solid gray;box-sizing: border-box;top: 0;bottom: 0;left: 50%;z-index: 0;}#sk-container-id-2 div.sk-serial {display: flex;flex-direction: column;align-items: center;background-color: white;padding-right: 0.2em;padding-left: 0.2em;position: relative;}#sk-container-id-2 div.sk-item {position: relative;z-index: 1;}#sk-container-id-2 div.sk-parallel {display: flex;align-items: stretch;justify-content: center;background-color: white;position: relative;}#sk-container-id-2 div.sk-item::before, #sk-container-id-2 div.sk-parallel-item::before {content: \"\";position: absolute;border-left: 1px solid gray;box-sizing: border-box;top: 0;bottom: 0;left: 50%;z-index: -1;}#sk-container-id-2 div.sk-parallel-item {display: flex;flex-direction: column;z-index: 1;position: relative;background-color: white;}#sk-container-id-2 div.sk-parallel-item:first-child::after {align-self: flex-end;width: 50%;}#sk-container-id-2 div.sk-parallel-item:last-child::after {align-self: flex-start;width: 50%;}#sk-container-id-2 div.sk-parallel-item:only-child::after {width: 0;}#sk-container-id-2 div.sk-dashed-wrapped {border: 1px dashed gray;margin: 0 0.4em 0.5em 0.4em;box-sizing: border-box;padding-bottom: 0.4em;background-color: white;}#sk-container-id-2 div.sk-label label {font-family: monospace;font-weight: bold;display: inline-block;line-height: 1.2em;}#sk-container-id-2 div.sk-label-container {text-align: center;}#sk-container-id-2 div.sk-container {/* jupyter's `normalize.less` sets `[hidden] { display: none; }` but bootstrap.min.css set `[hidden] { display: none !important; }` so we also need the `!important` here to be able to override the default hidden behavior on the sphinx rendered scikit-learn.org. See: https://github.com/scikit-learn/scikit-learn/issues/21755 */display: inline-block !important;position: relative;}#sk-container-id-2 div.sk-text-repr-fallback {display: none;}</style><div id=\"sk-container-id-2\" class=\"sk-top-container\"><div class=\"sk-text-repr-fallback\"><pre>Pipeline(steps=[(&#x27;vectorizer&#x27;, CountVectorizer(stop_words=&#x27;english&#x27;)),\n",
       "                (&#x27;clf&#x27;, RandomForestClassifier(random_state=42))])</pre><b>In a Jupyter environment, please rerun this cell to show the HTML representation or trust the notebook. <br />On GitHub, the HTML representation is unable to render, please try loading this page with nbviewer.org.</b></div><div class=\"sk-container\" hidden><div class=\"sk-item sk-dashed-wrapped\"><div class=\"sk-label-container\"><div class=\"sk-label sk-toggleable\"><input class=\"sk-toggleable__control sk-hidden--visually\" id=\"sk-estimator-id-4\" type=\"checkbox\" ><label for=\"sk-estimator-id-4\" class=\"sk-toggleable__label sk-toggleable__label-arrow\">Pipeline</label><div class=\"sk-toggleable__content\"><pre>Pipeline(steps=[(&#x27;vectorizer&#x27;, CountVectorizer(stop_words=&#x27;english&#x27;)),\n",
       "                (&#x27;clf&#x27;, RandomForestClassifier(random_state=42))])</pre></div></div></div><div class=\"sk-serial\"><div class=\"sk-item\"><div class=\"sk-estimator sk-toggleable\"><input class=\"sk-toggleable__control sk-hidden--visually\" id=\"sk-estimator-id-5\" type=\"checkbox\" ><label for=\"sk-estimator-id-5\" class=\"sk-toggleable__label sk-toggleable__label-arrow\">CountVectorizer</label><div class=\"sk-toggleable__content\"><pre>CountVectorizer(stop_words=&#x27;english&#x27;)</pre></div></div></div><div class=\"sk-item\"><div class=\"sk-estimator sk-toggleable\"><input class=\"sk-toggleable__control sk-hidden--visually\" id=\"sk-estimator-id-6\" type=\"checkbox\" ><label for=\"sk-estimator-id-6\" class=\"sk-toggleable__label sk-toggleable__label-arrow\">RandomForestClassifier</label><div class=\"sk-toggleable__content\"><pre>RandomForestClassifier(random_state=42)</pre></div></div></div></div></div></div></div>"
      ],
      "text/plain": [
       "Pipeline(steps=[('vectorizer', CountVectorizer(stop_words='english')),\n",
       "                ('clf', RandomForestClassifier(random_state=42))])"
      ]
     },
     "execution_count": 38,
     "metadata": {},
     "output_type": "execute_result"
    }
   ],
   "source": [
    "# fit model pipeline\n",
    "clf_pipe.fit(X_train, y_train)"
   ]
  },
  {
   "cell_type": "code",
   "execution_count": 44,
   "id": "f2313d2b-d6d5-438e-8b65-41807db3c8ec",
   "metadata": {},
   "outputs": [
    {
     "name": "stdout",
     "output_type": "stream",
     "text": [
      "----------------------------------------------------------------------\n",
      " Classification Metrics: Training Data\n",
      "----------------------------------------------------------------------\n",
      "              precision    recall  f1-score   support\n",
      "\n",
      "        high       1.00      1.00      1.00       888\n",
      "         low       1.00      1.00      1.00       926\n",
      "\n",
      "    accuracy                           1.00      1814\n",
      "   macro avg       1.00      1.00      1.00      1814\n",
      "weighted avg       1.00      1.00      1.00      1814\n",
      "\n"
     ]
    },
    {
     "data": {
      "image/png": "[encoded data removed]",
      "text/plain": [
       "<Figure size 600x400 with 2 Axes>"
      ]
     },
     "metadata": {},
     "output_type": "display_data"
    },
    {
     "name": "stdout",
     "output_type": "stream",
     "text": [
      "\n",
      "----------------------------------------------------------------------\n",
      " Classification Metrics: Test Data\n",
      "----------------------------------------------------------------------\n",
      "              precision    recall  f1-score   support\n",
      "\n",
      "        high       0.83      0.85      0.84       307\n",
      "         low       0.84      0.82      0.83       298\n",
      "\n",
      "    accuracy                           0.84       605\n",
      "   macro avg       0.84      0.84      0.84       605\n",
      "weighted avg       0.84      0.84      0.84       605\n",
      "\n"
     ]
    },
    {
     "data": {
      "image/png": "[encoded data removed]",
      "text/plain": [
       "<Figure size 600x400 with 2 Axes>"
      ]
     },
     "metadata": {},
     "output_type": "display_data"
    }
   ],
   "source": [
    "# evaluate model\n",
    "evaluate_classification(clf_pipe, X_train,y_train, X_test, y_test)"
   ]
  },
  {
   "cell_type": "markdown",
   "id": "5702b835-eb21-4770-b052-3ffda3c03733",
   "metadata": {},
   "source": [
    "#### In a Markdown cell, document your observations from your results. (e.g., how good is the model overall? Is it particularly good/bad at predicting one class?)"
   ]
  },
  {
   "cell_type": "markdown",
   "id": "eded51fd-e75b-4f69-9727-c0f737258ff1",
   "metadata": {},
   "source": [
    "The model is about the same when it comes to predicting either class in the test data, hovering around .83/.84 f1-score with an accuracy of .84. It is possible it is overfitting as per the 1.0 scores on all metrics in the training data."
   ]
  },
  {
   "cell_type": "markdown",
   "id": "0356064b-dddf-4126-a7f1-c90112651843",
   "metadata": {},
   "source": [
    "### GridSearch Text Vectorization\n",
    "\n",
    "Attempt to improve your model by tuning the text preprocessing steps."
   ]
  },
  {
   "cell_type": "markdown",
   "id": "ac76ed3f-fe42-437e-8dff-a3434c2e274b",
   "metadata": {},
   "source": [
    "#### Construct a grid of parameters for the text vectorization step. Consider trying:\n",
    "\n",
    "CountVectorizer/TfidfVectorizer\n",
    "\n",
    "stopwords\n",
    "\n",
    "ngram_range\n",
    "\n",
    "min_df/max_df"
   ]
  },
  {
   "cell_type": "code",
   "execution_count": 67,
   "id": "0f6cb704-48c2-4733-8659-84c275156210",
   "metadata": {},
   "outputs": [],
   "source": [
    "# Define params to try\n",
    "param_grid_shared = {\n",
    "    \"vectorizer__max_df\": [0.7, 0.8, 0.9],\n",
    "    \"vectorizer__min_df\": [2,3,4],\n",
    "    \"vectorizer__max_features\": [None, 1000, 2000],\n",
    "    \"vectorizer__stop_words\": [None,'english'],\n",
    "    \"vectorizer__ngram_range\": [(1, 1), (1, 2), (1,3)]\n",
    "}"
   ]
  },
  {
   "cell_type": "code",
   "execution_count": 68,
   "id": "35480606-0984-4891-8b97-f006ce917058",
   "metadata": {},
   "outputs": [],
   "source": [
    "# Setting params for the count vectorizer\n",
    "param_grid_count = {\n",
    "    'vectorizer':[CountVectorizer()],\n",
    "    **param_grid_shared\n",
    "}"
   ]
  },
  {
   "cell_type": "code",
   "execution_count": 69,
   "id": "96d1d3a1-e616-4d64-81c4-9678eeeb6930",
   "metadata": {},
   "outputs": [],
   "source": [
    "# Set up Pipeline to allow GridSearching\n",
    "vect_pipe = Pipeline([('vectorizer', CountVectorizer()),\n",
    "                     ('clf',RandomForestClassifier(random_state=42))])"
   ]
  },
  {
   "cell_type": "markdown",
   "id": "65bfc29b-289e-4e43-839e-88121c8a46ba",
   "metadata": {},
   "source": [
    "#### Fit and evaluate the grid search results:\n",
    "\n",
    "What were the best parameters?\n",
    "How does the best estimator perform when evaluated on the training and test data?"
   ]
  },
  {
   "cell_type": "code",
   "execution_count": 70,
   "id": "e16990a6-e5de-4865-9291-1c5eae969c72",
   "metadata": {},
   "outputs": [
    {
     "name": "stdout",
     "output_type": "stream",
     "text": [
      "CPU times: total: 15.6 ms\n",
      "Wall time: 476 µs\n"
     ]
    }
   ],
   "source": [
    "%%time\n",
    "# Create grid search\n",
    "grid_search = GridSearchCV(vect_pipe, param_grid_shared, cv=2, scoring = 'accuracy', verbose=1, n_jobs=-1)"
   ]
  },
  {
   "cell_type": "code",
   "execution_count": 71,
   "id": "6968d29f-7e28-439e-bae1-18a2e524871a",
   "metadata": {},
   "outputs": [
    {
     "name": "stdout",
     "output_type": "stream",
     "text": [
      "Fitting 2 folds for each of 162 candidates, totalling 324 fits\n",
      "CPU times: total: 10 s\n",
      "Wall time: 4min 48s\n"
     ]
    },
    {
     "data": {
      "text/html": [
       "<style>#sk-container-id-5 {color: black;background-color: white;}#sk-container-id-5 pre{padding: 0;}#sk-container-id-5 div.sk-toggleable {background-color: white;}#sk-container-id-5 label.sk-toggleable__label {cursor: pointer;display: block;width: 100%;margin-bottom: 0;padding: 0.3em;box-sizing: border-box;text-align: center;}#sk-container-id-5 label.sk-toggleable__label-arrow:before {content: \"▸\";float: left;margin-right: 0.25em;color: #696969;}#sk-container-id-5 label.sk-toggleable__label-arrow:hover:before {color: black;}#sk-container-id-5 div.sk-estimator:hover label.sk-toggleable__label-arrow:before {color: black;}#sk-container-id-5 div.sk-toggleable__content {max-height: 0;max-width: 0;overflow: hidden;text-align: left;background-color: #f0f8ff;}#sk-container-id-5 div.sk-toggleable__content pre {margin: 0.2em;color: black;border-radius: 0.25em;background-color: #f0f8ff;}#sk-container-id-5 input.sk-toggleable__control:checked~div.sk-toggleable__content {max-height: 200px;max-width: 100%;overflow: auto;}#sk-container-id-5 input.sk-toggleable__control:checked~label.sk-toggleable__label-arrow:before {content: \"▾\";}#sk-container-id-5 div.sk-estimator input.sk-toggleable__control:checked~label.sk-toggleable__label {background-color: #d4ebff;}#sk-container-id-5 div.sk-label input.sk-toggleable__control:checked~label.sk-toggleable__label {background-color: #d4ebff;}#sk-container-id-5 input.sk-hidden--visually {border: 0;clip: rect(1px 1px 1px 1px);clip: rect(1px, 1px, 1px, 1px);height: 1px;margin: -1px;overflow: hidden;padding: 0;position: absolute;width: 1px;}#sk-container-id-5 div.sk-estimator {font-family: monospace;background-color: #f0f8ff;border: 1px dotted black;border-radius: 0.25em;box-sizing: border-box;margin-bottom: 0.5em;}#sk-container-id-5 div.sk-estimator:hover {background-color: #d4ebff;}#sk-container-id-5 div.sk-parallel-item::after {content: \"\";width: 100%;border-bottom: 1px solid gray;flex-grow: 1;}#sk-container-id-5 div.sk-label:hover label.sk-toggleable__label {background-color: #d4ebff;}#sk-container-id-5 div.sk-serial::before {content: \"\";position: absolute;border-left: 1px solid gray;box-sizing: border-box;top: 0;bottom: 0;left: 50%;z-index: 0;}#sk-container-id-5 div.sk-serial {display: flex;flex-direction: column;align-items: center;background-color: white;padding-right: 0.2em;padding-left: 0.2em;position: relative;}#sk-container-id-5 div.sk-item {position: relative;z-index: 1;}#sk-container-id-5 div.sk-parallel {display: flex;align-items: stretch;justify-content: center;background-color: white;position: relative;}#sk-container-id-5 div.sk-item::before, #sk-container-id-5 div.sk-parallel-item::before {content: \"\";position: absolute;border-left: 1px solid gray;box-sizing: border-box;top: 0;bottom: 0;left: 50%;z-index: -1;}#sk-container-id-5 div.sk-parallel-item {display: flex;flex-direction: column;z-index: 1;position: relative;background-color: white;}#sk-container-id-5 div.sk-parallel-item:first-child::after {align-self: flex-end;width: 50%;}#sk-container-id-5 div.sk-parallel-item:last-child::after {align-self: flex-start;width: 50%;}#sk-container-id-5 div.sk-parallel-item:only-child::after {width: 0;}#sk-container-id-5 div.sk-dashed-wrapped {border: 1px dashed gray;margin: 0 0.4em 0.5em 0.4em;box-sizing: border-box;padding-bottom: 0.4em;background-color: white;}#sk-container-id-5 div.sk-label label {font-family: monospace;font-weight: bold;display: inline-block;line-height: 1.2em;}#sk-container-id-5 div.sk-label-container {text-align: center;}#sk-container-id-5 div.sk-container {/* jupyter's `normalize.less` sets `[hidden] { display: none; }` but bootstrap.min.css set `[hidden] { display: none !important; }` so we also need the `!important` here to be able to override the default hidden behavior on the sphinx rendered scikit-learn.org. See: https://github.com/scikit-learn/scikit-learn/issues/21755 */display: inline-block !important;position: relative;}#sk-container-id-5 div.sk-text-repr-fallback {display: none;}</style><div id=\"sk-container-id-5\" class=\"sk-top-container\"><div class=\"sk-text-repr-fallback\"><pre>GridSearchCV(cv=2,\n",
       "             estimator=Pipeline(steps=[(&#x27;vectorizer&#x27;, CountVectorizer()),\n",
       "                                       (&#x27;clf&#x27;,\n",
       "                                        RandomForestClassifier(random_state=42))]),\n",
       "             n_jobs=-1,\n",
       "             param_grid={&#x27;vectorizer__max_df&#x27;: [0.7, 0.8, 0.9],\n",
       "                         &#x27;vectorizer__max_features&#x27;: [None, 1000, 2000],\n",
       "                         &#x27;vectorizer__min_df&#x27;: [2, 3, 4],\n",
       "                         &#x27;vectorizer__ngram_range&#x27;: [(1, 1), (1, 2), (1, 3)],\n",
       "                         &#x27;vectorizer__stop_words&#x27;: [None, &#x27;english&#x27;]},\n",
       "             scoring=&#x27;accuracy&#x27;, verbose=1)</pre><b>In a Jupyter environment, please rerun this cell to show the HTML representation or trust the notebook. <br />On GitHub, the HTML representation is unable to render, please try loading this page with nbviewer.org.</b></div><div class=\"sk-container\" hidden><div class=\"sk-item sk-dashed-wrapped\"><div class=\"sk-label-container\"><div class=\"sk-label sk-toggleable\"><input class=\"sk-toggleable__control sk-hidden--visually\" id=\"sk-estimator-id-15\" type=\"checkbox\" ><label for=\"sk-estimator-id-15\" class=\"sk-toggleable__label sk-toggleable__label-arrow\">GridSearchCV</label><div class=\"sk-toggleable__content\"><pre>GridSearchCV(cv=2,\n",
       "             estimator=Pipeline(steps=[(&#x27;vectorizer&#x27;, CountVectorizer()),\n",
       "                                       (&#x27;clf&#x27;,\n",
       "                                        RandomForestClassifier(random_state=42))]),\n",
       "             n_jobs=-1,\n",
       "             param_grid={&#x27;vectorizer__max_df&#x27;: [0.7, 0.8, 0.9],\n",
       "                         &#x27;vectorizer__max_features&#x27;: [None, 1000, 2000],\n",
       "                         &#x27;vectorizer__min_df&#x27;: [2, 3, 4],\n",
       "                         &#x27;vectorizer__ngram_range&#x27;: [(1, 1), (1, 2), (1, 3)],\n",
       "                         &#x27;vectorizer__stop_words&#x27;: [None, &#x27;english&#x27;]},\n",
       "             scoring=&#x27;accuracy&#x27;, verbose=1)</pre></div></div></div><div class=\"sk-parallel\"><div class=\"sk-parallel-item\"><div class=\"sk-item\"><div class=\"sk-label-container\"><div class=\"sk-label sk-toggleable\"><input class=\"sk-toggleable__control sk-hidden--visually\" id=\"sk-estimator-id-16\" type=\"checkbox\" ><label for=\"sk-estimator-id-16\" class=\"sk-toggleable__label sk-toggleable__label-arrow\">estimator: Pipeline</label><div class=\"sk-toggleable__content\"><pre>Pipeline(steps=[(&#x27;vectorizer&#x27;, CountVectorizer()),\n",
       "                (&#x27;clf&#x27;, RandomForestClassifier(random_state=42))])</pre></div></div></div><div class=\"sk-serial\"><div class=\"sk-item\"><div class=\"sk-serial\"><div class=\"sk-item\"><div class=\"sk-estimator sk-toggleable\"><input class=\"sk-toggleable__control sk-hidden--visually\" id=\"sk-estimator-id-17\" type=\"checkbox\" ><label for=\"sk-estimator-id-17\" class=\"sk-toggleable__label sk-toggleable__label-arrow\">CountVectorizer</label><div class=\"sk-toggleable__content\"><pre>CountVectorizer()</pre></div></div></div><div class=\"sk-item\"><div class=\"sk-estimator sk-toggleable\"><input class=\"sk-toggleable__control sk-hidden--visually\" id=\"sk-estimator-id-18\" type=\"checkbox\" ><label for=\"sk-estimator-id-18\" class=\"sk-toggleable__label sk-toggleable__label-arrow\">RandomForestClassifier</label><div class=\"sk-toggleable__content\"><pre>RandomForestClassifier(random_state=42)</pre></div></div></div></div></div></div></div></div></div></div></div></div>"
      ],
      "text/plain": [
       "GridSearchCV(cv=2,\n",
       "             estimator=Pipeline(steps=[('vectorizer', CountVectorizer()),\n",
       "                                       ('clf',\n",
       "                                        RandomForestClassifier(random_state=42))]),\n",
       "             n_jobs=-1,\n",
       "             param_grid={'vectorizer__max_df': [0.7, 0.8, 0.9],\n",
       "                         'vectorizer__max_features': [None, 1000, 2000],\n",
       "                         'vectorizer__min_df': [2, 3, 4],\n",
       "                         'vectorizer__ngram_range': [(1, 1), (1, 2), (1, 3)],\n",
       "                         'vectorizer__stop_words': [None, 'english']},\n",
       "             scoring='accuracy', verbose=1)"
      ]
     },
     "execution_count": 71,
     "metadata": {},
     "output_type": "execute_result"
    }
   ],
   "source": [
    "%%time\n",
    "# Fit the model\n",
    "grid_search.fit(X_train, y_train)"
   ]
  },
  {
   "cell_type": "code",
   "execution_count": 75,
   "id": "3ffdcb88-bd28-4812-a9e5-d892244bce1a",
   "metadata": {},
   "outputs": [
    {
     "data": {
      "text/plain": [
       "{'vectorizer__max_df': 0.7,\n",
       " 'vectorizer__max_features': 1000,\n",
       " 'vectorizer__min_df': 4,\n",
       " 'vectorizer__ngram_range': (1, 1),\n",
       " 'vectorizer__stop_words': 'english'}"
      ]
     },
     "execution_count": 75,
     "metadata": {},
     "output_type": "execute_result"
    }
   ],
   "source": [
    "# what were the best params?\n",
    "grid_search.best_params_"
   ]
  },
  {
   "cell_type": "code",
   "execution_count": 73,
   "id": "bcc05467-8d16-4dc4-8747-e3c315b71a83",
   "metadata": {},
   "outputs": [
    {
     "name": "stdout",
     "output_type": "stream",
     "text": [
      "----------------------------------------------------------------------\n",
      " Classification Metrics: Training Data\n",
      "----------------------------------------------------------------------\n",
      "              precision    recall  f1-score   support\n",
      "\n",
      "        high       1.00      1.00      1.00       888\n",
      "         low       1.00      1.00      1.00       926\n",
      "\n",
      "    accuracy                           1.00      1814\n",
      "   macro avg       1.00      1.00      1.00      1814\n",
      "weighted avg       1.00      1.00      1.00      1814\n",
      "\n"
     ]
    },
    {
     "data": {
      "image/png": "[encoded data removed]",
      "text/plain": [
       "<Figure size 600x400 with 2 Axes>"
      ]
     },
     "metadata": {},
     "output_type": "display_data"
    },
    {
     "name": "stdout",
     "output_type": "stream",
     "text": [
      "\n",
      "----------------------------------------------------------------------\n",
      " Classification Metrics: Test Data\n",
      "----------------------------------------------------------------------\n",
      "              precision    recall  f1-score   support\n",
      "\n",
      "        high       0.83      0.83      0.83       307\n",
      "         low       0.82      0.82      0.82       298\n",
      "\n",
      "    accuracy                           0.83       605\n",
      "   macro avg       0.83      0.83      0.83       605\n",
      "weighted avg       0.83      0.83      0.83       605\n",
      "\n"
     ]
    },
    {
     "data": {
      "image/png": "[encoded data removed]",
      "text/plain": [
       "<Figure size 600x400 with 2 Axes>"
      ]
     },
     "metadata": {},
     "output_type": "display_data"
    }
   ],
   "source": [
    "best_model = grid_search.best_estimator_\n",
    "\n",
    "evaluate_classification(best_model,X_train,y_train,X_test,y_test)"
   ]
  },
  {
   "cell_type": "markdown",
   "id": "db980e71-5a2f-4e90-a3c9-2e530d05a497",
   "metadata": {},
   "source": [
    "###### How does the best estimator perform when evaluated on the training and test data?\n",
    "\n",
    "The best estimator actually resulted in slightly lower scores"
   ]
  },
  {
   "cell_type": "markdown",
   "id": "763d24c5-69f7-41b7-97d1-c11d28201e72",
   "metadata": {},
   "source": [
    "### Deep NLP (RNNs) (Use core-text-classification-rnn.ipynb and/or mock-exam part 1 to answer both below. )\n",
    "\n",
    "For this part of the project, you will use a Keras TextVectorization layer as part of your RNN model. This serves the same purpose as using the sklearn pipeline: it bundles text preparation into the model, making it deployment-ready."
   ]
  },
  {
   "cell_type": "markdown",
   "id": "55c67048-1c1d-4354-bcca-9629b7ba5a12",
   "metadata": {},
   "source": [
    "#### Create train/test/val datasets\n",
    "\n",
    "    Convert the target categories to integers (e.g., Using sklearn's LabelEncoder)\n",
    "    Create a tensorflow dataset using the X and (integer version) of y.\n",
    "    Split the dataset into training, test, and validation datasets."
   ]
  },
  {
   "cell_type": "markdown",
   "id": "fcaa0c12-3e2f-49a7-b45b-898928754ef5",
   "metadata": {},
   "source": [
    "##### convert target categories to integers with LabelEncoder"
   ]
  },
  {
   "cell_type": "code",
   "execution_count": 83,
   "id": "158dab9f-2e76-4ef3-a4ba-fcb984f8e883",
   "metadata": {},
   "outputs": [],
   "source": [
    "# instantiate LabelEncoder\n",
    "encoder = LabelEncoder()"
   ]
  },
  {
   "cell_type": "code",
   "execution_count": 84,
   "id": "efd2ee6a-69b6-4d9e-9d77-85188300242d",
   "metadata": {},
   "outputs": [
    {
     "data": {
      "text/plain": [
       "1    1224\n",
       "0    1195\n",
       "dtype: int64"
      ]
     },
     "execution_count": 84,
     "metadata": {},
     "output_type": "execute_result"
    }
   ],
   "source": [
    "# Fit and Transform the strings into integers\n",
    "y = pd.Series(encoder.fit_transform(y))\n",
    "y.value_counts()"
   ]
  },
  {
   "cell_type": "markdown",
   "id": "1cb0eab7-7cf0-4ef5-af82-dc14aa50896b",
   "metadata": {},
   "source": [
    "##### Create a tensorflow dataset using the X and (integer version) of y."
   ]
  },
  {
   "cell_type": "code",
   "execution_count": 85,
   "id": "cc568fa3-882f-4883-81e4-fdcb2dc27a13",
   "metadata": {},
   "outputs": [
    {
     "data": {
      "text/plain": [
       "<_TensorSliceDataset element_spec=(TensorSpec(shape=(), dtype=tf.string, name=None), TensorSpec(shape=(), dtype=tf.int32, name=None))>"
      ]
     },
     "execution_count": 85,
     "metadata": {},
     "output_type": "execute_result"
    }
   ],
   "source": [
    "# Convert to Dataset object\n",
    "ds = tf.data.Dataset.from_tensor_slices((X, y))\n",
    "ds"
   ]
  },
  {
   "cell_type": "code",
   "execution_count": 86,
   "id": "daffcf30-2dc1-4662-816f-79383dfcb9bd",
   "metadata": {},
   "outputs": [],
   "source": [
    "# shuffle data once\n",
    "ds = ds.shuffle(buffer_size=len(ds), reshuffle_each_iteration=False)"
   ]
  },
  {
   "cell_type": "code",
   "execution_count": 87,
   "id": "5c6c535c-c8dd-4ff5-8531-b9bb1bd7fcc2",
   "metadata": {},
   "outputs": [],
   "source": [
    "# Add a column to the dataframe that has the length of each paragraph\n",
    "df['sequence_length'] = df['review'].map( lambda x: len(x.split(\" \")))"
   ]
  },
  {
   "cell_type": "code",
   "execution_count": 88,
   "id": "f28c698f-3ff7-4430-9aa3-ae939c627d7c",
   "metadata": {},
   "outputs": [
    {
     "data": {
      "text/plain": [
       "count    2419.000000\n",
       "mean      225.767673\n",
       "std       270.815728\n",
       "min         1.000000\n",
       "25%        62.000000\n",
       "50%       143.000000\n",
       "75%       286.500000\n",
       "max      4017.000000\n",
       "Name: sequence_length, dtype: float64"
      ]
     },
     "execution_count": 88,
     "metadata": {},
     "output_type": "execute_result"
    }
   ],
   "source": [
    "# Use the maximum length as the sequence length\n",
    "df['sequence_length'].describe()"
   ]
  },
  {
   "cell_type": "code",
   "execution_count": 89,
   "id": "23dcc652-c004-494f-b95d-5cb41e6648e1",
   "metadata": {},
   "outputs": [],
   "source": [
    "# Use the maximum length as the sequence length\n",
    "SEQUENCE_LENGTH = 4017"
   ]
  },
  {
   "cell_type": "markdown",
   "id": "83be462d-af49-4b1e-bff5-10622ec79064",
   "metadata": {},
   "source": [
    "##### Split the dataset into training, test, and validation datasets."
   ]
  },
  {
   "cell_type": "code",
   "execution_count": 90,
   "id": "153d00e4-cd10-41aa-86b1-41d552da5739",
   "metadata": {},
   "outputs": [],
   "source": [
    "# Set the ratio of the train, validation, test split\n",
    "split_train = .7\n",
    "split_val =  .2\n",
    "split_test =  1 -( split_train + split_val )"
   ]
  },
  {
   "cell_type": "code",
   "execution_count": 91,
   "id": "f4af7935-0d68-4cb4-9524-88425906fa01",
   "metadata": {},
   "outputs": [],
   "source": [
    "# Calculate the number of samples for training and validation data \n",
    "n_train_samples =  int(len(ds) * split_train)\n",
    "n_val_samples = int(len(ds) * split_val)\n",
    "n_test_samples = len(ds) -(n_train_samples + n_val_samples)"
   ]
  },
  {
   "cell_type": "code",
   "execution_count": 92,
   "id": "b9c015d4-80d7-47f3-9cde-fd33bcb8e152",
   "metadata": {},
   "outputs": [],
   "source": [
    "# Set the batch size\n",
    "BATCH_SIZE =32"
   ]
  },
  {
   "cell_type": "code",
   "execution_count": 93,
   "id": "9a96611f-bcee-45ef-8c06-762bee7dda0c",
   "metadata": {},
   "outputs": [],
   "source": [
    "# Use take and skip to define each set\n",
    "train_ds = ds.take(n_train_samples).batch(batch_size=BATCH_SIZE)\n",
    "\n",
    "# Skip over the training batches and take the validation batches\n",
    "val_ds = ds.skip(n_train_samples).take(n_val_samples).batch(batch_size=BATCH_SIZE)\n",
    "\n",
    "# Skipver the train and validation batches, the remaining are the test batches\n",
    "test_ds = ds.skip(n_train_samples + n_val_samples).batch(batch_size=BATCH_SIZE)"
   ]
  },
  {
   "cell_type": "code",
   "execution_count": 94,
   "id": "b042abbf-ed19-425a-91ac-e14214423dc9",
   "metadata": {},
   "outputs": [],
   "source": [
    "# Get just the text from ds_train\n",
    "ds_texts = train_ds.map(lambda x, y: x)"
   ]
  },
  {
   "cell_type": "code",
   "execution_count": 95,
   "id": "bbd3c042-16b7-4dc5-a8ef-0800a2b1f53d",
   "metadata": {},
   "outputs": [
    {
     "data": {
      "text/plain": [
       "<tf.Tensor: shape=(32,), dtype=string, numpy=\n",
       "array([b'If you enjoy reading my Spoiler-Free reviews, please follow my blog :)\\r\\n\\r\\nLiving in Portugal has a ton of pros, but regarding movies, it lacks serious advantages. The price of admission is expensive, there is only one film theater in my city (every time I want to watch a movie on IMAX or Dolby Atmos, it\\'s a financial effort and time-consuming) and the worst of all, a whole bunch of films aren\\'t released in their original date, especially November/December Oscar-bait movies. Only now I had the opportunity to see Green Book, and I am so mad I wasn\\'t able to write its review in 2018 because this is undoubtedly the best comedy-drama of last year and one of the best overall!\\r\\n\\r\\nWith the help of a terrific cast, Peter Farrelly and his writing crew (which counts with Vallelonga\\'s son, Nick) deliver what I think is the best screenplay of 2018. I can\\'t remember the last time I cried of so much laughter in a film. I can\\'t remember the last time I did the latter and still got emotional with the dramatic arc. This comedy-drama sent me through a roller coaster of emotions I wasn\\'t expecting, at all. I went in anticipating outstanding performances (check) and solely that. Since 2019 has already begun, I\\'m watching the Oscar-bait movies with no real hopes of being utterly amazed.\\r\\n\\r\\nHowever, Green Book completely took me by surprise. I genuinely don\\'t know why everyone was so shocked when it won Best Screenplay at the Golden Globe Awards. It possesses such a well-written story, filled with brilliant narratives about the most sensitive subjects. It takes the two main characters and elevates their individual arcs into subplots where you begin and end with two completely different personas. It\\'s an extremely relevant film that shows how our world evolved and fought back racism and discrimination, without ever becoming too dark or even dull. It\\'s not more of the same, it\\'s not another movie produced exclusively to send a social message and catch some Oscar nominations. It\\'s a truly captivating story of how two men can change their perspective of another race or even the entire world, by actually spending time with another culture and ignoring preconceived notions.\\r\\n\\r\\nNevertheless, this well-structured, beautifully-directed and cleverly-written film would be just \"good\" if not for the two incredible actors, who take this movie to a whole other level. Viggo Mortensen and Mahershala Ali have such compelling chemistry that I wouldn\\'t mind watching them interact for two hours on a car trip. Every single car sequence either produces hilarious moments, filled with tearful laughter, or it drastically changes into a more dramatic and emotional tone, subtly touching delicate topics. I knew Mortensen had a humorous side to him, but I never saw this coming! His timing, his expressions, his Italian accent, his body movements, everything about his performance is perfect. He absolutely nailed his part, by giving me the best time I had at a film theater in a long time, and his Oscar nomination is more than fair. He made a 130-min feature movie feel like a short flick.\\r\\n\\r\\nAli doesn\\'t come far behind. Obviously, since Viggo has a funnier role to portray, the audience members might feel that he\\'s just there to help his co-star shine, but he does much more than that. Since he brings the drama element to the story, he has a more restrained performance during the first half of the film. However, once Shirley starts getting along with Tony Lip, Ali gradually offers more and more splendid acting moments. He\\'s definitely a supporting actor, but God is he a phenomenal one! Linda Cardellini (Dolores Vallelonga), even though she\\'s only on-screen for a few minutes spread throughout the runtime, also delivers a great performance.\\r\\n\\r\\nTony Lip and Dr. Don Shirley have quite distinct personalities, besides being from different races. Each character\\'s arc is brilliantly illustrated by Peter Farrelly, who gradually shows how Tony and Don are changing their view of the world and of each other\\'s culture. Either through the witty car sequences or through unfortunate and horrible experiences, these two characters carry the audience on a journey of growth. Change in behavior, mindset and preconceived ideas, by sharing their own culture with another. Even though they were born in different countries and lived through distinguished lifestyles, with contrasting quality of life, they eventually start realizing that what they think of the world and everything else might not be entirely right.\\r\\n\\r\\nTechnically, Farrelly controls the movie\\'s pacing exceptionally well, by making a two-hour-ish film feel like half of it. Remarkably-balanced tone and some great cinematography is showed in a couple of scenes. Consistently-filmed and well-edited, even though the latter has small hiccups here and there. Nevertheless, this isn\\'t a film with extraordinary technical attributes, nor it needs them. Farrelly only needed to do \"ok\" with the producing and filming of a standout screenplay to achieve a fantastic result, and that\\'s exactly what he did.\\r\\n\\r\\nFinally, regarding the controversy surrounding this movie ... See how easy it is to watch a film without being affected by outside matters which don\\'t have a single thing to do with the movie itself? I don\\'t care if someone who worked in the film tweeted something wrong today, let alone years ago. I don\\'t care if someone misinterprets Viggo Mortensen\\'s speech about racism. I don\\'t care if the family of Don Shirley doesn\\'t like how the movie approaches his way of being or his way of life. I don\\'t care if the story isn\\'t 100% true, as long as it succeeds in transmitting the vital message it wants to deliver, while actually being a good film. So, please, stop trying to listen to everything everyone says about a movie or the people working on it, especially nowadays, where chaos is easy to create.\\r\\n\\r\\nGreen Book surprised the hell out of me and left me speechless in the end. One of the best comedy-dramas I\\'ve seen in a long time, one of the best films of 2017 and, by far, the best original screenplay of the last year. Peter Farrelly and his fellow co-writers delivered a seamlessly-written story, filled with wonderful character arcs and with a quite important message to the audiences around the world. Viggo Mortensen and Mahershala Ali deliver award-worthy performances, especially the former who shows his incredible comedic timing and dramatic range. Still, the most compelling and emotional scenes come from Ali, and he does not deserve to be forgotten. I thought 2018 was going to be the first year without me giving an A+, but guess what ...\\r\\n\\r\\nRating: A+',\n",
       "       b'When it comes to their Marvel properties, there\\xe2\\x80\\x99s this slightly morbid insistence by Disney to tie every teeny tiny detail of previous movies, television shows, and character arcs together in obsessive fashion. It\\xe2\\x80\\x99s becoming such an uncontrollable urge by the studio to engage in this behavior that the cause-and-effect is resulting in disasters like \\xe2\\x80\\x9cEternals,\\xe2\\x80\\x9d \\xe2\\x80\\x9cThor: Love and Thunder,\\xe2\\x80\\x9d and now, \\xe2\\x80\\x9cAnt-Man and the Wasp: Quantumania.\\xe2\\x80\\x9d\\r\\n\\r\\nTrying too hard to force a non-story into the already lame Ant-Man mythology, the film reunites superhero partners Scott Lang (Paul Rudd) and Hope Van Dyne (Evangeline Lilly) as Ant-Man and the Wasp. The pair find themselves thrust into the dangerous Quantum Realm along with Hope\\xe2\\x80\\x99s parents Hank Pym (Michael Douglas) and Janet Van Dyne (Michelle Pfeiffer), along with Scott\\xe2\\x80\\x99s teenage daughter, Cassie (Kathryn Newton). As they explore the unusual terrain and alien society filled with strange creatures, Janet reveals that she didn\\xe2\\x80\\x99t quite tell the group everything about the three decades she spent trapped in the realm. Facing new dangers from supervillan Kang the Conquerer (Jonathan Majors), the family must unite to stop a worldwide disaster.\\r\\n\\r\\nVery little about this project feels like a satisfying superhero movie and instead, it\\xe2\\x80\\x99s more like an assemblage of other (and far better) science fiction films. If not for the titanic budget and big-name stars, it could almost be mistaken for a Redbox \\xe2\\x80\\x9cmockbuster\\xe2\\x80\\x9d of \\xe2\\x80\\x9cStar Wars,\\xe2\\x80\\x9d \\xe2\\x80\\x9cMad Max,\\xe2\\x80\\x9d \\xe2\\x80\\x9cAvatar,\\xe2\\x80\\x9d and \\xe2\\x80\\x9cGodzilla\\xe2\\x80\\x9d combined.\\r\\n\\r\\nThe film takes place extensively in the Quantum Realm, which provides an unsightly setting of muted, dark brown, washed-out visuals. It\\xe2\\x80\\x99s an ugly place, so who why would audiences want to spend time there? The Realm is a melting pot of exotic creatures and peculiar inhabitants that appear to have waltzed right out of the Mos Eisley Cantina on Tatooine. They\\xe2\\x80\\x99re cool to look at I guess, but was the point to make the film more appealing to children, or was it Disney\\xe2\\x80\\x99s way of appeasing the animators by letting them have some fun?\\r\\n\\r\\nThe first third of the film seems like it\\xe2\\x80\\x99s Janet\\xe2\\x80\\x99s show, as she keeps bringing up the fact that she has all these secrets that she won\\xe2\\x80\\x99t spill to Hope and Hank (even though they\\xe2\\x80\\x99re all stuck in the Realm together). There\\xe2\\x80\\x99s no compelling mystery nor reveal. Screenwriter Jeff Loveness is grasping at straws to craft a somewhat cohesive story while also struggling to make it fit into the MCU mythology. At some point, I wish someone would just make a damn standalone Marvel superhero movie and quit worrying about who and what goes where and how.\\r\\n\\r\\nThe story is frequently erratic. There\\xe2\\x80\\x99s plenty of energetic CGI action, but there also some moments that play like a touching family drama, some that create an anti-climatic post-apocalyptic narrative, and lots of failed attempts at comic relief. The film also has recurring (and awkward) socially conscious messaging that doesn\\xe2\\x80\\x99t entirely feel out of place, but it is aggressive (there\\xe2\\x80\\x99s even a direct mention of socialism by one of the characters, which will really aggravate already-angry conservatives).\\r\\n\\r\\nThe screenplay is peppered with dreadful one-liners like \\xe2\\x80\\x9cit\\xe2\\x80\\x99s never too late to stop being a dick!\\xe2\\x80\\x9d and \\xe2\\x80\\x9cants don\\xe2\\x80\\x99t give up!\\xe2\\x80\\x9d I really, really wish I was joking about this.\\r\\n\\r\\nThe remainder of the movie features a lot of talk about time, the desire to get home, and \\xe2\\x80\\x94 Marvel fans, you know what\\xe2\\x80\\x99s coming \\xe2\\x80\\x94 the multiverse! It\\xe2\\x80\\x99s that one little word that means endless movies, endless stories, and endless money. It\\xe2\\x80\\x99s also the easy way to guarantee that all of these films in the canon always have a cop-out to lazily excuse away any inconsistencies (not that many of us could keep up or remember anyway).\\r\\n\\r\\nAnother major problem with the film is that it can only chug along on Rudd\\xe2\\x80\\x99s likeability (and the cast\\xe2\\x80\\x99s talent) for so long. It\\xe2\\x80\\x99s barely tolerable until Kang shows up, but he\\xe2\\x80\\x99s a wickedly delicious character portrayed by a terrific actor (it\\xe2\\x80\\x99s a real shame that this had to be the film for Majors\\xe2\\x80\\x99 MCU debut). In fact, the entire cast deserves better. Despite all of them turning in strong performances, they still feel mostly wasted here.\\r\\n\\r\\n\\xe2\\x80\\x9cAnt-Man and the Wasp: Quantumania\\xe2\\x80\\x9d lacks the memorable spectacle that most superhero films need in order to succeed. There\\xe2\\x80\\x99s no massively rousing, crowd-pleasing moment, and it\\xe2\\x80\\x99s one of the more unremarkable entries in the MCU.\\r\\n\\r\\n**By: Louisa Moore / SCREEN ZEALOTS**',\n",
       "       b'A very intriguing set-up, but not much else of note is found in _Knowing_. \\r\\n\\r\\n_Final rating:\\xe2\\x98\\x85\\xe2\\x98\\x85 - Had some things that appeal to me, but a poor finished product._',\n",
       "       b'Godzilla vs Kong a rematch 60 years in the making . I think this is the movie a lot of people wanted to see especially seeing that the last time is to where in a movie together was in 1962.\\r\\n\\r\\nThe fights in the movie are amazing the standout being the fight in Hong Kong between Godzilla and King Kong but the boat battle and the mechagodzilla Fight are also very well done as well.  \\r\\n\\r\\nThe characters are fine noting amazing but noting awful my favorite being the mom and the daughter their relationship was very well done  overall, this movie just gave me what I wanted, which was a rematch between the two most iconic movie monsters, Godzilla and King Kong',\n",
       "       b\"I always loved these type  of movies.This one is very adventurous and full of suspans.\\r\\nNice one.I've watched it more than 3 times and every time i have the same feeling.\\r\\nExtraordinary\\xf0\\x9f\\x98\\x81!!!!\",\n",
       "       b'Full Analysis at Spotamovie.com - **Intro** - Everything Everywhere All at Once is one of the best movies of 2022 and it can easily target some Oscars. It\\xe2\\x80\\x99s an incredible journey through multiverses to discover something mind-blowing that may change your existence. - **The Story** - The Wang are an, apparently, happy family. But when we begin to observe them, we discover fascinating characters with their needs, dreams and frustrations. Evelyn, in the middle of a midlife crisis, needs to learn how to cope with her anxieties, fears and family. On the other hand, her loved ones must understand how to deal with Evelyn, with their needs and how to re-think a life together. All of these crushes with the ongoing crisis of their business. An IRS auditor is making their lives challenging between invoices, debts and the risk of shutting down their business. What are Evelyn\\xe2\\x80\\x99s fears?\\r\\nHow is her relationship with herself, with his daughter, husband and father? And what is the multi-verse? - **Enjoy the film and our full analysis at https://www.spotamovie.com/everything-everywhere-all-at-once-review-and-explanation-movie-2022/**',\n",
       "       b\"**My favorite movie of all time! A must-see!**\\r\\n\\r\\nOcean's Eleven greatest strength is its emersion of the audience into the midst of a story already in motion. The pacing isn't weighed down by exposition; instead, the viewer discovers important history and surprises simultaneously as the characters on screen. The absolutely brilliant cast is effortlessly charming, whose antics and charisma fuel the movie to be a wonderful ride from start to finish. You can't help but feel welcomed into Danny Ocean's crew. With amazing acting, storytelling, clever twists, and exceptional directing, Ocean's Eleven is a must-see and my favorite movie of all time. As a young teen who stood firmly in the grunge camp of wearing ripped jeans and rock 'n' roll t-shirts, Ocean's Eleven convinced me that every now and then... suits are cool too.\",\n",
       "       b\"Some things age like fine wine and in the cinematic world the \\xe2\\x80\\x98Mission: Impossible\\xe2\\x80\\x99 franchise is a great example of the adage. Perhaps it has to do with the 56-year-old Tom Cruise who defies age and pushes his physical boundaries for our viewing pleasure? The answer is quite evident in \\xe2\\x80\\x98Fallout\\xe2\\x80\\x99 as his Ethan Hunt is as good as a caped superhero in the sixth film of the series. The story isn't all that new with its twists and turns. But \\xe2\\x80\\x98Fallout\\xe2\\x80\\x99 manages to build on the previous films in the series by bringing back old friends and foes, besides adding some new ones. Henry Cavill as August Walker fits right into this universe as the hammer to the scalpel that is Ethan Hunt. His presence is looming enough to fill the entire screen whenever he appears. Simon Pegg takes on the status of a series regular alongside Ving Rhames, whose Benji and Luther respectively play more than just mere sidekicks as they add comic levity and heart. Alec Baldwin and Angela Bassett also make a mark in their brief appearances but watch out for impactful turns by Rebecca Ferguson and Michelle Monaghan along the way.\\r\\n\\r\\nWriter & Director Christopher McQuarrie allows each character to shine while building on their history with each other, thus making them endearing to the audience. This only serves to up the ante when they\\xe2\\x80\\x99re in danger. McQuarrie also lets the story breathe by bringing some calm before the storm hits. Which leads to the most crucial aspect of the series, and one that McQuarrie clearly excels at in this film \\xe2\\x80\\x93 the action sequences. Not only are they meticulously planned; they are executed with precision, even when the fist fights are gritty and gruesome. Rob Hardy beautifully choreographs the camerawork following these intricate set-pieces, either allowing you to take in the expanse or bringing you up close and personal when required. This is paired with a soundtrack by Lorne Balfe that lends to the tension by giving the iconic \\xe2\\x80\\x98Mission Impossible\\xe2\\x80\\x99 theme a sinister sense of urgency.\\r\\n\\r\\nMcQuarrie has now directed two \\xe2\\x80\\x98Mission: Impossible\\xe2\\x80\\x99 films; his understanding of the franchise and its characters proves to be the secret weapon of the series. The fact that the stunts are largely done with practical effects featuring the cast, and most prominently Cruise himself, sets a whole new standard for action films. \\xe2\\x80\\x98Mission: Impossible \\xe2\\x80\\x93 Fallout\\xe2\\x80\\x99 is a great mix of plot, pacing and performances that is undeniably the best entry in the franchise, while it re-establishes Cruise\\xe2\\x80\\x99s status as an action superstar.\\r\\n\\r\\nReview by Times of India (TOI)\\r\\nFinal Rating - 4.0/5\",\n",
       "       b'My favourite Movie.movie villain,costume was great.\\r\\nGreat and Amazing Movie.Must Watch.',\n",
       "       b\"I must admit I was a bit excited when the names Jeepers Creepers popped up as a new movie because the memory of the first and second movie. This one started good enough and was doing fine until the end. The ending was so poorly written and performed that it ruined the whole enjoyment of the movie for me. Without spoiling it for those who want to be disappointed, the facial expressions lifting the toothpick and using dart physics shouldn't be the end product of professional writers.\",\n",
       "       b\"George Miller brings us the fourth Mad Max film - Ultimate Carmageddon!\\r\\n\\r\\nAn apocalyptic story set in the furthest reaches of our planet, in a stark desert landscape where humanity is broken, and most everyone is crazed fighting for the necessities of life. Within this world exist two rebels on the run who just might be able to restore order.\\r\\n\\r\\nGeorge Miller directs and co-writes the screenplay with Brendan McCarthy and Nick Lathouris. It stars Tom Hardy, Charlize Theron, Nicholas Hoult, Hugh Keays-Byrne, Rosie Huntington-Whiteley, Zo\\xc3\\xab Kravitz, Josh Helman and Nathan Jones. Music is by Tom Holkenborg and cinematography by John Seale.\\r\\n\\r\\nWell it was a long time in the making, but finally a fourth Mad Max movie was made and it proves to be worth the wait. Undeniably light on plot, this essentially is a two hour chase movie played out to an apocalyptic backdrop of green skies, scorched orange and red vistas and the sort of storms that usually only come in nightmares. \\r\\n\\r\\nHundreds of crazily designed vehicles do untold damage to each other and to the barely human contingent - both goodies and baddies, the weaponary on show is vast and brutal, while the stunt work is breath taking. There's some narative stabs at redemptive force between Furiosa (Theron excellent) and Max (Hardy rightly restrained), but really this about high octane action and it's absolutely thrilling as Miller's camera work rarely sits still and brings all the carnage vividly to life.\\r\\n\\r\\nA petrol head's love poem in live action form and an action junkie's wet dream, Mad Max is back, and this time there's also a glorious female side-kick of considerable tough substance. 9/10\",\n",
       "       b'If you enjoy reading my Spoiler-Free reviews, please follow my blog @\\r\\nhttps://www.msbreviews.com\\r\\n\\r\\nHere we go with the fourth review of a David Fincher\\'s film this week, in preparation for the upcoming Mank, directed by the same person who delivered phenomenal movies like Se7en, Fight Club, Zodiac, and more. Now, it\\'s time for The Social Network, which premise can be summed up in \"the story behind the creation of Facebook\". Ten years have passed since its release, and the real Mark Zuckerberg already stated that most of the film is based on fictional events and conversations. Truth is, this movie was never marketed as a true story, but yes as an adaptation of Ben Mezrich\\'s 2009 book The Accidental Billionaires. It\\'s a film like any other, not a detailed account of whatever happened in real life.\\r\\n\\r\\nWith that said, this is easily one of the best adapted screenplays of all-time. Aaron Sorkin, the man behind one of the best movies of 2020 (The Trial of the Chicago 7), demonstrates his incredibly talented writing skills in The Social Network, proving that he\\'s one of the most meticulous writers working today. If you\\'ve been reading my previous reviews, there\\'s a couple of compliments I keep giving to Fincher, which are his extreme attention to detail and his impressive dedication to the narrative he wants to tell. So, what happens when you put together two of the most perfectionist filmmakers ever? An award-worthy, \"best of the year\" contender arises from their gifted minds.\\r\\n\\r\\nThere\\'s not even much to discuss besides the narrative itself since this is, by far, the aspect that elevates the whole film. Jeff Cronenweth, who previously worked in Fight Club, brings out Fincher\\'s trademark realistic look and feel through his simple yet powerful cinematography. Trent Reznor and Atticus Ross\\' original score is packed with little effects that resemble computer sounds, making it quite addictive while also increasing the movie\\'s energy in the most exciting sequences. Finally, just like in Zodiac, the editing work (Angus Wall, Kirk Baxter) is absolutely seamless, and it\\'s definitely the technical component that better helps Sorkin\\'s screenplay shine due to the latter\\'s structure.\\r\\n\\r\\nThroughout the entire runtime, the story is told through a nonlinear timeline, mixing up Facebook\\'s actual creation (ideas, planning, programming) with the future legal issues that Mark Zuckerberg faces. This structure allows for an exceptionally captivating and tremendously entertaining couple of hours by never letting the pacing slow down or to have an uneventful sequence. The protagonist is accused of stealing the concept from the Winklevoss twins (both interpreted by Armie Hammer), gets in trouble with his best friend, Eduardo Saverin (Andrew Garfield), over the website\\'s monetization, and Sean Parker (Justin Timberlake) is partially the trigger for a lot of the chaos that ends up overwhelming Zuckerberg\\'s life.\\r\\n\\r\\nSorkin and Fincher\\'s greatest accomplishment is their success in making the viewer feel invested in a main character who\\'s an utter \"asshole\", an adjective with a lot of weight in the film. Jesse Eisenberg is remarkable as one of those characters people \"love to hate\" (no wonder the real Zuckerberg didn\\'t enjoy the movie since he\\'s depicted as a contemptible friend). Eisenberg has a unique manner of speaking and distinctive mannerisms that are perfect for this character. Garfield and Timberlake are also formidable, incorporating their characters effortlessly. Once again, comparing with Zodiac, The Social Network is also a dialogue-driven narrative, but the latter resonated with me a bit more due to my area of work.\\r\\n\\r\\nThe only issue I have involves the Winklevoss family. Armie Hammer is excellent as both twins, as is Max Minghella as Divya Narendra, but their subplot occasionally drifts from the main story, losing my interest for those short moments. There\\'s even a rowboat race that feels out-of-place and unnecessary, but I admit that it\\'s gorgeously shot and accompanied by a fantastic soundtrack. Despite this little misstep, Fincher continues to impress me with his outstanding directing techniques, forcing the actors to prove their worth by making them go through their dialogues faster and implementing long takes every time that\\'s possible.\\r\\n\\r\\nAll in all, The Social Network is yet another masterful piece of cinema, this time delivered by not one but two magnificent filmmakers. David Fincher and Aaron Sorkin employ their mutual perfectionism and meticulousness to create an extraordinarily engaging narrative. Boasting a nonlinear but tremendously effective structure, the two pillars of any film - story and characters - are wonderfully built, even reaching the point of making the viewer feel invested in a despicable yet fascinating protagonist. Jesse Eisenberg shines in a career-defining performance, but Andrew Garfield and Justin Timberlake also rise to the necessary level of dedication, dealing with the rapid-fire dialogues and outstanding long takes seamlessly. Technically, great camera work offers a realistic feel, an addictive score increases the excitement levels, and flawless editing makes the different timelines shift seamlessly. Despite an occasionally unnecessary, irrelevant detour concerning a minor subplot, this is another brilliant addition to Fincher\\'s filmography.\\r\\n\\r\\nRating: A',\n",
       "       b\"Fate? Unknown... \\r\\n\\r\\nDrive is directed by Nicolas Winding Refn and adapted to screenplay by Hossein Amini from the novel of the same name written by James Sallis. It stars Ryan Gosling, Carey Mulligan, Bryan Cranston, Albert Brooks, Oscar Isaac, Christina Hendricks and Ron Perlman. Music is by Cliff Martinez and cinematography by Newton Thomas Sigel.\\r\\n\\r\\nDriver (Gosling) has a day job, he's a Hollywood stunt man, but by night he makes the serious cash as a getaway driver for the criminal fraternity. Into his life comes married next door neighbour Irene (Mulligan) and her little boy Benicio (Kaden Leos), pitching him right into the middle of two wars; one is for his emotional worth, the other with the criminal underworld.\\r\\n\\r\\nReal human being, and a real hero.\\r\\n\\r\\nThey cheered at Cannes, it has garnered instant cult classic status as well as gushing critical praise, Drive is arguably the biggest surprise of 2011. Some would debate that it arrived in a year that was dominated by blockbuster brain drains and pretentious parables, meaning it wouldn't take much for something like Drive to find a favourable audience. Yet Drive is a special movie, the surprise being that it delivers a different film to what the plot synopsis suggests. There would have been many disappointed that it didn't turn out to be something akin to The Fast & The Furious 19, but as its reputation grows, one likes to think that many also had their senses tingled unexpectedly by Refn's western done out in 1980s neo noir attire.\\r\\n\\r\\nYes, at first glance it looks like a simple story given over to style over substance leanings, where the fact that our laconic protagonist is not prone to dialogue expansion, could lend argumentative weight to those potential dissenters only skimming the surface of the picture. But the material is in excellent hands, with Refn, Sigel, Gosling and co, calmly unravelling Amini's stripped down screenplay to reveal a gritty urban fable that's laced with ethereal overtones. A picture where a look means more than any words can express, a subtle holding of hands reveals many layers peeling, and then the serene state of play often gets punctured by bouts of shocking violence, yet always it remains a picture big on intelligence, beating a mighty heart in the process.\\r\\n\\r\\nPropelling the picture forward is the complexity of Gosling's driver character. He has no back story for us to work from, and he gives nothing away outside of the tender bond formed with Irene and child. He is actually one of many purposeful grey areas (or should that be gris areas?) within the plot structure. We learn just enough to be on his side, a noble but flawed hero battling against fate as he fights for the innocent, he be Shane for a modern pot boiling Los Angeles. Helps, too, that he's so cool behind the wheel, where he mines Steve McQueen's effortless charisma. Refn delivers magic moments of car play, from the near ten minute opening getaway extended sequence, to a high speed kill or be killed pursuit, when the action flows it really pumps the adrenalin.\\r\\n\\r\\nGosling is amazing, instantly iconic, soft voice matching his soft blue eyes, toothpick perched between teeth, it's a testament to his acting ability that the requisite homages to iconic characters of movies past never veers into parody territory. It's with the calm moments that he triumphs most, be it watching TV with the boy Benicio or just gazing intensely into Irene's eyes, Gosling has a magnetic quality of some significance. Mulligan, too, is wonderful, deftly underplaying Irene to work off of Gosling to create heart aching tenderness, their chemistry superb. Isaac does fine work with the ex-con/husband character that is thankfully not stereotypical, Brooks is Colm Meaney like, thriving on simmering badness, while Cranston puts real heart into the role of Driver's garage boss, the closest thing the Driver has to a pal. The only one dimensional character lands in Perlman's court, but Perlman is such an ebullient and watchable life force the film survives the character's oafness.\\r\\n\\r\\nFrom the opening pink neon credits, accompanied by the synth plink of a retro 80s soundtrack (a soundtrack so memorable it lands in the ears and stays there for days), it's evident that Refn is a man who takes his style serious. Drive is full of classy (yes arty) passages, fluid camera movements, single takes, non central framing of characters, slow motion unfurls and eye dazzling chopper shots of a neon lighted L.A., the director has an eye for the quality required to cloak his story. He of course is aided considerably by his editor Matthew Newman, and Sigel's photography. The former is dealing in seamless precision, the latter a master of shades (a lift sequence is to, ahem, die for) and colour toning delights. Marking this out as a Blu-ray essential.\\r\\n\\r\\nYou can name about ten films that Drive has been either likened too or put forward as an influence, and Refn's work here has been touted as an offspring created by Michael Mann, Walter Hill, William Friedkin and Sergio Leone (all viable and all actually high praise indeed). But rest assured, Drive is still fresh and exciting, the perfect movie package. Refn's masterpiece and one of the best films of 2011. 10/10\",\n",
       "       b'**By: Louisa Moore / www.ScreenZealots.com**\\r\\n\\r\\n_This film was screened at the Toronto International Film Festival_\\r\\n\\r\\nWriter and director Martin McDonagh is no stranger to creating stories that find humor in darkness. In fact, it\\xe2\\x80\\x99s arguably what he does best. With his latest film \\xe2\\x80\\x9cThe Banshees of Inisherin,\\xe2\\x80\\x9d McDonagh captures the sadness of a breakup between two longtime friends with his signature darkly comedic, cynical tone. It\\xe2\\x80\\x99s an emotional character study about loneliness and isolation that expertly blends humor and cruelty, and it\\xe2\\x80\\x99s one of my favorite films so far this year.\\r\\n\\r\\nSet on a fictional remote island during the Irish Civil War of 1922, the film tells the story of buddies P\\xc3\\xa1draic (Colin Farrell) and Colm (Brendan Gleeson), two men who find themselves at an impasse. It all starts one day when Colm unexpectedly and abruptly decides to end their friendship, offering no explanation and leaving his former pal stunned and saddened. With the help of his sister Siobh\\xc3\\xa1n (Kerry Condon) and the troubled islander Dominic (Barry Keoghan), P\\xc3\\xa1draic plans to do whatever it takes to repair the estranged relationship. His repeated efforts to reconcile annoy Colm to the point that he delivers a shocking ultimatum, which in turn escalates the petty feud to an alarming standoff that could have violent consequences.\\r\\n\\r\\nWorking from an outline of a sad breakup, McDonagh\\xe2\\x80\\x99s script flows with a natural rhythm that\\xe2\\x80\\x99s brimming with sharp wit and wry, dark humor. This isn\\xe2\\x80\\x99t a complex narrative, but the dialogue is impassioned and poignant with a genuine understanding of the human condition. McDonagh\\xe2\\x80\\x99s writing is like no other, with a natural talent that\\xe2\\x80\\x99s enviable. The script plays directly to the specific strengths of his cast, too.\\r\\n\\r\\nFeaturing Oscar-caliber performances, Gleeson and Farrell strike the perfect harmony as Colm and P\\xc3\\xa1draic. Their rapport is natural and relaxed, and there\\xe2\\x80\\x99s a comfortable feeling between the two actors which no doubt stems from being reunited with McDonagh. This trio should continue to make movies together because something magical happens when they do. Condon and Keoghan are also excellent in this story of conflicts, as Siobh\\xc3\\xa1n grapples with the realization that she may risk dying from an unhappy and unfulfilled life if she continues resisting her her urge to flee, and Dominic must deal with the mental suffering of being worn down by his abusive policeman father.\\r\\n\\r\\nThe strongest supporting turns come from the scene-stealing animal actors, who represent loyalty and unconditional friendship in a story that\\xe2\\x80\\x99s peppered with a dark undercurrent. Even as the humans around them struggle with their worlds falling apart (and a civil war raging nearby), their equine and canine companions keep them grounded. One of the most memorable scenes features a touching moment between a miniature donkey and a horse, and it is one that absolutely destroyed me. It\\xe2\\x80\\x99s moments like these that add up to a fiercely affective film that is adept at delivering a highly emotional experience to the audience.\\r\\n\\r\\nNot only is McDonagh an effective writer, but he is also a talented director with a knack for capturing and creating a mood. Working in tandem with his cinematographer Ben Davis, the film is filled with stunning photography and astonishingly gorgeous scenery of coastal Ireland. These desolate landscapes lend a natural beauty that in turn creates a strong sense of place, providing the perfect backdrop for the story.\\r\\n\\r\\n\\xe2\\x80\\x9cThe Banshees of Inisherin\\xe2\\x80\\x9d is an example of that increasingly rare instance where a film fully and completely achieves its desired effect. Backed by two of the finest performances of the year and a superbly written script, this is a piece of accomplished, outstanding filmmaking.',\n",
       "       b'The worst _Terminator_ movie. Which seeing as what came after it is... Quite the burn.\\r\\n\\r\\n_Final rating:\\xe2\\x98\\x85\\xc2\\xbd: - Boring/disappointing. Avoid where possible._',\n",
       "       b\"_Nightcrawler_ shows the dark and sadistic rise of an underground freelance video producer that left me on the edge of my seat in disbelief throughout the entire film.\\r\\n\\r\\nThe film begins following Lou Bloom, a man down on his luck during economic turmoil trying to find his way in the world. The whole first act really builds his sense of helplessness and drive to help lift himself out of his financial hardship. This drive is built upon throughout the entire story as with each step Bloom\\xe2\\x80\\x99s morals and societal lines drift farther and farther from the norms. The entire theme of the story really resonates with common day America, as you are told to work hard and pave a path for yourself no matter the cost to those around you. Dan Gilroy did an outstanding job with the direction and writing of the entire film. The unsettling nature of dialogue and characters actions/motivations is incredibly eerie as it is indicative of society today. Each scene feels real as if it is a retelling of true events. I believed every second of Lou Bloom as a character, and that is largely due to Jake Gyllenhall\\xe2\\x80\\x99s best performance to date.\\r\\n\\r\\nGyllenhall does such an excellent job of putting on this outcast persona. As a loner, he spends most of his time learning on the internet and due to that he does not really understand the nuances of everyday life. This is done tremendously well as every line delivered by Gyllenhall is so sharp and awkward, but the source of the words is tremendously powerful. The sense of emotion displayed by the lead is fantastic as well, he swings from being incredibly upset to quickly turning into a calm put together businessman. It demonstrates Bloom\\xe2\\x80\\x99s extreme passion for this work as his emotions blind him to not only his speech but slowly morality. Every aspect of Gyllenhall\\xe2\\x80\\x99s performance was incredibly visceral and every bit deserving of an Oscar. I touched a lot on the main lead here, but the supporting cast was all around spectacular. Rene Russo and Riz Ahmed did excellent jobs in their parts. They were able to mirror the audience's reactions to the unhinged nature that is Lou Bloom, this aspect really resonated with me.\\r\\n\\r\\nOverall, _Nightcrawler_ was one of the best movies I have seen in a long time. It was able to capture me in the world and had me completely engaged with the story Gilroy was attempting to deliver. The film ends with a bang and has left me thinking about it hours after viewing.\\r\\n\\r\\n\\r\\n**Grade:** _97%_\\r\\n\\r\\n**Verdict:** _Masterpiece_\",\n",
       "       b'_Indiana Jones and the Dial of Destiny_ feels like the type of sequel that aimed to capture the magic of its predecessors, had worthwhile intentions, and a talented cast, but it just never properly materialized. The film seems to teeter on the sheer annoyance of a main character grappling with the fact that he\\xe2\\x80\\x99s now a crotchety and wrinkly senior citizen and not the young, grizzled, adventurer he used to be.\\r\\n\\r\\nWith an ending that leaves the Indiana Jones character in a satisfying bookend for the franchise, hopefully _The Dial of Destiny_ is the final Indy film. Like Roger Murtaugh in _Lethal Weapon_, Harrison Ford is literally too old for this sh*t.\\r\\n\\r\\n**Full review:** https://bit.ly/destinysdial',\n",
       "       b\"I wasn't going to see this movie at all based on the stupid comments made by Brie Larson but I tagged along with some friends anyway. Let me just say it was a massive mistake. I underestimated how difficult it would be to stand looking at the lead actress misogynistic and talentless face for two hours. On top of the train wreck that was her 'performance' the whole story just felt flat and bland, I don't want to spoil the plot for those who have already bought tickets and are going to see it anyway, but let's just say that it was almost as underwhelming in story as it was in acting. DO NOT RECOMMEND!\\r\\n\\r\\n1/10\",\n",
       "       b\"I'm not a big fan of horror but the fairy tale twist to this movie won me over enough to call it a favorite. It's a more haunting sorta creepy, the music and feel of the children's world always reminds me a bit of the movie Coraline when she goes to the other home world. It's just a little too happy and perfect which makes it creepy. The horror elements were there but subtle and an artistic part of the story. I love the twist and backstory you dsicover as terrible and poignant as it is. The ending was also very good and satisfying unlike some movies I find in this genre.\",\n",
       "       b\"Although handsomely shot, with several good actors doing their best and a small handful of unsettling visuals, 'The Grudge' is ultimately a dull, disjointed mess that is riddled with cheap \\xe2\\x80\\x9cboo!\\xe2\\x80\\x9c moments. I hope Pesce rebounds quickly from this failed effort in franchise-building and gets back to making the kind of idiosyncratic films he's clearly capable of.\\r\\n- Jake Watt\\r\\n\\r\\nRead Jake's full article...\\r\\nhttps://www.maketheswitch.com.au/article/review-the-grudge-the-movie-reboot-curse-claims-another-victim\",\n",
       "       b'**Iron Man had all the class, quirks, genius, and fun to birth one of the greatest film franchises in cinematic history.**\\r\\n\\r\\nThe movie that started it all. That created the personality of a multi-billion dollar entertainment behemoth. That introduced the world to the first of many characters that have become household names and cultural icons. Iron Man stormed on the screen with a lead actor that Hollywood had given up on and a small start-up studio without a single movie under its belt backed by Disney, who had little to no live-action comic experience of their own. But director Jon Favreau\\xe2\\x80\\x99s adlibbed approach leveraged the strengths of his cast and created a world that was simultaneously realistic and magical - where a man could build a flying suit of armor, or a Thunder god could fall in love with a quirky mortal. Many forget that Robert Downey Jr\\xe2\\x80\\x99s personal struggles had left him blacklisted by many in Hollywood, making his casting a risky stroke of brilliance. The result of all this was precisely the lightning in a bottle needed to birth the Marvel Cinematic Universe.',\n",
       "       b\"I didn't understand the idea of \\xe2\\x80\\x8b\\xe2\\x80\\x8bthe movie, there is no story or plot. was it a curse or an environmental disaster, or what, why the sacrifice and on what basis?\",\n",
       "       b\"Lady Gaga clearly is (and has been for a very long time) a fantastic singer, and has made massive strides as an actor as well, but I _really_ did not enjoy this.\\r\\n\\r\\nBradley Cooper has clearly been studying at the Jeff Bridges' School of Being Completely Fucking Incomprehensible for this one. Maybe he was just trying to lend some believebility to the idea that he and Sam Elliot were brothers, I don't know (If that is the case, it failed miserably). Which I mean, whatever, it's his movie, he do that character whichever way he wants, but I don't appreciate it myself. Honestly the only thing in this, the fourth iteration of _A Star Is Born_ that I **did** appreciate at all was the first 15 minutes and the last 15 minutes. I didn't love those segments by any stretch, but I liked them at least partly. Not so for what came in between.\\r\\n\\r\\nI can definitely support _A Star is Born's_ two audio-related Oscars, and maybe, _maybe_ even see my way to understanding the Best Actress nomination for Gaga, but beyond that, I don't follow the logic at all.\\r\\n\\r\\n_Final rating:\\xe2\\x98\\x85\\xe2\\x98\\x85 - Had some things that appeal to me, but a poor finished product._\",\n",
       "       b\"I know Ritchie gets a lot of flak for being a Tarantino copyist, but I really enjoy the films of the Brit that I've seen so far. They're great fun and more enjoyable than the grim-a-thons that the James Bond, Mission: Impossible and Jason Bourne franchises have churned out, though I love those as well. I thought the casting was a nice in-joke, pairing DC Comics' Superman with Marvel's Captain America, and I have loved Alicia Vikander's work since seeing her years ago in 'A Royal Affair'. I thought at the time she exuded both acting chops and sensuality out of every pore and would be a real monster if she ever went international--which she definitely has, both here and in 'Ex Machina'. Though I have never seen the TV series, I felt the camaraderie between the stars was refreshing, the car chases and other stunts were excellent, and, in a year most saturated with spy films (thankfully, for enthusiasts such as I), although it tanked at the box office, I for one hope it becomes a franchise. Why put the brakes on a good thing?...\",\n",
       "       b'If you enjoy reading my Spoiler-Free reviews, please follow my blog @\\r\\nhttps://www.msbreviews.com\\r\\n\\r\\nI was never the biggest fan of Scooby-Doo\\'s animated cartoon when I was young. I enjoyed it like any other kid who enjoys almost everything, but it was never a show that made me nervously excited during the day, waiting for it to come on TV. I vividly remember getting pumped, knowing that a new episode of Dragon Ball Z or Timon & Pumba would broadcast on that particular day. I never felt that way with Scooby-Doo, and honestly, I don\\'t know why. I was always curious about sci-fi and \"what lies beyond\", so maybe the fact that the goal of the show was to justify every single paranormal activity with some \"guy in a mask\" didn\\'t really appeal to the kid in me...\\r\\n\\r\\nEither way, I still liked the series, and my memory is filled with all of the show\\'s classic signatures: the (double or even triple) un-masking of the villains, Scooby jumping to Shaggy\\'s arms because they both got scared, the ridiculously large sandwiches, you name it. Ironically, the biggest compliment I can give the film also relates to its major flaw. For any fan of the show, these classic moments will provide high levels of nostalgia and entertainment, so anyone who comes looking for that will definitely get what they desire.\\r\\n\\r\\nHowever, even though Scoob! is far from feeling like a corporate flick packed with product placement (looking at you, Sonic the Hedgehog), I can\\'t help but feel that the studio was embarrassed by its own property. They try so hard to make this movie belong to 2020 that they completely forgot about what makes the show special for so many people. From the weirdly confusing song selection to the way too modern plot points, Scoob! \\'s narrative distinctly follows an Avengers-style plot (including an obvious allusion to Captain America holding his shield) focusing strongly on the superhero theme.\\r\\n\\r\\nThey didn\\'t believe that Mystery Inc. and the (successful) formulaic story were enough to hold the target audience\\'s attention, so they decided to borrow from one of the most entertaining and financially impactful genres of today, losing the essence of their own IP. Therefore, despite Scoob! having almost all of the cartoon\\'s classic scenes, it still feels detached from the source material. In addition to this, if you\\'re not a fan of Scooby-Doo and if you don\\'t know anything about it, then don\\'t expect this film to explain anything to you.\\r\\n\\r\\nFred, Velma, and Daphne get separated from Shaggy and Scooby early on (due to a hilariously dumb scene that only kids will accept), so almost no character development occurs within the first group of people. This movie focuses more on the pair\\'s adventure and their relationship dynamics (which are explored in a cliche yet efficient manner), leaving 3/5 of the Mystery Inc. feeling left off. Actually, now that I think about it, Scoob! doesn\\'t even have a mystery to solve!\\r\\n\\r\\nIn the cartoons, every episode is about discovering what or who\\'s causing a specific paranormal event. This film basically follows that formula for the first fifteen minutes (which serve as an origin story of the gang) and then takes an entirely different path story-wise. I\\'m not going to complain about the plot\\'s absurdity because it\\'s undeniably a kids\\' movie, but these forced attempts to adapt Scooby-Doo to 2020 are what ruin the whole thing for me. The voice acting is great, though, and hearing Frank Welker interpret Scooby again is incredibly joyful.\\r\\n\\r\\nAll in all, Scoob! possesses almost all of the classic moments from the original cartoon, which will surely leave fans of the series satisfied and feeling that heartwarming nostalgia. In addition to this, the voice work is really good for the most part, especially from the legend, Frank Welker as Scooby. However, the studio hurts the film with countless attempts to adapt the formulaic yet successful screenplay that the show employed for decades into 2020. From the superhero-like plot to the lack of a central mystery, Tony Cervone finds himself in a writing mess (four screenwriters and three \"story by\" credits) from a company ashamed of its own product. If you\\'re a hardcore fan of the animated show, this movie might leave you satisfied. But if you don\\'t share a special connection with these characters and their classic adventures, or if you don\\'t know anything about this franchise at all, Scoob! not only doesn\\'t care to introduce or develop its characters, but it definitely isn\\'t going to convert you.\\r\\n\\r\\nRating: C-',\n",
       "       b'Weirdly long ad.\\r\\n\\r\\nStarted out... Not good, but, promising, maybe? Got worse the further it went, and was basically garbage by the closing moments.\\r\\n\\r\\n_Final rating:\\xe2\\x98\\x85\\xe2\\x98\\x85 - Had some things that appeal to me, but a poor finished product._',\n",
       "       b'Bad. Everytime i watched Star Wars, i regret. So much hype.',\n",
       "       b'Annoying watch, probably won\\'t watch again, and can\\'t recommend.\\r\\n\\r\\nI like Eddie Murphy, I usually depend on him to carry movie given he\\'s such a big personality.  Unfortunately the character he is playing is every bit as annoying as Owen Wilson and that is amplified as, like I said, Eddie Murphy is a big personality and this character doesn\\'t call for any nuance.\\r\\n\\r\\nMalcolm MacDowell does a his great creepy villain vibe, and Famke Janssen (\"Golden Eye\": Xenia Onatopp) makes a great spy: I wish she had done more of it.\\r\\n\\r\\nThe majority of this movie is Eddie Murphy and Owen Wilson playing some stupid characters and getting into situations that they can barely handle most of the time.\\r\\n\\r\\nIt definitely doesn\\'t feel like a \"spy movie\" the same way that someone knocking over a set of steel plate armor doesn\\'t.  This is much closer to an action-comedy, maybe similar to \"Rush Hour\", but not as good.\\r\\n\\r\\nI\\'m not saying there isn\\'t anything to enjoy here, I\\'m just saying you can flip through Eddie Murphy\\'s filmography to find a better movie, and there are a lot of other movies out there to see.',\n",
       "       b'I wonder if Clint Eastwood is one of the few directors who could have gotten this movie made. It took me a while to get around to watching it, partly due to some of the negative buzz I heard out there in the Interworld.\\r\\n \\r\\nI suspect I liked this movie for the same reason a lot of the bad buzzy folks hated it. How many respected directors have the star power to get a movie made that, even with a violent Mexican drug cartel involved in the plot, turns out to be a thoughtful, mostly gentle character study of an old man awakening fully to regrets of how he treated his family in his younger years. This type of story even goes against the grain of the violent movies that made Eastwood a star in the first place. \\r\\n\\r\\nIt is not a movie I will likely watch again - there is just too much out there still to see for this movie to draw me in a second time. But it was entertaining, a fine addition to the library of diverse films directed by the Man with No Name.',\n",
       "       b\"Honestly, it took me three tries to get through this movie once. It kept putting me to sleep.\\r\\n\\r\\nThe cast do everything they can to make their scenes entertaining, but Iron Man 2 is a just an absolute waste of two hours and $200 million. 1: The stupidly integrated villain Ivan Vanko who is given no backstory or true relatable motive (even Mickey Rourke was pissed at how his character was handled). 2: The pointless subplot of how Tony Stark has to create a new element to save himself. 3: The sloppy introductions of both SHIELD and Black Widow. There's very little here that is of any actual entertainment value, or at least to balance out how tedious the whole movie is to watch. No wonder why Jon Favreau left to make more personal works.\",\n",
       "       b'Meh. This is a big budget film that fails big at retelling a tale that\\'s been told so many times before.\\r\\n\\r\\nAfter many aborted starts, I have watched this movie twice within the past year. I didn\\'t watch it multiple times because it was enjoyable and I wanted to experience it again. I watched it twice because it was so unmemorable that I didn\\'t remember that I\\'d already seen it. Or maybe it was such an awful experience that my mind blocked it from my memories.\\r\\n\\r\\nThe most memorable line in the film comes as Marian discovers that Robin is the Hood.\\r\\n\\r\\n\"You call that a disguise!?\", asks Miriam, referring to his hood which has become the public symbol of his thieving.\\r\\n\\r\\nTo which Robin replies: \"Well, it fooled everybody else!\"\\r\\n\\r\\nI ask \"You call this entertainment!?\", but I won\\'t wait for a reply.\\r\\n\\r\\nI\\'d write more details about this film, but I can\\'t bear to think about it. I mostly write this review as a reminder to my future self to not waste further time my watching this movie a third time.',\n",
       "       b'Olympus Has Fallen ironically insults America\\xe2\\x80\\x99s national security through lunacy and patriotism. \\xe2\\x80\\x9cDie Hard in the White House\\xe2\\x80\\x9d claims British lads\\xe2\\x80\\x99 magazine Zoo, divulging into the testosterone-fuelled minds of its laddish readers. To be fair to them, Fuqua\\xe2\\x80\\x99s patriotic perspective of a national terrorist attack is exactly that. A \\xe2\\x80\\x98Die Hard\\xe2\\x80\\x99 rip-off that relies on the same narrative rhythms beat-for-beat. One man, and only one man, can save the day by gradually depleting the numbers of the antagonistic gang that harness either monetary or diplomatic motives. But where the aforementioned feature excelled, this action extravaganza flopped.\\r\\n\\r\\nIn apparently thirteen minutes, the entire Secret Service force is massacred at the hands of Korean ultra-nationalists, at the White House, in the middle of the day. \\xe2\\x80\\x9cThe most secure building in the world\\xe2\\x80\\x9d exclaimed one of the useless decision makers attempting to assist the Acting President. Yeah. That\\xe2\\x80\\x99s an armoury of irony right there. Olympus Has Fallen is so unrealistic in plot, that for the majority of its runtime you\\xe2\\x80\\x99re left baffled as to how any of it was conceptualised. Fully trained Security guards joyfully skip towards barrages of bullets. Protocols are broken left, right and centre. The frickin\\xe2\\x80\\x99 Army Chief of Staff sends a fleet of armed helicopters into a danger zone despite already acknowledging the opposition acquiring a ridiculously overpowered turret. Boom! Dead. The lack of intelligence for its characters is, quite frankly, insulting. Especially when this action blockbuster is supposed to be shrouded in patriotism.\\r\\n\\r\\nThe worst offender though is the obtuse amount of horrifically rendered visual effects. From blatantly obvious green screens to clunky polygonal helicopters floating around aimlessly. It was as if the team played \\xe2\\x80\\x98Grand Theft Auto: San Andreas\\xe2\\x80\\x99 and directly extracted the models from it. Just woefully terrible. Fortunately Butler emanated his \\xe2\\x80\\x9ctough guy\\xe2\\x80\\x9d brutality in the central role, because he was continually stabbing Koreans through the skull, throat and legs. A convincingly physical role that was perfectly suited to his acting style, enabling him to destroy his opponents whilst injecting some light buoyancy. Unfortunately the screenplay is limited in the \\xe2\\x80\\x9cfun\\xe2\\x80\\x9d department, taking the narrative extremely seriously, which hindered the nostalgic cheesiness of 80s action blockbusters that Fuqua took inspiration from.\\r\\n\\r\\nSpeaking of, his directing style was taut as expected, with much focus on the shenanigans taking place within the Presidential bunker. But the frenetic editing hindered his clarity. Eckhart provided strength as the President, but as usual, picks lacklustre films to repress his talent. Freeman shouted at one point and I quivered. Bassett, Mitchell and Yune were underused and Leo overacted. Oh, and who stops a countdown at three seconds? Let it go down to one! Create that suspense for flip sake!\\r\\n\\r\\nSo yes, for thirsty action viewers who crave violence blended with one-dimensional characters, unintelligent plot points and obscene amounts of polygonal visual effects, Olympus Has Fallen has got you covered. However, if you prefer your action blockbusters with an ounce of excitement, might I suggest a minuscule film called \\xe2\\x80\\x98Die Hard\\xe2\\x80\\x99?'],\n",
       "      dtype=object)>"
      ]
     },
     "execution_count": 95,
     "metadata": {},
     "output_type": "execute_result"
    }
   ],
   "source": [
    "# Preview the text\n",
    "ds_texts.take(1).get_single_element()"
   ]
  },
  {
   "cell_type": "markdown",
   "id": "a48ae78d-ce0b-40ed-b2b6-8e5d6ff9b0f4",
   "metadata": {},
   "source": [
    "#### Create a Keras Text Vectorization layer\n",
    "\n",
    "    Create a Keras text vectorization layer for an RNN (sequence) model.\n",
    "    Fit/Adapt the text vectorization layer on the training texts.\n",
    "    Save the vocabulary size from the layer to use in your models' Embedding layer."
   ]
  },
  {
   "cell_type": "code",
   "execution_count": 79,
   "id": "cf78a76b-a9ad-4281-b0e8-231ad3560686",
   "metadata": {},
   "outputs": [],
   "source": [
    "# Create keras text Vectorization layer\n",
    "sequence_vectorizer = tf.keras.layers.TextVectorization(\n",
    "    standardize=\"lower_and_strip_punctuation\",\n",
    "    output_mode=\"int\",\n",
    "    output_sequence_length=SEQUENCE_LENGTH\n",
    ")"
   ]
  },
  {
   "cell_type": "code",
   "execution_count": 101,
   "id": "a959fd27-bb18-4857-a899-034937407ac9",
   "metadata": {},
   "outputs": [],
   "source": [
    "# # same as above cell. pick one.Define vectorizer layer. Use the custom function to build and fit the vectorizer before using it in model\n",
    "# vectorizer, lookup = fn.make_text_vectorization_layer(train_ds, output_mode='int',output_sequence_length=SEQUENCE_LENGTH"
   ]
  },
  {
   "cell_type": "code",
   "execution_count": 96,
   "id": "ce0e1883-72d9-413b-a4e5-7db845b2f2a5",
   "metadata": {},
   "outputs": [
    {
     "data": {
      "text/plain": [
       "24994"
      ]
     },
     "execution_count": 96,
     "metadata": {},
     "output_type": "execute_result"
    }
   ],
   "source": [
    "# Fit/Adapt the text vectorization layer on the training texts.\n",
    "sequence_vectorizer.adapt(ds_texts)\n"
   ]
  },
  {
   "cell_type": "code",
   "execution_count": 97,
   "id": "850f8f85-f5ca-4a4f-88f8-4cdfb1f1c195",
   "metadata": {},
   "outputs": [],
   "source": [
    "# Save the vocabulary size from the layer to use in your models' Embedding layer.\n",
    "VOCAB_SIZE = sequence_vectorizer.vocabulary_size()"
   ]
  },
  {
   "cell_type": "code",
   "execution_count": 99,
   "id": "f2965071-5b6b-4526-9ae1-5c6cf436e978",
   "metadata": {},
   "outputs": [
    {
     "data": {
      "text/plain": [
       "array([0, 1])"
      ]
     },
     "execution_count": 99,
     "metadata": {},
     "output_type": "execute_result"
    }
   ],
   "source": [
    "# unique classes\n",
    "classes = y.unique()\n",
    "classes"
   ]
  },
  {
   "cell_type": "markdown",
   "id": "e5017444-7056-410a-b30d-51122b292f7a",
   "metadata": {},
   "source": [
    "#### Build an RNN with the TextVectorization Layer\n",
    "\n",
    "    Build and fit at least 1 sequence model (LSTM, GRU, Bidirectional, etc.)\n",
    "\n",
    "    Evaluate the model on the training and test data.\n",
    "\n",
    "        In a Markdown cell, document your observations from your results. (e.g., How did the RNN compare to your ML model? Was it superior to your ML model in some way (e.g., accuracy, recall, etc.)"
   ]
  },
  {
   "cell_type": "code",
   "execution_count": null,
   "id": "7d5b8cab-097f-488a-ad11-5cef89f42c00",
   "metadata": {},
   "outputs": [],
   "source": []
  },
  {
   "cell_type": "code",
   "execution_count": null,
   "id": "d5c8e450-3978-407f-83cc-cc90bd85440e",
   "metadata": {},
   "outputs": [],
   "source": []
  },
  {
   "cell_type": "code",
   "execution_count": null,
   "id": "f75a0043-95d9-4599-85fc-771e4ea86872",
   "metadata": {},
   "outputs": [],
   "source": []
  }
 ],
 "metadata": {
  "kernelspec": {
   "display_name": "Python (dojo-env)",
   "language": "python",
   "name": "dojo-env"
  },
  "language_info": {
   "codemirror_mode": {
    "name": "ipython",
    "version": 3
   },
   "file_extension": ".py",
   "mimetype": "text/x-python",
   "name": "python",
   "nbconvert_exporter": "python",
   "pygments_lexer": "ipython3",
   "version": "3.10.10"
  },
  "widgets": {
   "application/vnd.jupyter.widget-state+json": {
    "state": {},
    "version_major": 2,
    "version_minor": 0
   }
  }
 },
 "nbformat": 4,
 "nbformat_minor": 5
}
