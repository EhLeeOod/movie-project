{
 "cells": [
  {
   "cell_type": "markdown",
   "id": "be4bb060-d0f5-43e3-96d3-9467441f4353",
   "metadata": {},
   "source": [
    "# Project 2 Part 6: Review Classification"
   ]
  },
  {
   "cell_type": "markdown",
   "id": "62e1eb4a-f29a-435f-aa96-480cc196b802",
   "metadata": {},
   "source": [
    "### Load the Data\n",
    "\n",
    "Load the joblib containing the data frame from Part 5 of the project.\n",
    "\n",
    "Drop any reviews that do not have a rating.\n",
    "\n",
    "Use the original review column as your X and the classification target (High/Low Rating Reviews) as your y.\n",
    "\n",
    "### Build a Machine Learning Model\r\n",
    "\r\n",
    "Build a sklearn modeling pipeline with a text vectorizer and a classification model.\r\n",
    "\r\n",
    "Suggested Models: MultinomialNB, LogisticRegression (you may need to increase max_iter), RandomForestClassifier\r\n",
    "Fit and evaluate the model using the machine learning classification models from sklearn.\r\n",
    "\r\n",
    "In a Markdown cell, document your observations from your results. (e.g., how good is the model overall? Is it particularly good/bad at predicting one class?)"
   ]
  },
  {
   "cell_type": "markdown",
   "id": "02cfe2ec-a2f3-49f9-9258-020e245081cd",
   "metadata": {},
   "source": [
    "## Imports"
   ]
  },
  {
   "cell_type": "code",
   "execution_count": 82,
   "id": "94a970e2-5d97-43dc-980c-98e30d647be4",
   "metadata": {},
   "outputs": [
    {
     "name": "stdout",
     "output_type": "stream",
     "text": [
      "The autoreload extension is already loaded. To reload it, use:\n",
      "  %reload_ext autoreload\n"
     ]
    }
   ],
   "source": [
    "# packages\n",
    "%load_ext autoreload\n",
    "%autoreload 2\n",
    "import functions as fn\n",
    "import pandas as pd\n",
    "import joblib\n",
    "from sklearn.pipeline import make_pipeline\n",
    "from sklearn.pipeline import Pipeline\n",
    "from sklearn.feature_extraction.text import CountVectorizer\n",
    "from sklearn.ensemble import RandomForestClassifier\n",
    "from sklearn.model_selection import train_test_split, GridSearchCV\n",
    "\n",
    "from sklearn.metrics import classification_report, ConfusionMatrixDisplay\n",
    "import matplotlib.pyplot as plt\n",
    "import numpy as np\n",
    "import tensorflow as tf\n",
    "from sklearn.preprocessing import LabelEncoder\n",
    "from tensorflow.keras.models import Sequential\n",
    "from tensorflow.keras import layers, optimizers, regularizers"
   ]
  },
  {
   "cell_type": "code",
   "execution_count": 2,
   "id": "8bcfb48f-3615-476d-9b4d-7ba46ae99f2f",
   "metadata": {},
   "outputs": [],
   "source": [
    "# functions\n",
    "\n",
    "\n",
    "def classification_metrics(y_true, y_pred, label='',\n",
    "                           output_dict=False, figsize=(8,4),\n",
    "                           normalize='true', cmap='Blues',\n",
    "                           colorbar=False,values_format=\".2f\"):\n",
    "    \"\"\"Modified version of classification metrics function from Intro to Machine Learning.\n",
    "    Updates:\n",
    "    - Reversed raw counts confusion matrix cmap  (so darker==more).\n",
    "    - Added arg for normalized confusion matrix values_format\n",
    "    \"\"\"\n",
    "    # Get the classification report\n",
    "    report = classification_report(y_true, y_pred)\n",
    "    \n",
    "    ## Print header and report\n",
    "    header = \"-\"*70\n",
    "    print(header, f\" Classification Metrics: {label}\", header, sep='\\n')\n",
    "    print(report)\n",
    "    \n",
    "    ## CONFUSION MATRICES SUBPLOTS\n",
    "    fig, axes = plt.subplots(ncols=2, figsize=figsize)\n",
    "    \n",
    "    # Create a confusion matrix  of raw counts (left subplot)\n",
    "    ConfusionMatrixDisplay.from_predictions(y_true, y_pred,\n",
    "                                            normalize=None, \n",
    "                                            cmap='gist_gray_r',# Updated cmap\n",
    "                                            values_format=\"d\", \n",
    "                                            colorbar=colorbar,\n",
    "                                            ax = axes[0]);\n",
    "    axes[0].set_title(\"Raw Counts\")\n",
    "    \n",
    "    # Create a confusion matrix with the data with normalize argument \n",
    "    ConfusionMatrixDisplay.from_predictions(y_true, y_pred,\n",
    "                                            normalize=normalize,\n",
    "                                            cmap=cmap, \n",
    "                                            values_format=values_format, #New arg\n",
    "                                            colorbar=colorbar,\n",
    "                                            ax = axes[1]);\n",
    "    axes[1].set_title(\"Normalized Confusion Matrix\")\n",
    "    \n",
    "    # Adjust layout and show figure\n",
    "    fig.tight_layout()\n",
    "    plt.show()\n",
    "    \n",
    "    # Return dictionary of classification_report\n",
    "    if output_dict==True:\n",
    "        report_dict = classification_report(y_true, y_pred, output_dict=True)\n",
    "        return report_dict\n",
    "def evaluate_classification(model, X_train, y_train, X_test, y_test,\n",
    "                         figsize=(6,4), normalize='true', output_dict = False,\n",
    "                            cmap_train='Blues', cmap_test=\"Reds\",colorbar=False):\n",
    "  # Get predictions for training data\n",
    "  y_train_pred = model.predict(X_train)\n",
    "  # Call the helper function to obtain regression metrics for training data\n",
    "  results_train = classification_metrics(y_train, y_train_pred, #verbose = verbose,\n",
    "                                     output_dict=True, figsize=figsize,\n",
    "                                         colorbar=colorbar, cmap=cmap_train,\n",
    "                                     label='Training Data')\n",
    "  print()\n",
    "  # Get predictions for test data\n",
    "  y_test_pred = model.predict(X_test)\n",
    "  # Call the helper function to obtain regression metrics for test data\n",
    "  results_test = classification_metrics(y_test, y_test_pred, #verbose = verbose,\n",
    "                                  output_dict=True,figsize=figsize,\n",
    "                                         colorbar=colorbar, cmap=cmap_test,\n",
    "                                    label='Test Data' )\n",
    "  if output_dict == True:\n",
    "    # Store results in a dataframe if ouput_frame is True\n",
    "    results_dict = {'train':results_train,\n",
    "                    'test': results_test}\n",
    "    return results_dict\n",
    "\n",
    "def evaluate_classification_network(model, \n",
    "                                    X_train=None, y_train=None, \n",
    "                                    X_test=None, y_test=None,\n",
    "                                    history=None, history_figsize=(6,6),\n",
    "                                    figsize=(6,4), normalize='true',\n",
    "                                    output_dict = False,\n",
    "                                    cmap_train='Blues',\n",
    "                                    cmap_test=\"Reds\",\n",
    "                                    values_format=\".2f\", \n",
    "                                    colorbar=False):\n",
    "    \"\"\"Evaluates a neural network classification task using either\n",
    "    separate X and y arrays or a tensorflow Dataset\n",
    "    \n",
    "    Data Args:\n",
    "        X_train (array, or Dataset)\n",
    "        y_train (array, or None if using a Dataset\n",
    "        X_test (array, or Dataset)\n",
    "        y_test (array, or None if using a Dataset)\n",
    "        history (history object)\n",
    "        \"\"\"\n",
    "    # Plot history, if provided\n",
    "    if history is not None:\n",
    "        plot_history(history, figsize=history_figsize)\n",
    "    ## Adding a Print Header\n",
    "    print(\"\\n\"+'='*80)\n",
    "    print('- Evaluating Network...')\n",
    "    print('='*80)\n",
    "    ## TRAINING DATA EVALUATION\n",
    "    # check if X_train was provided\n",
    "    if X_train is not None:\n",
    "        ## Check if X_train is a dataset\n",
    "        if hasattr(X_train,'map'):\n",
    "            # If it IS a Datset:\n",
    "            # extract y_train and y_train_pred with helper function\n",
    "            y_train, y_train_pred = get_true_pred_labels(model, X_train)\n",
    "        else:\n",
    "            # Get predictions for training data\n",
    "            y_train_pred = model.predict(X_train)\n",
    "        ## Pass both y-vars through helper compatibility function\n",
    "        y_train = convert_y_to_sklearn_classes(y_train)\n",
    "        y_train_pred = convert_y_to_sklearn_classes(y_train_pred)\n",
    "        \n",
    "        # Call the helper function to obtain regression metrics for training data\n",
    "        results_train = classification_metrics(y_train, y_train_pred, \n",
    "                                         output_dict=True, figsize=figsize,\n",
    "                                             colorbar=colorbar, cmap=cmap_train,\n",
    "                                               values_format=values_format,\n",
    "                                         label='Training Data')\n",
    "        \n",
    "        ## Run model.evaluate         \n",
    "        print(\"\\n- Evaluating Training Data:\")\n",
    "        print(model.evaluate(X_train, return_dict=True))\n",
    "    \n",
    "    # If no X_train, then save empty list for results_train\n",
    "    else:\n",
    "        results_train = []\n",
    "    ## TEST DATA EVALUATION\n",
    "    # check if X_test was provided\n",
    "    if X_test is not None:\n",
    "        ## Check if X_train is a dataset\n",
    "        if hasattr(X_test,'map'):\n",
    "            # If it IS a Datset:\n",
    "            # extract y_train and y_train_pred with helper function\n",
    "            y_test, y_test_pred = get_true_pred_labels(model, X_test)\n",
    "        else:\n",
    "            # Get predictions for training data\n",
    "            y_test_pred = model.predict(X_test)\n",
    "        ## Pass both y-vars through helper compatibility function\n",
    "        y_test = convert_y_to_sklearn_classes(y_test)\n",
    "        y_test_pred = convert_y_to_sklearn_classes(y_test_pred)\n",
    "        \n",
    "        # Call the helper function to obtain regression metrics for training data\n",
    "        results_test = classification_metrics(y_test, y_test_pred, \n",
    "                                         output_dict=True, figsize=figsize,\n",
    "                                             colorbar=colorbar, cmap=cmap_test,\n",
    "                                              values_format=values_format,\n",
    "                                         label='Test Data')\n",
    "        \n",
    "        ## Run model.evaluate         \n",
    "        print(\"\\n- Evaluating Test Data:\")\n",
    "        print(model.evaluate(X_test, return_dict=True))\n",
    "      \n",
    "    # If no X_test, then save empty list for results_test\n",
    "    else:\n",
    "        results_test = []\n",
    "      \n",
    "    # Store results in a dictionary\n",
    "    results_dict = {'train':results_train,\n",
    "                    'test': results_test}\n",
    "    if output_dict == True:\n",
    "        return results_dict\n",
    "\n",
    "def plot_history(history,figsize=(6,8)):\n",
    "    # Get a unique list of metrics \n",
    "    all_metrics = np.unique([k.replace('val_','') for k in history.history.keys()])\n",
    "    # Plot each metric\n",
    "    n_plots = len(all_metrics)\n",
    "    fig, axes = plt.subplots(nrows=n_plots, figsize=figsize)\n",
    "    axes = axes.flatten()\n",
    "    # Loop through metric names add get an index for the axes\n",
    "    for i, metric in enumerate(all_metrics):\n",
    "        # Get the epochs and metric values\n",
    "        epochs = history.epoch\n",
    "        score = history.history[metric]\n",
    "        # Plot the training results\n",
    "        axes[i].plot(epochs, score, label=metric, marker='.')\n",
    "        # Plot val results (if they exist)\n",
    "        try:\n",
    "            val_score = history.history[f\"val_{metric}\"]\n",
    "            axes[i].plot(epochs, val_score, label=f\"val_{metric}\",marker='.')\n",
    "        except:\n",
    "            pass\n",
    "        finally:\n",
    "            axes[i].legend()\n",
    "            axes[i].set(title=metric, xlabel=\"Epoch\",ylabel=metric)\n",
    "    # Adjust subplots and show\n",
    "    fig.tight_layout()\n",
    "    plt.show()\n",
    "\n",
    "def get_true_pred_labels(model,ds):\n",
    "    \"\"\"Gets the labels and predicted probabilities from a Tensorflow model and Dataset object.\n",
    "    Adapted from source: https://stackoverflow.com/questions/66386561/keras-classification-report-accuracy-is-different-between-model-predict-accurac\n",
    "    \"\"\"\n",
    "    y_true = []\n",
    "    y_pred_probs = []\n",
    "    \n",
    "    # Loop through the dataset as a numpy iterator\n",
    "    for images, labels in ds.as_numpy_iterator():\n",
    "        \n",
    "        # Get prediction with batch_size=1\n",
    "        y_probs = model.predict(images, batch_size=1, verbose=0)\n",
    "        # Combine previous labels/preds with new labels/preds\n",
    "        y_true.extend(labels)\n",
    "        y_pred_probs.extend(y_probs)\n",
    "    ## Convert the lists to arrays\n",
    "    y_true = np.array(y_true)\n",
    "    y_pred_probs = np.array(y_pred_probs)\n",
    "    \n",
    "    return y_true, y_pred_probs\n",
    "\n",
    "def convert_y_to_sklearn_classes(y, verbose=False):\n",
    "    # If already one-dimension\n",
    "    if np.ndim(y)==1:\n",
    "        if verbose:\n",
    "            print(\"- y is 1D, using it as-is.\")\n",
    "        return y\n",
    "        \n",
    "    # If 2 dimensions with more than 1 column:\n",
    "    elif y.shape[1]>1:\n",
    "        if verbose:\n",
    "            print(\"- y is 2D with >1 column. Using argmax for metrics.\")   \n",
    "        return np.argmax(y, axis=1)\n",
    "    \n",
    "    else:\n",
    "        if verbose:\n",
    "            print(\"y is 2D with 1 column. Using round for metrics.\")\n",
    "        return np.round(y).flatten().astype(int)"
   ]
  },
  {
   "cell_type": "markdown",
   "id": "6b46274a-99d9-4cda-b0b7-8e80997e3613",
   "metadata": {},
   "source": [
    "#### Load Part 5 joblib"
   ]
  },
  {
   "cell_type": "code",
   "execution_count": 3,
   "id": "9f5fc250-1599-4257-a628-6c1bef692ca7",
   "metadata": {},
   "outputs": [],
   "source": [
    "# load joblib\n",
    "df = joblib.load('Data-NLP/df-proj-2-part-5.joblib')"
   ]
  },
  {
   "cell_type": "code",
   "execution_count": 4,
   "id": "33aef109-d748-4e21-a95f-27f68d29ac1b",
   "metadata": {},
   "outputs": [
    {
     "data": {
      "text/html": [
       "<div>\n",
       "<style scoped>\n",
       "    .dataframe tbody tr th:only-of-type {\n",
       "        vertical-align: middle;\n",
       "    }\n",
       "\n",
       "    .dataframe tbody tr th {\n",
       "        vertical-align: top;\n",
       "    }\n",
       "\n",
       "    .dataframe thead th {\n",
       "        text-align: right;\n",
       "    }\n",
       "</style>\n",
       "<table border=\"1\" class=\"dataframe\">\n",
       "  <thead>\n",
       "    <tr style=\"text-align: right;\">\n",
       "      <th></th>\n",
       "      <th>review_id</th>\n",
       "      <th>movie_id</th>\n",
       "      <th>imdb_id</th>\n",
       "      <th>original_title</th>\n",
       "      <th>review</th>\n",
       "      <th>rating</th>\n",
       "      <th>high_low</th>\n",
       "      <th>review_lowercase</th>\n",
       "      <th>tokens</th>\n",
       "      <th>spacy_lemmas</th>\n",
       "      <th>lemmas_joined</th>\n",
       "      <th>neg</th>\n",
       "      <th>neu</th>\n",
       "      <th>pos</th>\n",
       "      <th>compound</th>\n",
       "    </tr>\n",
       "  </thead>\n",
       "  <tbody>\n",
       "    <tr>\n",
       "      <th>0</th>\n",
       "      <td>64ecc16e83901800af821d50</td>\n",
       "      <td>843</td>\n",
       "      <td>tt0118694</td>\n",
       "      <td>花樣年華</td>\n",
       "      <td>This is a fine piece of cinema from Wong Kar-W...</td>\n",
       "      <td>7.0</td>\n",
       "      <td>med</td>\n",
       "      <td>this is a fine piece of cinema from wong kar-w...</td>\n",
       "      <td>[this, is, a, fine, piece, of, cinema, from, w...</td>\n",
       "      <td>[fine, piece, cinema, wong, kar, wai, tell, st...</td>\n",
       "      <td>fine piece cinema wong kar wai tell story peop...</td>\n",
       "      <td>0.068</td>\n",
       "      <td>0.744</td>\n",
       "      <td>0.188</td>\n",
       "      <td>0.9908</td>\n",
       "    </tr>\n",
       "    <tr>\n",
       "      <th>1</th>\n",
       "      <td>57086ff5c3a3681d29001512</td>\n",
       "      <td>7443</td>\n",
       "      <td>tt0120630</td>\n",
       "      <td>Chicken Run</td>\n",
       "      <td>A guilty pleasure for me personally, as I love...</td>\n",
       "      <td>9.0</td>\n",
       "      <td>high</td>\n",
       "      <td>a guilty pleasure for me personally, as i love...</td>\n",
       "      <td>[a, guilty, pleasure, for, me, personally,, as...</td>\n",
       "      <td>[guilty, pleasure, personally, love, great, es...</td>\n",
       "      <td>guilty pleasure personally love great escape w...</td>\n",
       "      <td>0.053</td>\n",
       "      <td>0.587</td>\n",
       "      <td>0.360</td>\n",
       "      <td>0.9450</td>\n",
       "    </tr>\n",
       "    <tr>\n",
       "      <th>2</th>\n",
       "      <td>5bb5ac829251410dcb00810c</td>\n",
       "      <td>7443</td>\n",
       "      <td>tt0120630</td>\n",
       "      <td>Chicken Run</td>\n",
       "      <td>Made my roommate who hates stop-motion animati...</td>\n",
       "      <td>6.0</td>\n",
       "      <td>med</td>\n",
       "      <td>made my roommate who hates stop-motion animati...</td>\n",
       "      <td>[made, my, roommate, who, hates, stop-motion, ...</td>\n",
       "      <td>[roommate, hate, stop, motion, animation, watc...</td>\n",
       "      <td>roommate hate stop motion animation watch 2018...</td>\n",
       "      <td>0.071</td>\n",
       "      <td>0.776</td>\n",
       "      <td>0.153</td>\n",
       "      <td>0.7006</td>\n",
       "    </tr>\n",
       "    <tr>\n",
       "      <th>3</th>\n",
       "      <td>5f0c53a013a32000357ec505</td>\n",
       "      <td>7443</td>\n",
       "      <td>tt0120630</td>\n",
       "      <td>Chicken Run</td>\n",
       "      <td>A very good stop-motion animation!\\r\\n\\r\\n&lt;em&gt;...</td>\n",
       "      <td>8.0</td>\n",
       "      <td>med</td>\n",
       "      <td>a very good stop-motion animation!\\r\\n\\r\\n&lt;em&gt;...</td>\n",
       "      <td>[a, very, good, stop-motion, animation!, &lt;em&gt;'...</td>\n",
       "      <td>[good, stop, motion, animation, &lt;, em&gt;'chicken...</td>\n",
       "      <td>good stop motion animation &lt; em&gt;'chicken run'&lt;...</td>\n",
       "      <td>0.039</td>\n",
       "      <td>0.637</td>\n",
       "      <td>0.325</td>\n",
       "      <td>0.9944</td>\n",
       "    </tr>\n",
       "    <tr>\n",
       "      <th>4</th>\n",
       "      <td>64ecc027594c9400ffe77c91</td>\n",
       "      <td>7443</td>\n",
       "      <td>tt0120630</td>\n",
       "      <td>Chicken Run</td>\n",
       "      <td>Ok, there is an huge temptation to riddle this...</td>\n",
       "      <td>7.0</td>\n",
       "      <td>med</td>\n",
       "      <td>ok, there is an huge temptation to riddle this...</td>\n",
       "      <td>[ok,, there, is, an, huge, temptation, to, rid...</td>\n",
       "      <td>[ok, huge, temptation, riddle, review, pun, go...</td>\n",
       "      <td>ok huge temptation riddle review pun go crack ...</td>\n",
       "      <td>0.056</td>\n",
       "      <td>0.699</td>\n",
       "      <td>0.245</td>\n",
       "      <td>0.9943</td>\n",
       "    </tr>\n",
       "  </tbody>\n",
       "</table>\n",
       "</div>"
      ],
      "text/plain": [
       "                  review_id  movie_id    imdb_id original_title  \\\n",
       "0  64ecc16e83901800af821d50       843  tt0118694           花樣年華   \n",
       "1  57086ff5c3a3681d29001512      7443  tt0120630    Chicken Run   \n",
       "2  5bb5ac829251410dcb00810c      7443  tt0120630    Chicken Run   \n",
       "3  5f0c53a013a32000357ec505      7443  tt0120630    Chicken Run   \n",
       "4  64ecc027594c9400ffe77c91      7443  tt0120630    Chicken Run   \n",
       "\n",
       "                                              review  rating high_low  \\\n",
       "0  This is a fine piece of cinema from Wong Kar-W...     7.0      med   \n",
       "1  A guilty pleasure for me personally, as I love...     9.0     high   \n",
       "2  Made my roommate who hates stop-motion animati...     6.0      med   \n",
       "3  A very good stop-motion animation!\\r\\n\\r\\n<em>...     8.0      med   \n",
       "4  Ok, there is an huge temptation to riddle this...     7.0      med   \n",
       "\n",
       "                                    review_lowercase  \\\n",
       "0  this is a fine piece of cinema from wong kar-w...   \n",
       "1  a guilty pleasure for me personally, as i love...   \n",
       "2  made my roommate who hates stop-motion animati...   \n",
       "3  a very good stop-motion animation!\\r\\n\\r\\n<em>...   \n",
       "4  ok, there is an huge temptation to riddle this...   \n",
       "\n",
       "                                              tokens  \\\n",
       "0  [this, is, a, fine, piece, of, cinema, from, w...   \n",
       "1  [a, guilty, pleasure, for, me, personally,, as...   \n",
       "2  [made, my, roommate, who, hates, stop-motion, ...   \n",
       "3  [a, very, good, stop-motion, animation!, <em>'...   \n",
       "4  [ok,, there, is, an, huge, temptation, to, rid...   \n",
       "\n",
       "                                        spacy_lemmas  \\\n",
       "0  [fine, piece, cinema, wong, kar, wai, tell, st...   \n",
       "1  [guilty, pleasure, personally, love, great, es...   \n",
       "2  [roommate, hate, stop, motion, animation, watc...   \n",
       "3  [good, stop, motion, animation, <, em>'chicken...   \n",
       "4  [ok, huge, temptation, riddle, review, pun, go...   \n",
       "\n",
       "                                       lemmas_joined    neg    neu    pos  \\\n",
       "0  fine piece cinema wong kar wai tell story peop...  0.068  0.744  0.188   \n",
       "1  guilty pleasure personally love great escape w...  0.053  0.587  0.360   \n",
       "2  roommate hate stop motion animation watch 2018...  0.071  0.776  0.153   \n",
       "3  good stop motion animation < em>'chicken run'<...  0.039  0.637  0.325   \n",
       "4  ok huge temptation riddle review pun go crack ...  0.056  0.699  0.245   \n",
       "\n",
       "   compound  \n",
       "0    0.9908  \n",
       "1    0.9450  \n",
       "2    0.7006  \n",
       "3    0.9944  \n",
       "4    0.9943  "
      ]
     },
     "execution_count": 4,
     "metadata": {},
     "output_type": "execute_result"
    }
   ],
   "source": [
    "# preview df\n",
    "df.head()"
   ]
  },
  {
   "cell_type": "markdown",
   "id": "24dee2b5-8fc4-4814-90c0-d48384e8b006",
   "metadata": {},
   "source": [
    "#### Drop any reviews that do not have a rating."
   ]
  },
  {
   "cell_type": "code",
   "execution_count": 5,
   "id": "868d19eb-a38a-43b1-a88e-3a41987044df",
   "metadata": {},
   "outputs": [],
   "source": [
    "# drop any rows with na in rating column\n",
    "df = df.dropna(subset=['rating'])"
   ]
  },
  {
   "cell_type": "code",
   "execution_count": 6,
   "id": "2883b70d-8a42-4dfd-8991-fad11c63208b",
   "metadata": {},
   "outputs": [],
   "source": [
    "# drop rows with 'med' rating\n",
    "df = df[df.high_low != 'med']"
   ]
  },
  {
   "cell_type": "code",
   "execution_count": 7,
   "id": "c5ae66ec-a65a-4d9e-ac7a-f60497fc336b",
   "metadata": {},
   "outputs": [
    {
     "name": "stdout",
     "output_type": "stream",
     "text": [
      "<class 'pandas.core.frame.DataFrame'>\n",
      "Int64Index: 2419 entries, 1 to 8647\n",
      "Data columns (total 15 columns):\n",
      " #   Column            Non-Null Count  Dtype  \n",
      "---  ------            --------------  -----  \n",
      " 0   review_id         2419 non-null   object \n",
      " 1   movie_id          2419 non-null   int64  \n",
      " 2   imdb_id           2419 non-null   object \n",
      " 3   original_title    2419 non-null   object \n",
      " 4   review            2419 non-null   object \n",
      " 5   rating            2419 non-null   float64\n",
      " 6   high_low          2419 non-null   object \n",
      " 7   review_lowercase  2419 non-null   object \n",
      " 8   tokens            2419 non-null   object \n",
      " 9   spacy_lemmas      2419 non-null   object \n",
      " 10  lemmas_joined     2419 non-null   object \n",
      " 11  neg               2419 non-null   float64\n",
      " 12  neu               2419 non-null   float64\n",
      " 13  pos               2419 non-null   float64\n",
      " 14  compound          2419 non-null   float64\n",
      "dtypes: float64(5), int64(1), object(9)\n",
      "memory usage: 302.4+ KB\n"
     ]
    }
   ],
   "source": [
    "# verify changes\n",
    "df.info()"
   ]
  },
  {
   "cell_type": "markdown",
   "id": "ef63f29f-b8f7-4a1a-804f-8d5bd0459fc9",
   "metadata": {},
   "source": [
    "#### Use the original review column as your X and the classification target (High/Low Rating Reviews) as your y."
   ]
  },
  {
   "cell_type": "code",
   "execution_count": 8,
   "id": "fdd208f3-2032-46db-a9aa-6629e7a62b00",
   "metadata": {},
   "outputs": [],
   "source": [
    "# assign X and y\n",
    "X = df['review']\n",
    "y = df['high_low']"
   ]
  },
  {
   "cell_type": "code",
   "execution_count": 9,
   "id": "ab62c789-abac-4252-ad0e-dce17035225c",
   "metadata": {},
   "outputs": [],
   "source": [
    "# train test split\n",
    "X_train, X_test, y_train, y_test = train_test_split(X,y,test_size=0.25,\n",
    "                                                    random_state=42)"
   ]
  },
  {
   "cell_type": "markdown",
   "id": "7a3dedcb-2c71-4c67-8ce6-9b75e03be8f7",
   "metadata": {},
   "source": [
    "## Build a Machine Learning Model"
   ]
  },
  {
   "cell_type": "markdown",
   "id": "1c0343cf-785f-437e-9088-963bf1094c53",
   "metadata": {},
   "source": [
    "### Build a sklearn modeling pipeline with a text vectorizer and a classification model.\n",
    "\n",
    "Suggested Models: MultinomialNB, LogisticRegression (you may need to increase max_iter), RandomForestClassifier"
   ]
  },
  {
   "cell_type": "code",
   "execution_count": 10,
   "id": "43eea999-5921-4d7c-bb3e-fb06d4a05dbc",
   "metadata": {},
   "outputs": [
    {
     "data": {
      "text/plain": [
       "low     0.505994\n",
       "high    0.494006\n",
       "Name: high_low, dtype: float64"
      ]
     },
     "execution_count": 10,
     "metadata": {},
     "output_type": "execute_result"
    }
   ],
   "source": [
    "# check class balance\n",
    "y.value_counts(normalize=True)"
   ]
  },
  {
   "cell_type": "code",
   "execution_count": 11,
   "id": "389eca68-30e6-4049-bd41-d6df1cae0811",
   "metadata": {},
   "outputs": [
    {
     "data": {
      "text/html": [
       "<style>#sk-container-id-1 {color: black;background-color: white;}#sk-container-id-1 pre{padding: 0;}#sk-container-id-1 div.sk-toggleable {background-color: white;}#sk-container-id-1 label.sk-toggleable__label {cursor: pointer;display: block;width: 100%;margin-bottom: 0;padding: 0.3em;box-sizing: border-box;text-align: center;}#sk-container-id-1 label.sk-toggleable__label-arrow:before {content: \"▸\";float: left;margin-right: 0.25em;color: #696969;}#sk-container-id-1 label.sk-toggleable__label-arrow:hover:before {color: black;}#sk-container-id-1 div.sk-estimator:hover label.sk-toggleable__label-arrow:before {color: black;}#sk-container-id-1 div.sk-toggleable__content {max-height: 0;max-width: 0;overflow: hidden;text-align: left;background-color: #f0f8ff;}#sk-container-id-1 div.sk-toggleable__content pre {margin: 0.2em;color: black;border-radius: 0.25em;background-color: #f0f8ff;}#sk-container-id-1 input.sk-toggleable__control:checked~div.sk-toggleable__content {max-height: 200px;max-width: 100%;overflow: auto;}#sk-container-id-1 input.sk-toggleable__control:checked~label.sk-toggleable__label-arrow:before {content: \"▾\";}#sk-container-id-1 div.sk-estimator input.sk-toggleable__control:checked~label.sk-toggleable__label {background-color: #d4ebff;}#sk-container-id-1 div.sk-label input.sk-toggleable__control:checked~label.sk-toggleable__label {background-color: #d4ebff;}#sk-container-id-1 input.sk-hidden--visually {border: 0;clip: rect(1px 1px 1px 1px);clip: rect(1px, 1px, 1px, 1px);height: 1px;margin: -1px;overflow: hidden;padding: 0;position: absolute;width: 1px;}#sk-container-id-1 div.sk-estimator {font-family: monospace;background-color: #f0f8ff;border: 1px dotted black;border-radius: 0.25em;box-sizing: border-box;margin-bottom: 0.5em;}#sk-container-id-1 div.sk-estimator:hover {background-color: #d4ebff;}#sk-container-id-1 div.sk-parallel-item::after {content: \"\";width: 100%;border-bottom: 1px solid gray;flex-grow: 1;}#sk-container-id-1 div.sk-label:hover label.sk-toggleable__label {background-color: #d4ebff;}#sk-container-id-1 div.sk-serial::before {content: \"\";position: absolute;border-left: 1px solid gray;box-sizing: border-box;top: 0;bottom: 0;left: 50%;z-index: 0;}#sk-container-id-1 div.sk-serial {display: flex;flex-direction: column;align-items: center;background-color: white;padding-right: 0.2em;padding-left: 0.2em;position: relative;}#sk-container-id-1 div.sk-item {position: relative;z-index: 1;}#sk-container-id-1 div.sk-parallel {display: flex;align-items: stretch;justify-content: center;background-color: white;position: relative;}#sk-container-id-1 div.sk-item::before, #sk-container-id-1 div.sk-parallel-item::before {content: \"\";position: absolute;border-left: 1px solid gray;box-sizing: border-box;top: 0;bottom: 0;left: 50%;z-index: -1;}#sk-container-id-1 div.sk-parallel-item {display: flex;flex-direction: column;z-index: 1;position: relative;background-color: white;}#sk-container-id-1 div.sk-parallel-item:first-child::after {align-self: flex-end;width: 50%;}#sk-container-id-1 div.sk-parallel-item:last-child::after {align-self: flex-start;width: 50%;}#sk-container-id-1 div.sk-parallel-item:only-child::after {width: 0;}#sk-container-id-1 div.sk-dashed-wrapped {border: 1px dashed gray;margin: 0 0.4em 0.5em 0.4em;box-sizing: border-box;padding-bottom: 0.4em;background-color: white;}#sk-container-id-1 div.sk-label label {font-family: monospace;font-weight: bold;display: inline-block;line-height: 1.2em;}#sk-container-id-1 div.sk-label-container {text-align: center;}#sk-container-id-1 div.sk-container {/* jupyter's `normalize.less` sets `[hidden] { display: none; }` but bootstrap.min.css set `[hidden] { display: none !important; }` so we also need the `!important` here to be able to override the default hidden behavior on the sphinx rendered scikit-learn.org. See: https://github.com/scikit-learn/scikit-learn/issues/21755 */display: inline-block !important;position: relative;}#sk-container-id-1 div.sk-text-repr-fallback {display: none;}</style><div id=\"sk-container-id-1\" class=\"sk-top-container\"><div class=\"sk-text-repr-fallback\"><pre>Pipeline(steps=[(&#x27;vectorizer&#x27;, CountVectorizer(stop_words=&#x27;english&#x27;)),\n",
       "                (&#x27;clf&#x27;, RandomForestClassifier(random_state=42))])</pre><b>In a Jupyter environment, please rerun this cell to show the HTML representation or trust the notebook. <br />On GitHub, the HTML representation is unable to render, please try loading this page with nbviewer.org.</b></div><div class=\"sk-container\" hidden><div class=\"sk-item sk-dashed-wrapped\"><div class=\"sk-label-container\"><div class=\"sk-label sk-toggleable\"><input class=\"sk-toggleable__control sk-hidden--visually\" id=\"sk-estimator-id-1\" type=\"checkbox\" ><label for=\"sk-estimator-id-1\" class=\"sk-toggleable__label sk-toggleable__label-arrow\">Pipeline</label><div class=\"sk-toggleable__content\"><pre>Pipeline(steps=[(&#x27;vectorizer&#x27;, CountVectorizer(stop_words=&#x27;english&#x27;)),\n",
       "                (&#x27;clf&#x27;, RandomForestClassifier(random_state=42))])</pre></div></div></div><div class=\"sk-serial\"><div class=\"sk-item\"><div class=\"sk-estimator sk-toggleable\"><input class=\"sk-toggleable__control sk-hidden--visually\" id=\"sk-estimator-id-2\" type=\"checkbox\" ><label for=\"sk-estimator-id-2\" class=\"sk-toggleable__label sk-toggleable__label-arrow\">CountVectorizer</label><div class=\"sk-toggleable__content\"><pre>CountVectorizer(stop_words=&#x27;english&#x27;)</pre></div></div></div><div class=\"sk-item\"><div class=\"sk-estimator sk-toggleable\"><input class=\"sk-toggleable__control sk-hidden--visually\" id=\"sk-estimator-id-3\" type=\"checkbox\" ><label for=\"sk-estimator-id-3\" class=\"sk-toggleable__label sk-toggleable__label-arrow\">RandomForestClassifier</label><div class=\"sk-toggleable__content\"><pre>RandomForestClassifier(random_state=42)</pre></div></div></div></div></div></div></div>"
      ],
      "text/plain": [
       "Pipeline(steps=[('vectorizer', CountVectorizer(stop_words='english')),\n",
       "                ('clf', RandomForestClassifier(random_state=42))])"
      ]
     },
     "execution_count": 11,
     "metadata": {},
     "output_type": "execute_result"
    }
   ],
   "source": [
    "## Create a pipeline with a vectorizer and classification model.\n",
    "clf_pipe = Pipeline([('vectorizer', CountVectorizer(stop_words='english')),\n",
    "                     ('clf',RandomForestClassifier(random_state=42))])\n",
    "clf_pipe"
   ]
  },
  {
   "cell_type": "markdown",
   "id": "a2b7d14b-135b-433e-befc-1030033ce5c4",
   "metadata": {},
   "source": [
    "### Fit and evaluate the model using the machine learning classification models from sklearn."
   ]
  },
  {
   "cell_type": "code",
   "execution_count": 12,
   "id": "4dddbc71-7135-4fb3-950e-645102addb1a",
   "metadata": {},
   "outputs": [
    {
     "data": {
      "text/html": [
       "<style>#sk-container-id-2 {color: black;background-color: white;}#sk-container-id-2 pre{padding: 0;}#sk-container-id-2 div.sk-toggleable {background-color: white;}#sk-container-id-2 label.sk-toggleable__label {cursor: pointer;display: block;width: 100%;margin-bottom: 0;padding: 0.3em;box-sizing: border-box;text-align: center;}#sk-container-id-2 label.sk-toggleable__label-arrow:before {content: \"▸\";float: left;margin-right: 0.25em;color: #696969;}#sk-container-id-2 label.sk-toggleable__label-arrow:hover:before {color: black;}#sk-container-id-2 div.sk-estimator:hover label.sk-toggleable__label-arrow:before {color: black;}#sk-container-id-2 div.sk-toggleable__content {max-height: 0;max-width: 0;overflow: hidden;text-align: left;background-color: #f0f8ff;}#sk-container-id-2 div.sk-toggleable__content pre {margin: 0.2em;color: black;border-radius: 0.25em;background-color: #f0f8ff;}#sk-container-id-2 input.sk-toggleable__control:checked~div.sk-toggleable__content {max-height: 200px;max-width: 100%;overflow: auto;}#sk-container-id-2 input.sk-toggleable__control:checked~label.sk-toggleable__label-arrow:before {content: \"▾\";}#sk-container-id-2 div.sk-estimator input.sk-toggleable__control:checked~label.sk-toggleable__label {background-color: #d4ebff;}#sk-container-id-2 div.sk-label input.sk-toggleable__control:checked~label.sk-toggleable__label {background-color: #d4ebff;}#sk-container-id-2 input.sk-hidden--visually {border: 0;clip: rect(1px 1px 1px 1px);clip: rect(1px, 1px, 1px, 1px);height: 1px;margin: -1px;overflow: hidden;padding: 0;position: absolute;width: 1px;}#sk-container-id-2 div.sk-estimator {font-family: monospace;background-color: #f0f8ff;border: 1px dotted black;border-radius: 0.25em;box-sizing: border-box;margin-bottom: 0.5em;}#sk-container-id-2 div.sk-estimator:hover {background-color: #d4ebff;}#sk-container-id-2 div.sk-parallel-item::after {content: \"\";width: 100%;border-bottom: 1px solid gray;flex-grow: 1;}#sk-container-id-2 div.sk-label:hover label.sk-toggleable__label {background-color: #d4ebff;}#sk-container-id-2 div.sk-serial::before {content: \"\";position: absolute;border-left: 1px solid gray;box-sizing: border-box;top: 0;bottom: 0;left: 50%;z-index: 0;}#sk-container-id-2 div.sk-serial {display: flex;flex-direction: column;align-items: center;background-color: white;padding-right: 0.2em;padding-left: 0.2em;position: relative;}#sk-container-id-2 div.sk-item {position: relative;z-index: 1;}#sk-container-id-2 div.sk-parallel {display: flex;align-items: stretch;justify-content: center;background-color: white;position: relative;}#sk-container-id-2 div.sk-item::before, #sk-container-id-2 div.sk-parallel-item::before {content: \"\";position: absolute;border-left: 1px solid gray;box-sizing: border-box;top: 0;bottom: 0;left: 50%;z-index: -1;}#sk-container-id-2 div.sk-parallel-item {display: flex;flex-direction: column;z-index: 1;position: relative;background-color: white;}#sk-container-id-2 div.sk-parallel-item:first-child::after {align-self: flex-end;width: 50%;}#sk-container-id-2 div.sk-parallel-item:last-child::after {align-self: flex-start;width: 50%;}#sk-container-id-2 div.sk-parallel-item:only-child::after {width: 0;}#sk-container-id-2 div.sk-dashed-wrapped {border: 1px dashed gray;margin: 0 0.4em 0.5em 0.4em;box-sizing: border-box;padding-bottom: 0.4em;background-color: white;}#sk-container-id-2 div.sk-label label {font-family: monospace;font-weight: bold;display: inline-block;line-height: 1.2em;}#sk-container-id-2 div.sk-label-container {text-align: center;}#sk-container-id-2 div.sk-container {/* jupyter's `normalize.less` sets `[hidden] { display: none; }` but bootstrap.min.css set `[hidden] { display: none !important; }` so we also need the `!important` here to be able to override the default hidden behavior on the sphinx rendered scikit-learn.org. See: https://github.com/scikit-learn/scikit-learn/issues/21755 */display: inline-block !important;position: relative;}#sk-container-id-2 div.sk-text-repr-fallback {display: none;}</style><div id=\"sk-container-id-2\" class=\"sk-top-container\"><div class=\"sk-text-repr-fallback\"><pre>Pipeline(steps=[(&#x27;vectorizer&#x27;, CountVectorizer(stop_words=&#x27;english&#x27;)),\n",
       "                (&#x27;clf&#x27;, RandomForestClassifier(random_state=42))])</pre><b>In a Jupyter environment, please rerun this cell to show the HTML representation or trust the notebook. <br />On GitHub, the HTML representation is unable to render, please try loading this page with nbviewer.org.</b></div><div class=\"sk-container\" hidden><div class=\"sk-item sk-dashed-wrapped\"><div class=\"sk-label-container\"><div class=\"sk-label sk-toggleable\"><input class=\"sk-toggleable__control sk-hidden--visually\" id=\"sk-estimator-id-4\" type=\"checkbox\" ><label for=\"sk-estimator-id-4\" class=\"sk-toggleable__label sk-toggleable__label-arrow\">Pipeline</label><div class=\"sk-toggleable__content\"><pre>Pipeline(steps=[(&#x27;vectorizer&#x27;, CountVectorizer(stop_words=&#x27;english&#x27;)),\n",
       "                (&#x27;clf&#x27;, RandomForestClassifier(random_state=42))])</pre></div></div></div><div class=\"sk-serial\"><div class=\"sk-item\"><div class=\"sk-estimator sk-toggleable\"><input class=\"sk-toggleable__control sk-hidden--visually\" id=\"sk-estimator-id-5\" type=\"checkbox\" ><label for=\"sk-estimator-id-5\" class=\"sk-toggleable__label sk-toggleable__label-arrow\">CountVectorizer</label><div class=\"sk-toggleable__content\"><pre>CountVectorizer(stop_words=&#x27;english&#x27;)</pre></div></div></div><div class=\"sk-item\"><div class=\"sk-estimator sk-toggleable\"><input class=\"sk-toggleable__control sk-hidden--visually\" id=\"sk-estimator-id-6\" type=\"checkbox\" ><label for=\"sk-estimator-id-6\" class=\"sk-toggleable__label sk-toggleable__label-arrow\">RandomForestClassifier</label><div class=\"sk-toggleable__content\"><pre>RandomForestClassifier(random_state=42)</pre></div></div></div></div></div></div></div>"
      ],
      "text/plain": [
       "Pipeline(steps=[('vectorizer', CountVectorizer(stop_words='english')),\n",
       "                ('clf', RandomForestClassifier(random_state=42))])"
      ]
     },
     "execution_count": 12,
     "metadata": {},
     "output_type": "execute_result"
    }
   ],
   "source": [
    "# fit model pipeline\n",
    "clf_pipe.fit(X_train, y_train)"
   ]
  },
  {
   "cell_type": "code",
   "execution_count": 13,
   "id": "f2313d2b-d6d5-438e-8b65-41807db3c8ec",
   "metadata": {},
   "outputs": [
    {
     "name": "stdout",
     "output_type": "stream",
     "text": [
      "----------------------------------------------------------------------\n",
      " Classification Metrics: Training Data\n",
      "----------------------------------------------------------------------\n",
      "              precision    recall  f1-score   support\n",
      "\n",
      "        high       1.00      1.00      1.00       888\n",
      "         low       1.00      1.00      1.00       926\n",
      "\n",
      "    accuracy                           1.00      1814\n",
      "   macro avg       1.00      1.00      1.00      1814\n",
      "weighted avg       1.00      1.00      1.00      1814\n",
      "\n"
     ]
    },
    {
     "data": {
      "image/png": "[encoded data removed]",
      "text/plain": [
       "<Figure size 600x400 with 2 Axes>"
      ]
     },
     "metadata": {},
     "output_type": "display_data"
    },
    {
     "name": "stdout",
     "output_type": "stream",
     "text": [
      "\n",
      "----------------------------------------------------------------------\n",
      " Classification Metrics: Test Data\n",
      "----------------------------------------------------------------------\n",
      "              precision    recall  f1-score   support\n",
      "\n",
      "        high       0.83      0.85      0.84       307\n",
      "         low       0.84      0.82      0.83       298\n",
      "\n",
      "    accuracy                           0.84       605\n",
      "   macro avg       0.84      0.84      0.84       605\n",
      "weighted avg       0.84      0.84      0.84       605\n",
      "\n"
     ]
    },
    {
     "data": {
      "image/png": "[encoded data removed]",
      "text/plain": [
       "<Figure size 600x400 with 2 Axes>"
      ]
     },
     "metadata": {},
     "output_type": "display_data"
    }
   ],
   "source": [
    "# evaluate model\n",
    "evaluate_classification(clf_pipe, X_train,y_train, X_test, y_test)"
   ]
  },
  {
   "cell_type": "markdown",
   "id": "5702b835-eb21-4770-b052-3ffda3c03733",
   "metadata": {},
   "source": [
    "#### In a Markdown cell, document your observations from your results. (e.g., how good is the model overall? Is it particularly good/bad at predicting one class?)"
   ]
  },
  {
   "cell_type": "markdown",
   "id": "eded51fd-e75b-4f69-9727-c0f737258ff1",
   "metadata": {},
   "source": [
    "The model is about the same when it comes to predicting either class in the test data, hovering around .83/.84 f1-score with an accuracy of .84. It is possible it is overfitting as per the 1.0 scores on all metrics in the training data."
   ]
  },
  {
   "cell_type": "markdown",
   "id": "0356064b-dddf-4126-a7f1-c90112651843",
   "metadata": {},
   "source": [
    "### GridSearch Text Vectorization\n",
    "\n",
    "Attempt to improve your model by tuning the text preprocessing steps."
   ]
  },
  {
   "cell_type": "markdown",
   "id": "ac76ed3f-fe42-437e-8dff-a3434c2e274b",
   "metadata": {},
   "source": [
    "#### Construct a grid of parameters for the text vectorization step. Consider trying:\n",
    "\n",
    "CountVectorizer/TfidfVectorizer\n",
    "\n",
    "stopwords\n",
    "\n",
    "ngram_range\n",
    "\n",
    "min_df/max_df"
   ]
  },
  {
   "cell_type": "code",
   "execution_count": 14,
   "id": "0f6cb704-48c2-4733-8659-84c275156210",
   "metadata": {},
   "outputs": [],
   "source": [
    "# Define params to try\n",
    "param_grid_shared = {\n",
    "    \"vectorizer__max_df\": [0.7, 0.8, 0.9],\n",
    "    \"vectorizer__min_df\": [2,3,4],\n",
    "    \"vectorizer__max_features\": [None, 1000, 2000],\n",
    "    \"vectorizer__stop_words\": [None,'english'],\n",
    "    \"vectorizer__ngram_range\": [(1, 1), (1, 2), (1,3)]\n",
    "}"
   ]
  },
  {
   "cell_type": "code",
   "execution_count": 15,
   "id": "35480606-0984-4891-8b97-f006ce917058",
   "metadata": {},
   "outputs": [],
   "source": [
    "# Setting params for the count vectorizer\n",
    "param_grid_count = {\n",
    "    'vectorizer':[CountVectorizer()],\n",
    "    **param_grid_shared\n",
    "}"
   ]
  },
  {
   "cell_type": "code",
   "execution_count": 16,
   "id": "96d1d3a1-e616-4d64-81c4-9678eeeb6930",
   "metadata": {},
   "outputs": [],
   "source": [
    "# Set up Pipeline to allow GridSearching\n",
    "vect_pipe = Pipeline([('vectorizer', CountVectorizer()),\n",
    "                     ('clf',RandomForestClassifier(random_state=42))])"
   ]
  },
  {
   "cell_type": "markdown",
   "id": "65bfc29b-289e-4e43-839e-88121c8a46ba",
   "metadata": {},
   "source": [
    "#### Fit and evaluate the grid search results:\n",
    "\n",
    "What were the best parameters?\n",
    "How does the best estimator perform when evaluated on the training and test data?"
   ]
  },
  {
   "cell_type": "code",
   "execution_count": 17,
   "id": "e16990a6-e5de-4865-9291-1c5eae969c72",
   "metadata": {},
   "outputs": [
    {
     "name": "stdout",
     "output_type": "stream",
     "text": [
      "CPU times: total: 0 ns\n",
      "Wall time: 0 ns\n"
     ]
    }
   ],
   "source": [
    "%%time\n",
    "# Create grid search\n",
    "grid_search = GridSearchCV(vect_pipe, param_grid_shared, cv=2, scoring = 'accuracy', verbose=1, n_jobs=-1)"
   ]
  },
  {
   "cell_type": "code",
   "execution_count": 18,
   "id": "6968d29f-7e28-439e-bae1-18a2e524871a",
   "metadata": {},
   "outputs": [
    {
     "name": "stdout",
     "output_type": "stream",
     "text": [
      "Fitting 2 folds for each of 162 candidates, totalling 324 fits\n",
      "CPU times: total: 7.67 s\n",
      "Wall time: 6min 3s\n"
     ]
    },
    {
     "data": {
      "text/html": [
       "<style>#sk-container-id-3 {color: black;background-color: white;}#sk-container-id-3 pre{padding: 0;}#sk-container-id-3 div.sk-toggleable {background-color: white;}#sk-container-id-3 label.sk-toggleable__label {cursor: pointer;display: block;width: 100%;margin-bottom: 0;padding: 0.3em;box-sizing: border-box;text-align: center;}#sk-container-id-3 label.sk-toggleable__label-arrow:before {content: \"▸\";float: left;margin-right: 0.25em;color: #696969;}#sk-container-id-3 label.sk-toggleable__label-arrow:hover:before {color: black;}#sk-container-id-3 div.sk-estimator:hover label.sk-toggleable__label-arrow:before {color: black;}#sk-container-id-3 div.sk-toggleable__content {max-height: 0;max-width: 0;overflow: hidden;text-align: left;background-color: #f0f8ff;}#sk-container-id-3 div.sk-toggleable__content pre {margin: 0.2em;color: black;border-radius: 0.25em;background-color: #f0f8ff;}#sk-container-id-3 input.sk-toggleable__control:checked~div.sk-toggleable__content {max-height: 200px;max-width: 100%;overflow: auto;}#sk-container-id-3 input.sk-toggleable__control:checked~label.sk-toggleable__label-arrow:before {content: \"▾\";}#sk-container-id-3 div.sk-estimator input.sk-toggleable__control:checked~label.sk-toggleable__label {background-color: #d4ebff;}#sk-container-id-3 div.sk-label input.sk-toggleable__control:checked~label.sk-toggleable__label {background-color: #d4ebff;}#sk-container-id-3 input.sk-hidden--visually {border: 0;clip: rect(1px 1px 1px 1px);clip: rect(1px, 1px, 1px, 1px);height: 1px;margin: -1px;overflow: hidden;padding: 0;position: absolute;width: 1px;}#sk-container-id-3 div.sk-estimator {font-family: monospace;background-color: #f0f8ff;border: 1px dotted black;border-radius: 0.25em;box-sizing: border-box;margin-bottom: 0.5em;}#sk-container-id-3 div.sk-estimator:hover {background-color: #d4ebff;}#sk-container-id-3 div.sk-parallel-item::after {content: \"\";width: 100%;border-bottom: 1px solid gray;flex-grow: 1;}#sk-container-id-3 div.sk-label:hover label.sk-toggleable__label {background-color: #d4ebff;}#sk-container-id-3 div.sk-serial::before {content: \"\";position: absolute;border-left: 1px solid gray;box-sizing: border-box;top: 0;bottom: 0;left: 50%;z-index: 0;}#sk-container-id-3 div.sk-serial {display: flex;flex-direction: column;align-items: center;background-color: white;padding-right: 0.2em;padding-left: 0.2em;position: relative;}#sk-container-id-3 div.sk-item {position: relative;z-index: 1;}#sk-container-id-3 div.sk-parallel {display: flex;align-items: stretch;justify-content: center;background-color: white;position: relative;}#sk-container-id-3 div.sk-item::before, #sk-container-id-3 div.sk-parallel-item::before {content: \"\";position: absolute;border-left: 1px solid gray;box-sizing: border-box;top: 0;bottom: 0;left: 50%;z-index: -1;}#sk-container-id-3 div.sk-parallel-item {display: flex;flex-direction: column;z-index: 1;position: relative;background-color: white;}#sk-container-id-3 div.sk-parallel-item:first-child::after {align-self: flex-end;width: 50%;}#sk-container-id-3 div.sk-parallel-item:last-child::after {align-self: flex-start;width: 50%;}#sk-container-id-3 div.sk-parallel-item:only-child::after {width: 0;}#sk-container-id-3 div.sk-dashed-wrapped {border: 1px dashed gray;margin: 0 0.4em 0.5em 0.4em;box-sizing: border-box;padding-bottom: 0.4em;background-color: white;}#sk-container-id-3 div.sk-label label {font-family: monospace;font-weight: bold;display: inline-block;line-height: 1.2em;}#sk-container-id-3 div.sk-label-container {text-align: center;}#sk-container-id-3 div.sk-container {/* jupyter's `normalize.less` sets `[hidden] { display: none; }` but bootstrap.min.css set `[hidden] { display: none !important; }` so we also need the `!important` here to be able to override the default hidden behavior on the sphinx rendered scikit-learn.org. See: https://github.com/scikit-learn/scikit-learn/issues/21755 */display: inline-block !important;position: relative;}#sk-container-id-3 div.sk-text-repr-fallback {display: none;}</style><div id=\"sk-container-id-3\" class=\"sk-top-container\"><div class=\"sk-text-repr-fallback\"><pre>GridSearchCV(cv=2,\n",
       "             estimator=Pipeline(steps=[(&#x27;vectorizer&#x27;, CountVectorizer()),\n",
       "                                       (&#x27;clf&#x27;,\n",
       "                                        RandomForestClassifier(random_state=42))]),\n",
       "             n_jobs=-1,\n",
       "             param_grid={&#x27;vectorizer__max_df&#x27;: [0.7, 0.8, 0.9],\n",
       "                         &#x27;vectorizer__max_features&#x27;: [None, 1000, 2000],\n",
       "                         &#x27;vectorizer__min_df&#x27;: [2, 3, 4],\n",
       "                         &#x27;vectorizer__ngram_range&#x27;: [(1, 1), (1, 2), (1, 3)],\n",
       "                         &#x27;vectorizer__stop_words&#x27;: [None, &#x27;english&#x27;]},\n",
       "             scoring=&#x27;accuracy&#x27;, verbose=1)</pre><b>In a Jupyter environment, please rerun this cell to show the HTML representation or trust the notebook. <br />On GitHub, the HTML representation is unable to render, please try loading this page with nbviewer.org.</b></div><div class=\"sk-container\" hidden><div class=\"sk-item sk-dashed-wrapped\"><div class=\"sk-label-container\"><div class=\"sk-label sk-toggleable\"><input class=\"sk-toggleable__control sk-hidden--visually\" id=\"sk-estimator-id-7\" type=\"checkbox\" ><label for=\"sk-estimator-id-7\" class=\"sk-toggleable__label sk-toggleable__label-arrow\">GridSearchCV</label><div class=\"sk-toggleable__content\"><pre>GridSearchCV(cv=2,\n",
       "             estimator=Pipeline(steps=[(&#x27;vectorizer&#x27;, CountVectorizer()),\n",
       "                                       (&#x27;clf&#x27;,\n",
       "                                        RandomForestClassifier(random_state=42))]),\n",
       "             n_jobs=-1,\n",
       "             param_grid={&#x27;vectorizer__max_df&#x27;: [0.7, 0.8, 0.9],\n",
       "                         &#x27;vectorizer__max_features&#x27;: [None, 1000, 2000],\n",
       "                         &#x27;vectorizer__min_df&#x27;: [2, 3, 4],\n",
       "                         &#x27;vectorizer__ngram_range&#x27;: [(1, 1), (1, 2), (1, 3)],\n",
       "                         &#x27;vectorizer__stop_words&#x27;: [None, &#x27;english&#x27;]},\n",
       "             scoring=&#x27;accuracy&#x27;, verbose=1)</pre></div></div></div><div class=\"sk-parallel\"><div class=\"sk-parallel-item\"><div class=\"sk-item\"><div class=\"sk-label-container\"><div class=\"sk-label sk-toggleable\"><input class=\"sk-toggleable__control sk-hidden--visually\" id=\"sk-estimator-id-8\" type=\"checkbox\" ><label for=\"sk-estimator-id-8\" class=\"sk-toggleable__label sk-toggleable__label-arrow\">estimator: Pipeline</label><div class=\"sk-toggleable__content\"><pre>Pipeline(steps=[(&#x27;vectorizer&#x27;, CountVectorizer()),\n",
       "                (&#x27;clf&#x27;, RandomForestClassifier(random_state=42))])</pre></div></div></div><div class=\"sk-serial\"><div class=\"sk-item\"><div class=\"sk-serial\"><div class=\"sk-item\"><div class=\"sk-estimator sk-toggleable\"><input class=\"sk-toggleable__control sk-hidden--visually\" id=\"sk-estimator-id-9\" type=\"checkbox\" ><label for=\"sk-estimator-id-9\" class=\"sk-toggleable__label sk-toggleable__label-arrow\">CountVectorizer</label><div class=\"sk-toggleable__content\"><pre>CountVectorizer()</pre></div></div></div><div class=\"sk-item\"><div class=\"sk-estimator sk-toggleable\"><input class=\"sk-toggleable__control sk-hidden--visually\" id=\"sk-estimator-id-10\" type=\"checkbox\" ><label for=\"sk-estimator-id-10\" class=\"sk-toggleable__label sk-toggleable__label-arrow\">RandomForestClassifier</label><div class=\"sk-toggleable__content\"><pre>RandomForestClassifier(random_state=42)</pre></div></div></div></div></div></div></div></div></div></div></div></div>"
      ],
      "text/plain": [
       "GridSearchCV(cv=2,\n",
       "             estimator=Pipeline(steps=[('vectorizer', CountVectorizer()),\n",
       "                                       ('clf',\n",
       "                                        RandomForestClassifier(random_state=42))]),\n",
       "             n_jobs=-1,\n",
       "             param_grid={'vectorizer__max_df': [0.7, 0.8, 0.9],\n",
       "                         'vectorizer__max_features': [None, 1000, 2000],\n",
       "                         'vectorizer__min_df': [2, 3, 4],\n",
       "                         'vectorizer__ngram_range': [(1, 1), (1, 2), (1, 3)],\n",
       "                         'vectorizer__stop_words': [None, 'english']},\n",
       "             scoring='accuracy', verbose=1)"
      ]
     },
     "execution_count": 18,
     "metadata": {},
     "output_type": "execute_result"
    }
   ],
   "source": [
    "%%time\n",
    "# Fit the model\n",
    "grid_search.fit(X_train, y_train)"
   ]
  },
  {
   "cell_type": "code",
   "execution_count": 19,
   "id": "3ffdcb88-bd28-4812-a9e5-d892244bce1a",
   "metadata": {},
   "outputs": [
    {
     "data": {
      "text/plain": [
       "{'vectorizer__max_df': 0.7,\n",
       " 'vectorizer__max_features': 1000,\n",
       " 'vectorizer__min_df': 4,\n",
       " 'vectorizer__ngram_range': (1, 1),\n",
       " 'vectorizer__stop_words': 'english'}"
      ]
     },
     "execution_count": 19,
     "metadata": {},
     "output_type": "execute_result"
    }
   ],
   "source": [
    "# what were the best params?\n",
    "grid_search.best_params_"
   ]
  },
  {
   "cell_type": "code",
   "execution_count": 20,
   "id": "bcc05467-8d16-4dc4-8747-e3c315b71a83",
   "metadata": {},
   "outputs": [
    {
     "name": "stdout",
     "output_type": "stream",
     "text": [
      "----------------------------------------------------------------------\n",
      " Classification Metrics: Training Data\n",
      "----------------------------------------------------------------------\n",
      "              precision    recall  f1-score   support\n",
      "\n",
      "        high       1.00      1.00      1.00       888\n",
      "         low       1.00      1.00      1.00       926\n",
      "\n",
      "    accuracy                           1.00      1814\n",
      "   macro avg       1.00      1.00      1.00      1814\n",
      "weighted avg       1.00      1.00      1.00      1814\n",
      "\n"
     ]
    },
    {
     "data": {
      "image/png": "[encoded data removed]",
      "text/plain": [
       "<Figure size 600x400 with 2 Axes>"
      ]
     },
     "metadata": {},
     "output_type": "display_data"
    },
    {
     "name": "stdout",
     "output_type": "stream",
     "text": [
      "\n",
      "----------------------------------------------------------------------\n",
      " Classification Metrics: Test Data\n",
      "----------------------------------------------------------------------\n",
      "              precision    recall  f1-score   support\n",
      "\n",
      "        high       0.83      0.83      0.83       307\n",
      "         low       0.82      0.82      0.82       298\n",
      "\n",
      "    accuracy                           0.83       605\n",
      "   macro avg       0.83      0.83      0.83       605\n",
      "weighted avg       0.83      0.83      0.83       605\n",
      "\n"
     ]
    },
    {
     "data": {
      "image/png": "[encoded data removed]",
      "text/plain": [
       "<Figure size 600x400 with 2 Axes>"
      ]
     },
     "metadata": {},
     "output_type": "display_data"
    }
   ],
   "source": [
    "best_model = grid_search.best_estimator_\n",
    "\n",
    "evaluate_classification(best_model,X_train,y_train,X_test,y_test)"
   ]
  },
  {
   "cell_type": "markdown",
   "id": "db980e71-5a2f-4e90-a3c9-2e530d05a497",
   "metadata": {},
   "source": [
    "###### How does the best estimator perform when evaluated on the training and test data?\n",
    "\n",
    "The best estimator actually resulted in slightly lower scores"
   ]
  },
  {
   "cell_type": "markdown",
   "id": "763d24c5-69f7-41b7-97d1-c11d28201e72",
   "metadata": {},
   "source": [
    "### Deep NLP (RNNs) (Use core-text-classification-rnn.ipynb and/or mock-exam part 1 to answer both below. )\n",
    "\n",
    "For this part of the project, you will use a Keras TextVectorization layer as part of your RNN model. This serves the same purpose as using the sklearn pipeline: it bundles text preparation into the model, making it deployment-ready."
   ]
  },
  {
   "cell_type": "markdown",
   "id": "55c67048-1c1d-4354-bcca-9629b7ba5a12",
   "metadata": {},
   "source": [
    "#### Create train/test/val datasets\n",
    "\n",
    "    Convert the target categories to integers (e.g., Using sklearn's LabelEncoder)\n",
    "    Create a tensorflow dataset using the X and (integer version) of y.\n",
    "    Split the dataset into training, test, and validation datasets."
   ]
  },
  {
   "cell_type": "markdown",
   "id": "fcaa0c12-3e2f-49a7-b45b-898928754ef5",
   "metadata": {},
   "source": [
    "##### convert target categories to integers with LabelEncoder"
   ]
  },
  {
   "cell_type": "code",
   "execution_count": 21,
   "id": "158dab9f-2e76-4ef3-a4ba-fcb984f8e883",
   "metadata": {},
   "outputs": [],
   "source": [
    "# instantiate LabelEncoder\n",
    "encoder = LabelEncoder()"
   ]
  },
  {
   "cell_type": "code",
   "execution_count": 22,
   "id": "efd2ee6a-69b6-4d9e-9d77-85188300242d",
   "metadata": {},
   "outputs": [
    {
     "data": {
      "text/plain": [
       "1    1224\n",
       "0    1195\n",
       "dtype: int64"
      ]
     },
     "execution_count": 22,
     "metadata": {},
     "output_type": "execute_result"
    }
   ],
   "source": [
    "# Fit and Transform the strings into integers\n",
    "y = pd.Series(encoder.fit_transform(y))\n",
    "y.value_counts()"
   ]
  },
  {
   "cell_type": "markdown",
   "id": "1cb0eab7-7cf0-4ef5-af82-dc14aa50896b",
   "metadata": {},
   "source": [
    "##### Create a tensorflow dataset using the X and (integer version) of y."
   ]
  },
  {
   "cell_type": "code",
   "execution_count": 23,
   "id": "cc568fa3-882f-4883-81e4-fdcb2dc27a13",
   "metadata": {},
   "outputs": [
    {
     "data": {
      "text/plain": [
       "<_TensorSliceDataset element_spec=(TensorSpec(shape=(), dtype=tf.string, name=None), TensorSpec(shape=(), dtype=tf.int32, name=None))>"
      ]
     },
     "execution_count": 23,
     "metadata": {},
     "output_type": "execute_result"
    }
   ],
   "source": [
    "# Convert to Dataset object\n",
    "ds = tf.data.Dataset.from_tensor_slices((X, y))\n",
    "ds"
   ]
  },
  {
   "cell_type": "code",
   "execution_count": 24,
   "id": "daffcf30-2dc1-4662-816f-79383dfcb9bd",
   "metadata": {},
   "outputs": [],
   "source": [
    "# shuffle data once\n",
    "ds = ds.shuffle(buffer_size=len(ds), reshuffle_each_iteration=False)"
   ]
  },
  {
   "cell_type": "code",
   "execution_count": 25,
   "id": "5c6c535c-c8dd-4ff5-8531-b9bb1bd7fcc2",
   "metadata": {},
   "outputs": [],
   "source": [
    "# Add a column to the dataframe that has the length of each paragraph\n",
    "df['sequence_length'] = df['review'].map( lambda x: len(x.split(\" \")))"
   ]
  },
  {
   "cell_type": "code",
   "execution_count": 26,
   "id": "f28c698f-3ff7-4430-9aa3-ae939c627d7c",
   "metadata": {},
   "outputs": [
    {
     "data": {
      "text/plain": [
       "count    2419.000000\n",
       "mean      225.767673\n",
       "std       270.815728\n",
       "min         1.000000\n",
       "25%        62.000000\n",
       "50%       143.000000\n",
       "75%       286.500000\n",
       "max      4017.000000\n",
       "Name: sequence_length, dtype: float64"
      ]
     },
     "execution_count": 26,
     "metadata": {},
     "output_type": "execute_result"
    }
   ],
   "source": [
    "# Use the maximum length as the sequence length\n",
    "df['sequence_length'].describe()"
   ]
  },
  {
   "cell_type": "code",
   "execution_count": 27,
   "id": "23dcc652-c004-494f-b95d-5cb41e6648e1",
   "metadata": {},
   "outputs": [],
   "source": [
    "# Use the maximum length as the sequence length\n",
    "SEQUENCE_LENGTH = 4017"
   ]
  },
  {
   "cell_type": "markdown",
   "id": "83be462d-af49-4b1e-bff5-10622ec79064",
   "metadata": {},
   "source": [
    "##### Split the dataset into training, test, and validation datasets."
   ]
  },
  {
   "cell_type": "code",
   "execution_count": 28,
   "id": "153d00e4-cd10-41aa-86b1-41d552da5739",
   "metadata": {},
   "outputs": [],
   "source": [
    "# Set the ratio of the train, validation, test split\n",
    "split_train = .7\n",
    "split_val =  .2\n",
    "split_test =  1 -( split_train + split_val )"
   ]
  },
  {
   "cell_type": "code",
   "execution_count": 29,
   "id": "f4af7935-0d68-4cb4-9524-88425906fa01",
   "metadata": {},
   "outputs": [],
   "source": [
    "# Calculate the number of samples for training and validation data \n",
    "n_train_samples =  int(len(ds) * split_train)\n",
    "n_val_samples = int(len(ds) * split_val)\n",
    "n_test_samples = len(ds) -(n_train_samples + n_val_samples)"
   ]
  },
  {
   "cell_type": "code",
   "execution_count": 30,
   "id": "b9c015d4-80d7-47f3-9cde-fd33bcb8e152",
   "metadata": {},
   "outputs": [],
   "source": [
    "# Set the batch size\n",
    "BATCH_SIZE =32"
   ]
  },
  {
   "cell_type": "code",
   "execution_count": 31,
   "id": "9a96611f-bcee-45ef-8c06-762bee7dda0c",
   "metadata": {},
   "outputs": [],
   "source": [
    "# Use take and skip to define each set\n",
    "train_ds = ds.take(n_train_samples).batch(batch_size=BATCH_SIZE)\n",
    "\n",
    "# Skip over the training batches and take the validation batches\n",
    "val_ds = ds.skip(n_train_samples).take(n_val_samples).batch(batch_size=BATCH_SIZE)\n",
    "\n",
    "# Skipver the train and validation batches, the remaining are the test batches\n",
    "test_ds = ds.skip(n_train_samples + n_val_samples).batch(batch_size=BATCH_SIZE)"
   ]
  },
  {
   "cell_type": "code",
   "execution_count": 32,
   "id": "b042abbf-ed19-425a-91ac-e14214423dc9",
   "metadata": {},
   "outputs": [],
   "source": [
    "# Get just the text from ds_train\n",
    "ds_texts = train_ds.map(lambda x, y: x)"
   ]
  },
  {
   "cell_type": "code",
   "execution_count": 33,
   "id": "bbd3c042-16b7-4dc5-a8ef-0800a2b1f53d",
   "metadata": {
    "scrolled": true
   },
   "outputs": [
    {
     "data": {
      "text/plain": [
       "<tf.Tensor: shape=(32,), dtype=string, numpy=\n",
       "array([b'Its just not good.  The first predator created atmosphere; you were being hunted.  The only \"Predator\" film to deliver another dose of this was Predators.  \\r\\nThis film falls completely short of its predecessors (yes, all of them), but does leave you with a strong impression that this was a cash grab to squeeze any life out of a franchise that surpassed its EOL a long time ago.',\n",
       "       b'Wes Anderson is the Roald Dahl of films.',\n",
       "       b\"Knee-deep in the throes of my first love, I was quite surprised to hear that my lady's favourite movie was 'Joe Versus the Volcano'. (I still haven't seen the film). It dawned on me, when I wanted to check out an American film which, to my knowledge, had a plethora of fine acting, that this was written and directed by the same guy who made that film much earlier. Being raised Christian and hearing in the press over the past few years about misdeeds, especially involving leaders of the Catholic church (represented in films as diverse as 'The Boys of St. Vincent' (John N. Smith, 1992) and 'In Bruges' (Martin McDonagh, 2008), I was especially intrigued by this, his work of more recent vintage.\\r\\n\\r\\nThe ambiguity at the core of the film (and hence the 'doubt') really acts in the movie's favour. The script and direction are both tense and flawless, and the beautiful New York locations chosen to illustrate The Bronx in 1964 help air the play out, and give it more cinematic scope. It features some of the finest work I have seen from Philip Seymour Hoffman (though my favourites will always be 'Happiness' and 'The Master'), Meryl Streep (my most-esteemed works of hers are 'The Deer Hunter' and 'The Devil Wears Prada') and Amy Adams (this is her finest performance IMHO) as well as a breakthrough role for Viola Davis, who steals every scene she's in. This easily holds up well even with Shanley's Oscar-winning screenplay for 'Moonstruck', and, though dark and depressing, is thoroughly recommended for those who can stomach its subject matter, and peer into that abyss without flinching, as these fine exemplars of 21st-century American cinema so easily do here.\\r\\n\\r\\nThat it didn't win any of its five Oscar nominations is almost as ghastly, to the cinephile, as the misdeeds insinuated here are to the community at large. Must have been a strong year for film, methinks.\",\n",
       "       b\"Inspite of Argento's dissatisfaction, Suspiria (by Guadagnino) is an evocative reinterpretation. Maybe it is the original creator's prerogative to criticize the execution when remaking classic cinema, peronally, I find the criticism also takes itself too seriously.\\r\\n\\r\\nReimagination through the milieu (post-war Germany) affords a shift in depth and focus without complicating the narrative with self-referentiality. Although details have been torn apart for lack of relevance, to my mind,  if the director chose any setting, naivety or irrelevance would still be the low-hanging fruit of critics. The film simply doesn't strive to show a connection, and contextual elements are illustrated with proportionate gravity and relevance.\\r\\n\\r\\nIf one has to draw comparisons, there are diametric opposites in many ways. Mainly through through cinematography. No doubt Argento's inspired so much that followed and this ultimately binds it to the genre it inspired. Four decades later, we have a histrionic period drama fused with a supernatural fable forming (unwanted) homage to Argento's suspense, as cinema for today's audience.\\r\\n\\r\\nI loved the original score by Goblin and others they did for Argento and Romero. The selective moods created by Thom Yorke, incidentally harmonic vocals and creepy piano motifs fit. Visual stylistic references to Argento are the use of light, costume and retro decor which jarrs to effect but again, is not out of place.\\r\\n\\r\\nIn terms of conceptual themes, I think it did well. Perhaps it is not something that everyone will he happy with. Then again, it's not trying to please everyone nor explain connections between a timeless demonic coven in post-war Germany. Let it wash over you and you might feel its crestfallen tones and realism.\",\n",
       "       b'The third act turns on a character being an idiot. That story beat renders all that the heroes do before and after it immaterial. That moment so preoccupied me that I couldn\\'t enjoy the rest of the story, and made it impossible to ignore the flick\\'s other glaring flaws anymore: the villain\\'s motive makes no sense, the glove exists only to produce plot contrivances, the score is so obvious it might as well be cue cards on screen (\"Feel sad now\") ...\\r\\n\\r\\nThe first half is some of the best action in a Disney Marvel entry yet, and the other half is so stupid that it sours the whole MCU experience.',\n",
       "       b'Captain Marvel bored the living hell out of me. I\\'m tired of these special effects laden \"event films\" where every scene has to be flashy lights and fighting and explosions where nothing of real value is at stake. Not one character in this film has a personality or character arc. It\\'s one big extended buildup to showcase how badly Captain Marvel is going to kick Thanos\\' ass. I like the character but I did not like what this movie does with her character. I was also shocked at how bad Brie Larson\\'s performance was; she\\'s an incredible actress but I feel Jennifer Lawrence put more effort into her Mystique than Larson did with Carol Danvers.\\r\\n\\r\\nAlso if your idea of female empowerment is a nasty leather jacket biker guy whistling at a girl saying \"give me a kiss\" and then the girl just goes and steals his bike, you have no clue what real female empowerment is.',\n",
       "       b\"> he's but a ghost in search of a graveyard\\r\\n\\r\\nMarquis Vincent de Gramont\\r\\n\\r\\nAAAAAAAAAAAAAAAAA !!!!!!!! PEAK !!!!!!!! CINEMA !!!!!!!!\\r\\n\\r\\nIt's been a strange year for franchise filmmaking so far. While the very consistent dissatisfaction towards the mediocre MCU got even worse with the release of **Ant-Man and the Wasp: Quantumania** with that film being just flat-out boring and exhausting with the only saving grace being Kang, **Shazam: Fury of the Gods** being another one of DCEU projects which will soon cease to exist and **Scream VI** surprising literally everyone at being actually pretty fucking good even though it is the 6th film in a franchise following a near-dead sub-genre of slasher films, it has been quite a lot of misses for the franchises with only a few making above the cut. Therein comes along **John Wick: Chapter 4**, a film already set on an insane trajectory, wherein everyone\\xe2\\x80\\x99s favourite bruised protagonist has gotten to a supposedly even deeper tenth circle of hell when he tried to climb out of the ninth circle in the previous film.\\r\\n\\r\\nI was a bit, just a teeny little bit disappointed by the previous film i.e. Parabellum but, after seeing this film; it is in 100 years, the one thing that all film critics are going to agree on is that John Wick: Chapter 4 truly was peak cinema. Let\\xe2\\x80\\x99s just put all our cards on the (high) table. Yes, John Wick: Chapter 4 is 169 minutes long. Any one of its many (many) set pieces contains more action all by itself than most entire movies. This thing ain\\xe2\\x80\\x99t just a chapter. It\\xe2\\x80\\x99s a whole damn book; a glorious, nightmarish, biblical compendium which contains all manners of _**ass-kickery**_ and _**gun-fu**_. I\\xe2\\x80\\x99m just gonna come out and say it. This is the best cinematic experience I\\xe2\\x80\\x99ve had in a theatre for an action film in the last decade. This film absolutely floored me. Performances? **Peak**. Cinematography? **Double Peak**. Action Set Pieces? **Triple Peak**. Ending? **GOATED FR**.\\r\\n\\r\\nFirst of all, performances. If you told me 10 years ago that The Matrix films are going to remain as Keanu\\xe2\\x80\\x99s most consistent and better performances, I would\\xe2\\x80\\x99ve totally agreed with you. Cut to present day, my opinion is going to differ from yours. John Wick is officially the best and most consistent piece of his performances and this film makes that certain. Keanu is mostly silent in this film but then also you can feel everything his character is feeling at a certain moment which makes his performance all the more marvelous. He doesn\\xe2\\x80\\x99t have much dialogues in this film, probably like 15-20 lines in this film but each line is delivered in a way that John Wick (if he existed in real life) would say it. Ian McShane also gives quite a performance here. Amplifying Winston\\xe2\\x80\\x99s place as John\\xe2\\x80\\x99s father figure, he is what I would call, essentially the heart and soul of this film. Laurence Fishburne, although appears very briefly, does a good job and it\\xe2\\x80\\x99s always nice to see Neo and Morpheus just strolling around and talking. And ofcourse, I\\xe2\\x80\\x99m never going to get tired of seeing Hiroyuki Sanada in a film. He comes in, murders people left and right like a badass, and leaves like a king. The standouts to me though, are **Donnie Yen**, **Bill Skarsg\\xc3\\xa5rd** and **Shamier Anderson**. All of these have never been introduced to the audience before this film and now that they have been, they completely steal the show. Donnie Yen essentially plays the Chinese version of daredevil who isn\\xe2\\x80\\x99t a lawyer but a hitman and doesn\\xe2\\x80\\x99t think twice before a kill. Loved him in the film and the ways Chad Stahelski (the director) uses his blindness throughout the film to show us some really interesting kills. Bill Skarsg\\xc3\\xa5rd rises up as this franchise\\xe2\\x80\\x99s most menacing antagonist to date who will stop at nothing to get the job done. He plays a French billionaire and my god his accent is just the sexiest. The pronunciation of certain words in the French accent and his control over the table\\xe2\\x80\\x99s resources literally turned the City of Love into the City of Merciless Bloodshed. Shamier Anderson essentially plays what John Wick would\\xe2\\x80\\x99ve been in the younger days. A hitman who works for the highest payday and carries around an emotional support dog who does everything but.\\r\\n\\r\\nNow, the cinematography. This film was a visual spectacle. Everything, and I mean everything looks perfect. There isn\\xe2\\x80\\x99t a single shot in this film that feels dimly lit or out of tone. The work on display is truly fantastic here and I was just amazed at seeing the various color palettes this film uses. This film manages to be the darkest john wick film without sacrificing visual clarity. Every frame is lit up with just the perfect amount of colours suitable for setting the mood of the scene and when that transcends into a bloody action scene, the environment does nothing but enhance the hacking and slashing. I would be surprised if the academy doesn\\xe2\\x80\\x99t nominate this film for Best Production Design or Best Cinematography because _**THIS IS ART MR. WHITE!**_ (who am I kidding, this film is just going to get ignored because it\\xe2\\x80\\x99s a huge summer blockbuster).\\r\\n\\r\\nWhere do I even begin with the action in this film. I was a bit worried as to how are they going to show me anything new after I\\xe2\\x80\\x99ve seen literally every possible fight scenario from the previous three films. I was so wrong. There isn\\xe2\\x80\\x99t much new substance here persay but the action here is so well-defined, so well-choreographed, so meticulously detailed, that you just forget that you\\xe2\\x80\\x99ve seen something like this before; and that is what great action films are supposed to do. Make you completely get immersed in the action and John Wick Chapter 4 doesn\\xe2\\x80\\x99t skip a beat.\\r\\n\\r\\nThe Ending. Ughhhhhhh. The Ending for this film might just be a masterpiece. I am not gonna spoil it for you but trust me, when you see that ending sequence begin, you will be experiencing the greatest moments of cinematic history being unfolded. It isn\\xe2\\x80\\x99t a huge CGI bombastic action set-piece, instead, it subverts your expectations and becomes something completely different yet something very familiar. A perfect end to a perfect film.\\r\\n\\r\\nGo watch this film, you will not be disappointed.\",\n",
       "       b\"Can a horror movie get by on nothing but atmosphere, on the je ne sais quoi of its unsettling mood? Sure, just take a look at Oz Perkins' 'I Am the Pretty Thing That Lives in the House'. And Lenny Abrahamson's brilliantly underrated 'The Little Stranger' is barely a horror movie at all - it's more of an impeccably crafted chamber drama with a supernatural bent. These films prove that there's room in the world for this sort of old-dark-house story. But, as we see with 'The Turning', making scares stick means more than just building a spook house, dropping a few spiders inside, shoving audiences through the door, and hoping for the best.\\r\\n- Jake Watt\\r\\n\\r\\nRead Jake's full article...\\r\\nhttps://www.maketheswitch.com.au/article/review-the-turning-henry-james-haunting-masterpiece-gets-the-conjuring-treatment\",\n",
       "       b'Full review: <a>https://www.tinakakadelis.com/beyond-the-cinerama-dome/2021/12/28/the-kids-are-gonna-be-okay-cmon-cmon-review<a>\\r\\n\\r\\n_C\\xe2\\x80\\x99mon C\\xe2\\x80\\x99mon_ isn\\xe2\\x80\\x99t an easy movie to classify. It doesn\\xe2\\x80\\x99t fit in a simple genre. It\\xe2\\x80\\x99s the kind of movie that reaches into your chest and builds a home there; a one-in-a-million movie that makes you acutely aware of being alive. You can feel the warmth of the blood in your veins and the ache of the bones in your body. You are present and you are witnessing magic.',\n",
       "       b'To be honest, this is a really good movie. Hang on? So why did I only give it 2 out of 5 stars? Well, this is really personal but, to me, it is not a good Batman movie. I really had problems writing this review because it is a very good movie. I just did not like it as a Batman movie.\\r\\n\\r\\nThe movie is really dark, gritty and noir. Not really a problem. It works for some movies. But it is also quite slow at the beginning and the first quarter of the movie was actually boring. Remember, this is a three hour movie so a quarter is more than half an hour of \\xe2\\x80\\x9cboringness\\xe2\\x80\\x9d.\\r\\n\\r\\nThe \\xe2\\x80\\x9cboringess\\xe2\\x80\\x9d was broken up by a pretty cool car chase. Some people seem to not really like the batmobile and I have to say that it was not very inspired but it was not all bad either. Unfortunately the movie turned rather boring for a while again after that.\\r\\n\\r\\nThe movie tries to bring out more of the detective part of Batman than the previous movies, which is fine, but there is just too much moping around with Batman / Bruce Wayne walking around oozing sadness all around him.\\r\\n\\r\\nActually, this brings us to my main gripe with this movie. The choice of actor for the Batman is just wrong for me. He is more like a sad puppy than the Batman. The script that makes him mope around, have emotional outbreaks and, occasionally, being downright stupid like just staring dumbfounded when explosives go off in his face does not really help of course.\\r\\n\\r\\nTo me the Selina Kyle character had more charisma than the Batman, especially when the Batman was in his Bruce Wayne alter ego.\\r\\n\\r\\nAnd I really, really dislike that twist about Bruce\\xe2\\x80\\x99s parents. That was such a lazy Hollywood writer hack thing to do just to create (unwanted) drama.\\r\\n\\r\\nThen we have the Riddler. Compared to the charismatic villains that we have come to expect he is just a sad little psychopath with a bunch of equally sad fanatical internet followers.\\r\\n\\r\\nNow, all of this would have worked great if it had been a movie about some, unspecified, vigilante. The movie is really well done. The detective story, the action (especially towards the end) and the noir setting would have worked great. Even at its three hour bloated length it would have been great although cut down to two hours or a bit more would have been even better. If it had not been a Batman movie!',\n",
       "       b'A sickening, borderline fascist film that is simultaneously dull and harmful. The editing represents that of an anti-pirate commercial and the politics are beyond reprehensible. The film ends with a monologue about how violent law-enforcement and brutality is what the country needs, but does not deserve. Nolan clearly did not intend for any subtext, yet that is not an excuse, if anything, that makes it worse. He includes these scenes to make the film more dark and edgy, yet there are people, from suppressed countries, who have to live through the hardships of violence from law-enforcers and dictatorship every day, and in his obliviousness, Nolan thinks that using this in a superhero film is a good excuse for self-importance. He is a war profiteer, and exploiter, and this is nothing short of disgusting.',\n",
       "       b\"If you are looking for the G.I. Joe style storytelling and action this may disappoint. It's a very different style and kind of predictable in many ways.\",\n",
       "       b\"I didn't understand the idea of \\xe2\\x80\\x8b\\xe2\\x80\\x8bthe movie, there is no story or plot. was it a curse or an environmental disaster, or what, why the sacrifice and on what basis?\",\n",
       "       b'If you enjoy reading my Spoiler-Free reviews, please follow my blog @\\r\\nhttps://www.msbreviews.com\\r\\n\\r\\nLet me just take a deep breath... Wait, one more... Uff, I have no idea how I survived this IMAX screening of 1917. Usually, I don\\'t delve deep into technical stuff since most people don\\'t know or don\\'t care about these attributes, but it\\'s impossible not to address Roger Deakins\\' cinematography. It\\'s not the first time a film has been edited to appear as \"one shot\" (a continuous take), but it never fails to impress me.\\r\\n\\r\\nAlejandro G. I\\xc3\\xb1\\xc3\\xa1rritu\\'s Birdman, Silent House starring Elizabeth Olsen, or the famous Rope from the one and only Alfred Hitchcock... all produce the same trick. Even Mr. Robot and The Haunting of Hill House have brought us two phenomenal \"one shot\" episodes, edited as well with the so-called \"stitches,\" meaning that the actual cuts are made to look invisible to the viewer, hence giving that feeling that it\\'s all just one continuous take. Cuts are often applied when a random character is passing in front of the camera; when the latter \"pans\" (movement similar to a head-turn) over a wall or an object that occupies the whole screen; or when the characters are simply going through a dark area.\\r\\n\\r\\nSam Mendes, Roger Deakins, and Lee Smith (editor) all work together to deliver the most immersive war movie (probably) ever. Yes, it has a simple premise, and the main narrative is basic, but the remarkable technical achievement elevates this film so freaking much. Even if you don\\'t know the slightest thing about filmmaking or how movies are made, it\\'s impossible to watch this film and not think \"something feels different about this one.\" This is a movie meant to be watched at the biggest, best screen possible. Watching 1917 at home on a TV or a laptop is not going to work at all.\\r\\n\\r\\nThroughout the whole runtime, I felt like I was there with Schofield and Blake. It feels like we are a third soldier going with them on a vital mission to save thousands of lives. I believe 1917 is the best \"one shot\" film to date (I\\'ve been using the quote signs for a reason, don\\'t mistake it for an actual one shot movie), with Birdman as a close second. If the latter deals with a lot more dialogue and acting, the former has dozens of nail-biting sequences featuring shootouts, explosions, and a lot of running/walking/swimming through mud, dead corpses, blood, and way too many nasty rats.\\r\\n\\r\\nI really have no words to describe Roger Deakins\\' cinematography. It\\'s not merely a film, it\\'s a whole experience. It\\'s not just another cool technical achievement. It\\'s the entire foundation of 1917, and the main reason why so many people are rushing to the theater. However, a lot of people are completely ignoring Lee Smith\\'s work. Don\\'t forget, this isn\\'t an actual one shot movie. If it\\'s been edited to look like one continuous take, and if it actually does appear to be a single take, then the editor should get as much recognition as everyone else. Yes, he doesn\\'t have to work with thousands of cuts (I counted 14, but I\\'m sure there\\'s more), but they still exist, and he has to make sure no one feels them. And he did so perfectly.\\r\\n\\r\\nMy last paragraph concerning the technical aspects has to go to Sam Mendes and Thomas Newman. As the director, Mendes is able to deliver precisely what he envisioned and seamlessly coordinate his actors. Not only has he directed my favorite Bond film (Skyfall), but he also offers one of my favorite war movies of all-time. As for Newman, I just wish that Joker had been released in another year because 1917\\'s score is fantastic. Hildur Gu\\xc3\\xb0nad\\xc3\\xb3ttir is likely taking the Oscar for Best Original Score, but if Thomas Newman takes it, I\\'ll still be delighted.\\r\\n\\r\\nA lot of comparisons are being made with Christopher Nolan\\'s Dunkirk. They\\'re similar films regarding the fact that their main goal is to provide the most immersive war experience. Story and character-wise, both movies don\\'t really develop that much. Nolan\\'s film is loved by most critics and audiences all around the world, but one common complaint about it is the lack of character building. I didn\\'t mind that at all because the movie never actually tried to make their characters important. They were just soldiers caught in the worst of situations, similar to 1917. However, I do think the latter does a better job of making us care for the protagonists.\\r\\n\\r\\nGeorge MacKay and Dean-Charles Chapman\\'s characters have small arcs, but they exist. In the beginning, Blake is the emotional-driven character, while Schofield seems to be the rational one. We, as the audience, care about the mission first, but as time goes by, we learn about their personal traits and motivations. By the end of the film, I was crying. Both play off of each other really well, but it\\'s their dialogue that impresses me the most. What seems to be just a random talk while strolling through an open field of grass, it truly isn\\'t. If it\\'s not meaningful at the time, it\\'s going to be. The acting is more physical than anything, and both deliver outstanding performances.\\r\\n\\r\\nI would say I love 1917 as much as I love Dunkirk. I might be tempted to choose the former due to the \"recency effect,\" but there\\'s one small aspect that negatively affects both. Their replay value is not as high as other films since their technical achievements don\\'t work as well on a regular TV in the comfort of our own home. You will never feel or understand that \"immersive experience\" that everyone talks about. You won\\'t know what made people to be blown away. You won\\'t love it as much as everyone else. So, please, do NOT miss 1917 in theaters!\\r\\n\\r\\nSam Mendes, Roger Deakins, and Lee Smith. Director, director of photography, editor. Three key filmmaking roles in the creation of one of the best WWI movies of all-time. Edited to look like one continuous shot, 1917 is a mind-blowing technical achievement, elevated by Deakins\\' always jaw-dropping cinematography, Thomas Newman emotionally powerful score, Mendes impeccable directing, and Smith\\'s seamless editing. George MacKay and Dean-Charles Chapman deliver outstanding (physical) performances, but it\\'s the astonishing filmmaking that steals the spotlight. Production design, costume design, sound, you name it. Everything is absolutely perfect. It\\'s meant to be seen at the biggest screen near you since this is an incredibly immersive experience that you won\\'t get at home. It\\'s going straight into my Top10: Best Movies of 2019, and I hope you\\'ll love it as much as I do.\\r\\n\\r\\nRating: A',\n",
       "       b\"I'm all for dumb entertainment (Swordfish and xXx are guilty pleasures for me) but this one lacks any innovation, even for its time, not to mention some poor acting (though Jovovich was the least aggressor in the cast). Some of the action was okay but much else felt like a waste of time. **2.0/5**\",\n",
       "       b'Good movie!', b'Yet again a great piece of art!',\n",
       "       b'Absolutely terrible zombie-horror-action movie with horrible acting with none of the young actors possessing any on-screen chemistry, bad writing, amateurish direction (by two different directors, one coming in after the other left due to \"creative differences\") and the dye job they did on Lundgren\\'s hair was just ridiculous. Just awful.',\n",
       "       b'This movie was godly. No other like it. Truly a spiritual experience.',\n",
       "       b\"Here we go again, another female empowered teen movie. HW seem to be literally pumping this garbage out for the last few years. Is it any wonder why movie sales are down with garbage like this on the shelf? Designed to be for all those teens who like the idea of blood, but really don't want to see it (think twilight, hunger games etc). Save your money and 1h50m of your time and skip.\\r\\nIf you really need to see it, in brief it's about a 16 year old girls world turned upside down by an 'alien' invasion when her brother is taken by supposed US army to fight the aliens and father is shot. Befriended by one of 'the others' helps to get the aliens on the run.\\r\\nNifty idea, however for me falls way short as you don't see any real 'aliens', mediocre acting and story line is very predicable. Look for it in the bargain bin at videoezy in 12 months.\",\n",
       "       b'There are few things as fetching as a bruised ego on a beautiful angel. \\r\\n\\r\\nWarning: Spoilers\\r\\n \\r\\nDeath Proof is directed and written by Quentin Tarantino. It\\'s part of a double feature production that Tarantino and Robert Rodriguez released as Grindhouse. With Rodriguez contributing Planet Terror. Death Proof tells of a psychopathic stunt man played by Kurt Russell who stalks pretty young ladies and then murders them by way of road accidents caused by his \"death proofed\" stunt car. Joining Russell in the cast are Zo\\xc3\\xab Bell, Rosario Dawson, Vanessa Ferlito, Jordan Ladd, Sydney Tamiia Poitier, Tracie Thoms, Mary Elizabeth Winstead and Rose McGowan.\\r\\n\\r\\nMany trials and tribulations followed the release of the Grindhouse project; poor opening weekend, two film\\'s meant to be together ultimately separated on disc, with different cuts etc etc. It\\'s all rather boorish in truth and really both Death Proof and Planet Terror stand up on their own two feet even if the whole \"Grindhouse\" homage\" is somewhat lost in home viewing. So on to Death Proof, a film that finds Tarantino on deliciously agreeable form. Delivering a chicksploitation psycho killer piece that bubbles nicely under the surface to then explode into one of the most thrilling finales in recent times.\\r\\n\\r\\nNow in its longer cut, Death Proof is split into two parts. The first part has one group of girls (Poitier, Ladd & Ferlito) out in Austin, Texas, celebrating the birthday of one of them. It\\'s here we are introduced to Stuntman Mike (a terrific Russell), who is stalking them. For this first half there\\'s lots of talk and relationship posers plotting away. It\\'s a slow build, and in light of QT\\'s pre release promise of 200mph thrills, it may lose some viewers hungry for action and murder death kill from the off. But hang in there, listen to the dialogue, get to know the characters, particularly the girls (how often do we get to know victims in slashers eh?), and then bang! Pay off number one as carnage is unleashed in multi-angles and action replays. A memorable blood show played out to the awesome drum beats of Dave Dee, Dozy, Beaky, Mick & Titch\\'s pop classic Hold Tight.\\r\\n\\r\\nPart two. And our second group of girls, an aesthetically pleasing bunch that contains Zo\\xc3\\xab Bell, Mary Elizabeth Winstead, Tracie Thoms & Rosario Dawson. Again there\\'s much talk, but oh what talk. These are girls I could sit and listen to for ever. This may not be QT\\'s most quotable movie, but it isn\\'t shy of coolness in the writing. Just sample the whole gun conversation as the camera revolves around the table, a sharp sharp moment in the film; all that\\'s missing is a Madonna story, you know? Some may argue it\\'s indulgent from the director, I say it\\'s finding a director very relaxed and at one with his protect. Besides, it\\'s a critical passage of play that\\'s setting us up for the exhilarating climax as Bell (real life stunt-woman) straps herself to the bonnet of a speeding Dodge Challenger. What follows is ripping cinema, free of CGI and string work, not only does QT homage those car movies of the 70s he loves so much (Vanishing Point, Dirty Mary Crazy Larry et al), but he\\'s also patting the back of the stunt-men and women who bring so many action moments to life. And as this long car chasing sequence raises the pulses, it starts to unravel that Death Proof is subverting the norm. Bravo boys and girls.\\r\\n\\r\\nHilarious, riotous, troubling, sexy and sleazy, Death Proof is unsurprisingly proving divisive. But I for one wouldn\\'t be at all surprised if in ten years time it is regarded as being one of his best movies. The Grindhouse project may not have worked as a whole, but this portion on its own provides thrills and cheek in equal measure as Tarantino gets behind the wheel and takes us on one hell of a ride. Kicking soundtrack too! 9/10',\n",
       "       b\"Waltons, Poronography, Tricky Dicky, Hitler, Equanimity, Bumble Bees ... And Stuff!\\r\\n\\r\\nThe Nice Guys is directed by Shane Black and Black co-writes the screenplay with Anthony Bagarozzi. It stars Russell Crowe, Ryan Gosling and Angourie Rice. Music is by John Ottman and David Buckley and cinematography by Philippe Rousselot.\\r\\n\\r\\n1977 Los Angeles and a private detective and a muscle for hire enforcer wind up on the same case looking for a missing girl. Can opposites really attract? More importantly, can they survive not just the perils of a case that gets murkier the longer it goes on? But also each other?\\r\\n\\r\\nI don't care if Colonel Mustard did it in the study with a candlestick. I just wanna know who he did it with and get the pictures.\\r\\n\\r\\nHow wonderful to have had Shane Black back in his comfort zone and producing such a joyful buddy buddy neo-noir of considerable substance. It was eleven years since the superb Kiss Kiss Bang Bang had reminded us that Black had few peers when it came to blending high action macho twosomes who are also armed with sharp tongues to match, this was after all the guy who also penned Lethal Weapon and The Last Boy Scout. The idea for The Nice Guys had sat in gestation for a number of years, finally it was unleashed to reward fans of his work and for those in sync with the style of film making he homages.\\r\\n\\r\\nMuch like his other buddy scriptings, we are in the company of two mismatched guys. Gosling's ex-cop Holland March is a bit goofy, afraid of the sight of blood and morally bankrupt. Crowe's muscle for hire Jackson Healy beats people up for money, but he's a stand-up guy, likes his pet fish, even has a hero streak. What binds them together is troubled family baggage, that they are both men in search of a better world, to be better men themselves, and thus Black - to give them a chance of life improvement - pitches them into the seamy underbelly of the L.A. pornography industry - with some corruption elsewhere thrown into the equation.\\r\\n\\r\\nAs a coupling March and Healy prove to be a riot. Crowe is menacing and funny with it, Gosling is affably flaky but charm personified, and thankfully both men have a knack for visual comedy (see Gosling's Lou Costello homage and Crowe's reaction to a henchman's act of fish murder). Crucially both actors can deliver killer lines, which is an absolute must for a Shane Black inspired production, for here there is never any let up, zingers are unbound. Then there is Rice (superb and actually the third lead in the play) as March's 13 year old daughter, she's got youthful zest and a killer matter of fact skill in reacting smartly to the two men currently dominating her life.\\r\\n\\r\\nThe L.A. of the 70s is expertly designed, all blink blink blinkity blink neon lighting, side-burns and disco music, dubious fashions and protest groups protesting about the most mundane of things. Then you got the pornography angle, the 70s a hot-bed (no pun intended) for the sex sells profiteers, the perfect setting for Black to trawl through it all in noir clobber. As a noir piece it has it all, femme fatales, thugs, conspiracies, voice overs and an array of colourfully odd characters (excitable and troubling henchmen, a porno Pinocchio, a young lad willing to flash the contents of his underpants for cash!). And of course there's mysteries to be solved and rocks to be upturned, all of which is played out in a whirl of stylish violence, situational comedy and fluid camera work.\\r\\n\\r\\nBlack kind of wants it all, to stay cool whilst having wry observations on the Americana of the era, and he enjoys going close to the knuckle when he can, which to some (not me) will come off as a shock value humour tactic just to ruffle feathers. It's also a minor itch that he sort of snatches from his previous works in search of reassurance - note for instance the similarities between the opening to Lethal Weapon and here with The Nice Guys. But itches be damned, so much fun and hidden dramatic depth on show here, a real treasure that makes you wish Black would stroll down neo-noir lane a bit more often. Don't believe me? Then may Richard Nixon come after you the next time you go for a swim in the pool! 9/10\",\n",
       "       b\"Utterly riveting.\\r\\n\\r\\nIt's no surprise this one got/gets rave reviews - it's outstanding! <em>'The Revenant'</em> isn't necessarily edge-of-your-seat viewing, though it's still a massively impactful watch as you feel every hit of Hugh Glass' journey. It's rather gruesome and bloody, while it also has a few top notch action sequences.\\r\\n\\r\\nLeonardo DiCaprio is easily one of my favourite actors of all-time, the man is simply a sensational actor - I'm yet to see an anything less than tremendous film involving him. I wouldn't even say this is his greatest performance, and that's saying something as DiCaprio is absolutely superb here.\\r\\n\\r\\nAway from the main man, Tom Hardy is also part of this film. He is great, as I always expect from him. He and DiCaprio are fantastic actors. Hardy portrays John Fitzgerald, brilliantly. However, his character isn't written perfectly - not poorly by any stretch, he's just a bit flip-floppy at the beginning. The way the story creates itself involving Fitzgerald being where he is isn't as amazing as it could've been - very minor criticism, mind.\\r\\n\\r\\nAnother small complaint is the ending, there's nothing truly wrong with it at all but I, personally, would've concluded things about 10-15 minutes prior - there's a quality, almost Quentin Tarantino-esque, scene involving horses that would've made for a more thrilling end shot.\\r\\n\\r\\nTo finish, everything's beautifully crafted together visually, from a filmmaker's viewpoint, too. A marvellous film no doubt, certainly a must-watch!\",\n",
       "       b\"Christian propaganda trash. An embarrassment to the word 'movie'.\",\n",
       "       b'Masterpiece. Best DC film yet',\n",
       "       b'Christ what kind of bum did they get to write and/or produce this one.\\r\\n\\r\\nI really, really liked the first Ghost Rider movie. This one is nowhere near that one. Sure, Nicolas Cage is doing Johnny Blaze again and they even got Christopher Lambert to play an old priest but the movie is just poorly implemented. The Ghost Rider is actually not really appearing that much and when he does, the special effects look cheap and not at all as cool as in the first movie.\\r\\n\\r\\nIt doesn\\xe2\\x80\\x99t help that, when he first appears in the movie, he gets shot down by a simple \\xe2\\x80\\x9chuman\\xe2\\x80\\x9d gun and ends up in hospital. This nonsense about, first trying to hide out in some obscure place a \\xe2\\x80\\x99la The Hulk (been there done that), and then trying to get rid of his powers and afterwards taking on Satan without them is just ruining the fun. The film totally lacks the spirit of the first one.\\r\\n\\r\\nAs I said, I\\xe2\\x80\\x99m rather disappointed. It\\xe2\\x80\\x99s really a shame that they screwed this one so badly because now we probably won\\xe2\\x80\\x99t get another one even though they made a lame attempt at the end of the film to leave a door open for that.',\n",
       "       b\"This review does contain spoilers\\r\\n\\r\\n\\r\\n\\r\\n\\r\\n\\r\\n\\r\\n\\r\\n\\r\\n\\r\\nSuch a disappointing movie. Adam Driver is a great actor but this movie is so incredible boring. 90% of the movie are encounters to another and then another and then another dangerous blood seeking Dino. Just when you think the story might get anywhere there is another Dino to shoot.  Slowly you are realizing there is no more extra story. it is just a short journey to a top of a hill fighting Dino's. And Adam is a father of a 9 year old but then on this journey he has to do the journey with another 9 year old (which looks too old) and suddenly  becomes like the dumbest not able to communicate person in the world.  Such a waist of actor talent and special effects money. My guess is that the makers have cgi or vision art backgrounds because the only thing well done in this movie are the special effects.\",\n",
       "       b'I like Kevin James. I watched every episode of \"The King of Queens,\" and his special \"Kevin James: Sweat the Small Stuff\" is one of my favorite stand-up comedy concerts of all-time. He\\'s a big guy with a flawless delivery, and he can be very funny. He can also be very unfunny.  Paul Blart (Kevin James) is a mall cop living in New Jersey with his daughter Maya (Raini Rodriguez). His wife (Jayma Mays, with a few seconds of screen time) from the first film has left him after six days of marriage, and his mother (Shirley Knight, also with a few seconds of screen time) is killed by a milk truck, so he is feeling pretty low. Maya has been accepted to UCLA, and finds out on the same day that Paul is invited to a security officer convention at the Wynn Resort in Las Vegas. He is still basking in the glory of his exploits in the first film, and he and Maya head west. Maya is smitten right away with resort employee Lane (David Henrie, given nothing to do), and Paul deals with a supporting cast of freakish security officers from around the country, as well as a team of art thieves led by Sofel (Neal McDonough, slumming and wasted). This sets up a long, dry series of pratfalls and lame action sequences as Paul battles the baddies after Maya and Lane are kidnapped.\\r\\n\\r\\nAs they did in the first film, James co-wrote the screenplay with comedian Nick Bakay, so the laughs should be here. It\\'s weird that James doesn\\'t seem to have a handle on his own creation. Is Paul a stupid oaf, or a genius detective trying to break out of his boring job? Here, we get both characteristics. His arrival in Vegas and dealings with the casino staff is supposed to be fish-out-of-water funny, but fall flat because James plays Paul as a sociopathic jerk. I could not stand this guy. The only scenes I smiled at were when hotel manager Divina (Daniella Alonso) kept finding herself attracted to Paul, and even that running gag didn\\'t get going until after their first awkward encounter; and Muhrtelle (Bob Clendenin), the casino employee with the banana. The film is rated (PG) and family friendly, so the violence here are guns with silencers that never hit their target, and Paul falling down a lot. A supporting roster of familiar faces and character actors- look at that cast list!- stand around and watch Paul fall down a lot. Paul falling down a lot isn\\'t that funny. The Wynn Resort is nice to look at and makes for a great action film setting, but this is not that action film. I don\\'t see another \"Paul Blart\" film on the horizon, this one did poorly at the box office, but since it was released six years after the mediocre first film, you never know.',\n",
       "       b'_**A black detective in Gotham desperately wants to nail a snooty racist murderer**_ \\r\\n\\r\\nThe nephew of the original John Shaft is a detective in New York City (Samuel L. Jackson) where he tries to apprehend an arrogant racist killer (Christian Bale) by finding a key witness (Toni Collette) while dealing with a gang lord (Jeffrey Wright) and corrupt cops. Vanessa Williams is on hand as a helpful officer.\\r\\n\\r\\n\\xe2\\x80\\x9cShaft\\xe2\\x80\\x9d (2000) is a \\xe2\\x80\\x98hip\\xe2\\x80\\x99 crime thriller that resurrects the franchise 27 years after the original trilogy from 1971-1973 that featured Richard Roundtree in the title role (he returns here as the aged uncle). The cast and filmmaking are fine; the problem is the lame story with which they\\xe2\\x80\\x99re shackled. \\r\\n\\r\\nThe key crime in the opening act is glaringly weak. Bale\\xe2\\x80\\x99s character is a snooty punk born with a silver spoon in his mouth, but I didn\\xe2\\x80\\x99t buy his rash, racist actions at the night club. It just didn\\xe2\\x80\\x99t ring true, especially since he seems to get along with black people just fine the rest of the movie. Likewise, Collette\\xe2\\x80\\x99s actions aren\\xe2\\x80\\x99t convincing as the doe-eyed bartender. Simply put, the scriptwriters tried too hard to concoct a racist whitey villain when subtly was in order.\\r\\n\\r\\nIf you can roll with that serious flaw, there are enough thrills to amuse, including Jackson as the bad axx protagonist and Wright\\xe2\\x80\\x99s entertaining drug lord. Plus it\\xe2\\x80\\x99s always good to see the charming Vanessa Williams. \\r\\n\\r\\nThe film runs 1 hour, 39 minutes, and was shot in various areas of New York City, as well as nearby Newark. \\r\\n\\r\\nGRADE: C-',\n",
       "       b'Pretty solid movie if you are into that kind of movies (musicals). Audio fine tuning to the songs were in fact somewhat excessive, but to my opinion the movie was meant to be viewed in theaters with loud sounds so everything \"should\" sound nearly perfect. The songs and dancing acts were well performed and I really liked Hugh Jackman\\'s acting. Overall, it\\'s a pleasant movie to watch and perhaps even worth watching twice.',\n",
       "       b\"Okay. Damn. Woah. What? Come again?\\r\\n\\r\\nThis was brilliant. The twists, the turns, plot twist on top of plot twist, everything hit the mark and I am just ASTOUNDED. The writers did amazing with this, and I cannot believe ho well it all connected. I am just... astounded. I don't have much to say other than goddamn, I actually want a sequel to this. I don't want a sequel to this because it would likely absolutely ruin the charm of this.\\r\\n\\r\\nThis wasa wild ride from start to finish, and I cannot state enough how good this is. Give it a go; easily one of the best movies of this year.\",\n",
       "       b\"Keeping the Bond series down.\\r\\nPoor Daniel Craig isn't at fault for these totally uninspired, unmotivated stories he appears in.\\r\\nMaybe his agent is at fault. But while Craig makes money, his memory will be forgotten in a hundred years, if these 007 fiascos are his high points. \\r\\nThey probably won't be his high points. Good for him.\\r\\nHere, we get more of the modern day movie making which eliminates all the exotic scenery and all the wit and all the inspiration and all the motivation.\\r\\nInstead, we get another demigod villain on the order of horror movies. He may as well be Freddy, Jason, or Wishmaster. That's how he's written.\\r\\nSo, we have the worst Bond villain in movie history. Certainly, he's the most Hollywood.\\r\\nWhich makes this as dull as watching a pot boil.\\r\\nEven the high octane action sequences can't save this flop.\"],\n",
       "      dtype=object)>"
      ]
     },
     "execution_count": 33,
     "metadata": {},
     "output_type": "execute_result"
    }
   ],
   "source": [
    "# Preview the text\n",
    "ds_texts.take(1).get_single_element()"
   ]
  },
  {
   "cell_type": "markdown",
   "id": "a48ae78d-ce0b-40ed-b2b6-8e5d6ff9b0f4",
   "metadata": {},
   "source": [
    "#### Create a Keras Text Vectorization layer\n",
    "\n",
    "    Create a Keras text vectorization layer for an RNN (sequence) model.\n",
    "    Fit/Adapt the text vectorization layer on the training texts.\n",
    "    Save the vocabulary size from the layer to use in your models' Embedding layer."
   ]
  },
  {
   "cell_type": "code",
   "execution_count": 34,
   "id": "cf78a76b-a9ad-4281-b0e8-231ad3560686",
   "metadata": {},
   "outputs": [],
   "source": [
    "# Create keras text Vectorization layer\n",
    "sequence_vectorizer = tf.keras.layers.TextVectorization(\n",
    "    standardize=\"lower_and_strip_punctuation\",\n",
    "    output_mode=\"int\",\n",
    "    output_sequence_length=SEQUENCE_LENGTH\n",
    ")"
   ]
  },
  {
   "cell_type": "code",
   "execution_count": 84,
   "id": "a959fd27-bb18-4857-a899-034937407ac9",
   "metadata": {},
   "outputs": [
    {
     "name": "stdout",
     "output_type": "stream",
     "text": [
      "\n",
      "tf.keras.layers.TextVectorization(\n",
      "{   'batch_input_shape': (None,),\n",
      "    'dtype': 'string',\n",
      "    'encoding': 'utf-8',\n",
      "    'idf_weights': None,\n",
      "    'max_tokens': None,\n",
      "    'name': 'text_vectorization_3',\n",
      "    'ngrams': None,\n",
      "    'output_mode': 'int',\n",
      "    'output_sequence_length': 4017,\n",
      "    'pad_to_max_tokens': False,\n",
      "    'ragged': False,\n",
      "    'sparse': False,\n",
      "    'split': 'whitespace',\n",
      "    'standardize': 'lower_and_strip_punctuation',\n",
      "    'trainable': True,\n",
      "    'vocabulary': None,\n",
      "    'vocabulary_size': 24824}\n",
      ")\n"
     ]
    }
   ],
   "source": [
    "# # same as above cell. pick one.Define vectorizer layer. Use the custom function to build and fit the vectorizer before using it in model\n",
    "sequence_vectorizer, lookup = fn.make_text_vectorization_layer(train_ds, output_mode='int',output_sequence_length=SEQUENCE_LENGTH)"
   ]
  },
  {
   "cell_type": "code",
   "execution_count": 85,
   "id": "ce0e1883-72d9-413b-a4e5-7db845b2f2a5",
   "metadata": {},
   "outputs": [],
   "source": [
    "# Fit/Adapt the text vectorization layer on the training texts.\n",
    "sequence_vectorizer.adapt(ds_texts)"
   ]
  },
  {
   "cell_type": "code",
   "execution_count": 86,
   "id": "850f8f85-f5ca-4a4f-88f8-4cdfb1f1c195",
   "metadata": {},
   "outputs": [],
   "source": [
    "# Save the vocabulary size from the layer to use in your models' Embedding layer.\n",
    "VOCAB_SIZE = sequence_vectorizer.vocabulary_size()"
   ]
  },
  {
   "cell_type": "code",
   "execution_count": 87,
   "id": "f2965071-5b6b-4526-9ae1-5c6cf436e978",
   "metadata": {},
   "outputs": [
    {
     "data": {
      "text/plain": [
       "array([0, 1])"
      ]
     },
     "execution_count": 87,
     "metadata": {},
     "output_type": "execute_result"
    }
   ],
   "source": [
    "# unique classes\n",
    "classes = y.unique()\n",
    "classes"
   ]
  },
  {
   "cell_type": "markdown",
   "id": "e5017444-7056-410a-b30d-51122b292f7a",
   "metadata": {},
   "source": [
    "#### Build an RNN with the TextVectorization Layer\n",
    "\n",
    "    Build and fit at least 1 sequence model (LSTM, GRU, Bidirectional, etc.)\n",
    "\n",
    "    Evaluate the model on the training and test data.\n",
    "\n",
    "        In a Markdown cell, document your observations from your results. (e.g., How did the RNN compare to your ML model? Was it superior to your ML model in some way (e.g., accuracy, recall, etc.)"
   ]
  },
  {
   "cell_type": "code",
   "execution_count": 39,
   "id": "7d5b8cab-097f-488a-ad11-5cef89f42c00",
   "metadata": {},
   "outputs": [],
   "source": [
    "def build_gru_model_bi_pool(text_vectorization_layer):\n",
    "    \n",
    "    gru_model_bi_pool = Sequential([\n",
    "        text_vectorization_layer,\n",
    "        layers.Embedding(input_dim=VOCAB_SIZE,\n",
    "                      output_dim=EMBED_DIM,\n",
    "                      input_length=SEQUENCE_LENGTH)])\n",
    "        \n",
    "    # Add bidirectional component to GRU layer \n",
    "    gru_model_bi_pool.add(layers.Bidirectional(layers.GRU(64, return_sequences = True)))\n",
    "    gru_model_bi_pool.add(layers.Dropout(.2))\n",
    "    gru_model_bi_pool.add(layers.Bidirectional(layers.GRU(64, return_sequences = True)))\n",
    "    # Add a pooling layer *new\n",
    "    gru_model_bi_pool.add(layers.GlobalMaxPooling1D())\n",
    "    \n",
    "    # Output layer\n",
    "    gru_model_bi_pool.add(layers.Dense(len(classes), activation='softmax'))\n",
    "                     \n",
    "    optimizer = optimizers.legacy.Adam()\n",
    "    gru_model_bi_pool.compile(optimizer=optimizer, \n",
    "                  loss='sparse_categorical_crossentropy', metrics=['accuracy'])\n",
    "    gru_model_bi_pool.summary()\n",
    "    return gru_model_bi_pool\n",
    "    \n",
    "#Include callbacks\n",
    "def get_callbacks(patience=3, monitor='val_accuracy'):\n",
    "    early_stop = tf.keras.callbacks.EarlyStopping(patience=patience, monitor=monitor)\n",
    "    return [early_stop]\n"
   ]
  },
  {
   "cell_type": "code",
   "execution_count": 40,
   "id": "d5c8e450-3978-407f-83cc-cc90bd85440e",
   "metadata": {},
   "outputs": [
    {
     "name": "stdout",
     "output_type": "stream",
     "text": [
      "Model: \"sequential\"\n",
      "_________________________________________________________________\n",
      " Layer (type)                Output Shape              Param #   \n",
      "=================================================================\n",
      " text_vectorization (TextVec  (None, 4017)             0         \n",
      " torization)                                                     \n",
      "                                                                 \n",
      " embedding (Embedding)       (None, 4017, 100)         2482400   \n",
      "                                                                 \n",
      " bidirectional (Bidirectiona  (None, 4017, 128)        63744     \n",
      " l)                                                              \n",
      "                                                                 \n",
      " dropout (Dropout)           (None, 4017, 128)         0         \n",
      "                                                                 \n",
      " bidirectional_1 (Bidirectio  (None, 4017, 128)        74496     \n",
      " nal)                                                            \n",
      "                                                                 \n",
      " global_max_pooling1d (Globa  (None, 128)              0         \n",
      " lMaxPooling1D)                                                  \n",
      "                                                                 \n",
      " dense (Dense)               (None, 2)                 258       \n",
      "                                                                 \n",
      "=================================================================\n",
      "Total params: 2,620,898\n",
      "Trainable params: 2,620,898\n",
      "Non-trainable params: 0\n",
      "_________________________________________________________________\n",
      "Epoch 1/5\n",
      "53/53 [==============================] - 1009s 19s/step - loss: 0.6849 - accuracy: 0.5753 - val_loss: 0.6500 - val_accuracy: 0.6025\n",
      "Epoch 2/5\n",
      "53/53 [==============================] - 631s 12s/step - loss: 0.4229 - accuracy: 0.8009 - val_loss: 0.3745 - val_accuracy: 0.8219\n",
      "Epoch 3/5\n",
      "53/53 [==============================] - 520s 10s/step - loss: 0.0717 - accuracy: 0.9758 - val_loss: 0.3737 - val_accuracy: 0.8551\n",
      "Epoch 4/5\n",
      "53/53 [==============================] - 535s 10s/step - loss: 0.0106 - accuracy: 0.9970 - val_loss: 0.5235 - val_accuracy: 0.8509\n",
      "Epoch 5/5\n",
      "53/53 [==============================] - 561s 11s/step - loss: 0.0044 - accuracy: 0.9994 - val_loss: 0.5224 - val_accuracy: 0.8530\n"
     ]
    },
    {
     "data": {
      "image/png": "[encoded data removed]",
      "text/plain": [
       "<Figure size 600x600 with 2 Axes>"
      ]
     },
     "metadata": {},
     "output_type": "display_data"
    },
    {
     "name": "stdout",
     "output_type": "stream",
     "text": [
      "\n",
      "================================================================================\n",
      "- Evaluating Network...\n",
      "================================================================================\n",
      "----------------------------------------------------------------------\n",
      " Classification Metrics: Training Data\n",
      "----------------------------------------------------------------------\n",
      "              precision    recall  f1-score   support\n",
      "\n",
      "           0       1.00      1.00      1.00       849\n",
      "           1       1.00      1.00      1.00       844\n",
      "\n",
      "    accuracy                           1.00      1693\n",
      "   macro avg       1.00      1.00      1.00      1693\n",
      "weighted avg       1.00      1.00      1.00      1693\n",
      "\n"
     ]
    },
    {
     "data": {
      "image/png": "[encoded data removed]",
      "text/plain": [
       "<Figure size 600x400 with 2 Axes>"
      ]
     },
     "metadata": {},
     "output_type": "display_data"
    },
    {
     "name": "stdout",
     "output_type": "stream",
     "text": [
      "\n",
      "- Evaluating Training Data:\n",
      "53/53 [==============================] - 74s 1s/step - loss: 0.0042 - accuracy: 0.9988\n",
      "{'loss': 0.004227946978062391, 'accuracy': 0.9988186359405518}\n",
      "----------------------------------------------------------------------\n",
      " Classification Metrics: Test Data\n",
      "----------------------------------------------------------------------\n",
      "              precision    recall  f1-score   support\n",
      "\n",
      "           0       0.88      0.82      0.85       129\n",
      "           1       0.81      0.88      0.84       114\n",
      "\n",
      "    accuracy                           0.85       243\n",
      "   macro avg       0.85      0.85      0.85       243\n",
      "weighted avg       0.85      0.85      0.85       243\n",
      "\n"
     ]
    },
    {
     "data": {
      "image/png": "[encoded data removed]",
      "text/plain": [
       "<Figure size 600x400 with 2 Axes>"
      ]
     },
     "metadata": {},
     "output_type": "display_data"
    },
    {
     "name": "stdout",
     "output_type": "stream",
     "text": [
      "\n",
      "- Evaluating Test Data:\n",
      "8/8 [==============================] - 11s 1s/step - loss: 0.4746 - accuracy: 0.8477\n",
      "{'loss': 0.4746319353580475, 'accuracy': 0.8477365970611572}\n"
     ]
    }
   ],
   "source": [
    "EMBED_DIM = 100\n",
    "#Build the model\n",
    "model = build_gru_model_bi_pool(sequence_vectorizer)\n",
    "# Fit the model\n",
    "EPOCHS = 5#30\n",
    "history = model.fit(\n",
    "    train_ds,\n",
    "    epochs=EPOCHS,\n",
    "    validation_data=val_ds,\n",
    "    callbacks=get_callbacks(),\n",
    ")\n",
    "# Evaluate the model\n",
    "results = evaluate_classification_network(\n",
    "    model, X_train=train_ds, \n",
    "    X_test=test_ds, history=history);"
   ]
  },
  {
   "cell_type": "markdown",
   "id": "1ef47ba6-8eb6-4a14-bb65-4f57a332dcdf",
   "metadata": {},
   "source": [
    "The model appears to be overfit due to the high scores on training data and low scores on test data. The RNN performed a bit better than the ML models with an accuracy of 0.85 vs 0.84 and 0.83."
   ]
  },
  {
   "cell_type": "markdown",
   "id": "1f46cee5-7b8a-4b63-b6ec-e1842367abd3",
   "metadata": {},
   "source": [
    "#### Save models joblibs for Part 7"
   ]
  },
  {
   "cell_type": "code",
   "execution_count": 91,
   "id": "03261ea2-e3a6-451b-a474-c144ffc71020",
   "metadata": {},
   "outputs": [
    {
     "name": "stdout",
     "output_type": "stream",
     "text": [
      "{'Data': {'ml': {'label_encoder': 'Data/label_encoder.joblib',\n",
      "                 'target_lookup': 'Data/target_lookup.joblib',\n",
      "                 'test': 'Data/test_data_ml.joblib',\n",
      "                 'train': 'Data/training_data_ml.joblib'},\n",
      "          'tf': {'test_tf': 'Data/test_ds.joblib',\n",
      "                 'train_tf': 'Data/train_ds.joblib'}},\n",
      " 'Models': {'clf': 'Models/clf.joblib', 'gru': 'Models/gru.joblib'}}\n"
     ]
    }
   ],
   "source": [
    "from pprint import pprint\n",
    "FPATHS = dict(\n",
    "\n",
    "    Data={\n",
    "        \"ml\":{\n",
    "            \"train\":\"Data/training_data_ml.joblib\",\n",
    "            \"test\":\"Data/test_data_ml.joblib\",\n",
    "            \"target_lookup\":\"Data/target_lookup.joblib\",\n",
    "            \"label_encoder\":\"Data/label_encoder.joblib\",\n",
    "         },\n",
    "        \"tf\":{\n",
    "            \"train_tf\":\"Data/train_ds.joblib\",\n",
    "            \"test_tf\":\"Data/test_ds.joblib\",\n",
    "        },\n",
    "    },\n",
    "\n",
    "    Models={\n",
    "        \"clf\":\"Models/clf.joblib\",\n",
    "        \"gru\":\"Models/gru.joblib\"}\n",
    ")\n",
    "pprint(FPATHS)"
   ]
  },
  {
   "cell_type": "code",
   "execution_count": 92,
   "id": "875061d0-db4c-485f-bda1-b71582ffd6dd",
   "metadata": {},
   "outputs": [
    {
     "data": {
      "text/plain": [
       "{'Data': {'ml': {'train': 'Data/training_data_ml.joblib',\n",
       "   'test': 'Data/test_data_ml.joblib',\n",
       "   'target_lookup': 'Data/target_lookup.joblib',\n",
       "   'label_encoder': 'Data/label_encoder.joblib'},\n",
       "  'tf': {'train_tf': 'Data/train_ds.joblib',\n",
       "   'test_tf': 'Data/test_ds.joblib'}},\n",
       " 'Models': {'clf': 'Models/clf.joblib', 'gru': 'Models/gru.joblib'}}"
      ]
     },
     "execution_count": 92,
     "metadata": {},
     "output_type": "execute_result"
    }
   ],
   "source": [
    "import json\n",
    "with open('config/filepaths.json') as f:\n",
    "    FPATHS = json.load(f)\n",
    "FPATHS"
   ]
  }
 ],
 "metadata": {
  "kernelspec": {
   "display_name": "Python (dojo-env)",
   "language": "python",
   "name": "dojo-env"
  },
  "language_info": {
   "codemirror_mode": {
    "name": "ipython",
    "version": 3
   },
   "file_extension": ".py",
   "mimetype": "text/x-python",
   "name": "python",
   "nbconvert_exporter": "python",
   "pygments_lexer": "ipython3",
   "version": "3.10.10"
  },
  "widgets": {
   "application/vnd.jupyter.widget-state+json": {
    "state": {},
    "version_major": 2,
    "version_minor": 0
   }
  }
 },
 "nbformat": 4,
 "nbformat_minor": 5
}
