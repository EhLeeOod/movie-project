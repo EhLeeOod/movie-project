{
 "cells": [
  {
   "cell_type": "markdown",
   "id": "be4bb060-d0f5-43e3-96d3-9467441f4353",
   "metadata": {},
   "source": [
    "# Project 2 Part 6: Review Classification"
   ]
  },
  {
   "cell_type": "markdown",
   "id": "62e1eb4a-f29a-435f-aa96-480cc196b802",
   "metadata": {},
   "source": [
    "### Load the Data\n",
    "\n",
    "Load the joblib containing the data frame from Part 5 of the project.\n",
    "\n",
    "Drop any reviews that do not have a rating.\n",
    "\n",
    "Use the original review column as your X and the classification target (High/Low Rating Reviews) as your y.\n",
    "\n",
    "### Build a Machine Learning Model\r\n",
    "\r\n",
    "Build a sklearn modeling pipeline with a text vectorizer and a classification model.\r\n",
    "\r\n",
    "Suggested Models: MultinomialNB, LogisticRegression (you may need to increase max_iter), RandomForestClassifier\r\n",
    "Fit and evaluate the model using the machine learning classification models from sklearn.\r\n",
    "\r\n",
    "In a Markdown cell, document your observations from your results. (e.g., how good is the model overall? Is it particularly good/bad at predicting one class?)"
   ]
  },
  {
   "cell_type": "markdown",
   "id": "02cfe2ec-a2f3-49f9-9258-020e245081cd",
   "metadata": {},
   "source": [
    "## Imports"
   ]
  },
  {
   "cell_type": "code",
   "execution_count": 3,
   "id": "94a970e2-5d97-43dc-980c-98e30d647be4",
   "metadata": {},
   "outputs": [],
   "source": [
    "# packages\n",
    "import pandas as pd\n",
    "import joblib"
   ]
  },
  {
   "cell_type": "markdown",
   "id": "6b46274a-99d9-4cda-b0b7-8e80997e3613",
   "metadata": {},
   "source": [
    "#### Load Part 5 joblib"
   ]
  },
  {
   "cell_type": "code",
   "execution_count": 4,
   "id": "9f5fc250-1599-4257-a628-6c1bef692ca7",
   "metadata": {},
   "outputs": [],
   "source": [
    "# load joblib\n",
    "df = joblib.load('Data-NLP/df-proj-2-part-5.joblib')"
   ]
  },
  {
   "cell_type": "code",
   "execution_count": 5,
   "id": "33aef109-d748-4e21-a95f-27f68d29ac1b",
   "metadata": {},
   "outputs": [
    {
     "data": {
      "text/html": [
       "<div>\n",
       "<style scoped>\n",
       "    .dataframe tbody tr th:only-of-type {\n",
       "        vertical-align: middle;\n",
       "    }\n",
       "\n",
       "    .dataframe tbody tr th {\n",
       "        vertical-align: top;\n",
       "    }\n",
       "\n",
       "    .dataframe thead th {\n",
       "        text-align: right;\n",
       "    }\n",
       "</style>\n",
       "<table border=\"1\" class=\"dataframe\">\n",
       "  <thead>\n",
       "    <tr style=\"text-align: right;\">\n",
       "      <th></th>\n",
       "      <th>review_id</th>\n",
       "      <th>movie_id</th>\n",
       "      <th>imdb_id</th>\n",
       "      <th>original_title</th>\n",
       "      <th>review</th>\n",
       "      <th>rating</th>\n",
       "      <th>high_low</th>\n",
       "      <th>review_lowercase</th>\n",
       "      <th>tokens</th>\n",
       "      <th>spacy_lemmas</th>\n",
       "      <th>lemmas_joined</th>\n",
       "      <th>neg</th>\n",
       "      <th>neu</th>\n",
       "      <th>pos</th>\n",
       "      <th>compound</th>\n",
       "    </tr>\n",
       "  </thead>\n",
       "  <tbody>\n",
       "    <tr>\n",
       "      <th>0</th>\n",
       "      <td>64ecc16e83901800af821d50</td>\n",
       "      <td>843</td>\n",
       "      <td>tt0118694</td>\n",
       "      <td>花樣年華</td>\n",
       "      <td>This is a fine piece of cinema from Wong Kar-W...</td>\n",
       "      <td>7.0</td>\n",
       "      <td>med</td>\n",
       "      <td>this is a fine piece of cinema from wong kar-w...</td>\n",
       "      <td>[this, is, a, fine, piece, of, cinema, from, w...</td>\n",
       "      <td>[fine, piece, cinema, wong, kar, wai, tell, st...</td>\n",
       "      <td>fine piece cinema wong kar wai tell story peop...</td>\n",
       "      <td>0.068</td>\n",
       "      <td>0.744</td>\n",
       "      <td>0.188</td>\n",
       "      <td>0.9908</td>\n",
       "    </tr>\n",
       "    <tr>\n",
       "      <th>1</th>\n",
       "      <td>57086ff5c3a3681d29001512</td>\n",
       "      <td>7443</td>\n",
       "      <td>tt0120630</td>\n",
       "      <td>Chicken Run</td>\n",
       "      <td>A guilty pleasure for me personally, as I love...</td>\n",
       "      <td>9.0</td>\n",
       "      <td>high</td>\n",
       "      <td>a guilty pleasure for me personally, as i love...</td>\n",
       "      <td>[a, guilty, pleasure, for, me, personally,, as...</td>\n",
       "      <td>[guilty, pleasure, personally, love, great, es...</td>\n",
       "      <td>guilty pleasure personally love great escape w...</td>\n",
       "      <td>0.053</td>\n",
       "      <td>0.587</td>\n",
       "      <td>0.360</td>\n",
       "      <td>0.9450</td>\n",
       "    </tr>\n",
       "    <tr>\n",
       "      <th>2</th>\n",
       "      <td>5bb5ac829251410dcb00810c</td>\n",
       "      <td>7443</td>\n",
       "      <td>tt0120630</td>\n",
       "      <td>Chicken Run</td>\n",
       "      <td>Made my roommate who hates stop-motion animati...</td>\n",
       "      <td>6.0</td>\n",
       "      <td>med</td>\n",
       "      <td>made my roommate who hates stop-motion animati...</td>\n",
       "      <td>[made, my, roommate, who, hates, stop-motion, ...</td>\n",
       "      <td>[roommate, hate, stop, motion, animation, watc...</td>\n",
       "      <td>roommate hate stop motion animation watch 2018...</td>\n",
       "      <td>0.071</td>\n",
       "      <td>0.776</td>\n",
       "      <td>0.153</td>\n",
       "      <td>0.7006</td>\n",
       "    </tr>\n",
       "    <tr>\n",
       "      <th>3</th>\n",
       "      <td>5f0c53a013a32000357ec505</td>\n",
       "      <td>7443</td>\n",
       "      <td>tt0120630</td>\n",
       "      <td>Chicken Run</td>\n",
       "      <td>A very good stop-motion animation!\\r\\n\\r\\n&lt;em&gt;...</td>\n",
       "      <td>8.0</td>\n",
       "      <td>med</td>\n",
       "      <td>a very good stop-motion animation!\\r\\n\\r\\n&lt;em&gt;...</td>\n",
       "      <td>[a, very, good, stop-motion, animation!, &lt;em&gt;'...</td>\n",
       "      <td>[good, stop, motion, animation, &lt;, em&gt;'chicken...</td>\n",
       "      <td>good stop motion animation &lt; em&gt;'chicken run'&lt;...</td>\n",
       "      <td>0.039</td>\n",
       "      <td>0.637</td>\n",
       "      <td>0.325</td>\n",
       "      <td>0.9944</td>\n",
       "    </tr>\n",
       "    <tr>\n",
       "      <th>4</th>\n",
       "      <td>64ecc027594c9400ffe77c91</td>\n",
       "      <td>7443</td>\n",
       "      <td>tt0120630</td>\n",
       "      <td>Chicken Run</td>\n",
       "      <td>Ok, there is an huge temptation to riddle this...</td>\n",
       "      <td>7.0</td>\n",
       "      <td>med</td>\n",
       "      <td>ok, there is an huge temptation to riddle this...</td>\n",
       "      <td>[ok,, there, is, an, huge, temptation, to, rid...</td>\n",
       "      <td>[ok, huge, temptation, riddle, review, pun, go...</td>\n",
       "      <td>ok huge temptation riddle review pun go crack ...</td>\n",
       "      <td>0.056</td>\n",
       "      <td>0.699</td>\n",
       "      <td>0.245</td>\n",
       "      <td>0.9943</td>\n",
       "    </tr>\n",
       "  </tbody>\n",
       "</table>\n",
       "</div>"
      ],
      "text/plain": [
       "                  review_id  movie_id    imdb_id original_title  \\\n",
       "0  64ecc16e83901800af821d50       843  tt0118694           花樣年華   \n",
       "1  57086ff5c3a3681d29001512      7443  tt0120630    Chicken Run   \n",
       "2  5bb5ac829251410dcb00810c      7443  tt0120630    Chicken Run   \n",
       "3  5f0c53a013a32000357ec505      7443  tt0120630    Chicken Run   \n",
       "4  64ecc027594c9400ffe77c91      7443  tt0120630    Chicken Run   \n",
       "\n",
       "                                              review  rating high_low  \\\n",
       "0  This is a fine piece of cinema from Wong Kar-W...     7.0      med   \n",
       "1  A guilty pleasure for me personally, as I love...     9.0     high   \n",
       "2  Made my roommate who hates stop-motion animati...     6.0      med   \n",
       "3  A very good stop-motion animation!\\r\\n\\r\\n<em>...     8.0      med   \n",
       "4  Ok, there is an huge temptation to riddle this...     7.0      med   \n",
       "\n",
       "                                    review_lowercase  \\\n",
       "0  this is a fine piece of cinema from wong kar-w...   \n",
       "1  a guilty pleasure for me personally, as i love...   \n",
       "2  made my roommate who hates stop-motion animati...   \n",
       "3  a very good stop-motion animation!\\r\\n\\r\\n<em>...   \n",
       "4  ok, there is an huge temptation to riddle this...   \n",
       "\n",
       "                                              tokens  \\\n",
       "0  [this, is, a, fine, piece, of, cinema, from, w...   \n",
       "1  [a, guilty, pleasure, for, me, personally,, as...   \n",
       "2  [made, my, roommate, who, hates, stop-motion, ...   \n",
       "3  [a, very, good, stop-motion, animation!, <em>'...   \n",
       "4  [ok,, there, is, an, huge, temptation, to, rid...   \n",
       "\n",
       "                                        spacy_lemmas  \\\n",
       "0  [fine, piece, cinema, wong, kar, wai, tell, st...   \n",
       "1  [guilty, pleasure, personally, love, great, es...   \n",
       "2  [roommate, hate, stop, motion, animation, watc...   \n",
       "3  [good, stop, motion, animation, <, em>'chicken...   \n",
       "4  [ok, huge, temptation, riddle, review, pun, go...   \n",
       "\n",
       "                                       lemmas_joined    neg    neu    pos  \\\n",
       "0  fine piece cinema wong kar wai tell story peop...  0.068  0.744  0.188   \n",
       "1  guilty pleasure personally love great escape w...  0.053  0.587  0.360   \n",
       "2  roommate hate stop motion animation watch 2018...  0.071  0.776  0.153   \n",
       "3  good stop motion animation < em>'chicken run'<...  0.039  0.637  0.325   \n",
       "4  ok huge temptation riddle review pun go crack ...  0.056  0.699  0.245   \n",
       "\n",
       "   compound  \n",
       "0    0.9908  \n",
       "1    0.9450  \n",
       "2    0.7006  \n",
       "3    0.9944  \n",
       "4    0.9943  "
      ]
     },
     "execution_count": 5,
     "metadata": {},
     "output_type": "execute_result"
    }
   ],
   "source": [
    "# preview df\n",
    "df.head()"
   ]
  },
  {
   "cell_type": "markdown",
   "id": "24dee2b5-8fc4-4814-90c0-d48384e8b006",
   "metadata": {},
   "source": [
    "#### Drop any reviews that do not have a rating."
   ]
  },
  {
   "cell_type": "code",
   "execution_count": 17,
   "id": "868d19eb-a38a-43b1-a88e-3a41987044df",
   "metadata": {},
   "outputs": [],
   "source": [
    "# drop any rows with na in rating column\n",
    "df = df.dropna(subset=['rating'])"
   ]
  },
  {
   "cell_type": "code",
   "execution_count": 18,
   "id": "c5ae66ec-a65a-4d9e-ac7a-f60497fc336b",
   "metadata": {},
   "outputs": [
    {
     "name": "stdout",
     "output_type": "stream",
     "text": [
      "<class 'pandas.core.frame.DataFrame'>\n",
      "Int64Index: 7454 entries, 0 to 8649\n",
      "Data columns (total 15 columns):\n",
      " #   Column            Non-Null Count  Dtype  \n",
      "---  ------            --------------  -----  \n",
      " 0   review_id         7454 non-null   object \n",
      " 1   movie_id          7454 non-null   int64  \n",
      " 2   imdb_id           7454 non-null   object \n",
      " 3   original_title    7454 non-null   object \n",
      " 4   review            7454 non-null   object \n",
      " 5   rating            7454 non-null   float64\n",
      " 6   high_low          7454 non-null   object \n",
      " 7   review_lowercase  7454 non-null   object \n",
      " 8   tokens            7454 non-null   object \n",
      " 9   spacy_lemmas      7454 non-null   object \n",
      " 10  lemmas_joined     7454 non-null   object \n",
      " 11  neg               7454 non-null   float64\n",
      " 12  neu               7454 non-null   float64\n",
      " 13  pos               7454 non-null   float64\n",
      " 14  compound          7454 non-null   float64\n",
      "dtypes: float64(5), int64(1), object(9)\n",
      "memory usage: 931.8+ KB\n"
     ]
    }
   ],
   "source": [
    "# verify changes\n",
    "df.info()"
   ]
  },
  {
   "cell_type": "markdown",
   "id": "ef63f29f-b8f7-4a1a-804f-8d5bd0459fc9",
   "metadata": {},
   "source": [
    "#### Use the original review column as your X and the classification target (High/Low Rating Reviews) as your y."
   ]
  },
  {
   "cell_type": "code",
   "execution_count": 19,
   "id": "fdd208f3-2032-46db-a9aa-6629e7a62b00",
   "metadata": {},
   "outputs": [],
   "source": [
    "# assign X and y\n",
    "X = df['review']\n",
    "y = df['high_low']"
   ]
  },
  {
   "cell_type": "markdown",
   "id": "7a3dedcb-2c71-4c67-8ce6-9b75e03be8f7",
   "metadata": {},
   "source": [
    "## Build a Machine Learning Model"
   ]
  },
  {
   "cell_type": "markdown",
   "id": "1c0343cf-785f-437e-9088-963bf1094c53",
   "metadata": {},
   "source": [
    "### Build a sklearn modeling pipeline with a text vectorizer and a classification model.\n",
    "\n",
    "Suggested Models: MultinomialNB, LogisticRegression (you may need to increase max_iter), RandomForestClassifier"
   ]
  },
  {
   "cell_type": "code",
   "execution_count": null,
   "id": "43eea999-5921-4d7c-bb3e-fb06d4a05dbc",
   "metadata": {},
   "outputs": [],
   "source": []
  },
  {
   "cell_type": "markdown",
   "id": "a2b7d14b-135b-433e-befc-1030033ce5c4",
   "metadata": {},
   "source": [
    "### Fit and evaluate the model using the machine learning classification models from sklearn.\n",
    "\n",
    "In a Markdown cell, document your observations from your results. (e.g., how good is the model overall? Is it particularly good/bad at predicting one class?)"
   ]
  },
  {
   "cell_type": "code",
   "execution_count": null,
   "id": "4dddbc71-7135-4fb3-950e-645102addb1a",
   "metadata": {},
   "outputs": [],
   "source": []
  }
 ],
 "metadata": {
  "kernelspec": {
   "display_name": "Python (dojo-env)",
   "language": "python",
   "name": "dojo-env"
  },
  "language_info": {
   "codemirror_mode": {
    "name": "ipython",
    "version": 3
   },
   "file_extension": ".py",
   "mimetype": "text/x-python",
   "name": "python",
   "nbconvert_exporter": "python",
   "pygments_lexer": "ipython3",
   "version": "3.10.10"
  },
  "widgets": {
   "application/vnd.jupyter.widget-state+json": {
    "state": {},
    "version_major": 2,
    "version_minor": 0
   }
  }
 },
 "nbformat": 4,
 "nbformat_minor": 5
}
