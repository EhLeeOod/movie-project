{
 "cells": [
  {
   "cell_type": "code",
   "execution_count": null,
   "id": "b1b559f8-7dfb-47ed-87a1-181a2033c093",
   "metadata": {},
   "outputs": [],
   "source": [
    "# Install tmdbsimple (only need to run once)\n",
    "# !pip install tmdbsimple\n",
    "# Import packages\n",
    "import pandas as pd\n",
    "import matplotlib.pyplot as plt\n",
    "import seaborn as sns\n",
    "import os, json, time\n",
    "from tqdm.notebook import tqdm_notebook"
   ]
  },
  {
   "cell_type": "code",
   "execution_count": null,
   "id": "62a6e1d9-aa8c-4cc7-9834-264fd6f46b19",
   "metadata": {},
   "outputs": [],
   "source": [
    "# Load TMDB API Key & Add to tmdbsimple\n",
    "with open('/Users/codingdojo/.secret/tmdb_api.json', 'r') as f:\n",
    "    login = json.load(f)\n",
    "## Display the keys of the loaded dict\n",
    "login.keys()\n",
    "dict_keys(['api-key'])\n",
    "# Importing tmdbsimple and setting the API_KEY\n",
    "import tmdbsimple as tmdb\n",
    "tmdb.API_KEY =  login['api-key']"
   ]
  },
  {
   "cell_type": "code",
   "execution_count": null,
   "id": "97fcc4d3-316f-43ca-acf6-86b02dfd224a",
   "metadata": {},
   "outputs": [],
   "source": [
    "# Designate a Folder\n",
    "\n",
    "# Create the folder for saving files (if it doesn't exist)\n",
    "FOLDER = \"MovieData/\"\n",
    "os.makedirs(FOLDER, exist_ok=True)\n",
    "\n",
    "# Show the list of files included in the folder\n",
    "sorted(os.listdir(FOLDER))\n",
    "['.DS_Store', '.ipynb_checkpoints', 'title-basics.csv']\n",
    "Define Your Functions\n",
    "def get_movie_with_rating(movie_id):\n",
    "    # Get the movie object for the current id\n",
    "    movie = tmdb.Movies(movie_id)\n",
    "    \n",
    "    # save the .info .releases dictionaries\n",
    "    movie_info = movie.info()\n",
    "    releases = movie.releases()\n",
    "    \n",
    "    # Loop through countries in releases\n",
    "    for c in releases['countries']:\n",
    "        # if the country abbreviation==US\n",
    "        if c['iso_3166_1' ] =='US':\n",
    "            ## save a \"certification\" key in the info dict with the certification\n",
    "            movie_info['certification'] = c['certification']\n",
    "    return movie_info\n",
    "\n",
    "\n",
    "def write_json(new_data, filename): \n",
    "    \"\"\"Appends a list of records (new_data) to a json file (filename). \n",
    "    Adapted from: https://www.geeksforgeeks.org/append-to-json-file-using-python/\"\"\"  \n",
    "    \n",
    "    with open(filename,'r+') as file:\n",
    "        # First we load existing data into a dict.\n",
    "        file_data = json.load(file)\n",
    "        ## Choose extend or append\n",
    "        if (type(new_data) == list) & (type(file_data) == list):\n",
    "            file_data.extend(new_data)\n",
    "        else:\n",
    "             file_data.append(new_data)\n",
    "        # Sets file's current position at offset.\n",
    "        file.seek(0)\n",
    "        # convert back to json.\n",
    "        json.dump(file_data, file)"
   ]
  },
  {
   "cell_type": "markdown",
   "id": "875f4b8b-cc57-441d-8035-354d3f228f61",
   "metadata": {},
   "source": [
    "### Load in the cleaned Title Basics (from part 1)"
   ]
  },
  {
   "cell_type": "code",
   "execution_count": null,
   "id": "9bbd3b57-4383-4210-87fd-966599488e05",
   "metadata": {},
   "outputs": [],
   "source": [
    "basics = pd.read_csv('MovieData/title-basics.csv')\n",
    "basics\n",
    "\n",
    "# Set the year to filter for\n",
    "YEAR = 2000\n",
    "\n",
    "# Create an empty list for saving errors\n",
    "errors = []\n",
    "\n",
    "# Define the JSON file to store results for the year\n",
    "JSON_FILE = f'{FOLDER}tmdb_api_results_{YEAR}.json'\n",
    "\n",
    "\n",
    "# Check if the JSON file exists\n",
    "file_exists = os.path.isfile(JSON_FILE)\n",
    "\n",
    "# If it does not exist: create it\n",
    "if file_exists == False:\n",
    "    print(f\"Creating {JSON_FILE} for API results for year={YEAR}.\")\n",
    "    \n",
    "    # save an empty dict with just \"imdb_id\" to the new json file.\n",
    "    with open(JSON_FILE,'w') as f:\n",
    "        json.dump([{'imdb_id':0}],f)\n",
    "\n",
    "# If it exists, print a message\n",
    "else:\n",
    "    print(f'The file {JSON_FILE} already exists.')\n",
    "Creating MovieData/tmdb_api_results_2000.json for API results for year=2000.\n",
    "# Filtering for movies from selected startYear\n",
    "df = basics.loc[ basics['startYear']==YEAR].copy()\n",
    "# saving movie ids to list\n",
    "movie_ids = df['tconst']\n",
    "movie_ids.head()\n",
    "8     tt0113026\n",
    "9     tt0113092\n",
    "11    tt0115937\n",
    "12    tt0116391\n",
    "13    tt0116628\n",
    "Name: tconst, dtype: object"
   ]
  },
  {
   "cell_type": "code",
   "execution_count": null,
   "id": "3a5593da-5f2d-44ea-ba71-c57e02e11080",
   "metadata": {},
   "outputs": [],
   "source": [
    "# Load existing data from json into a dataframe called \"previous_df\"\n",
    "previous_df = pd.read_json(JSON_FILE)\n",
    "previous_df\n",
    "imdb_id\n",
    "0\t0\n",
    "# filter out any ids that are already in the JSON_FILE\n",
    "movie_ids_to_get = movie_ids[~movie_ids.isin(previous_df['imdb_id'])]\n",
    "# Loop through movie_ids_to_get with a tqdm progress bar\n",
    "for movie_id in tqdm_notebook(movie_ids_to_get, f\"Movies from {YEAR}\"):\n",
    "\n",
    "    # Attempt to retrieve then data for the movie id\n",
    "    try:\n",
    "        temp = get_movie_with_rating(movie_id)  #This uses your pre-ma    de function\n",
    "        # Append/extend results to existing file using a pre-made function\n",
    "        write_json(temp,JSON_FILE)\n",
    "        # Short 20 ms sleep to prevent overwhelming server\n",
    "        time.sleep(0.02)\n",
    "\n",
    "    # If it fails,  make a dict with just the id and None for certification.\n",
    "    except Exception as e:\n",
    "        errors.append([movie_id, e])\n",
    "Movies from 2000:   0%|          | 0/1457 [00:00<?, ?it/s]"
   ]
  },
  {
   "cell_type": "code",
   "execution_count": null,
   "id": "2ad75912-44be-4a75-a578-26edfb8dca73",
   "metadata": {},
   "outputs": [],
   "source": [
    "print(f\"- Total errors: {len(errors)}\")\n",
    "- Total errors: 209"
   ]
  },
  {
   "cell_type": "code",
   "execution_count": null,
   "id": "b55277d9-8efd-45c5-9a66-44ad0cb458d1",
   "metadata": {},
   "outputs": [],
   "source": [
    "# Save the final results to a csv.gz file\n",
    "final_year_df = pd.read_json(JSON_FILE)\n",
    "\n",
    "csv_fname = f\"{FOLDER}final_tmdb_data_{YEAR}.csv.gz\"\n",
    "final_year_df.to_csv(csv_fname, compression=\"gzip\", index=False)"
   ]
  },
  {
   "cell_type": "markdown",
   "id": "b10c3f73-eef7-4ff1-a4e9-6b7577c71506",
   "metadata": {},
   "source": [
    "### Exploratory Data Analysis\n",
    "Once you have retrieved and saved the final results to separate .csv.gz files:"
   ]
  },
  {
   "cell_type": "code",
   "execution_count": null,
   "id": "d8c39b85-c228-4e08-81ba-32ea39685219",
   "metadata": {},
   "outputs": [],
   "source": [
    "# Create a new Part 3 - EDA notebook to load in the data and explore the following questions.\n",
    "# Load and Combine the final API data into 1 DataFrame (see Getting Started tips below)."
   ]
  },
  {
   "cell_type": "markdown",
   "id": "2ea8ed4d-df3c-4d5e-90b3-b2a02858522a",
   "metadata": {},
   "source": [
    "### Create Visualizations to Answer the Following Questions:"
   ]
  },
  {
   "cell_type": "code",
   "execution_count": null,
   "id": "b008d1d0-bf7e-4537-9b8f-d475808af390",
   "metadata": {},
   "outputs": [],
   "source": [
    "# How many movies had at least some valid financial information (values > 0 for budget OR revenue)?\n",
    "# Please exclude any movies with 0's for budget AND revenue from the remaining visualizations."
   ]
  },
  {
   "cell_type": "code",
   "execution_count": null,
   "id": "03393d57-2eec-4446-a380-dd8326cfbbcf",
   "metadata": {},
   "outputs": [],
   "source": [
    "# How many movies are there in each of the certification categories (G/PG/PG-13/R)?"
   ]
  },
  {
   "cell_type": "code",
   "execution_count": null,
   "id": "840f59f8-aa0b-4504-a34e-08b8ed16b100",
   "metadata": {},
   "outputs": [],
   "source": [
    "# What is the average revenue per certification category?"
   ]
  },
  {
   "cell_type": "code",
   "execution_count": null,
   "id": "9d477bd8-c6fc-40fe-977d-6c7a00dad812",
   "metadata": {},
   "outputs": [],
   "source": [
    "# What is the average budget per certification category?"
   ]
  }
 ],
 "metadata": {
  "kernelspec": {
   "display_name": "Python 3 (ipykernel)",
   "language": "python",
   "name": "python3"
  },
  "language_info": {
   "codemirror_mode": {
    "name": "ipython",
    "version": 3
   },
   "file_extension": ".py",
   "mimetype": "text/x-python",
   "name": "python",
   "nbconvert_exporter": "python",
   "pygments_lexer": "ipython3",
   "version": "3.10.10"
  },
  "widgets": {
   "application/vnd.jupyter.widget-state+json": {
    "state": {},
    "version_major": 2,
    "version_minor": 0
   }
  }
 },
 "nbformat": 4,
 "nbformat_minor": 5
}
