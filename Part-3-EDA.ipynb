{
 "cells": [
  {
   "cell_type": "code",
   "execution_count": 2,
   "id": "b1b559f8-7dfb-47ed-87a1-181a2033c093",
   "metadata": {},
   "outputs": [],
   "source": [
    "# Install tmdbsimple (only need to run once)\n",
    "# !pip install tmdbsimple\n",
    "# Import packages\n",
    "import pandas as pd\n",
    "import matplotlib.pyplot as plt\n",
    "import seaborn as sns\n",
    "import os, json, time\n",
    "from tqdm.notebook import tqdm_notebook"
   ]
  },
  {
   "cell_type": "code",
   "execution_count": 3,
   "id": "62a6e1d9-aa8c-4cc7-9834-264fd6f46b19",
   "metadata": {},
   "outputs": [
    {
     "data": {
      "text/plain": [
       "dict_keys(['client-id', 'api-key'])"
      ]
     },
     "execution_count": 3,
     "metadata": {},
     "output_type": "execute_result"
    }
   ],
   "source": [
    "# Load TMDB API Key & Add to tmdbsimple\n",
    "with open('.secret/tmdb_api.json', 'r') as f:\n",
    "    login = json.load(f)\n",
    "## Display the keys of the loaded dict\n",
    "login.keys()"
   ]
  },
  {
   "cell_type": "code",
   "execution_count": 4,
   "id": "106809ca-1982-4a5a-ae6a-7c829f542fbb",
   "metadata": {},
   "outputs": [],
   "source": [
    "# Importing tmdbsimple and setting the API_KEY\n",
    "import tmdbsimple as tmdb\n",
    "tmdb.API_KEY =  login['api-key']"
   ]
  },
  {
   "cell_type": "code",
   "execution_count": 5,
   "id": "97fcc4d3-316f-43ca-acf6-86b02dfd224a",
   "metadata": {},
   "outputs": [],
   "source": [
    "# Designate a Folder\n",
    "\n",
    "# Create the folder for saving files (if it doesn't exist)\n",
    "FOLDER = \"MovieData/\"\n",
    "os.makedirs(FOLDER, exist_ok=True)\n",
    "\n",
    "# Show the list of files included in the folder\n",
    "sorted(os.listdir(FOLDER))\n",
    "['.DS_Store', '.ipynb_checkpoints', 'title-basics.csv']\n",
    "\n",
    "# Define Your Functions\n",
    "def get_movie_with_rating(movie_id):\n",
    "    # Get the movie object for the current id\n",
    "    movie = tmdb.Movies(movie_id)\n",
    "    \n",
    "    # save the .info .releases dictionaries\n",
    "    movie_info = movie.info()\n",
    "    releases = movie.releases()\n",
    "    \n",
    "    # Loop through countries in releases\n",
    "    for c in releases['countries']:\n",
    "        # if the country abbreviation==US\n",
    "        if c['iso_3166_1' ] =='US':\n",
    "            ## save a \"certification\" key in the info dict with the certification\n",
    "            movie_info['certification'] = c['certification']\n",
    "    return movie_info\n",
    "\n",
    "\n",
    "def write_json(new_data, filename): \n",
    "    \"\"\"Appends a list of records (new_data) to a json file (filename). \n",
    "    Adapted from: https://www.geeksforgeeks.org/append-to-json-file-using-python/\"\"\"  \n",
    "    \n",
    "    with open(filename,'r+') as file:\n",
    "        # First we load existing data into a dict.\n",
    "        file_data = json.load(file)\n",
    "        ## Choose extend or append\n",
    "        if (type(new_data) == list) & (type(file_data) == list):\n",
    "            file_data.extend(new_data)\n",
    "        else:\n",
    "             file_data.append(new_data)\n",
    "        # Sets file's current position at offset.\n",
    "        file.seek(0)\n",
    "        # convert back to json.\n",
    "        json.dump(file_data, file)"
   ]
  },
  {
   "cell_type": "markdown",
   "id": "875f4b8b-cc57-441d-8035-354d3f228f61",
   "metadata": {},
   "source": [
    "### Load in the cleaned Title Basics (from part 1)"
   ]
  },
  {
   "cell_type": "code",
   "execution_count": 6,
   "id": "d228b2ce-9d11-4e89-9905-282c37f1e2a6",
   "metadata": {},
   "outputs": [],
   "source": [
    "basics = pd.read_csv('Data/basics.csv')\n",
    "basics\n",
    "\n",
    "# Set the year to filter for\n",
    "YEARS_TO_GET = [2001,2002]\n",
    "\n",
    "# Create an empty list for saving errors\n",
    "errors = []"
   ]
  },
  {
   "cell_type": "code",
   "execution_count": 7,
   "id": "9bbd3b57-4383-4210-87fd-966599488e05",
   "metadata": {},
   "outputs": [
    {
     "data": {
      "application/vnd.jupyter.widget-view+json": {
       "model_id": "ce4505881303417fa9e7d63ffda63d72",
       "version_major": 2,
       "version_minor": 0
      },
      "text/plain": [
       "YEARS:   0%|          | 0/2 [00:00<?, ?it/s]"
      ]
     },
     "metadata": {},
     "output_type": "display_data"
    },
    {
     "name": "stdout",
     "output_type": "stream",
     "text": [
      "The file MovieData/tmdb_api_results_2001.json already exists.\n"
     ]
    },
    {
     "data": {
      "application/vnd.jupyter.widget-view+json": {
       "model_id": "d215a20018784b76b6fe8d6abca6d582",
       "version_major": 2,
       "version_minor": 0
      },
      "text/plain": [
       "Movies from 2001:   0%|          | 0/224 [00:00<?, ?it/s]"
      ]
     },
     "metadata": {},
     "output_type": "display_data"
    },
    {
     "name": "stdout",
     "output_type": "stream",
     "text": [
      "The file MovieData/tmdb_api_results_2002.json already exists.\n"
     ]
    },
    {
     "data": {
      "application/vnd.jupyter.widget-view+json": {
       "model_id": "ba260e5f41374746aea8120f29867782",
       "version_major": 2,
       "version_minor": 0
      },
      "text/plain": [
       "Movies from 2002:   0%|          | 0/280 [00:00<?, ?it/s]"
      ]
     },
     "metadata": {},
     "output_type": "display_data"
    }
   ],
   "source": [
    "# Start of OUTER loop\n",
    "for YEAR in tqdm_notebook(YEARS_TO_GET, desc='YEARS', position=0):\n",
    "    \n",
    "    # Define the JSON file to store results for the year\n",
    "    JSON_FILE = f'{FOLDER}tmdb_api_results_{YEAR}.json'\n",
    "\n",
    "    # Check if the JSON file exists\n",
    "    file_exists = os.path.isfile(JSON_FILE)\n",
    "\n",
    "    # If it does not exist: create it\n",
    "    if file_exists == False:\n",
    "        print(f\"Creating {JSON_FILE} for API results for year={YEAR}.\")\n",
    "    \n",
    "        # save an empty dict with just \"imdb_id\" to the new json file.\n",
    "        with open(JSON_FILE,'w') as f:\n",
    "            json.dump([{'imdb_id':0}],f)\n",
    "\n",
    "    # If it exists, print a message\n",
    "    else:\n",
    "        print(f'The file {JSON_FILE} already exists.')\n",
    "\n",
    "    # Filtering for movies from selected startYear\n",
    "    df = basics.loc[basics['startYear']==YEAR].copy()\n",
    "\n",
    "    # saving movie ids to list\n",
    "    movie_ids = df['tconst']\n",
    "\n",
    "    # Load existing data from json into a dataframe called \"previous_df\"\n",
    "    previous_df = pd.read_json(JSON_FILE)\n",
    "    previous_df\n",
    "\n",
    "    # filter out any ids that are already in the JSON_FILE\n",
    "    movie_ids_to_get = movie_ids[~movie_ids.isin(previous_df['imdb_id'])]\n",
    "    # Loop through movie_ids_to_get with a tqdm progress bar\n",
    "    for movie_id in tqdm_notebook(movie_ids_to_get, f\"Movies from {YEAR}\"):\n",
    "    \n",
    "        # Attempt to retrieve then data for the movie id\n",
    "        try:\n",
    "            temp = get_movie_with_rating(movie_id)  # This uses your pre-made function\n",
    "            \n",
    "            # Append/extend results to existing file using a pre-made function\n",
    "            write_json(temp,JSON_FILE)\n",
    "            \n",
    "            # Short 20 ms sleep to prevent overwhelming server\n",
    "            time.sleep(0.02)\n",
    "    \n",
    "        # If it fails,  make a dict with just the id and None for certification.\n",
    "        except Exception as e:\n",
    "            errors.append([movie_id, e])\n",
    "        \n",
    "    # Save the final results to a csv.gz file\n",
    "    final_year_df = pd.read_json(JSON_FILE)\n",
    "    csv_fname = f\"{FOLDER}final_tmdb_data_{YEAR}.csv.gz\"\n",
    "    final_year_df.to_csv(csv_fname, compression=\"gzip\", index=False)"
   ]
  },
  {
   "cell_type": "code",
   "execution_count": 8,
   "id": "2ad75912-44be-4a75-a578-26edfb8dca73",
   "metadata": {},
   "outputs": [
    {
     "name": "stdout",
     "output_type": "stream",
     "text": [
      "- Total errors: 504\n"
     ]
    }
   ],
   "source": [
    "print(f\"- Total errors: {len(errors)}\")"
   ]
  },
  {
   "cell_type": "code",
   "execution_count": 9,
   "id": "f2b48358-6852-4722-a7a1-f8aa1724b68c",
   "metadata": {},
   "outputs": [
    {
     "data": {
      "text/html": [
       "<div>\n",
       "<style scoped>\n",
       "    .dataframe tbody tr th:only-of-type {\n",
       "        vertical-align: middle;\n",
       "    }\n",
       "\n",
       "    .dataframe tbody tr th {\n",
       "        vertical-align: top;\n",
       "    }\n",
       "\n",
       "    .dataframe thead th {\n",
       "        text-align: right;\n",
       "    }\n",
       "</style>\n",
       "<table border=\"1\" class=\"dataframe\">\n",
       "  <thead>\n",
       "    <tr style=\"text-align: right;\">\n",
       "      <th></th>\n",
       "      <th>imdb_id</th>\n",
       "      <th>adult</th>\n",
       "      <th>backdrop_path</th>\n",
       "      <th>belongs_to_collection</th>\n",
       "      <th>budget</th>\n",
       "      <th>genres</th>\n",
       "      <th>homepage</th>\n",
       "      <th>id</th>\n",
       "      <th>original_language</th>\n",
       "      <th>original_title</th>\n",
       "      <th>...</th>\n",
       "      <th>revenue</th>\n",
       "      <th>runtime</th>\n",
       "      <th>spoken_languages</th>\n",
       "      <th>status</th>\n",
       "      <th>tagline</th>\n",
       "      <th>title</th>\n",
       "      <th>video</th>\n",
       "      <th>vote_average</th>\n",
       "      <th>vote_count</th>\n",
       "      <th>certification</th>\n",
       "    </tr>\n",
       "  </thead>\n",
       "  <tbody>\n",
       "    <tr>\n",
       "      <th>0</th>\n",
       "      <td>0</td>\n",
       "      <td>NaN</td>\n",
       "      <td>NaN</td>\n",
       "      <td>NaN</td>\n",
       "      <td>NaN</td>\n",
       "      <td>NaN</td>\n",
       "      <td>NaN</td>\n",
       "      <td>NaN</td>\n",
       "      <td>NaN</td>\n",
       "      <td>NaN</td>\n",
       "      <td>...</td>\n",
       "      <td>NaN</td>\n",
       "      <td>NaN</td>\n",
       "      <td>NaN</td>\n",
       "      <td>NaN</td>\n",
       "      <td>NaN</td>\n",
       "      <td>NaN</td>\n",
       "      <td>NaN</td>\n",
       "      <td>NaN</td>\n",
       "      <td>NaN</td>\n",
       "      <td>NaN</td>\n",
       "    </tr>\n",
       "    <tr>\n",
       "      <th>1</th>\n",
       "      <td>tt0096056</td>\n",
       "      <td>0.0</td>\n",
       "      <td>/95U3MUDXu4xSCmVLtWgargRipDi.jpg</td>\n",
       "      <td>None</td>\n",
       "      <td>0.0</td>\n",
       "      <td>[{'id': 18, 'name': 'Drama'}]</td>\n",
       "      <td></td>\n",
       "      <td>109809.0</td>\n",
       "      <td>en</td>\n",
       "      <td>Crime and Punishment</td>\n",
       "      <td>...</td>\n",
       "      <td>0.0</td>\n",
       "      <td>126.0</td>\n",
       "      <td>[{'english_name': 'English', 'iso_639_1': 'en'...</td>\n",
       "      <td>Released</td>\n",
       "      <td></td>\n",
       "      <td>Crime and Punishment</td>\n",
       "      <td>0.0</td>\n",
       "      <td>5.333</td>\n",
       "      <td>12.0</td>\n",
       "      <td>NaN</td>\n",
       "    </tr>\n",
       "    <tr>\n",
       "      <th>2</th>\n",
       "      <td>tt0118926</td>\n",
       "      <td>0.0</td>\n",
       "      <td>/qR3Dk3ctnrrxkAI6I472RhamIbu.jpg</td>\n",
       "      <td>None</td>\n",
       "      <td>0.0</td>\n",
       "      <td>[{'id': 80, 'name': 'Crime'}, {'id': 18, 'name...</td>\n",
       "      <td></td>\n",
       "      <td>20689.0</td>\n",
       "      <td>en</td>\n",
       "      <td>The Dancer Upstairs</td>\n",
       "      <td>...</td>\n",
       "      <td>5227348.0</td>\n",
       "      <td>132.0</td>\n",
       "      <td>[{'english_name': 'English', 'iso_639_1': 'en'...</td>\n",
       "      <td>Released</td>\n",
       "      <td>An honest man caught in a world of intrigue, p...</td>\n",
       "      <td>The Dancer Upstairs</td>\n",
       "      <td>0.0</td>\n",
       "      <td>6.200</td>\n",
       "      <td>51.0</td>\n",
       "      <td>R</td>\n",
       "    </tr>\n",
       "    <tr>\n",
       "      <th>3</th>\n",
       "      <td>tt0119980</td>\n",
       "      <td>0.0</td>\n",
       "      <td>None</td>\n",
       "      <td>None</td>\n",
       "      <td>0.0</td>\n",
       "      <td>[{'id': 80, 'name': 'Crime'}, {'id': 18, 'name...</td>\n",
       "      <td></td>\n",
       "      <td>563364.0</td>\n",
       "      <td>en</td>\n",
       "      <td>Random Shooting in LA</td>\n",
       "      <td>...</td>\n",
       "      <td>0.0</td>\n",
       "      <td>91.0</td>\n",
       "      <td>[{'english_name': 'English', 'iso_639_1': 'en'...</td>\n",
       "      <td>Released</td>\n",
       "      <td></td>\n",
       "      <td>Random Shooting in LA</td>\n",
       "      <td>0.0</td>\n",
       "      <td>0.000</td>\n",
       "      <td>0.0</td>\n",
       "      <td></td>\n",
       "    </tr>\n",
       "    <tr>\n",
       "      <th>4</th>\n",
       "      <td>tt0120679</td>\n",
       "      <td>0.0</td>\n",
       "      <td>/s04Ds4xbJU7DzeGVyamccH4LoxF.jpg</td>\n",
       "      <td>None</td>\n",
       "      <td>12000000.0</td>\n",
       "      <td>[{'id': 18, 'name': 'Drama'}, {'id': 10749, 'n...</td>\n",
       "      <td>https://www.miramax.com/movie/frida</td>\n",
       "      <td>1360.0</td>\n",
       "      <td>en</td>\n",
       "      <td>Frida</td>\n",
       "      <td>...</td>\n",
       "      <td>56298474.0</td>\n",
       "      <td>123.0</td>\n",
       "      <td>[{'english_name': 'French', 'iso_639_1': 'fr',...</td>\n",
       "      <td>Released</td>\n",
       "      <td>Prepare to be seduced.</td>\n",
       "      <td>Frida</td>\n",
       "      <td>0.0</td>\n",
       "      <td>7.428</td>\n",
       "      <td>1905.0</td>\n",
       "      <td>R</td>\n",
       "    </tr>\n",
       "    <tr>\n",
       "      <th>...</th>\n",
       "      <td>...</td>\n",
       "      <td>...</td>\n",
       "      <td>...</td>\n",
       "      <td>...</td>\n",
       "      <td>...</td>\n",
       "      <td>...</td>\n",
       "      <td>...</td>\n",
       "      <td>...</td>\n",
       "      <td>...</td>\n",
       "      <td>...</td>\n",
       "      <td>...</td>\n",
       "      <td>...</td>\n",
       "      <td>...</td>\n",
       "      <td>...</td>\n",
       "      <td>...</td>\n",
       "      <td>...</td>\n",
       "      <td>...</td>\n",
       "      <td>...</td>\n",
       "      <td>...</td>\n",
       "      <td>...</td>\n",
       "      <td>...</td>\n",
       "    </tr>\n",
       "    <tr>\n",
       "      <th>1288</th>\n",
       "      <td>tt6449044</td>\n",
       "      <td>0.0</td>\n",
       "      <td>/a9pkw8stijESGx1flSGPqcXLkHu.jpg</td>\n",
       "      <td>{'id': 957260, 'name': 'The Conman Collection'...</td>\n",
       "      <td>0.0</td>\n",
       "      <td>[{'id': 35, 'name': 'Comedy'}]</td>\n",
       "      <td></td>\n",
       "      <td>314105.0</td>\n",
       "      <td>cn</td>\n",
       "      <td>賭俠2002</td>\n",
       "      <td>...</td>\n",
       "      <td>0.0</td>\n",
       "      <td>97.0</td>\n",
       "      <td>[{'english_name': 'Cantonese', 'iso_639_1': 'c...</td>\n",
       "      <td>Released</td>\n",
       "      <td></td>\n",
       "      <td>The Conman 2002</td>\n",
       "      <td>0.0</td>\n",
       "      <td>4.300</td>\n",
       "      <td>3.0</td>\n",
       "      <td>NaN</td>\n",
       "    </tr>\n",
       "    <tr>\n",
       "      <th>1289</th>\n",
       "      <td>tt6694126</td>\n",
       "      <td>0.0</td>\n",
       "      <td>/sXjVpTZyDvwzPVZve3AmyCUBeHk.jpg</td>\n",
       "      <td>None</td>\n",
       "      <td>0.0</td>\n",
       "      <td>[{'id': 35, 'name': 'Comedy'}, {'id': 18, 'nam...</td>\n",
       "      <td></td>\n",
       "      <td>819174.0</td>\n",
       "      <td>fa</td>\n",
       "      <td>عروس خوش‌قدم</td>\n",
       "      <td>...</td>\n",
       "      <td>0.0</td>\n",
       "      <td>101.0</td>\n",
       "      <td>[{'english_name': 'Persian', 'iso_639_1': 'fa'...</td>\n",
       "      <td>Released</td>\n",
       "      <td></td>\n",
       "      <td>The Lucky Bride</td>\n",
       "      <td>0.0</td>\n",
       "      <td>8.000</td>\n",
       "      <td>1.0</td>\n",
       "      <td>NaN</td>\n",
       "    </tr>\n",
       "    <tr>\n",
       "      <th>1290</th>\n",
       "      <td>tt8302928</td>\n",
       "      <td>0.0</td>\n",
       "      <td>None</td>\n",
       "      <td>None</td>\n",
       "      <td>0.0</td>\n",
       "      <td>[{'id': 16, 'name': 'Animation'}, {'id': 12, '...</td>\n",
       "      <td></td>\n",
       "      <td>866533.0</td>\n",
       "      <td>el</td>\n",
       "      <td>Movie Toons: Treasure Island</td>\n",
       "      <td>...</td>\n",
       "      <td>0.0</td>\n",
       "      <td>0.0</td>\n",
       "      <td>[]</td>\n",
       "      <td>Released</td>\n",
       "      <td></td>\n",
       "      <td>Movie Toons: Treasure Island</td>\n",
       "      <td>0.0</td>\n",
       "      <td>0.000</td>\n",
       "      <td>0.0</td>\n",
       "      <td></td>\n",
       "    </tr>\n",
       "    <tr>\n",
       "      <th>1291</th>\n",
       "      <td>tt8474326</td>\n",
       "      <td>0.0</td>\n",
       "      <td>None</td>\n",
       "      <td>None</td>\n",
       "      <td>0.0</td>\n",
       "      <td>[]</td>\n",
       "      <td></td>\n",
       "      <td>292027.0</td>\n",
       "      <td>en</td>\n",
       "      <td>Skin Eating Jungle Vampires</td>\n",
       "      <td>...</td>\n",
       "      <td>0.0</td>\n",
       "      <td>0.0</td>\n",
       "      <td>[]</td>\n",
       "      <td>Released</td>\n",
       "      <td></td>\n",
       "      <td>Skin Eating Jungle Vampires</td>\n",
       "      <td>0.0</td>\n",
       "      <td>0.000</td>\n",
       "      <td>0.0</td>\n",
       "      <td></td>\n",
       "    </tr>\n",
       "    <tr>\n",
       "      <th>1292</th>\n",
       "      <td>tt8825252</td>\n",
       "      <td>0.0</td>\n",
       "      <td>None</td>\n",
       "      <td>None</td>\n",
       "      <td>0.0</td>\n",
       "      <td>[{'id': 14, 'name': 'Fantasy'}]</td>\n",
       "      <td></td>\n",
       "      <td>989195.0</td>\n",
       "      <td>en</td>\n",
       "      <td>Circle of Fire: The Dark Lord Kylnor</td>\n",
       "      <td>...</td>\n",
       "      <td>0.0</td>\n",
       "      <td>45.0</td>\n",
       "      <td>[]</td>\n",
       "      <td>Released</td>\n",
       "      <td></td>\n",
       "      <td>Circle of Fire: The Dark Lord Kylnor</td>\n",
       "      <td>0.0</td>\n",
       "      <td>0.000</td>\n",
       "      <td>0.0</td>\n",
       "      <td></td>\n",
       "    </tr>\n",
       "  </tbody>\n",
       "</table>\n",
       "<p>1293 rows × 26 columns</p>\n",
       "</div>"
      ],
      "text/plain": [
       "        imdb_id  adult                     backdrop_path  \\\n",
       "0             0    NaN                               NaN   \n",
       "1     tt0096056    0.0  /95U3MUDXu4xSCmVLtWgargRipDi.jpg   \n",
       "2     tt0118926    0.0  /qR3Dk3ctnrrxkAI6I472RhamIbu.jpg   \n",
       "3     tt0119980    0.0                              None   \n",
       "4     tt0120679    0.0  /s04Ds4xbJU7DzeGVyamccH4LoxF.jpg   \n",
       "...         ...    ...                               ...   \n",
       "1288  tt6449044    0.0  /a9pkw8stijESGx1flSGPqcXLkHu.jpg   \n",
       "1289  tt6694126    0.0  /sXjVpTZyDvwzPVZve3AmyCUBeHk.jpg   \n",
       "1290  tt8302928    0.0                              None   \n",
       "1291  tt8474326    0.0                              None   \n",
       "1292  tt8825252    0.0                              None   \n",
       "\n",
       "                                  belongs_to_collection      budget  \\\n",
       "0                                                   NaN         NaN   \n",
       "1                                                  None         0.0   \n",
       "2                                                  None         0.0   \n",
       "3                                                  None         0.0   \n",
       "4                                                  None  12000000.0   \n",
       "...                                                 ...         ...   \n",
       "1288  {'id': 957260, 'name': 'The Conman Collection'...         0.0   \n",
       "1289                                               None         0.0   \n",
       "1290                                               None         0.0   \n",
       "1291                                               None         0.0   \n",
       "1292                                               None         0.0   \n",
       "\n",
       "                                                 genres  \\\n",
       "0                                                   NaN   \n",
       "1                         [{'id': 18, 'name': 'Drama'}]   \n",
       "2     [{'id': 80, 'name': 'Crime'}, {'id': 18, 'name...   \n",
       "3     [{'id': 80, 'name': 'Crime'}, {'id': 18, 'name...   \n",
       "4     [{'id': 18, 'name': 'Drama'}, {'id': 10749, 'n...   \n",
       "...                                                 ...   \n",
       "1288                     [{'id': 35, 'name': 'Comedy'}]   \n",
       "1289  [{'id': 35, 'name': 'Comedy'}, {'id': 18, 'nam...   \n",
       "1290  [{'id': 16, 'name': 'Animation'}, {'id': 12, '...   \n",
       "1291                                                 []   \n",
       "1292                    [{'id': 14, 'name': 'Fantasy'}]   \n",
       "\n",
       "                                 homepage        id original_language  \\\n",
       "0                                     NaN       NaN               NaN   \n",
       "1                                          109809.0                en   \n",
       "2                                           20689.0                en   \n",
       "3                                          563364.0                en   \n",
       "4     https://www.miramax.com/movie/frida    1360.0                en   \n",
       "...                                   ...       ...               ...   \n",
       "1288                                       314105.0                cn   \n",
       "1289                                       819174.0                fa   \n",
       "1290                                       866533.0                el   \n",
       "1291                                       292027.0                en   \n",
       "1292                                       989195.0                en   \n",
       "\n",
       "                            original_title  ...     revenue  runtime  \\\n",
       "0                                      NaN  ...         NaN      NaN   \n",
       "1                     Crime and Punishment  ...         0.0    126.0   \n",
       "2                      The Dancer Upstairs  ...   5227348.0    132.0   \n",
       "3                    Random Shooting in LA  ...         0.0     91.0   \n",
       "4                                    Frida  ...  56298474.0    123.0   \n",
       "...                                    ...  ...         ...      ...   \n",
       "1288                                賭俠2002  ...         0.0     97.0   \n",
       "1289                          عروس خوش‌قدم  ...         0.0    101.0   \n",
       "1290          Movie Toons: Treasure Island  ...         0.0      0.0   \n",
       "1291           Skin Eating Jungle Vampires  ...         0.0      0.0   \n",
       "1292  Circle of Fire: The Dark Lord Kylnor  ...         0.0     45.0   \n",
       "\n",
       "                                       spoken_languages    status  \\\n",
       "0                                                   NaN       NaN   \n",
       "1     [{'english_name': 'English', 'iso_639_1': 'en'...  Released   \n",
       "2     [{'english_name': 'English', 'iso_639_1': 'en'...  Released   \n",
       "3     [{'english_name': 'English', 'iso_639_1': 'en'...  Released   \n",
       "4     [{'english_name': 'French', 'iso_639_1': 'fr',...  Released   \n",
       "...                                                 ...       ...   \n",
       "1288  [{'english_name': 'Cantonese', 'iso_639_1': 'c...  Released   \n",
       "1289  [{'english_name': 'Persian', 'iso_639_1': 'fa'...  Released   \n",
       "1290                                                 []  Released   \n",
       "1291                                                 []  Released   \n",
       "1292                                                 []  Released   \n",
       "\n",
       "                                                tagline  \\\n",
       "0                                                   NaN   \n",
       "1                                                         \n",
       "2     An honest man caught in a world of intrigue, p...   \n",
       "3                                                         \n",
       "4                                Prepare to be seduced.   \n",
       "...                                                 ...   \n",
       "1288                                                      \n",
       "1289                                                      \n",
       "1290                                                      \n",
       "1291                                                      \n",
       "1292                                                      \n",
       "\n",
       "                                     title  video  vote_average vote_count  \\\n",
       "0                                      NaN    NaN           NaN        NaN   \n",
       "1                     Crime and Punishment    0.0         5.333       12.0   \n",
       "2                      The Dancer Upstairs    0.0         6.200       51.0   \n",
       "3                    Random Shooting in LA    0.0         0.000        0.0   \n",
       "4                                    Frida    0.0         7.428     1905.0   \n",
       "...                                    ...    ...           ...        ...   \n",
       "1288                       The Conman 2002    0.0         4.300        3.0   \n",
       "1289                       The Lucky Bride    0.0         8.000        1.0   \n",
       "1290          Movie Toons: Treasure Island    0.0         0.000        0.0   \n",
       "1291           Skin Eating Jungle Vampires    0.0         0.000        0.0   \n",
       "1292  Circle of Fire: The Dark Lord Kylnor    0.0         0.000        0.0   \n",
       "\n",
       "     certification  \n",
       "0              NaN  \n",
       "1              NaN  \n",
       "2                R  \n",
       "3                   \n",
       "4                R  \n",
       "...            ...  \n",
       "1288           NaN  \n",
       "1289           NaN  \n",
       "1290                \n",
       "1291                \n",
       "1292                \n",
       "\n",
       "[1293 rows x 26 columns]"
      ]
     },
     "execution_count": 9,
     "metadata": {},
     "output_type": "execute_result"
    }
   ],
   "source": [
    "final_year_df"
   ]
  },
  {
   "cell_type": "markdown",
   "id": "b10c3f73-eef7-4ff1-a4e9-6b7577c71506",
   "metadata": {},
   "source": [
    "### Exploratory Data Analysis\n",
    "Once you have retrieved and saved the final results to separate .csv.gz files:"
   ]
  },
  {
   "cell_type": "code",
   "execution_count": 10,
   "id": "d8c39b85-c228-4e08-81ba-32ea39685219",
   "metadata": {},
   "outputs": [
    {
     "data": {
      "text/plain": [
       "['MovieData\\\\final_tmdb_data_2001.csv.gz',\n",
       " 'MovieData\\\\final_tmdb_data_2002.csv.gz']"
      ]
     },
     "execution_count": 10,
     "metadata": {},
     "output_type": "execute_result"
    }
   ],
   "source": [
    "# Load and Combine the final API data into 1 DataFrame\n",
    "import glob\n",
    "tmdb_files = sorted(glob.glob(\"MovieData/final_tmdb_data*.csv.gz\"))\n",
    "tmdb_files"
   ]
  },
  {
   "cell_type": "code",
   "execution_count": 11,
   "id": "09c0ca90-9320-4268-ae97-52ed85e0a227",
   "metadata": {},
   "outputs": [
    {
     "data": {
      "text/html": [
       "<div>\n",
       "<style scoped>\n",
       "    .dataframe tbody tr th:only-of-type {\n",
       "        vertical-align: middle;\n",
       "    }\n",
       "\n",
       "    .dataframe tbody tr th {\n",
       "        vertical-align: top;\n",
       "    }\n",
       "\n",
       "    .dataframe thead th {\n",
       "        text-align: right;\n",
       "    }\n",
       "</style>\n",
       "<table border=\"1\" class=\"dataframe\">\n",
       "  <thead>\n",
       "    <tr style=\"text-align: right;\">\n",
       "      <th></th>\n",
       "      <th>imdb_id</th>\n",
       "      <th>adult</th>\n",
       "      <th>backdrop_path</th>\n",
       "      <th>belongs_to_collection</th>\n",
       "      <th>budget</th>\n",
       "      <th>genres</th>\n",
       "      <th>homepage</th>\n",
       "      <th>id</th>\n",
       "      <th>original_language</th>\n",
       "      <th>original_title</th>\n",
       "      <th>...</th>\n",
       "      <th>revenue</th>\n",
       "      <th>runtime</th>\n",
       "      <th>spoken_languages</th>\n",
       "      <th>status</th>\n",
       "      <th>tagline</th>\n",
       "      <th>title</th>\n",
       "      <th>video</th>\n",
       "      <th>vote_average</th>\n",
       "      <th>vote_count</th>\n",
       "      <th>certification</th>\n",
       "    </tr>\n",
       "  </thead>\n",
       "  <tbody>\n",
       "    <tr>\n",
       "      <th>0</th>\n",
       "      <td>0</td>\n",
       "      <td>NaN</td>\n",
       "      <td>NaN</td>\n",
       "      <td>NaN</td>\n",
       "      <td>NaN</td>\n",
       "      <td>NaN</td>\n",
       "      <td>NaN</td>\n",
       "      <td>NaN</td>\n",
       "      <td>NaN</td>\n",
       "      <td>NaN</td>\n",
       "      <td>...</td>\n",
       "      <td>NaN</td>\n",
       "      <td>NaN</td>\n",
       "      <td>NaN</td>\n",
       "      <td>NaN</td>\n",
       "      <td>NaN</td>\n",
       "      <td>NaN</td>\n",
       "      <td>NaN</td>\n",
       "      <td>NaN</td>\n",
       "      <td>NaN</td>\n",
       "      <td>NaN</td>\n",
       "    </tr>\n",
       "    <tr>\n",
       "      <th>1</th>\n",
       "      <td>tt0035423</td>\n",
       "      <td>0.0</td>\n",
       "      <td>/hfeiSfWYujh6MKhtGTXyK3DD4nN.jpg</td>\n",
       "      <td>NaN</td>\n",
       "      <td>48000000.0</td>\n",
       "      <td>[{'id': 10749, 'name': 'Romance'}, {'id': 14, ...</td>\n",
       "      <td>NaN</td>\n",
       "      <td>11232.0</td>\n",
       "      <td>en</td>\n",
       "      <td>Kate &amp; Leopold</td>\n",
       "      <td>...</td>\n",
       "      <td>76019048.0</td>\n",
       "      <td>118.0</td>\n",
       "      <td>[{'english_name': 'French', 'iso_639_1': 'fr',...</td>\n",
       "      <td>Released</td>\n",
       "      <td>If they lived in the same century, they'd be p...</td>\n",
       "      <td>Kate &amp; Leopold</td>\n",
       "      <td>0.0</td>\n",
       "      <td>6.327</td>\n",
       "      <td>1233.0</td>\n",
       "      <td>PG-13</td>\n",
       "    </tr>\n",
       "    <tr>\n",
       "      <th>2</th>\n",
       "      <td>tt0114447</td>\n",
       "      <td>0.0</td>\n",
       "      <td>NaN</td>\n",
       "      <td>NaN</td>\n",
       "      <td>0.0</td>\n",
       "      <td>[{'id': 53, 'name': 'Thriller'}, {'id': 28, 'n...</td>\n",
       "      <td>NaN</td>\n",
       "      <td>151007.0</td>\n",
       "      <td>en</td>\n",
       "      <td>The Silent Force</td>\n",
       "      <td>...</td>\n",
       "      <td>0.0</td>\n",
       "      <td>90.0</td>\n",
       "      <td>[{'english_name': 'English', 'iso_639_1': 'en'...</td>\n",
       "      <td>Released</td>\n",
       "      <td>They left him for dead... They should have fin...</td>\n",
       "      <td>The Silent Force</td>\n",
       "      <td>0.0</td>\n",
       "      <td>5.000</td>\n",
       "      <td>3.0</td>\n",
       "      <td>NaN</td>\n",
       "    </tr>\n",
       "    <tr>\n",
       "      <th>3</th>\n",
       "      <td>tt0116916</td>\n",
       "      <td>0.0</td>\n",
       "      <td>/rFpHBidSlhjflmnLu7BZilyKeQR.jpg</td>\n",
       "      <td>NaN</td>\n",
       "      <td>0.0</td>\n",
       "      <td>[{'id': 28, 'name': 'Action'}, {'id': 12, 'nam...</td>\n",
       "      <td>NaN</td>\n",
       "      <td>73549.0</td>\n",
       "      <td>en</td>\n",
       "      <td>The Dark Mist</td>\n",
       "      <td>...</td>\n",
       "      <td>0.0</td>\n",
       "      <td>101.0</td>\n",
       "      <td>[{'english_name': 'English', 'iso_639_1': 'en'...</td>\n",
       "      <td>Released</td>\n",
       "      <td>NaN</td>\n",
       "      <td>The Dark Mist</td>\n",
       "      <td>0.0</td>\n",
       "      <td>3.500</td>\n",
       "      <td>2.0</td>\n",
       "      <td>PG</td>\n",
       "    </tr>\n",
       "    <tr>\n",
       "      <th>4</th>\n",
       "      <td>tt0118589</td>\n",
       "      <td>0.0</td>\n",
       "      <td>/9NZAirJahVilTiDNCHLFcdkwkiy.jpg</td>\n",
       "      <td>NaN</td>\n",
       "      <td>22000000.0</td>\n",
       "      <td>[{'id': 18, 'name': 'Drama'}, {'id': 10402, 'n...</td>\n",
       "      <td>NaN</td>\n",
       "      <td>10696.0</td>\n",
       "      <td>en</td>\n",
       "      <td>Glitter</td>\n",
       "      <td>...</td>\n",
       "      <td>5271666.0</td>\n",
       "      <td>104.0</td>\n",
       "      <td>[{'english_name': 'English', 'iso_639_1': 'en'...</td>\n",
       "      <td>Released</td>\n",
       "      <td>In music she found her dream, her love, herself.</td>\n",
       "      <td>Glitter</td>\n",
       "      <td>0.0</td>\n",
       "      <td>4.405</td>\n",
       "      <td>132.0</td>\n",
       "      <td>PG-13</td>\n",
       "    </tr>\n",
       "    <tr>\n",
       "      <th>...</th>\n",
       "      <td>...</td>\n",
       "      <td>...</td>\n",
       "      <td>...</td>\n",
       "      <td>...</td>\n",
       "      <td>...</td>\n",
       "      <td>...</td>\n",
       "      <td>...</td>\n",
       "      <td>...</td>\n",
       "      <td>...</td>\n",
       "      <td>...</td>\n",
       "      <td>...</td>\n",
       "      <td>...</td>\n",
       "      <td>...</td>\n",
       "      <td>...</td>\n",
       "      <td>...</td>\n",
       "      <td>...</td>\n",
       "      <td>...</td>\n",
       "      <td>...</td>\n",
       "      <td>...</td>\n",
       "      <td>...</td>\n",
       "      <td>...</td>\n",
       "    </tr>\n",
       "    <tr>\n",
       "      <th>1288</th>\n",
       "      <td>tt6449044</td>\n",
       "      <td>0.0</td>\n",
       "      <td>/a9pkw8stijESGx1flSGPqcXLkHu.jpg</td>\n",
       "      <td>{'id': 957260, 'name': 'The Conman Collection'...</td>\n",
       "      <td>0.0</td>\n",
       "      <td>[{'id': 35, 'name': 'Comedy'}]</td>\n",
       "      <td>NaN</td>\n",
       "      <td>314105.0</td>\n",
       "      <td>cn</td>\n",
       "      <td>賭俠2002</td>\n",
       "      <td>...</td>\n",
       "      <td>0.0</td>\n",
       "      <td>97.0</td>\n",
       "      <td>[{'english_name': 'Cantonese', 'iso_639_1': 'c...</td>\n",
       "      <td>Released</td>\n",
       "      <td>NaN</td>\n",
       "      <td>The Conman 2002</td>\n",
       "      <td>0.0</td>\n",
       "      <td>4.300</td>\n",
       "      <td>3.0</td>\n",
       "      <td>NaN</td>\n",
       "    </tr>\n",
       "    <tr>\n",
       "      <th>1289</th>\n",
       "      <td>tt6694126</td>\n",
       "      <td>0.0</td>\n",
       "      <td>/sXjVpTZyDvwzPVZve3AmyCUBeHk.jpg</td>\n",
       "      <td>NaN</td>\n",
       "      <td>0.0</td>\n",
       "      <td>[{'id': 35, 'name': 'Comedy'}, {'id': 18, 'nam...</td>\n",
       "      <td>NaN</td>\n",
       "      <td>819174.0</td>\n",
       "      <td>fa</td>\n",
       "      <td>عروس خوش‌قدم</td>\n",
       "      <td>...</td>\n",
       "      <td>0.0</td>\n",
       "      <td>101.0</td>\n",
       "      <td>[{'english_name': 'Persian', 'iso_639_1': 'fa'...</td>\n",
       "      <td>Released</td>\n",
       "      <td>NaN</td>\n",
       "      <td>The Lucky Bride</td>\n",
       "      <td>0.0</td>\n",
       "      <td>8.000</td>\n",
       "      <td>1.0</td>\n",
       "      <td>NaN</td>\n",
       "    </tr>\n",
       "    <tr>\n",
       "      <th>1290</th>\n",
       "      <td>tt8302928</td>\n",
       "      <td>0.0</td>\n",
       "      <td>NaN</td>\n",
       "      <td>NaN</td>\n",
       "      <td>0.0</td>\n",
       "      <td>[{'id': 16, 'name': 'Animation'}, {'id': 12, '...</td>\n",
       "      <td>NaN</td>\n",
       "      <td>866533.0</td>\n",
       "      <td>el</td>\n",
       "      <td>Movie Toons: Treasure Island</td>\n",
       "      <td>...</td>\n",
       "      <td>0.0</td>\n",
       "      <td>0.0</td>\n",
       "      <td>[]</td>\n",
       "      <td>Released</td>\n",
       "      <td>NaN</td>\n",
       "      <td>Movie Toons: Treasure Island</td>\n",
       "      <td>0.0</td>\n",
       "      <td>0.000</td>\n",
       "      <td>0.0</td>\n",
       "      <td>NaN</td>\n",
       "    </tr>\n",
       "    <tr>\n",
       "      <th>1291</th>\n",
       "      <td>tt8474326</td>\n",
       "      <td>0.0</td>\n",
       "      <td>NaN</td>\n",
       "      <td>NaN</td>\n",
       "      <td>0.0</td>\n",
       "      <td>[]</td>\n",
       "      <td>NaN</td>\n",
       "      <td>292027.0</td>\n",
       "      <td>en</td>\n",
       "      <td>Skin Eating Jungle Vampires</td>\n",
       "      <td>...</td>\n",
       "      <td>0.0</td>\n",
       "      <td>0.0</td>\n",
       "      <td>[]</td>\n",
       "      <td>Released</td>\n",
       "      <td>NaN</td>\n",
       "      <td>Skin Eating Jungle Vampires</td>\n",
       "      <td>0.0</td>\n",
       "      <td>0.000</td>\n",
       "      <td>0.0</td>\n",
       "      <td>NaN</td>\n",
       "    </tr>\n",
       "    <tr>\n",
       "      <th>1292</th>\n",
       "      <td>tt8825252</td>\n",
       "      <td>0.0</td>\n",
       "      <td>NaN</td>\n",
       "      <td>NaN</td>\n",
       "      <td>0.0</td>\n",
       "      <td>[{'id': 14, 'name': 'Fantasy'}]</td>\n",
       "      <td>NaN</td>\n",
       "      <td>989195.0</td>\n",
       "      <td>en</td>\n",
       "      <td>Circle of Fire: The Dark Lord Kylnor</td>\n",
       "      <td>...</td>\n",
       "      <td>0.0</td>\n",
       "      <td>45.0</td>\n",
       "      <td>[]</td>\n",
       "      <td>Released</td>\n",
       "      <td>NaN</td>\n",
       "      <td>Circle of Fire: The Dark Lord Kylnor</td>\n",
       "      <td>0.0</td>\n",
       "      <td>0.000</td>\n",
       "      <td>0.0</td>\n",
       "      <td>NaN</td>\n",
       "    </tr>\n",
       "  </tbody>\n",
       "</table>\n",
       "<p>2646 rows × 26 columns</p>\n",
       "</div>"
      ],
      "text/plain": [
       "        imdb_id  adult                     backdrop_path  \\\n",
       "0             0    NaN                               NaN   \n",
       "1     tt0035423    0.0  /hfeiSfWYujh6MKhtGTXyK3DD4nN.jpg   \n",
       "2     tt0114447    0.0                               NaN   \n",
       "3     tt0116916    0.0  /rFpHBidSlhjflmnLu7BZilyKeQR.jpg   \n",
       "4     tt0118589    0.0  /9NZAirJahVilTiDNCHLFcdkwkiy.jpg   \n",
       "...         ...    ...                               ...   \n",
       "1288  tt6449044    0.0  /a9pkw8stijESGx1flSGPqcXLkHu.jpg   \n",
       "1289  tt6694126    0.0  /sXjVpTZyDvwzPVZve3AmyCUBeHk.jpg   \n",
       "1290  tt8302928    0.0                               NaN   \n",
       "1291  tt8474326    0.0                               NaN   \n",
       "1292  tt8825252    0.0                               NaN   \n",
       "\n",
       "                                  belongs_to_collection      budget  \\\n",
       "0                                                   NaN         NaN   \n",
       "1                                                   NaN  48000000.0   \n",
       "2                                                   NaN         0.0   \n",
       "3                                                   NaN         0.0   \n",
       "4                                                   NaN  22000000.0   \n",
       "...                                                 ...         ...   \n",
       "1288  {'id': 957260, 'name': 'The Conman Collection'...         0.0   \n",
       "1289                                                NaN         0.0   \n",
       "1290                                                NaN         0.0   \n",
       "1291                                                NaN         0.0   \n",
       "1292                                                NaN         0.0   \n",
       "\n",
       "                                                 genres homepage        id  \\\n",
       "0                                                   NaN      NaN       NaN   \n",
       "1     [{'id': 10749, 'name': 'Romance'}, {'id': 14, ...      NaN   11232.0   \n",
       "2     [{'id': 53, 'name': 'Thriller'}, {'id': 28, 'n...      NaN  151007.0   \n",
       "3     [{'id': 28, 'name': 'Action'}, {'id': 12, 'nam...      NaN   73549.0   \n",
       "4     [{'id': 18, 'name': 'Drama'}, {'id': 10402, 'n...      NaN   10696.0   \n",
       "...                                                 ...      ...       ...   \n",
       "1288                     [{'id': 35, 'name': 'Comedy'}]      NaN  314105.0   \n",
       "1289  [{'id': 35, 'name': 'Comedy'}, {'id': 18, 'nam...      NaN  819174.0   \n",
       "1290  [{'id': 16, 'name': 'Animation'}, {'id': 12, '...      NaN  866533.0   \n",
       "1291                                                 []      NaN  292027.0   \n",
       "1292                    [{'id': 14, 'name': 'Fantasy'}]      NaN  989195.0   \n",
       "\n",
       "     original_language                        original_title  ...     revenue  \\\n",
       "0                  NaN                                   NaN  ...         NaN   \n",
       "1                   en                        Kate & Leopold  ...  76019048.0   \n",
       "2                   en                      The Silent Force  ...         0.0   \n",
       "3                   en                         The Dark Mist  ...         0.0   \n",
       "4                   en                               Glitter  ...   5271666.0   \n",
       "...                ...                                   ...  ...         ...   \n",
       "1288                cn                                賭俠2002  ...         0.0   \n",
       "1289                fa                          عروس خوش‌قدم  ...         0.0   \n",
       "1290                el          Movie Toons: Treasure Island  ...         0.0   \n",
       "1291                en           Skin Eating Jungle Vampires  ...         0.0   \n",
       "1292                en  Circle of Fire: The Dark Lord Kylnor  ...         0.0   \n",
       "\n",
       "      runtime                                   spoken_languages    status  \\\n",
       "0         NaN                                                NaN       NaN   \n",
       "1       118.0  [{'english_name': 'French', 'iso_639_1': 'fr',...  Released   \n",
       "2        90.0  [{'english_name': 'English', 'iso_639_1': 'en'...  Released   \n",
       "3       101.0  [{'english_name': 'English', 'iso_639_1': 'en'...  Released   \n",
       "4       104.0  [{'english_name': 'English', 'iso_639_1': 'en'...  Released   \n",
       "...       ...                                                ...       ...   \n",
       "1288     97.0  [{'english_name': 'Cantonese', 'iso_639_1': 'c...  Released   \n",
       "1289    101.0  [{'english_name': 'Persian', 'iso_639_1': 'fa'...  Released   \n",
       "1290      0.0                                                 []  Released   \n",
       "1291      0.0                                                 []  Released   \n",
       "1292     45.0                                                 []  Released   \n",
       "\n",
       "                                                tagline  \\\n",
       "0                                                   NaN   \n",
       "1     If they lived in the same century, they'd be p...   \n",
       "2     They left him for dead... They should have fin...   \n",
       "3                                                   NaN   \n",
       "4      In music she found her dream, her love, herself.   \n",
       "...                                                 ...   \n",
       "1288                                                NaN   \n",
       "1289                                                NaN   \n",
       "1290                                                NaN   \n",
       "1291                                                NaN   \n",
       "1292                                                NaN   \n",
       "\n",
       "                                     title  video  vote_average vote_count  \\\n",
       "0                                      NaN    NaN           NaN        NaN   \n",
       "1                           Kate & Leopold    0.0         6.327     1233.0   \n",
       "2                         The Silent Force    0.0         5.000        3.0   \n",
       "3                            The Dark Mist    0.0         3.500        2.0   \n",
       "4                                  Glitter    0.0         4.405      132.0   \n",
       "...                                    ...    ...           ...        ...   \n",
       "1288                       The Conman 2002    0.0         4.300        3.0   \n",
       "1289                       The Lucky Bride    0.0         8.000        1.0   \n",
       "1290          Movie Toons: Treasure Island    0.0         0.000        0.0   \n",
       "1291           Skin Eating Jungle Vampires    0.0         0.000        0.0   \n",
       "1292  Circle of Fire: The Dark Lord Kylnor    0.0         0.000        0.0   \n",
       "\n",
       "     certification  \n",
       "0              NaN  \n",
       "1            PG-13  \n",
       "2              NaN  \n",
       "3               PG  \n",
       "4            PG-13  \n",
       "...            ...  \n",
       "1288           NaN  \n",
       "1289           NaN  \n",
       "1290           NaN  \n",
       "1291           NaN  \n",
       "1292           NaN  \n",
       "\n",
       "[2646 rows x 26 columns]"
      ]
     },
     "execution_count": 11,
     "metadata": {},
     "output_type": "execute_result"
    }
   ],
   "source": [
    "# Use read_csv in a list comprehension and combine with concat to load all files\n",
    "df = pd.concat([pd.read_csv(f) for f in tmdb_files] )\n",
    "df"
   ]
  },
  {
   "cell_type": "code",
   "execution_count": 12,
   "id": "b008d1d0-bf7e-4537-9b8f-d475808af390",
   "metadata": {},
   "outputs": [],
   "source": [
    "# save copy of df to csv\n",
    "df.to_csv('final_tmdb_data.csv')"
   ]
  },
  {
   "cell_type": "markdown",
   "id": "2ea8ed4d-df3c-4d5e-90b3-b2a02858522a",
   "metadata": {},
   "source": [
    "### Create Visualizations to Answer the Following Questions:"
   ]
  },
  {
   "cell_type": "markdown",
   "id": "d22d5df9-c705-456e-a46b-ba0f7dc10e6e",
   "metadata": {},
   "source": [
    "#### How many movies had at least some valid financial information (values > 0 for budget OR revenue)?\n",
    "\n",
    "Please exclude any movies with 0's for budget AND revenue from the remaining visualizations."
   ]
  },
  {
   "cell_type": "code",
   "execution_count": 13,
   "id": "4f9e190d-791a-494a-a947-0e124277205c",
   "metadata": {},
   "outputs": [
    {
     "data": {
      "text/plain": [
       "False    2027\n",
       "True      619\n",
       "Name: budget, dtype: int64"
      ]
     },
     "execution_count": 13,
     "metadata": {},
     "output_type": "execute_result"
    }
   ],
   "source": [
    "# movies with budget !=0\n",
    "budget_not_zero = df['budget'] != 0\n",
    "\n",
    "budget_not_zero.value_counts()"
   ]
  },
  {
   "cell_type": "code",
   "execution_count": 14,
   "id": "c4da7b6b-8713-4434-9fa4-f61f4d0968b2",
   "metadata": {},
   "outputs": [
    {
     "data": {
      "text/plain": [
       "False    2126\n",
       "True      520\n",
       "Name: revenue, dtype: int64"
      ]
     },
     "execution_count": 14,
     "metadata": {},
     "output_type": "execute_result"
    }
   ],
   "source": [
    "# movies with revenue !=0\n",
    "revenue_not_zero = df['revenue'] != 0\n",
    "\n",
    "revenue_not_zero.value_counts()"
   ]
  },
  {
   "cell_type": "code",
   "execution_count": 15,
   "id": "16e0945e-82cb-4fb1-84b4-88efe3ac65bb",
   "metadata": {},
   "outputs": [
    {
     "data": {
      "text/plain": [
       "False    4153\n",
       "True     1139\n",
       "dtype: int64"
      ]
     },
     "execution_count": 15,
     "metadata": {},
     "output_type": "execute_result"
    }
   ],
   "source": [
    "# df where both budget and revenue =! 0\n",
    "\n",
    "df_both = pd.concat([df['revenue'], df['budget']])\n",
    "not_zero = df_both != 0\n",
    "not_zero.value_counts()"
   ]
  },
  {
   "cell_type": "code",
   "execution_count": 23,
   "id": "d7ce22ea-a4f4-482f-a2f2-0d7407be3493",
   "metadata": {},
   "outputs": [
    {
     "data": {
      "image/png": "[encoded data removed]",
      "text/plain": [
       "<Figure size 640x480 with 1 Axes>"
      ]
     },
     "metadata": {},
     "output_type": "display_data"
    }
   ],
   "source": [
    "ax=df['budget'].hist(bins='auto')\n",
    "ax.ticklabel_format(style='plain')\n",
    "ax.tick_params(axis='x', rotation= 90)\n",
    "ax.set_xlabel('budget')\n",
    "ax.set_ylabel('count');"
   ]
  },
  {
   "cell_type": "markdown",
   "id": "c0a6a527-7da8-4e6e-ba7a-6bf00947b12e",
   "metadata": {},
   "source": [
    "#### 619 movies had a budget greater than 0."
   ]
  },
  {
   "cell_type": "code",
   "execution_count": 24,
   "id": "46d7d11b-f3ac-4ade-839f-fe0d59c86a8b",
   "metadata": {},
   "outputs": [
    {
     "data": {
      "image/png": "[encoded data removed]",
      "text/plain": [
       "<Figure size 640x480 with 1 Axes>"
      ]
     },
     "metadata": {},
     "output_type": "display_data"
    }
   ],
   "source": [
    "ax=df['revenue'].hist(bins='auto')\n",
    "ax.ticklabel_format(style='plain')\n",
    "ax.tick_params(axis='x', rotation= 90)\n",
    "ax.set_xlabel('revenue')\n",
    "ax.set_ylabel('count');"
   ]
  },
  {
   "cell_type": "markdown",
   "id": "a57d6593-9791-4d30-88a4-a889af8bb7a2",
   "metadata": {},
   "source": [
    "#### 520 movies had a revenue greater than 0."
   ]
  },
  {
   "cell_type": "markdown",
   "id": "3cd07bc6-4b62-435c-a73d-fa6dede22c12",
   "metadata": {},
   "source": [
    "#### How many movies are there in each of the certification categories (G/PG/PG-13/R)?"
   ]
  },
  {
   "cell_type": "code",
   "execution_count": 25,
   "id": "b3915ecc-fb55-4f49-8e52-cd857f2bdda9",
   "metadata": {},
   "outputs": [
    {
     "data": {
      "image/png": "[encoded data removed]",
      "text/plain": [
       "<Figure size 640x480 with 1 Axes>"
      ]
     },
     "metadata": {},
     "output_type": "display_data"
    }
   ],
   "source": [
    "ax = sns.countplot(data=df, x='certification')"
   ]
  },
  {
   "cell_type": "code",
   "execution_count": 26,
   "id": "5591399a-50bc-4643-934f-3917cd42fe79",
   "metadata": {},
   "outputs": [
    {
     "data": {
      "text/plain": [
       "R        491\n",
       "PG-13    201\n",
       "NR        82\n",
       "PG        68\n",
       "G         22\n",
       "NC-17      6\n",
       "Name: certification, dtype: int64"
      ]
     },
     "execution_count": 26,
     "metadata": {},
     "output_type": "execute_result"
    }
   ],
   "source": [
    "df['certification'].value_counts()"
   ]
  },
  {
   "cell_type": "markdown",
   "id": "e392bcad-e928-42f8-969e-b43339c50beb",
   "metadata": {},
   "source": [
    "#### What is the average revenue per certification category?"
   ]
  },
  {
   "cell_type": "code",
   "execution_count": 36,
   "id": "1a164094-fce8-4941-bb66-8aef2db9bb29",
   "metadata": {},
   "outputs": [
    {
     "data": {
      "image/png": "[encoded data removed]",
      "text/plain": [
       "<Figure size 640x480 with 1 Axes>"
      ]
     },
     "metadata": {},
     "output_type": "display_data"
    }
   ],
   "source": [
    "ax = sns.barplot(data=df, x='certification', y='revenue')\n",
    "ax.set_title('Average Revenue per Certification')\n",
    "ax.set_xlabel('Certification');\n",
    "ax.set_ylabel('Revenue')\n",
    "plt.ticklabel_format(style='plain', axis='y');"
   ]
  },
  {
   "cell_type": "markdown",
   "id": "6a9cf551-a249-4421-af07-7153f9d2a946",
   "metadata": {},
   "source": [
    "#### What is the average budget per certification category?"
   ]
  },
  {
   "cell_type": "code",
   "execution_count": 40,
   "id": "d72ca0e1-1456-4eb0-a346-3a93cbbb9d60",
   "metadata": {},
   "outputs": [
    {
     "data": {
      "image/png": "[encoded data removed]",
      "text/plain": [
       "<Figure size 640x480 with 1 Axes>"
      ]
     },
     "metadata": {},
     "output_type": "display_data"
    }
   ],
   "source": [
    "ax = sns.barplot(data=df, x='certification', y='budget')\n",
    "ax.set_title('Average Budget per Certification')\n",
    "plt.ticklabel_format(style='plain', axis='y')\n",
    "ax.set_xlabel('Certification');\n",
    "ax.set_ylabel('Budget');"
   ]
  }
 ],
 "metadata": {
  "kernelspec": {
   "display_name": "Python (dojo-env)",
   "language": "python",
   "name": "dojo-env"
  },
  "language_info": {
   "codemirror_mode": {
    "name": "ipython",
    "version": 3
   },
   "file_extension": ".py",
   "mimetype": "text/x-python",
   "name": "python",
   "nbconvert_exporter": "python",
   "pygments_lexer": "ipython3",
   "version": "3.10.10"
  },
  "widgets": {
   "application/vnd.jupyter.widget-state+json": {
    "state": {
     "0fe77db3474b4ee1a9eddc3d206c09e0": {
      "model_module": "@jupyter-widgets/base",
      "model_module_version": "2.0.0",
      "model_name": "LayoutModel",
      "state": {}
     },
     "16821b14df4a470b978d303b759e5844": {
      "model_module": "@jupyter-widgets/controls",
      "model_module_version": "2.0.0",
      "model_name": "HTMLModel",
      "state": {
       "layout": "IPY_MODEL_c85a34cd44a14835a2372659499287bc",
       "style": "IPY_MODEL_9eb123c2cfbd44f2bbca3ec1e079cfee",
       "value": "YEARS: 100%"
      }
     },
     "1d62922aa27c4a5680481de1430664e7": {
      "model_module": "@jupyter-widgets/base",
      "model_module_version": "2.0.0",
      "model_name": "LayoutModel",
      "state": {}
     },
     "218a3ea4a8f445bdad0f60d8c0895790": {
      "model_module": "@jupyter-widgets/controls",
      "model_module_version": "2.0.0",
      "model_name": "HTMLModel",
      "state": {
       "layout": "IPY_MODEL_c48b6456b2e94c80b6253cbd8a763c2a",
       "style": "IPY_MODEL_4e549734664043568c949da3b45ff6d7",
       "value": "Movies from 2002: 100%"
      }
     },
     "23e4886d65ee4a788bdfe6e9350b36b9": {
      "model_module": "@jupyter-widgets/controls",
      "model_module_version": "2.0.0",
      "model_name": "ProgressStyleModel",
      "state": {
       "description_width": ""
      }
     },
     "28af8ac461864de6bd0f8a1551981204": {
      "model_module": "@jupyter-widgets/base",
      "model_module_version": "2.0.0",
      "model_name": "LayoutModel",
      "state": {}
     },
     "31be0f8ebbfc4bebbe233ac12f8b3736": {
      "model_module": "@jupyter-widgets/controls",
      "model_module_version": "2.0.0",
      "model_name": "HTMLModel",
      "state": {
       "layout": "IPY_MODEL_6969706f99b64e79830cd9d0e6845b60",
       "style": "IPY_MODEL_912749275d034859853314c44cd67c71",
       "value": "Movies from 2001: 100%"
      }
     },
     "4d2981c64c14478385ff9010ba0c2b7e": {
      "model_module": "@jupyter-widgets/base",
      "model_module_version": "2.0.0",
      "model_name": "LayoutModel",
      "state": {}
     },
     "4e549734664043568c949da3b45ff6d7": {
      "model_module": "@jupyter-widgets/controls",
      "model_module_version": "2.0.0",
      "model_name": "HTMLStyleModel",
      "state": {
       "description_width": "",
       "font_size": null,
       "text_color": null
      }
     },
     "6969706f99b64e79830cd9d0e6845b60": {
      "model_module": "@jupyter-widgets/base",
      "model_module_version": "2.0.0",
      "model_name": "LayoutModel",
      "state": {}
     },
     "737e37a675a8420b8cbb3b8016a4caf4": {
      "model_module": "@jupyter-widgets/controls",
      "model_module_version": "2.0.0",
      "model_name": "ProgressStyleModel",
      "state": {
       "description_width": ""
      }
     },
     "81a1a5e368ae46ff80c2ba1833349cc3": {
      "model_module": "@jupyter-widgets/controls",
      "model_module_version": "2.0.0",
      "model_name": "HTMLModel",
      "state": {
       "layout": "IPY_MODEL_28af8ac461864de6bd0f8a1551981204",
       "style": "IPY_MODEL_d3921629862d447caf0a09683ae6331a",
       "value": " 2/2 [01:08&lt;00:00, 35.13s/it]"
      }
     },
     "89faa10b992b431081af6c072485352a": {
      "model_module": "@jupyter-widgets/base",
      "model_module_version": "2.0.0",
      "model_name": "LayoutModel",
      "state": {}
     },
     "912749275d034859853314c44cd67c71": {
      "model_module": "@jupyter-widgets/controls",
      "model_module_version": "2.0.0",
      "model_name": "HTMLStyleModel",
      "state": {
       "description_width": "",
       "font_size": null,
       "text_color": null
      }
     },
     "93a03d78840940fc8d7eb6a2043dd0cd": {
      "model_module": "@jupyter-widgets/base",
      "model_module_version": "2.0.0",
      "model_name": "LayoutModel",
      "state": {}
     },
     "9c3b43e152f145908475215e8e24f106": {
      "model_module": "@jupyter-widgets/base",
      "model_module_version": "2.0.0",
      "model_name": "LayoutModel",
      "state": {}
     },
     "9eb123c2cfbd44f2bbca3ec1e079cfee": {
      "model_module": "@jupyter-widgets/controls",
      "model_module_version": "2.0.0",
      "model_name": "HTMLStyleModel",
      "state": {
       "description_width": "",
       "font_size": null,
       "text_color": null
      }
     },
     "b11bfb4a31f046d18421592ce2f4040e": {
      "model_module": "@jupyter-widgets/controls",
      "model_module_version": "2.0.0",
      "model_name": "HTMLModel",
      "state": {
       "layout": "IPY_MODEL_89faa10b992b431081af6c072485352a",
       "style": "IPY_MODEL_c2007b7c508f4ed7aac73dab9de4d614",
       "value": " 280/280 [00:38&lt;00:00,  7.46it/s]"
      }
     },
     "ba260e5f41374746aea8120f29867782": {
      "model_module": "@jupyter-widgets/controls",
      "model_module_version": "2.0.0",
      "model_name": "HBoxModel",
      "state": {
       "children": [
        "IPY_MODEL_218a3ea4a8f445bdad0f60d8c0895790",
        "IPY_MODEL_fe808771c79646d3bf4a11916e394851",
        "IPY_MODEL_b11bfb4a31f046d18421592ce2f4040e"
       ],
       "layout": "IPY_MODEL_9c3b43e152f145908475215e8e24f106"
      }
     },
     "c2007b7c508f4ed7aac73dab9de4d614": {
      "model_module": "@jupyter-widgets/controls",
      "model_module_version": "2.0.0",
      "model_name": "HTMLStyleModel",
      "state": {
       "description_width": "",
       "font_size": null,
       "text_color": null
      }
     },
     "c48b6456b2e94c80b6253cbd8a763c2a": {
      "model_module": "@jupyter-widgets/base",
      "model_module_version": "2.0.0",
      "model_name": "LayoutModel",
      "state": {}
     },
     "c85a34cd44a14835a2372659499287bc": {
      "model_module": "@jupyter-widgets/base",
      "model_module_version": "2.0.0",
      "model_name": "LayoutModel",
      "state": {}
     },
     "ce4505881303417fa9e7d63ffda63d72": {
      "model_module": "@jupyter-widgets/controls",
      "model_module_version": "2.0.0",
      "model_name": "HBoxModel",
      "state": {
       "children": [
        "IPY_MODEL_16821b14df4a470b978d303b759e5844",
        "IPY_MODEL_e3ec0e87fc2a41b5a1b174e5466de62f",
        "IPY_MODEL_81a1a5e368ae46ff80c2ba1833349cc3"
       ],
       "layout": "IPY_MODEL_e59b1a868118499ea95f45f92d7dea17"
      }
     },
     "cf039443c681435e8d23fd22feab7792": {
      "model_module": "@jupyter-widgets/controls",
      "model_module_version": "2.0.0",
      "model_name": "HTMLStyleModel",
      "state": {
       "description_width": "",
       "font_size": null,
       "text_color": null
      }
     },
     "d11e8e107fd9484e8dcb9c1be464fcdd": {
      "model_module": "@jupyter-widgets/controls",
      "model_module_version": "2.0.0",
      "model_name": "HTMLModel",
      "state": {
       "layout": "IPY_MODEL_dcb1204ba18d4c29a2aa29ca93ad6742",
       "style": "IPY_MODEL_cf039443c681435e8d23fd22feab7792",
       "value": " 224/224 [00:30&lt;00:00,  8.06it/s]"
      }
     },
     "d215a20018784b76b6fe8d6abca6d582": {
      "model_module": "@jupyter-widgets/controls",
      "model_module_version": "2.0.0",
      "model_name": "HBoxModel",
      "state": {
       "children": [
        "IPY_MODEL_31be0f8ebbfc4bebbe233ac12f8b3736",
        "IPY_MODEL_dfb98f46ad31434fa53429f6fa154cbd",
        "IPY_MODEL_d11e8e107fd9484e8dcb9c1be464fcdd"
       ],
       "layout": "IPY_MODEL_1d62922aa27c4a5680481de1430664e7"
      }
     },
     "d3921629862d447caf0a09683ae6331a": {
      "model_module": "@jupyter-widgets/controls",
      "model_module_version": "2.0.0",
      "model_name": "HTMLStyleModel",
      "state": {
       "description_width": "",
       "font_size": null,
       "text_color": null
      }
     },
     "d61bc12f2cf14ba49e8b84bc57871ee2": {
      "model_module": "@jupyter-widgets/controls",
      "model_module_version": "2.0.0",
      "model_name": "ProgressStyleModel",
      "state": {
       "description_width": ""
      }
     },
     "dcb1204ba18d4c29a2aa29ca93ad6742": {
      "model_module": "@jupyter-widgets/base",
      "model_module_version": "2.0.0",
      "model_name": "LayoutModel",
      "state": {}
     },
     "dfb98f46ad31434fa53429f6fa154cbd": {
      "model_module": "@jupyter-widgets/controls",
      "model_module_version": "2.0.0",
      "model_name": "FloatProgressModel",
      "state": {
       "bar_style": "success",
       "layout": "IPY_MODEL_93a03d78840940fc8d7eb6a2043dd0cd",
       "max": 224,
       "style": "IPY_MODEL_737e37a675a8420b8cbb3b8016a4caf4",
       "value": 224
      }
     },
     "e3ec0e87fc2a41b5a1b174e5466de62f": {
      "model_module": "@jupyter-widgets/controls",
      "model_module_version": "2.0.0",
      "model_name": "FloatProgressModel",
      "state": {
       "bar_style": "success",
       "layout": "IPY_MODEL_4d2981c64c14478385ff9010ba0c2b7e",
       "max": 2,
       "style": "IPY_MODEL_d61bc12f2cf14ba49e8b84bc57871ee2",
       "value": 2
      }
     },
     "e59b1a868118499ea95f45f92d7dea17": {
      "model_module": "@jupyter-widgets/base",
      "model_module_version": "2.0.0",
      "model_name": "LayoutModel",
      "state": {}
     },
     "fe808771c79646d3bf4a11916e394851": {
      "model_module": "@jupyter-widgets/controls",
      "model_module_version": "2.0.0",
      "model_name": "FloatProgressModel",
      "state": {
       "bar_style": "success",
       "layout": "IPY_MODEL_0fe77db3474b4ee1a9eddc3d206c09e0",
       "max": 280,
       "style": "IPY_MODEL_23e4886d65ee4a788bdfe6e9350b36b9",
       "value": 280
      }
     }
    },
    "version_major": 2,
    "version_minor": 0
   }
  }
 },
 "nbformat": 4,
 "nbformat_minor": 5
}
