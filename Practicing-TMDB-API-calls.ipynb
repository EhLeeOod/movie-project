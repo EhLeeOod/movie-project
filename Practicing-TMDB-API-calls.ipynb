{
 "cells": [
  {
   "cell_type": "code",
   "execution_count": 1,
   "id": "4e2e7cab-c3fe-4642-a298-7315966723bc",
   "metadata": {},
   "outputs": [
    {
     "data": {
      "text/plain": [
       "['.ipynb_checkpoints',\n",
       " 'basics.csv',\n",
       " 'movies-erd.png',\n",
       " 'ratings.csv',\n",
       " 'test',\n",
       " 'title-akas-us-only.csv',\n",
       " 'title.basics.tsv.gz',\n",
       " 'title.ratings.tsv.gz',\n",
       " 'tmdb_api_results_2010.json']"
      ]
     },
     "execution_count": 1,
     "metadata": {},
     "output_type": "execute_result"
    }
   ],
   "source": [
    "# Import packages\n",
    "import os, time, json\n",
    "import tmdbsimple as tmdb \n",
    "import pandas as pd\n",
    "from tqdm.notebook import tqdm_notebook\n",
    "# Create the folder for saving files (if it doesn't exist)\n",
    "FOLDER = \"Data/\"\n",
    "os.makedirs(FOLDER, exist_ok=True)\n",
    "os.listdir(FOLDER)"
   ]
  },
  {
   "cell_type": "code",
   "execution_count": 2,
   "id": "e0c70af9-d0ad-49fb-a7af-72a8269635e2",
   "metadata": {},
   "outputs": [
    {
     "data": {
      "text/plain": [
       "dict_keys(['client-id', 'api-key'])"
      ]
     },
     "execution_count": 2,
     "metadata": {},
     "output_type": "execute_result"
    }
   ],
   "source": [
    "# load login credentials\n",
    "with open(\".secret/tmdb_api.json\", \"r\") as f:\n",
    "    login = json.load(f)\n",
    "    \n",
    "## Display the keys of the loaded dict\n",
    "login.keys()"
   ]
  },
  {
   "cell_type": "code",
   "execution_count": 3,
   "id": "015bdd93-cbb0-4db8-b33a-4abb3845e94c",
   "metadata": {},
   "outputs": [],
   "source": [
    "tmdb.API_KEY =  login['api-key']"
   ]
  },
  {
   "cell_type": "code",
   "execution_count": 4,
   "id": "b33ebfd9-344b-431f-9168-dd6d0c2aaaa8",
   "metadata": {},
   "outputs": [],
   "source": [
    "def write_json(new_data, filename): \n",
    "    \"\"\"Appends a list of records (new_data) to a json file (filename). \n",
    "    Adapted from: https://www.geeksforgeeks.org/append-to-json-file-using-python/\"\"\"  \n",
    "    \n",
    "    with open(filename,'r+') as file:\n",
    "        # First we load existing data into a dict.\n",
    "        file_data = json.load(file)\n",
    "        ## Choose extend or append\n",
    "        if (type(new_data) == list) & (type(file_data) == list):\n",
    "            file_data.extend(new_data)\n",
    "        else:\n",
    "             file_data.append(new_data)\n",
    "        # Sets file's current position at offset.\n",
    "        file.seek(0)\n",
    "        # convert back to json.\n",
    "        json.dump(file_data, file)"
   ]
  },
  {
   "cell_type": "code",
   "execution_count": 5,
   "id": "517e270a-f650-4387-861f-83420066c42f",
   "metadata": {},
   "outputs": [],
   "source": [
    "def get_movie_with_rating(movie_id):\n",
    "    # Get the movie object for the current id\n",
    "    movie = tmdb.Movies(movie_id)\n",
    "        # save the .info .releases dictionaries\n",
    "    movie_info = movie.info()\n",
    "    releases = movie.releases()\n",
    "        # Loop through countries in releases\n",
    "    for c in releases['countries']:\n",
    "        # if the country abbreviation==US\n",
    "        if c['iso_3166_1' ] =='US':\n",
    "            ## save a \"certification\" key in the info dict with the certification\n",
    "            movie_info['certification'] = c['certification']\n",
    "    return movie_info"
   ]
  },
  {
   "cell_type": "code",
   "execution_count": 6,
   "id": "f0e263f6-0a14-4f65-b678-9d37666be88a",
   "metadata": {},
   "outputs": [
    {
     "data": {
      "text/plain": [
       "{'adult': False,\n",
       " 'backdrop_path': '/9BBTo63ANSmhC4e6r62OJFuK2GL.jpg',\n",
       " 'belongs_to_collection': {'id': 86311,\n",
       "  'name': 'The Avengers Collection',\n",
       "  'poster_path': '/yFSIUVTCvgYrpalUktulvk3Gi5Y.jpg',\n",
       "  'backdrop_path': '/zuW6fOiusv4X9nnW3paHGfXcSll.jpg'},\n",
       " 'budget': 220000000,\n",
       " 'genres': [{'id': 878, 'name': 'Science Fiction'},\n",
       "  {'id': 28, 'name': 'Action'},\n",
       "  {'id': 12, 'name': 'Adventure'}],\n",
       " 'homepage': 'https://www.marvel.com/movies/the-avengers',\n",
       " 'id': 24428,\n",
       " 'imdb_id': 'tt0848228',\n",
       " 'original_language': 'en',\n",
       " 'original_title': 'The Avengers',\n",
       " 'overview': 'When an unexpected enemy emerges and threatens global safety and security, Nick Fury, director of the international peacekeeping agency known as S.H.I.E.L.D., finds himself in need of a team to pull the world back from the brink of disaster. Spanning the globe, a daring recruitment effort begins!',\n",
       " 'popularity': 96.383,\n",
       " 'poster_path': '/RYMX2wcKCBAr24UyPD7xwmjaTn.jpg',\n",
       " 'production_companies': [{'id': 420,\n",
       "   'logo_path': '/hUzeosd33nzE5MCNsZxCGEKTXaQ.png',\n",
       "   'name': 'Marvel Studios',\n",
       "   'origin_country': 'US'}],\n",
       " 'production_countries': [{'iso_3166_1': 'US',\n",
       "   'name': 'United States of America'}],\n",
       " 'release_date': '2012-04-25',\n",
       " 'revenue': 1518815515,\n",
       " 'runtime': 143,\n",
       " 'spoken_languages': [{'english_name': 'English',\n",
       "   'iso_639_1': 'en',\n",
       "   'name': 'English'},\n",
       "  {'english_name': 'Hindi', 'iso_639_1': 'hi', 'name': 'हिन्दी'},\n",
       "  {'english_name': 'Russian', 'iso_639_1': 'ru', 'name': 'Pусский'}],\n",
       " 'status': 'Released',\n",
       " 'tagline': 'Some assembly required.',\n",
       " 'title': 'The Avengers',\n",
       " 'video': False,\n",
       " 'vote_average': 7.71,\n",
       " 'vote_count': 29200}"
      ]
     },
     "execution_count": 6,
     "metadata": {},
     "output_type": "execute_result"
    }
   ],
   "source": [
    "basics = pd.read_csv('Data/basics.csv')\n",
    "\n",
    "basics\n",
    "\n",
    "movie = tmdb.Movies('tt0848228')\n",
    "\n",
    "movie_info = movie.info()\n",
    "\n",
    "movie_info"
   ]
  },
  {
   "cell_type": "code",
   "execution_count": 7,
   "id": "61da3207-fb12-4707-befe-4e94e77806e9",
   "metadata": {},
   "outputs": [
    {
     "data": {
      "text/plain": [
       "{'adult': False,\n",
       " 'backdrop_path': '/qom1SZSENdmHFNZBXbtJAU0WTlC.jpg',\n",
       " 'belongs_to_collection': None,\n",
       " 'budget': 29000000,\n",
       " 'genres': [{'id': 10749, 'name': 'Romance'}, {'id': 18, 'name': 'Drama'}],\n",
       " 'homepage': 'http://www.newline.com/properties/notebookthe.html',\n",
       " 'id': 11036,\n",
       " 'imdb_id': 'tt0332280',\n",
       " 'original_language': 'en',\n",
       " 'original_title': 'The Notebook',\n",
       " 'overview': \"An epic love story centered around an older man who reads aloud to a woman with Alzheimer's. From a faded notebook, the old man's words bring to life the story about a couple who is separated by World War II, and is then passionately reunited, seven years later, after they have taken different paths.\",\n",
       " 'popularity': 54.796,\n",
       " 'poster_path': '/rNzQyW4f8B8cQeg7Dgj3n6eT5k9.jpg',\n",
       " 'production_companies': [{'id': 12,\n",
       "   'logo_path': '/mevhneWSqbjU22D1MXNd4H9x0r0.png',\n",
       "   'name': 'New Line Cinema',\n",
       "   'origin_country': 'US'},\n",
       "  {'id': 1565, 'logo_path': None, 'name': 'Avery Pix', 'origin_country': 'US'},\n",
       "  {'id': 2605,\n",
       "   'logo_path': None,\n",
       "   'name': 'Gran Via Productions',\n",
       "   'origin_country': 'US'}],\n",
       " 'production_countries': [{'iso_3166_1': 'US',\n",
       "   'name': 'United States of America'}],\n",
       " 'release_date': '2004-06-25',\n",
       " 'revenue': 115603229,\n",
       " 'runtime': 123,\n",
       " 'spoken_languages': [{'english_name': 'English',\n",
       "   'iso_639_1': 'en',\n",
       "   'name': 'English'}],\n",
       " 'status': 'Released',\n",
       " 'tagline': 'Behind every great love is a great story.',\n",
       " 'title': 'The Notebook',\n",
       " 'video': False,\n",
       " 'vote_average': 7.881,\n",
       " 'vote_count': 10657,\n",
       " 'certification': 'PG-13'}"
      ]
     },
     "execution_count": 7,
     "metadata": {},
     "output_type": "execute_result"
    }
   ],
   "source": [
    "get_movie_with_rating('tt0332280')"
   ]
  },
  {
   "cell_type": "code",
   "execution_count": 8,
   "id": "3e150afb-7016-4a6e-b6b9-f7141aebb3f2",
   "metadata": {},
   "outputs": [],
   "source": [
    "# Define a variable with the year to Extract from the API\n",
    "YEAR = 2010"
   ]
  },
  {
   "cell_type": "code",
   "execution_count": 9,
   "id": "2c861022-558f-4574-b4da-c9e6c26b15be",
   "metadata": {},
   "outputs": [],
   "source": [
    "# define empty list for any movies that cause an error\n",
    "\n",
    "errors = []"
   ]
  },
  {
   "cell_type": "code",
   "execution_count": 10,
   "id": "8561a547-c350-4e70-92fd-a045db583ee8",
   "metadata": {},
   "outputs": [],
   "source": [
    "# define a JSON file to store year results\n",
    "JSON_FILE = f'{FOLDER}tmdb_api_results_{YEAR}.json'"
   ]
  },
  {
   "cell_type": "code",
   "execution_count": 11,
   "id": "4994534f-b5ff-48d9-90dd-fd39d5fb0d4e",
   "metadata": {},
   "outputs": [],
   "source": [
    "# determine if JSON_FILE already exists\n",
    "file_exists = os.path.isfile(JSON_FILE)"
   ]
  },
  {
   "cell_type": "code",
   "execution_count": 12,
   "id": "d3804297-86c3-4dfe-a74f-06775ca0d36b",
   "metadata": {},
   "outputs": [
    {
     "name": "stdout",
     "output_type": "stream",
     "text": [
      "The file Data/tmdb_api_results_2010.json already exists.\n"
     ]
    }
   ],
   "source": [
    "# if-else so that if it does not exist it will be created\n",
    "\n",
    "if file_exists == False:\n",
    "    # Print a message indicating the file is being created \n",
    "    print(f\"Creating {JSON_FILE} for API results for {YEAR}.\")\n",
    "    # save an empty dict with just \"imdb_id\" to the new json file.\n",
    "    with open(JSON_FILE,'w') as f:\n",
    "        json.dump([{'imdb_id':0}],f)\n",
    "        \n",
    "else:\n",
    "    print(f\"The file {JSON_FILE} already exists.\")"
   ]
  },
  {
   "cell_type": "code",
   "execution_count": 16,
   "id": "36c3f447-b629-4681-84e1-07f9d3aeed57",
   "metadata": {},
   "outputs": [
    {
     "data": {
      "text/plain": [
       "1138    tt0230212\n",
       "3806    tt0312305\n",
       "4258    tt0326965\n",
       "4436    tt0331312\n",
       "6670    tt0393049\n",
       "Name: tconst, dtype: object"
      ]
     },
     "execution_count": 16,
     "metadata": {},
     "output_type": "execute_result"
    }
   ],
   "source": [
    "# create new dataframe, df, with filter for selected YEAR\n",
    "df = basics.loc[basics['startYear'] == YEAR].copy()\n",
    "\n",
    "# save list of movie ids to separate variable movie_ids\n",
    "movie_ids = df['tconst']"
   ]
  },
  {
   "cell_type": "markdown",
   "id": "16cc4b72-b979-4fbd-a952-9699f4293851",
   "metadata": {},
   "source": [
    "### Check previous results and create the final list of movie_ids_to_get"
   ]
  },
  {
   "cell_type": "code",
   "execution_count": 17,
   "id": "caa96e16-a342-4695-8100-40f902e5158a",
   "metadata": {},
   "outputs": [],
   "source": [
    "# load in existing API results into previous_df dataframe as safeguard\n",
    "previous_df = pd.read_json(JSON_FILE)"
   ]
  },
  {
   "cell_type": "code",
   "execution_count": 18,
   "id": "379c0b9b-7d5f-4b12-a53d-fa3632fcbf6b",
   "metadata": {},
   "outputs": [
    {
     "data": {
      "text/html": [
       "<div>\n",
       "<style scoped>\n",
       "    .dataframe tbody tr th:only-of-type {\n",
       "        vertical-align: middle;\n",
       "    }\n",
       "\n",
       "    .dataframe tbody tr th {\n",
       "        vertical-align: top;\n",
       "    }\n",
       "\n",
       "    .dataframe thead th {\n",
       "        text-align: right;\n",
       "    }\n",
       "</style>\n",
       "<table border=\"1\" class=\"dataframe\">\n",
       "  <thead>\n",
       "    <tr style=\"text-align: right;\">\n",
       "      <th></th>\n",
       "      <th>imdb_id</th>\n",
       "    </tr>\n",
       "  </thead>\n",
       "  <tbody>\n",
       "    <tr>\n",
       "      <th>0</th>\n",
       "      <td>0</td>\n",
       "    </tr>\n",
       "  </tbody>\n",
       "</table>\n",
       "</div>"
      ],
      "text/plain": [
       "   imdb_id\n",
       "0        0"
      ]
     },
     "execution_count": 18,
     "metadata": {},
     "output_type": "execute_result"
    }
   ],
   "source": [
    "# check for existing API results\n",
    "previous_df"
   ]
  },
  {
   "cell_type": "markdown",
   "id": "89f4b5ac-feec-4607-b108-c0eedca0300a",
   "metadata": {},
   "source": [
    "### Check for and filter out movie IDs that already exist\r\n"
   ]
  },
  {
   "cell_type": "code",
   "execution_count": 19,
   "id": "e745592c-98c6-42b7-8c0f-9f7da9b84434",
   "metadata": {},
   "outputs": [],
   "source": [
    "# filter out any ids already in JSON_FILE\n",
    "movie_ids_to_get = movie_ids[~movie_ids.isin(previous_df['imdb_id'])]"
   ]
  },
  {
   "cell_type": "markdown",
   "id": "d81d0792-5570-42a3-a163-1eedb2da060a",
   "metadata": {},
   "source": [
    "### Loop through Movie IDs"
   ]
  },
  {
   "cell_type": "code",
   "execution_count": 23,
   "id": "f9033a7f-a49b-45e7-9ab1-f450f1ebe46a",
   "metadata": {},
   "outputs": [
    {
     "data": {
      "application/vnd.jupyter.widget-view+json": {
       "model_id": "9c6138daa720426ea1c7acfea4bb9c82",
       "version_major": 2,
       "version_minor": 0
      },
      "text/plain": [
       "Movies from 2010:   0%|          | 0/3862 [00:00<?, ?it/s]"
      ]
     },
     "metadata": {},
     "output_type": "display_data"
    }
   ],
   "source": [
    "# Loop through movie_ids_to_get with a tqdm progress bar\n",
    "for movie_id in tqdm_notebook(movie_ids_to_get, f\"Movies from {YEAR}\"):\n",
    "    try:\n",
    "    # Retrieve then data for the movie id\n",
    "        temp = get_movie_with_rating(movie_id)  \n",
    "    # Append/extend results to existing file using a pre-made function\n",
    "        write_json(temp,JSON_FILE)\n",
    "    # Short 20 ms sleep to prevent overwhelming server\n",
    "        time.sleep(0.02)\n",
    "    \n",
    "    except Exception as e:\n",
    "        errors.append([movie_id, e])"
   ]
  },
  {
   "cell_type": "code",
   "execution_count": 24,
   "id": "26e15ff0-f825-46ad-b862-e08fd261a409",
   "metadata": {},
   "outputs": [
    {
     "name": "stdout",
     "output_type": "stream",
     "text": [
      "- Total errors: 1130\n"
     ]
    }
   ],
   "source": [
    "print(f\"- Total errors: {len(errors)}\")"
   ]
  },
  {
   "cell_type": "code",
   "execution_count": 25,
   "id": "3cec587a-c71a-4f66-8a08-92402b26cd16",
   "metadata": {},
   "outputs": [],
   "source": [
    "# Save the final results to a csv.gz file\n",
    "final_year_df = pd.read_json(JSON_FILE)\n",
    "\n",
    "csv_fname = f\"{FOLDER}final_tmdb_data_{YEAR}.csv.gz\"\n",
    "final_year_df.to_csv(csv_fname, compression=\"gzip\", index=False)"
   ]
  },
  {
   "cell_type": "code",
   "execution_count": 26,
   "id": "11f20d64-f515-41e7-9d68-75f85c7502d4",
   "metadata": {},
   "outputs": [
    {
     "data": {
      "text/html": [
       "<div>\n",
       "<style scoped>\n",
       "    .dataframe tbody tr th:only-of-type {\n",
       "        vertical-align: middle;\n",
       "    }\n",
       "\n",
       "    .dataframe tbody tr th {\n",
       "        vertical-align: top;\n",
       "    }\n",
       "\n",
       "    .dataframe thead th {\n",
       "        text-align: right;\n",
       "    }\n",
       "</style>\n",
       "<table border=\"1\" class=\"dataframe\">\n",
       "  <thead>\n",
       "    <tr style=\"text-align: right;\">\n",
       "      <th></th>\n",
       "      <th>imdb_id</th>\n",
       "      <th>adult</th>\n",
       "      <th>backdrop_path</th>\n",
       "      <th>belongs_to_collection</th>\n",
       "      <th>budget</th>\n",
       "      <th>genres</th>\n",
       "      <th>homepage</th>\n",
       "      <th>id</th>\n",
       "      <th>original_language</th>\n",
       "      <th>original_title</th>\n",
       "      <th>...</th>\n",
       "      <th>revenue</th>\n",
       "      <th>runtime</th>\n",
       "      <th>spoken_languages</th>\n",
       "      <th>status</th>\n",
       "      <th>tagline</th>\n",
       "      <th>title</th>\n",
       "      <th>video</th>\n",
       "      <th>vote_average</th>\n",
       "      <th>vote_count</th>\n",
       "      <th>certification</th>\n",
       "    </tr>\n",
       "  </thead>\n",
       "  <tbody>\n",
       "    <tr>\n",
       "      <th>0</th>\n",
       "      <td>0</td>\n",
       "      <td>NaN</td>\n",
       "      <td>NaN</td>\n",
       "      <td>NaN</td>\n",
       "      <td>NaN</td>\n",
       "      <td>NaN</td>\n",
       "      <td>NaN</td>\n",
       "      <td>NaN</td>\n",
       "      <td>NaN</td>\n",
       "      <td>NaN</td>\n",
       "      <td>...</td>\n",
       "      <td>NaN</td>\n",
       "      <td>NaN</td>\n",
       "      <td>NaN</td>\n",
       "      <td>NaN</td>\n",
       "      <td>NaN</td>\n",
       "      <td>NaN</td>\n",
       "      <td>NaN</td>\n",
       "      <td>NaN</td>\n",
       "      <td>NaN</td>\n",
       "      <td>NaN</td>\n",
       "    </tr>\n",
       "    <tr>\n",
       "      <th>1</th>\n",
       "      <td>tt0312305</td>\n",
       "      <td>0.0</td>\n",
       "      <td>/lqUbt2cy2pnqvxKefbQAtxLS0WA.jpg</td>\n",
       "      <td>None</td>\n",
       "      <td>0.0</td>\n",
       "      <td>[{'id': 10751, 'name': 'Family'}, {'id': 16, '...</td>\n",
       "      <td>http://www.qqthemovie.com/</td>\n",
       "      <td>23738.0</td>\n",
       "      <td>en</td>\n",
       "      <td>Quantum Quest: A Cassini Space Odyssey</td>\n",
       "      <td>...</td>\n",
       "      <td>0.0</td>\n",
       "      <td>45.0</td>\n",
       "      <td>[{'english_name': 'English', 'iso_639_1': 'en'...</td>\n",
       "      <td>Released</td>\n",
       "      <td></td>\n",
       "      <td>Quantum Quest: A Cassini Space Odyssey</td>\n",
       "      <td>0.0</td>\n",
       "      <td>7.900</td>\n",
       "      <td>8.0</td>\n",
       "      <td></td>\n",
       "    </tr>\n",
       "    <tr>\n",
       "      <th>2</th>\n",
       "      <td>tt0326965</td>\n",
       "      <td>0.0</td>\n",
       "      <td>/xt2klJdKCVGXcoBGQrGfAS0aGDE.jpg</td>\n",
       "      <td>None</td>\n",
       "      <td>0.0</td>\n",
       "      <td>[{'id': 53, 'name': 'Thriller'}, {'id': 9648, ...</td>\n",
       "      <td>http://www.inmysleep.com</td>\n",
       "      <td>40048.0</td>\n",
       "      <td>en</td>\n",
       "      <td>In My Sleep</td>\n",
       "      <td>...</td>\n",
       "      <td>0.0</td>\n",
       "      <td>90.0</td>\n",
       "      <td>[{'english_name': 'English', 'iso_639_1': 'en'...</td>\n",
       "      <td>Released</td>\n",
       "      <td>Sleepwalking can be deadly.</td>\n",
       "      <td>In My Sleep</td>\n",
       "      <td>0.0</td>\n",
       "      <td>5.318</td>\n",
       "      <td>33.0</td>\n",
       "      <td>PG-13</td>\n",
       "    </tr>\n",
       "    <tr>\n",
       "      <th>3</th>\n",
       "      <td>tt0331312</td>\n",
       "      <td>0.0</td>\n",
       "      <td>None</td>\n",
       "      <td>None</td>\n",
       "      <td>0.0</td>\n",
       "      <td>[]</td>\n",
       "      <td></td>\n",
       "      <td>214026.0</td>\n",
       "      <td>en</td>\n",
       "      <td>This Wretched Life</td>\n",
       "      <td>...</td>\n",
       "      <td>0.0</td>\n",
       "      <td>0.0</td>\n",
       "      <td>[]</td>\n",
       "      <td>Released</td>\n",
       "      <td></td>\n",
       "      <td>This Wretched Life</td>\n",
       "      <td>0.0</td>\n",
       "      <td>5.000</td>\n",
       "      <td>1.0</td>\n",
       "      <td></td>\n",
       "    </tr>\n",
       "    <tr>\n",
       "      <th>4</th>\n",
       "      <td>tt0393049</td>\n",
       "      <td>0.0</td>\n",
       "      <td>/gc9FN5zohhzCt05RkejQIIPLtBl.jpg</td>\n",
       "      <td>None</td>\n",
       "      <td>300000.0</td>\n",
       "      <td>[{'id': 10749, 'name': 'Romance'}, {'id': 35, ...</td>\n",
       "      <td></td>\n",
       "      <td>324352.0</td>\n",
       "      <td>en</td>\n",
       "      <td>Anderson's Cross</td>\n",
       "      <td>...</td>\n",
       "      <td>0.0</td>\n",
       "      <td>98.0</td>\n",
       "      <td>[{'english_name': 'English', 'iso_639_1': 'en'...</td>\n",
       "      <td>Released</td>\n",
       "      <td>Sometimes the boy next door is more than the b...</td>\n",
       "      <td>Anderson's Cross</td>\n",
       "      <td>0.0</td>\n",
       "      <td>4.000</td>\n",
       "      <td>5.0</td>\n",
       "      <td></td>\n",
       "    </tr>\n",
       "    <tr>\n",
       "      <th>...</th>\n",
       "      <td>...</td>\n",
       "      <td>...</td>\n",
       "      <td>...</td>\n",
       "      <td>...</td>\n",
       "      <td>...</td>\n",
       "      <td>...</td>\n",
       "      <td>...</td>\n",
       "      <td>...</td>\n",
       "      <td>...</td>\n",
       "      <td>...</td>\n",
       "      <td>...</td>\n",
       "      <td>...</td>\n",
       "      <td>...</td>\n",
       "      <td>...</td>\n",
       "      <td>...</td>\n",
       "      <td>...</td>\n",
       "      <td>...</td>\n",
       "      <td>...</td>\n",
       "      <td>...</td>\n",
       "      <td>...</td>\n",
       "      <td>...</td>\n",
       "    </tr>\n",
       "    <tr>\n",
       "      <th>2728</th>\n",
       "      <td>tt7851834</td>\n",
       "      <td>0.0</td>\n",
       "      <td>/c4x2XPngdiW8Vmc6EmmTXAgzViJ.jpg</td>\n",
       "      <td>None</td>\n",
       "      <td>0.0</td>\n",
       "      <td>[{'id': 18, 'name': 'Drama'}]</td>\n",
       "      <td></td>\n",
       "      <td>166919.0</td>\n",
       "      <td>ko</td>\n",
       "      <td>여의도</td>\n",
       "      <td>...</td>\n",
       "      <td>0.0</td>\n",
       "      <td>88.0</td>\n",
       "      <td>[{'english_name': 'Korean', 'iso_639_1': 'ko',...</td>\n",
       "      <td>Released</td>\n",
       "      <td></td>\n",
       "      <td>A Friend In Need</td>\n",
       "      <td>0.0</td>\n",
       "      <td>5.000</td>\n",
       "      <td>3.0</td>\n",
       "      <td>NaN</td>\n",
       "    </tr>\n",
       "    <tr>\n",
       "      <th>2729</th>\n",
       "      <td>tt8090084</td>\n",
       "      <td>0.0</td>\n",
       "      <td>None</td>\n",
       "      <td>None</td>\n",
       "      <td>0.0</td>\n",
       "      <td>[{'id': 35, 'name': 'Comedy'}]</td>\n",
       "      <td></td>\n",
       "      <td>516206.0</td>\n",
       "      <td>en</td>\n",
       "      <td>Goodbye Dolly</td>\n",
       "      <td>...</td>\n",
       "      <td>0.0</td>\n",
       "      <td>46.0</td>\n",
       "      <td>[{'english_name': 'English', 'iso_639_1': 'en'...</td>\n",
       "      <td>Released</td>\n",
       "      <td></td>\n",
       "      <td>Goodbye Dolly</td>\n",
       "      <td>0.0</td>\n",
       "      <td>0.000</td>\n",
       "      <td>0.0</td>\n",
       "      <td></td>\n",
       "    </tr>\n",
       "    <tr>\n",
       "      <th>2730</th>\n",
       "      <td>tt8160720</td>\n",
       "      <td>0.0</td>\n",
       "      <td>None</td>\n",
       "      <td>None</td>\n",
       "      <td>0.0</td>\n",
       "      <td>[]</td>\n",
       "      <td></td>\n",
       "      <td>273502.0</td>\n",
       "      <td>en</td>\n",
       "      <td>Moist Fury</td>\n",
       "      <td>...</td>\n",
       "      <td>0.0</td>\n",
       "      <td>65.0</td>\n",
       "      <td>[]</td>\n",
       "      <td>Released</td>\n",
       "      <td></td>\n",
       "      <td>Moist Fury</td>\n",
       "      <td>0.0</td>\n",
       "      <td>6.000</td>\n",
       "      <td>2.0</td>\n",
       "      <td></td>\n",
       "    </tr>\n",
       "    <tr>\n",
       "      <th>2731</th>\n",
       "      <td>tt9164254</td>\n",
       "      <td>1.0</td>\n",
       "      <td>None</td>\n",
       "      <td>None</td>\n",
       "      <td>0.0</td>\n",
       "      <td>[]</td>\n",
       "      <td></td>\n",
       "      <td>775304.0</td>\n",
       "      <td>en</td>\n",
       "      <td>Text, Lies and Video</td>\n",
       "      <td>...</td>\n",
       "      <td>0.0</td>\n",
       "      <td>103.0</td>\n",
       "      <td>[{'english_name': 'English', 'iso_639_1': 'en'...</td>\n",
       "      <td>Released</td>\n",
       "      <td>Download Deception. Upload Revenge.</td>\n",
       "      <td>Text, Lies and Video</td>\n",
       "      <td>0.0</td>\n",
       "      <td>0.000</td>\n",
       "      <td>0.0</td>\n",
       "      <td>NC-17</td>\n",
       "    </tr>\n",
       "    <tr>\n",
       "      <th>2732</th>\n",
       "      <td>tt9575206</td>\n",
       "      <td>0.0</td>\n",
       "      <td>/yejvp5VvZa6TnXodrQsYUKzF4Cs.jpg</td>\n",
       "      <td>None</td>\n",
       "      <td>0.0</td>\n",
       "      <td>[{'id': 18, 'name': 'Drama'}]</td>\n",
       "      <td></td>\n",
       "      <td>574744.0</td>\n",
       "      <td>fa</td>\n",
       "      <td>پنهان</td>\n",
       "      <td>...</td>\n",
       "      <td>0.0</td>\n",
       "      <td>90.0</td>\n",
       "      <td>[{'english_name': 'Persian', 'iso_639_1': 'fa'...</td>\n",
       "      <td>Released</td>\n",
       "      <td></td>\n",
       "      <td>Private</td>\n",
       "      <td>0.0</td>\n",
       "      <td>0.000</td>\n",
       "      <td>0.0</td>\n",
       "      <td>NaN</td>\n",
       "    </tr>\n",
       "  </tbody>\n",
       "</table>\n",
       "<p>2733 rows × 26 columns</p>\n",
       "</div>"
      ],
      "text/plain": [
       "        imdb_id  adult                     backdrop_path  \\\n",
       "0             0    NaN                               NaN   \n",
       "1     tt0312305    0.0  /lqUbt2cy2pnqvxKefbQAtxLS0WA.jpg   \n",
       "2     tt0326965    0.0  /xt2klJdKCVGXcoBGQrGfAS0aGDE.jpg   \n",
       "3     tt0331312    0.0                              None   \n",
       "4     tt0393049    0.0  /gc9FN5zohhzCt05RkejQIIPLtBl.jpg   \n",
       "...         ...    ...                               ...   \n",
       "2728  tt7851834    0.0  /c4x2XPngdiW8Vmc6EmmTXAgzViJ.jpg   \n",
       "2729  tt8090084    0.0                              None   \n",
       "2730  tt8160720    0.0                              None   \n",
       "2731  tt9164254    1.0                              None   \n",
       "2732  tt9575206    0.0  /yejvp5VvZa6TnXodrQsYUKzF4Cs.jpg   \n",
       "\n",
       "     belongs_to_collection    budget  \\\n",
       "0                      NaN       NaN   \n",
       "1                     None       0.0   \n",
       "2                     None       0.0   \n",
       "3                     None       0.0   \n",
       "4                     None  300000.0   \n",
       "...                    ...       ...   \n",
       "2728                  None       0.0   \n",
       "2729                  None       0.0   \n",
       "2730                  None       0.0   \n",
       "2731                  None       0.0   \n",
       "2732                  None       0.0   \n",
       "\n",
       "                                                 genres  \\\n",
       "0                                                   NaN   \n",
       "1     [{'id': 10751, 'name': 'Family'}, {'id': 16, '...   \n",
       "2     [{'id': 53, 'name': 'Thriller'}, {'id': 9648, ...   \n",
       "3                                                    []   \n",
       "4     [{'id': 10749, 'name': 'Romance'}, {'id': 35, ...   \n",
       "...                                                 ...   \n",
       "2728                      [{'id': 18, 'name': 'Drama'}]   \n",
       "2729                     [{'id': 35, 'name': 'Comedy'}]   \n",
       "2730                                                 []   \n",
       "2731                                                 []   \n",
       "2732                      [{'id': 18, 'name': 'Drama'}]   \n",
       "\n",
       "                        homepage        id original_language  \\\n",
       "0                            NaN       NaN               NaN   \n",
       "1     http://www.qqthemovie.com/   23738.0                en   \n",
       "2       http://www.inmysleep.com   40048.0                en   \n",
       "3                                 214026.0                en   \n",
       "4                                 324352.0                en   \n",
       "...                          ...       ...               ...   \n",
       "2728                              166919.0                ko   \n",
       "2729                              516206.0                en   \n",
       "2730                              273502.0                en   \n",
       "2731                              775304.0                en   \n",
       "2732                              574744.0                fa   \n",
       "\n",
       "                              original_title  ... revenue  runtime  \\\n",
       "0                                        NaN  ...     NaN      NaN   \n",
       "1     Quantum Quest: A Cassini Space Odyssey  ...     0.0     45.0   \n",
       "2                                In My Sleep  ...     0.0     90.0   \n",
       "3                         This Wretched Life  ...     0.0      0.0   \n",
       "4                           Anderson's Cross  ...     0.0     98.0   \n",
       "...                                      ...  ...     ...      ...   \n",
       "2728                                     여의도  ...     0.0     88.0   \n",
       "2729                           Goodbye Dolly  ...     0.0     46.0   \n",
       "2730                              Moist Fury  ...     0.0     65.0   \n",
       "2731                    Text, Lies and Video  ...     0.0    103.0   \n",
       "2732                                   پنهان  ...     0.0     90.0   \n",
       "\n",
       "                                       spoken_languages    status  \\\n",
       "0                                                   NaN       NaN   \n",
       "1     [{'english_name': 'English', 'iso_639_1': 'en'...  Released   \n",
       "2     [{'english_name': 'English', 'iso_639_1': 'en'...  Released   \n",
       "3                                                    []  Released   \n",
       "4     [{'english_name': 'English', 'iso_639_1': 'en'...  Released   \n",
       "...                                                 ...       ...   \n",
       "2728  [{'english_name': 'Korean', 'iso_639_1': 'ko',...  Released   \n",
       "2729  [{'english_name': 'English', 'iso_639_1': 'en'...  Released   \n",
       "2730                                                 []  Released   \n",
       "2731  [{'english_name': 'English', 'iso_639_1': 'en'...  Released   \n",
       "2732  [{'english_name': 'Persian', 'iso_639_1': 'fa'...  Released   \n",
       "\n",
       "                                                tagline  \\\n",
       "0                                                   NaN   \n",
       "1                                                         \n",
       "2                           Sleepwalking can be deadly.   \n",
       "3                                                         \n",
       "4     Sometimes the boy next door is more than the b...   \n",
       "...                                                 ...   \n",
       "2728                                                      \n",
       "2729                                                      \n",
       "2730                                                      \n",
       "2731                Download Deception. Upload Revenge.   \n",
       "2732                                                      \n",
       "\n",
       "                                       title  video  vote_average vote_count  \\\n",
       "0                                        NaN    NaN           NaN        NaN   \n",
       "1     Quantum Quest: A Cassini Space Odyssey    0.0         7.900        8.0   \n",
       "2                                In My Sleep    0.0         5.318       33.0   \n",
       "3                         This Wretched Life    0.0         5.000        1.0   \n",
       "4                           Anderson's Cross    0.0         4.000        5.0   \n",
       "...                                      ...    ...           ...        ...   \n",
       "2728                        A Friend In Need    0.0         5.000        3.0   \n",
       "2729                           Goodbye Dolly    0.0         0.000        0.0   \n",
       "2730                              Moist Fury    0.0         6.000        2.0   \n",
       "2731                    Text, Lies and Video    0.0         0.000        0.0   \n",
       "2732                                 Private    0.0         0.000        0.0   \n",
       "\n",
       "     certification  \n",
       "0              NaN  \n",
       "1                   \n",
       "2            PG-13  \n",
       "3                   \n",
       "4                   \n",
       "...            ...  \n",
       "2728           NaN  \n",
       "2729                \n",
       "2730                \n",
       "2731         NC-17  \n",
       "2732           NaN  \n",
       "\n",
       "[2733 rows x 26 columns]"
      ]
     },
     "execution_count": 26,
     "metadata": {},
     "output_type": "execute_result"
    }
   ],
   "source": [
    "final_year_df"
   ]
  }
 ],
 "metadata": {
  "kernelspec": {
   "display_name": "Python 3 (ipykernel)",
   "language": "python",
   "name": "python3"
  },
  "language_info": {
   "codemirror_mode": {
    "name": "ipython",
    "version": 3
   },
   "file_extension": ".py",
   "mimetype": "text/x-python",
   "name": "python",
   "nbconvert_exporter": "python",
   "pygments_lexer": "ipython3",
   "version": "3.10.10"
  },
  "widgets": {
   "application/vnd.jupyter.widget-state+json": {
    "state": {
     "187a1d30efd64a8599dc98d94e1aa339": {
      "model_module": "@jupyter-widgets/base",
      "model_module_version": "2.0.0",
      "model_name": "LayoutModel",
      "state": {}
     },
     "1a27f43141754f21a0485c6214e32f4f": {
      "model_module": "@jupyter-widgets/base",
      "model_module_version": "2.0.0",
      "model_name": "LayoutModel",
      "state": {}
     },
     "3c468e52c4894686b17ff1bd6cd005e8": {
      "model_module": "@jupyter-widgets/controls",
      "model_module_version": "2.0.0",
      "model_name": "HTMLStyleModel",
      "state": {
       "description_width": "",
       "font_size": null,
       "text_color": null
      }
     },
     "4d940078a6b34c0cafd8ff35b9bd21a8": {
      "model_module": "@jupyter-widgets/base",
      "model_module_version": "2.0.0",
      "model_name": "LayoutModel",
      "state": {}
     },
     "737d7854212e4ba29c88cdf1bc3ffe89": {
      "model_module": "@jupyter-widgets/controls",
      "model_module_version": "2.0.0",
      "model_name": "HTMLModel",
      "state": {
       "layout": "IPY_MODEL_1a27f43141754f21a0485c6214e32f4f",
       "style": "IPY_MODEL_3c468e52c4894686b17ff1bd6cd005e8",
       "value": " 3862/3862 [37:58&lt;00:00,  1.53it/s]"
      }
     },
     "9c1d731df6f24979b10c65dd1ffcd318": {
      "model_module": "@jupyter-widgets/controls",
      "model_module_version": "2.0.0",
      "model_name": "ProgressStyleModel",
      "state": {
       "description_width": ""
      }
     },
     "9c6138daa720426ea1c7acfea4bb9c82": {
      "model_module": "@jupyter-widgets/controls",
      "model_module_version": "2.0.0",
      "model_name": "HBoxModel",
      "state": {
       "children": [
        "IPY_MODEL_c2529d89b3ce4bedb2ce7cad5e5b9091",
        "IPY_MODEL_abf335ecd858495ab98c614aebfda215",
        "IPY_MODEL_737d7854212e4ba29c88cdf1bc3ffe89"
       ],
       "layout": "IPY_MODEL_187a1d30efd64a8599dc98d94e1aa339"
      }
     },
     "abf335ecd858495ab98c614aebfda215": {
      "model_module": "@jupyter-widgets/controls",
      "model_module_version": "2.0.0",
      "model_name": "FloatProgressModel",
      "state": {
       "bar_style": "success",
       "layout": "IPY_MODEL_4d940078a6b34c0cafd8ff35b9bd21a8",
       "max": 3862,
       "style": "IPY_MODEL_9c1d731df6f24979b10c65dd1ffcd318",
       "value": 3862
      }
     },
     "c1f0321518ec4d57a404024abfe86918": {
      "model_module": "@jupyter-widgets/base",
      "model_module_version": "2.0.0",
      "model_name": "LayoutModel",
      "state": {}
     },
     "c2529d89b3ce4bedb2ce7cad5e5b9091": {
      "model_module": "@jupyter-widgets/controls",
      "model_module_version": "2.0.0",
      "model_name": "HTMLModel",
      "state": {
       "layout": "IPY_MODEL_c1f0321518ec4d57a404024abfe86918",
       "style": "IPY_MODEL_c97b81c4f81241109358e42c9d5c763a",
       "value": "Movies from 2010: 100%"
      }
     },
     "c97b81c4f81241109358e42c9d5c763a": {
      "model_module": "@jupyter-widgets/controls",
      "model_module_version": "2.0.0",
      "model_name": "HTMLStyleModel",
      "state": {
       "description_width": "",
       "font_size": null,
       "text_color": null
      }
     }
    },
    "version_major": 2,
    "version_minor": 0
   }
  }
 },
 "nbformat": 4,
 "nbformat_minor": 5
}
